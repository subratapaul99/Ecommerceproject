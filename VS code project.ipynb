{
 "cells": [
  {
   "cell_type": "code",
   "execution_count": 1,
   "metadata": {},
   "outputs": [],
   "source": [
    "import pandas as pd\n",
    "import numpy as np\n",
    "import seaborn as sns\n",
    "import matplotlib.pyplot as plt\n",
    "from statsmodels.tsa.seasonal import seasonal_decompose \n",
    "from statsmodels.tsa.holtwinters import ExponentialSmoothing\n",
    "\n",
    "from sklearn.cluster import KMeans\n",
    "from sklearn.preprocessing import StandardScaler\n",
    "from sklearn.linear_model import LinearRegression\n",
    "from sklearn.ensemble import RandomForestClassifier\n",
    "from sklearn.model_selection import train_test_split\n",
    "from sklearn.metrics import r2_score, classification_report\n",
    "import joblib\n",
    "import plotly.express as px\n",
    "import plotly.graph_objects as go\n",
    "import plotly.io as pio\n",
    "import plotly.colors as colors\n",
    "pio.templates.default = \"plotly_white\""
   ]
  },
  {
   "cell_type": "code",
   "execution_count": 2,
   "metadata": {},
   "outputs": [],
   "source": [
    "data = pd.read_csv(\"Sample - Superstore.csv\", encoding='latin-1') "
   ]
  },
  {
   "cell_type": "code",
   "execution_count": 3,
   "metadata": {},
   "outputs": [
    {
     "data": {
      "application/vnd.microsoft.datawrangler.viewer.v0+json": {
       "columns": [
        {
         "name": "index",
         "rawType": "int64",
         "type": "integer"
        },
        {
         "name": "Row ID",
         "rawType": "int64",
         "type": "integer"
        },
        {
         "name": "Order ID",
         "rawType": "object",
         "type": "string"
        },
        {
         "name": "Order Date",
         "rawType": "object",
         "type": "string"
        },
        {
         "name": "Ship Date",
         "rawType": "object",
         "type": "string"
        },
        {
         "name": "Ship Mode",
         "rawType": "object",
         "type": "string"
        },
        {
         "name": "Customer ID",
         "rawType": "object",
         "type": "string"
        },
        {
         "name": "Customer Name",
         "rawType": "object",
         "type": "string"
        },
        {
         "name": "Segment",
         "rawType": "object",
         "type": "string"
        },
        {
         "name": "Country",
         "rawType": "object",
         "type": "string"
        },
        {
         "name": "City",
         "rawType": "object",
         "type": "string"
        },
        {
         "name": "State",
         "rawType": "object",
         "type": "string"
        },
        {
         "name": "Postal Code",
         "rawType": "int64",
         "type": "integer"
        },
        {
         "name": "Region",
         "rawType": "object",
         "type": "string"
        },
        {
         "name": "Product ID",
         "rawType": "object",
         "type": "string"
        },
        {
         "name": "Category",
         "rawType": "object",
         "type": "string"
        },
        {
         "name": "Sub-Category",
         "rawType": "object",
         "type": "string"
        },
        {
         "name": "Product Name",
         "rawType": "object",
         "type": "string"
        },
        {
         "name": "Sales",
         "rawType": "float64",
         "type": "float"
        },
        {
         "name": "Quantity",
         "rawType": "int64",
         "type": "integer"
        },
        {
         "name": "Discount",
         "rawType": "float64",
         "type": "float"
        },
        {
         "name": "Profit",
         "rawType": "float64",
         "type": "float"
        }
       ],
       "ref": "53f25d25-eba5-44bf-af9e-a855e185ee09",
       "rows": [
        [
         "0",
         "1",
         "CA-2016-152156",
         "11/8/2016",
         "11/11/2016",
         "Second Class",
         "CG-12520",
         "Claire Gute",
         "Consumer",
         "United States",
         "Henderson",
         "Kentucky",
         "42420",
         "South",
         "FUR-BO-10001798",
         "Furniture",
         "Bookcases",
         "Bush Somerset Collection Bookcase",
         "261.96",
         "2",
         "0.0",
         "41.9136"
        ],
        [
         "1",
         "2",
         "CA-2016-152156",
         "11/8/2016",
         "11/11/2016",
         "Second Class",
         "CG-12520",
         "Claire Gute",
         "Consumer",
         "United States",
         "Henderson",
         "Kentucky",
         "42420",
         "South",
         "FUR-CH-10000454",
         "Furniture",
         "Chairs",
         "Hon Deluxe Fabric Upholstered Stacking Chairs, Rounded Back",
         "731.94",
         "3",
         "0.0",
         "219.582"
        ],
        [
         "2",
         "3",
         "CA-2016-138688",
         "6/12/2016",
         "6/16/2016",
         "Second Class",
         "DV-13045",
         "Darrin Van Huff",
         "Corporate",
         "United States",
         "Los Angeles",
         "California",
         "90036",
         "West",
         "OFF-LA-10000240",
         "Office Supplies",
         "Labels",
         "Self-Adhesive Address Labels for Typewriters by Universal",
         "14.62",
         "2",
         "0.0",
         "6.8714"
        ],
        [
         "3",
         "4",
         "US-2015-108966",
         "10/11/2015",
         "10/18/2015",
         "Standard Class",
         "SO-20335",
         "Sean O'Donnell",
         "Consumer",
         "United States",
         "Fort Lauderdale",
         "Florida",
         "33311",
         "South",
         "FUR-TA-10000577",
         "Furniture",
         "Tables",
         "Bretford CR4500 Series Slim Rectangular Table",
         "957.5775",
         "5",
         "0.45",
         "-383.031"
        ],
        [
         "4",
         "5",
         "US-2015-108966",
         "10/11/2015",
         "10/18/2015",
         "Standard Class",
         "SO-20335",
         "Sean O'Donnell",
         "Consumer",
         "United States",
         "Fort Lauderdale",
         "Florida",
         "33311",
         "South",
         "OFF-ST-10000760",
         "Office Supplies",
         "Storage",
         "Eldon Fold 'N Roll Cart System",
         "22.368",
         "2",
         "0.2",
         "2.5164"
        ]
       ],
       "shape": {
        "columns": 21,
        "rows": 5
       }
      },
      "text/html": [
       "<div>\n",
       "<style scoped>\n",
       "    .dataframe tbody tr th:only-of-type {\n",
       "        vertical-align: middle;\n",
       "    }\n",
       "\n",
       "    .dataframe tbody tr th {\n",
       "        vertical-align: top;\n",
       "    }\n",
       "\n",
       "    .dataframe thead th {\n",
       "        text-align: right;\n",
       "    }\n",
       "</style>\n",
       "<table border=\"1\" class=\"dataframe\">\n",
       "  <thead>\n",
       "    <tr style=\"text-align: right;\">\n",
       "      <th></th>\n",
       "      <th>Row ID</th>\n",
       "      <th>Order ID</th>\n",
       "      <th>Order Date</th>\n",
       "      <th>Ship Date</th>\n",
       "      <th>Ship Mode</th>\n",
       "      <th>Customer ID</th>\n",
       "      <th>Customer Name</th>\n",
       "      <th>Segment</th>\n",
       "      <th>Country</th>\n",
       "      <th>City</th>\n",
       "      <th>...</th>\n",
       "      <th>Postal Code</th>\n",
       "      <th>Region</th>\n",
       "      <th>Product ID</th>\n",
       "      <th>Category</th>\n",
       "      <th>Sub-Category</th>\n",
       "      <th>Product Name</th>\n",
       "      <th>Sales</th>\n",
       "      <th>Quantity</th>\n",
       "      <th>Discount</th>\n",
       "      <th>Profit</th>\n",
       "    </tr>\n",
       "  </thead>\n",
       "  <tbody>\n",
       "    <tr>\n",
       "      <th>0</th>\n",
       "      <td>1</td>\n",
       "      <td>CA-2016-152156</td>\n",
       "      <td>11/8/2016</td>\n",
       "      <td>11/11/2016</td>\n",
       "      <td>Second Class</td>\n",
       "      <td>CG-12520</td>\n",
       "      <td>Claire Gute</td>\n",
       "      <td>Consumer</td>\n",
       "      <td>United States</td>\n",
       "      <td>Henderson</td>\n",
       "      <td>...</td>\n",
       "      <td>42420</td>\n",
       "      <td>South</td>\n",
       "      <td>FUR-BO-10001798</td>\n",
       "      <td>Furniture</td>\n",
       "      <td>Bookcases</td>\n",
       "      <td>Bush Somerset Collection Bookcase</td>\n",
       "      <td>261.9600</td>\n",
       "      <td>2</td>\n",
       "      <td>0.00</td>\n",
       "      <td>41.9136</td>\n",
       "    </tr>\n",
       "    <tr>\n",
       "      <th>1</th>\n",
       "      <td>2</td>\n",
       "      <td>CA-2016-152156</td>\n",
       "      <td>11/8/2016</td>\n",
       "      <td>11/11/2016</td>\n",
       "      <td>Second Class</td>\n",
       "      <td>CG-12520</td>\n",
       "      <td>Claire Gute</td>\n",
       "      <td>Consumer</td>\n",
       "      <td>United States</td>\n",
       "      <td>Henderson</td>\n",
       "      <td>...</td>\n",
       "      <td>42420</td>\n",
       "      <td>South</td>\n",
       "      <td>FUR-CH-10000454</td>\n",
       "      <td>Furniture</td>\n",
       "      <td>Chairs</td>\n",
       "      <td>Hon Deluxe Fabric Upholstered Stacking Chairs,...</td>\n",
       "      <td>731.9400</td>\n",
       "      <td>3</td>\n",
       "      <td>0.00</td>\n",
       "      <td>219.5820</td>\n",
       "    </tr>\n",
       "    <tr>\n",
       "      <th>2</th>\n",
       "      <td>3</td>\n",
       "      <td>CA-2016-138688</td>\n",
       "      <td>6/12/2016</td>\n",
       "      <td>6/16/2016</td>\n",
       "      <td>Second Class</td>\n",
       "      <td>DV-13045</td>\n",
       "      <td>Darrin Van Huff</td>\n",
       "      <td>Corporate</td>\n",
       "      <td>United States</td>\n",
       "      <td>Los Angeles</td>\n",
       "      <td>...</td>\n",
       "      <td>90036</td>\n",
       "      <td>West</td>\n",
       "      <td>OFF-LA-10000240</td>\n",
       "      <td>Office Supplies</td>\n",
       "      <td>Labels</td>\n",
       "      <td>Self-Adhesive Address Labels for Typewriters b...</td>\n",
       "      <td>14.6200</td>\n",
       "      <td>2</td>\n",
       "      <td>0.00</td>\n",
       "      <td>6.8714</td>\n",
       "    </tr>\n",
       "    <tr>\n",
       "      <th>3</th>\n",
       "      <td>4</td>\n",
       "      <td>US-2015-108966</td>\n",
       "      <td>10/11/2015</td>\n",
       "      <td>10/18/2015</td>\n",
       "      <td>Standard Class</td>\n",
       "      <td>SO-20335</td>\n",
       "      <td>Sean O'Donnell</td>\n",
       "      <td>Consumer</td>\n",
       "      <td>United States</td>\n",
       "      <td>Fort Lauderdale</td>\n",
       "      <td>...</td>\n",
       "      <td>33311</td>\n",
       "      <td>South</td>\n",
       "      <td>FUR-TA-10000577</td>\n",
       "      <td>Furniture</td>\n",
       "      <td>Tables</td>\n",
       "      <td>Bretford CR4500 Series Slim Rectangular Table</td>\n",
       "      <td>957.5775</td>\n",
       "      <td>5</td>\n",
       "      <td>0.45</td>\n",
       "      <td>-383.0310</td>\n",
       "    </tr>\n",
       "    <tr>\n",
       "      <th>4</th>\n",
       "      <td>5</td>\n",
       "      <td>US-2015-108966</td>\n",
       "      <td>10/11/2015</td>\n",
       "      <td>10/18/2015</td>\n",
       "      <td>Standard Class</td>\n",
       "      <td>SO-20335</td>\n",
       "      <td>Sean O'Donnell</td>\n",
       "      <td>Consumer</td>\n",
       "      <td>United States</td>\n",
       "      <td>Fort Lauderdale</td>\n",
       "      <td>...</td>\n",
       "      <td>33311</td>\n",
       "      <td>South</td>\n",
       "      <td>OFF-ST-10000760</td>\n",
       "      <td>Office Supplies</td>\n",
       "      <td>Storage</td>\n",
       "      <td>Eldon Fold 'N Roll Cart System</td>\n",
       "      <td>22.3680</td>\n",
       "      <td>2</td>\n",
       "      <td>0.20</td>\n",
       "      <td>2.5164</td>\n",
       "    </tr>\n",
       "  </tbody>\n",
       "</table>\n",
       "<p>5 rows × 21 columns</p>\n",
       "</div>"
      ],
      "text/plain": [
       "   Row ID        Order ID  Order Date   Ship Date       Ship Mode Customer ID  \\\n",
       "0       1  CA-2016-152156   11/8/2016  11/11/2016    Second Class    CG-12520   \n",
       "1       2  CA-2016-152156   11/8/2016  11/11/2016    Second Class    CG-12520   \n",
       "2       3  CA-2016-138688   6/12/2016   6/16/2016    Second Class    DV-13045   \n",
       "3       4  US-2015-108966  10/11/2015  10/18/2015  Standard Class    SO-20335   \n",
       "4       5  US-2015-108966  10/11/2015  10/18/2015  Standard Class    SO-20335   \n",
       "\n",
       "     Customer Name    Segment        Country             City  ...  \\\n",
       "0      Claire Gute   Consumer  United States        Henderson  ...   \n",
       "1      Claire Gute   Consumer  United States        Henderson  ...   \n",
       "2  Darrin Van Huff  Corporate  United States      Los Angeles  ...   \n",
       "3   Sean O'Donnell   Consumer  United States  Fort Lauderdale  ...   \n",
       "4   Sean O'Donnell   Consumer  United States  Fort Lauderdale  ...   \n",
       "\n",
       "  Postal Code  Region       Product ID         Category Sub-Category  \\\n",
       "0       42420   South  FUR-BO-10001798        Furniture    Bookcases   \n",
       "1       42420   South  FUR-CH-10000454        Furniture       Chairs   \n",
       "2       90036    West  OFF-LA-10000240  Office Supplies       Labels   \n",
       "3       33311   South  FUR-TA-10000577        Furniture       Tables   \n",
       "4       33311   South  OFF-ST-10000760  Office Supplies      Storage   \n",
       "\n",
       "                                        Product Name     Sales  Quantity  \\\n",
       "0                  Bush Somerset Collection Bookcase  261.9600         2   \n",
       "1  Hon Deluxe Fabric Upholstered Stacking Chairs,...  731.9400         3   \n",
       "2  Self-Adhesive Address Labels for Typewriters b...   14.6200         2   \n",
       "3      Bretford CR4500 Series Slim Rectangular Table  957.5775         5   \n",
       "4                     Eldon Fold 'N Roll Cart System   22.3680         2   \n",
       "\n",
       "   Discount    Profit  \n",
       "0      0.00   41.9136  \n",
       "1      0.00  219.5820  \n",
       "2      0.00    6.8714  \n",
       "3      0.45 -383.0310  \n",
       "4      0.20    2.5164  \n",
       "\n",
       "[5 rows x 21 columns]"
      ]
     },
     "execution_count": 3,
     "metadata": {},
     "output_type": "execute_result"
    }
   ],
   "source": [
    "data.head(5)"
   ]
  },
  {
   "cell_type": "code",
   "execution_count": 4,
   "metadata": {},
   "outputs": [
    {
     "data": {
      "application/vnd.microsoft.datawrangler.viewer.v0+json": {
       "columns": [
        {
         "name": "index",
         "rawType": "object",
         "type": "string"
        },
        {
         "name": "Row ID",
         "rawType": "float64",
         "type": "float"
        },
        {
         "name": "Postal Code",
         "rawType": "float64",
         "type": "float"
        },
        {
         "name": "Sales",
         "rawType": "float64",
         "type": "float"
        },
        {
         "name": "Quantity",
         "rawType": "float64",
         "type": "float"
        },
        {
         "name": "Discount",
         "rawType": "float64",
         "type": "float"
        },
        {
         "name": "Profit",
         "rawType": "float64",
         "type": "float"
        }
       ],
       "ref": "ba304355-da51-44fa-80df-b2215f48bfe0",
       "rows": [
        [
         "count",
         "9994.0",
         "9994.0",
         "9994.0",
         "9994.0",
         "9994.0",
         "9994.0"
        ],
        [
         "mean",
         "4997.5",
         "55190.3794276566",
         "229.85800083049833",
         "3.789573744246548",
         "0.15620272163297977",
         "28.65689630778467"
        ],
        [
         "std",
         "2885.1636290974325",
         "32063.69335036448",
         "623.2451005086807",
         "2.2251096911414",
         "0.20645196782571615",
         "234.2601076909573"
        ],
        [
         "min",
         "1.0",
         "1040.0",
         "0.444",
         "1.0",
         "0.0",
         "-6599.978"
        ],
        [
         "25%",
         "2499.25",
         "23223.0",
         "17.28",
         "2.0",
         "0.0",
         "1.72875"
        ],
        [
         "50%",
         "4997.5",
         "56430.5",
         "54.489999999999995",
         "3.0",
         "0.2",
         "8.6665"
        ],
        [
         "75%",
         "7495.75",
         "90008.0",
         "209.94",
         "5.0",
         "0.2",
         "29.364"
        ],
        [
         "max",
         "9994.0",
         "99301.0",
         "22638.48",
         "14.0",
         "0.8",
         "8399.976"
        ]
       ],
       "shape": {
        "columns": 6,
        "rows": 8
       }
      },
      "text/html": [
       "<div>\n",
       "<style scoped>\n",
       "    .dataframe tbody tr th:only-of-type {\n",
       "        vertical-align: middle;\n",
       "    }\n",
       "\n",
       "    .dataframe tbody tr th {\n",
       "        vertical-align: top;\n",
       "    }\n",
       "\n",
       "    .dataframe thead th {\n",
       "        text-align: right;\n",
       "    }\n",
       "</style>\n",
       "<table border=\"1\" class=\"dataframe\">\n",
       "  <thead>\n",
       "    <tr style=\"text-align: right;\">\n",
       "      <th></th>\n",
       "      <th>Row ID</th>\n",
       "      <th>Postal Code</th>\n",
       "      <th>Sales</th>\n",
       "      <th>Quantity</th>\n",
       "      <th>Discount</th>\n",
       "      <th>Profit</th>\n",
       "    </tr>\n",
       "  </thead>\n",
       "  <tbody>\n",
       "    <tr>\n",
       "      <th>count</th>\n",
       "      <td>9994.000000</td>\n",
       "      <td>9994.000000</td>\n",
       "      <td>9994.000000</td>\n",
       "      <td>9994.000000</td>\n",
       "      <td>9994.000000</td>\n",
       "      <td>9994.000000</td>\n",
       "    </tr>\n",
       "    <tr>\n",
       "      <th>mean</th>\n",
       "      <td>4997.500000</td>\n",
       "      <td>55190.379428</td>\n",
       "      <td>229.858001</td>\n",
       "      <td>3.789574</td>\n",
       "      <td>0.156203</td>\n",
       "      <td>28.656896</td>\n",
       "    </tr>\n",
       "    <tr>\n",
       "      <th>std</th>\n",
       "      <td>2885.163629</td>\n",
       "      <td>32063.693350</td>\n",
       "      <td>623.245101</td>\n",
       "      <td>2.225110</td>\n",
       "      <td>0.206452</td>\n",
       "      <td>234.260108</td>\n",
       "    </tr>\n",
       "    <tr>\n",
       "      <th>min</th>\n",
       "      <td>1.000000</td>\n",
       "      <td>1040.000000</td>\n",
       "      <td>0.444000</td>\n",
       "      <td>1.000000</td>\n",
       "      <td>0.000000</td>\n",
       "      <td>-6599.978000</td>\n",
       "    </tr>\n",
       "    <tr>\n",
       "      <th>25%</th>\n",
       "      <td>2499.250000</td>\n",
       "      <td>23223.000000</td>\n",
       "      <td>17.280000</td>\n",
       "      <td>2.000000</td>\n",
       "      <td>0.000000</td>\n",
       "      <td>1.728750</td>\n",
       "    </tr>\n",
       "    <tr>\n",
       "      <th>50%</th>\n",
       "      <td>4997.500000</td>\n",
       "      <td>56430.500000</td>\n",
       "      <td>54.490000</td>\n",
       "      <td>3.000000</td>\n",
       "      <td>0.200000</td>\n",
       "      <td>8.666500</td>\n",
       "    </tr>\n",
       "    <tr>\n",
       "      <th>75%</th>\n",
       "      <td>7495.750000</td>\n",
       "      <td>90008.000000</td>\n",
       "      <td>209.940000</td>\n",
       "      <td>5.000000</td>\n",
       "      <td>0.200000</td>\n",
       "      <td>29.364000</td>\n",
       "    </tr>\n",
       "    <tr>\n",
       "      <th>max</th>\n",
       "      <td>9994.000000</td>\n",
       "      <td>99301.000000</td>\n",
       "      <td>22638.480000</td>\n",
       "      <td>14.000000</td>\n",
       "      <td>0.800000</td>\n",
       "      <td>8399.976000</td>\n",
       "    </tr>\n",
       "  </tbody>\n",
       "</table>\n",
       "</div>"
      ],
      "text/plain": [
       "            Row ID   Postal Code         Sales     Quantity     Discount  \\\n",
       "count  9994.000000   9994.000000   9994.000000  9994.000000  9994.000000   \n",
       "mean   4997.500000  55190.379428    229.858001     3.789574     0.156203   \n",
       "std    2885.163629  32063.693350    623.245101     2.225110     0.206452   \n",
       "min       1.000000   1040.000000      0.444000     1.000000     0.000000   \n",
       "25%    2499.250000  23223.000000     17.280000     2.000000     0.000000   \n",
       "50%    4997.500000  56430.500000     54.490000     3.000000     0.200000   \n",
       "75%    7495.750000  90008.000000    209.940000     5.000000     0.200000   \n",
       "max    9994.000000  99301.000000  22638.480000    14.000000     0.800000   \n",
       "\n",
       "            Profit  \n",
       "count  9994.000000  \n",
       "mean     28.656896  \n",
       "std     234.260108  \n",
       "min   -6599.978000  \n",
       "25%       1.728750  \n",
       "50%       8.666500  \n",
       "75%      29.364000  \n",
       "max    8399.976000  "
      ]
     },
     "execution_count": 4,
     "metadata": {},
     "output_type": "execute_result"
    }
   ],
   "source": [
    "data.describe()"
   ]
  },
  {
   "cell_type": "code",
   "execution_count": 5,
   "metadata": {},
   "outputs": [
    {
     "name": "stdout",
     "output_type": "stream",
     "text": [
      "<class 'pandas.core.frame.DataFrame'>\n",
      "RangeIndex: 9994 entries, 0 to 9993\n",
      "Data columns (total 21 columns):\n",
      " #   Column         Non-Null Count  Dtype  \n",
      "---  ------         --------------  -----  \n",
      " 0   Row ID         9994 non-null   int64  \n",
      " 1   Order ID       9994 non-null   object \n",
      " 2   Order Date     9994 non-null   object \n",
      " 3   Ship Date      9994 non-null   object \n",
      " 4   Ship Mode      9994 non-null   object \n",
      " 5   Customer ID    9994 non-null   object \n",
      " 6   Customer Name  9994 non-null   object \n",
      " 7   Segment        9994 non-null   object \n",
      " 8   Country        9994 non-null   object \n",
      " 9   City           9994 non-null   object \n",
      " 10  State          9994 non-null   object \n",
      " 11  Postal Code    9994 non-null   int64  \n",
      " 12  Region         9994 non-null   object \n",
      " 13  Product ID     9994 non-null   object \n",
      " 14  Category       9994 non-null   object \n",
      " 15  Sub-Category   9994 non-null   object \n",
      " 16  Product Name   9994 non-null   object \n",
      " 17  Sales          9994 non-null   float64\n",
      " 18  Quantity       9994 non-null   int64  \n",
      " 19  Discount       9994 non-null   float64\n",
      " 20  Profit         9994 non-null   float64\n",
      "dtypes: float64(3), int64(3), object(15)\n",
      "memory usage: 1.6+ MB\n"
     ]
    }
   ],
   "source": [
    "data.info()"
   ]
  },
  {
   "cell_type": "markdown",
   "metadata": {},
   "source": [
    "Data of order date and ship date:--"
   ]
  },
  {
   "cell_type": "code",
   "execution_count": 6,
   "metadata": {},
   "outputs": [],
   "source": [
    "data['Order Date'] = pd.to_datetime(data['Order Date'])\n",
    "data['Ship Date'] = pd.to_datetime(data['Ship Date'])"
   ]
  },
  {
   "cell_type": "code",
   "execution_count": 7,
   "metadata": {},
   "outputs": [
    {
     "name": "stdout",
     "output_type": "stream",
     "text": [
      "<class 'pandas.core.frame.DataFrame'>\n",
      "RangeIndex: 9994 entries, 0 to 9993\n",
      "Data columns (total 21 columns):\n",
      " #   Column         Non-Null Count  Dtype         \n",
      "---  ------         --------------  -----         \n",
      " 0   Row ID         9994 non-null   int64         \n",
      " 1   Order ID       9994 non-null   object        \n",
      " 2   Order Date     9994 non-null   datetime64[ns]\n",
      " 3   Ship Date      9994 non-null   datetime64[ns]\n",
      " 4   Ship Mode      9994 non-null   object        \n",
      " 5   Customer ID    9994 non-null   object        \n",
      " 6   Customer Name  9994 non-null   object        \n",
      " 7   Segment        9994 non-null   object        \n",
      " 8   Country        9994 non-null   object        \n",
      " 9   City           9994 non-null   object        \n",
      " 10  State          9994 non-null   object        \n",
      " 11  Postal Code    9994 non-null   int64         \n",
      " 12  Region         9994 non-null   object        \n",
      " 13  Product ID     9994 non-null   object        \n",
      " 14  Category       9994 non-null   object        \n",
      " 15  Sub-Category   9994 non-null   object        \n",
      " 16  Product Name   9994 non-null   object        \n",
      " 17  Sales          9994 non-null   float64       \n",
      " 18  Quantity       9994 non-null   int64         \n",
      " 19  Discount       9994 non-null   float64       \n",
      " 20  Profit         9994 non-null   float64       \n",
      "dtypes: datetime64[ns](2), float64(3), int64(3), object(13)\n",
      "memory usage: 1.6+ MB\n"
     ]
    }
   ],
   "source": [
    "data.info()"
   ]
  },
  {
   "cell_type": "code",
   "execution_count": 8,
   "metadata": {},
   "outputs": [
    {
     "data": {
      "application/vnd.microsoft.datawrangler.viewer.v0+json": {
       "columns": [
        {
         "name": "index",
         "rawType": "int64",
         "type": "integer"
        },
        {
         "name": "Row ID",
         "rawType": "int64",
         "type": "integer"
        },
        {
         "name": "Order ID",
         "rawType": "object",
         "type": "string"
        },
        {
         "name": "Order Date",
         "rawType": "datetime64[ns]",
         "type": "datetime"
        },
        {
         "name": "Ship Date",
         "rawType": "datetime64[ns]",
         "type": "datetime"
        },
        {
         "name": "Ship Mode",
         "rawType": "object",
         "type": "string"
        },
        {
         "name": "Customer ID",
         "rawType": "object",
         "type": "string"
        },
        {
         "name": "Customer Name",
         "rawType": "object",
         "type": "string"
        },
        {
         "name": "Segment",
         "rawType": "object",
         "type": "string"
        },
        {
         "name": "Country",
         "rawType": "object",
         "type": "string"
        },
        {
         "name": "City",
         "rawType": "object",
         "type": "string"
        },
        {
         "name": "State",
         "rawType": "object",
         "type": "string"
        },
        {
         "name": "Postal Code",
         "rawType": "int64",
         "type": "integer"
        },
        {
         "name": "Region",
         "rawType": "object",
         "type": "string"
        },
        {
         "name": "Product ID",
         "rawType": "object",
         "type": "string"
        },
        {
         "name": "Category",
         "rawType": "object",
         "type": "string"
        },
        {
         "name": "Sub-Category",
         "rawType": "object",
         "type": "string"
        },
        {
         "name": "Product Name",
         "rawType": "object",
         "type": "string"
        },
        {
         "name": "Sales",
         "rawType": "float64",
         "type": "float"
        },
        {
         "name": "Quantity",
         "rawType": "int64",
         "type": "integer"
        },
        {
         "name": "Discount",
         "rawType": "float64",
         "type": "float"
        },
        {
         "name": "Profit",
         "rawType": "float64",
         "type": "float"
        }
       ],
       "ref": "c6629e3e-cc1a-4422-8837-79417fc47054",
       "rows": [
        [
         "0",
         "1",
         "CA-2016-152156",
         "2016-11-08 00:00:00",
         "2016-11-11 00:00:00",
         "Second Class",
         "CG-12520",
         "Claire Gute",
         "Consumer",
         "United States",
         "Henderson",
         "Kentucky",
         "42420",
         "South",
         "FUR-BO-10001798",
         "Furniture",
         "Bookcases",
         "Bush Somerset Collection Bookcase",
         "261.96",
         "2",
         "0.0",
         "41.9136"
        ],
        [
         "1",
         "2",
         "CA-2016-152156",
         "2016-11-08 00:00:00",
         "2016-11-11 00:00:00",
         "Second Class",
         "CG-12520",
         "Claire Gute",
         "Consumer",
         "United States",
         "Henderson",
         "Kentucky",
         "42420",
         "South",
         "FUR-CH-10000454",
         "Furniture",
         "Chairs",
         "Hon Deluxe Fabric Upholstered Stacking Chairs, Rounded Back",
         "731.94",
         "3",
         "0.0",
         "219.582"
        ],
        [
         "2",
         "3",
         "CA-2016-138688",
         "2016-06-12 00:00:00",
         "2016-06-16 00:00:00",
         "Second Class",
         "DV-13045",
         "Darrin Van Huff",
         "Corporate",
         "United States",
         "Los Angeles",
         "California",
         "90036",
         "West",
         "OFF-LA-10000240",
         "Office Supplies",
         "Labels",
         "Self-Adhesive Address Labels for Typewriters by Universal",
         "14.62",
         "2",
         "0.0",
         "6.8714"
        ],
        [
         "3",
         "4",
         "US-2015-108966",
         "2015-10-11 00:00:00",
         "2015-10-18 00:00:00",
         "Standard Class",
         "SO-20335",
         "Sean O'Donnell",
         "Consumer",
         "United States",
         "Fort Lauderdale",
         "Florida",
         "33311",
         "South",
         "FUR-TA-10000577",
         "Furniture",
         "Tables",
         "Bretford CR4500 Series Slim Rectangular Table",
         "957.5775",
         "5",
         "0.45",
         "-383.031"
        ],
        [
         "4",
         "5",
         "US-2015-108966",
         "2015-10-11 00:00:00",
         "2015-10-18 00:00:00",
         "Standard Class",
         "SO-20335",
         "Sean O'Donnell",
         "Consumer",
         "United States",
         "Fort Lauderdale",
         "Florida",
         "33311",
         "South",
         "OFF-ST-10000760",
         "Office Supplies",
         "Storage",
         "Eldon Fold 'N Roll Cart System",
         "22.368",
         "2",
         "0.2",
         "2.5164"
        ]
       ],
       "shape": {
        "columns": 21,
        "rows": 5
       }
      },
      "text/html": [
       "<div>\n",
       "<style scoped>\n",
       "    .dataframe tbody tr th:only-of-type {\n",
       "        vertical-align: middle;\n",
       "    }\n",
       "\n",
       "    .dataframe tbody tr th {\n",
       "        vertical-align: top;\n",
       "    }\n",
       "\n",
       "    .dataframe thead th {\n",
       "        text-align: right;\n",
       "    }\n",
       "</style>\n",
       "<table border=\"1\" class=\"dataframe\">\n",
       "  <thead>\n",
       "    <tr style=\"text-align: right;\">\n",
       "      <th></th>\n",
       "      <th>Row ID</th>\n",
       "      <th>Order ID</th>\n",
       "      <th>Order Date</th>\n",
       "      <th>Ship Date</th>\n",
       "      <th>Ship Mode</th>\n",
       "      <th>Customer ID</th>\n",
       "      <th>Customer Name</th>\n",
       "      <th>Segment</th>\n",
       "      <th>Country</th>\n",
       "      <th>City</th>\n",
       "      <th>...</th>\n",
       "      <th>Postal Code</th>\n",
       "      <th>Region</th>\n",
       "      <th>Product ID</th>\n",
       "      <th>Category</th>\n",
       "      <th>Sub-Category</th>\n",
       "      <th>Product Name</th>\n",
       "      <th>Sales</th>\n",
       "      <th>Quantity</th>\n",
       "      <th>Discount</th>\n",
       "      <th>Profit</th>\n",
       "    </tr>\n",
       "  </thead>\n",
       "  <tbody>\n",
       "    <tr>\n",
       "      <th>0</th>\n",
       "      <td>1</td>\n",
       "      <td>CA-2016-152156</td>\n",
       "      <td>2016-11-08</td>\n",
       "      <td>2016-11-11</td>\n",
       "      <td>Second Class</td>\n",
       "      <td>CG-12520</td>\n",
       "      <td>Claire Gute</td>\n",
       "      <td>Consumer</td>\n",
       "      <td>United States</td>\n",
       "      <td>Henderson</td>\n",
       "      <td>...</td>\n",
       "      <td>42420</td>\n",
       "      <td>South</td>\n",
       "      <td>FUR-BO-10001798</td>\n",
       "      <td>Furniture</td>\n",
       "      <td>Bookcases</td>\n",
       "      <td>Bush Somerset Collection Bookcase</td>\n",
       "      <td>261.9600</td>\n",
       "      <td>2</td>\n",
       "      <td>0.00</td>\n",
       "      <td>41.9136</td>\n",
       "    </tr>\n",
       "    <tr>\n",
       "      <th>1</th>\n",
       "      <td>2</td>\n",
       "      <td>CA-2016-152156</td>\n",
       "      <td>2016-11-08</td>\n",
       "      <td>2016-11-11</td>\n",
       "      <td>Second Class</td>\n",
       "      <td>CG-12520</td>\n",
       "      <td>Claire Gute</td>\n",
       "      <td>Consumer</td>\n",
       "      <td>United States</td>\n",
       "      <td>Henderson</td>\n",
       "      <td>...</td>\n",
       "      <td>42420</td>\n",
       "      <td>South</td>\n",
       "      <td>FUR-CH-10000454</td>\n",
       "      <td>Furniture</td>\n",
       "      <td>Chairs</td>\n",
       "      <td>Hon Deluxe Fabric Upholstered Stacking Chairs,...</td>\n",
       "      <td>731.9400</td>\n",
       "      <td>3</td>\n",
       "      <td>0.00</td>\n",
       "      <td>219.5820</td>\n",
       "    </tr>\n",
       "    <tr>\n",
       "      <th>2</th>\n",
       "      <td>3</td>\n",
       "      <td>CA-2016-138688</td>\n",
       "      <td>2016-06-12</td>\n",
       "      <td>2016-06-16</td>\n",
       "      <td>Second Class</td>\n",
       "      <td>DV-13045</td>\n",
       "      <td>Darrin Van Huff</td>\n",
       "      <td>Corporate</td>\n",
       "      <td>United States</td>\n",
       "      <td>Los Angeles</td>\n",
       "      <td>...</td>\n",
       "      <td>90036</td>\n",
       "      <td>West</td>\n",
       "      <td>OFF-LA-10000240</td>\n",
       "      <td>Office Supplies</td>\n",
       "      <td>Labels</td>\n",
       "      <td>Self-Adhesive Address Labels for Typewriters b...</td>\n",
       "      <td>14.6200</td>\n",
       "      <td>2</td>\n",
       "      <td>0.00</td>\n",
       "      <td>6.8714</td>\n",
       "    </tr>\n",
       "    <tr>\n",
       "      <th>3</th>\n",
       "      <td>4</td>\n",
       "      <td>US-2015-108966</td>\n",
       "      <td>2015-10-11</td>\n",
       "      <td>2015-10-18</td>\n",
       "      <td>Standard Class</td>\n",
       "      <td>SO-20335</td>\n",
       "      <td>Sean O'Donnell</td>\n",
       "      <td>Consumer</td>\n",
       "      <td>United States</td>\n",
       "      <td>Fort Lauderdale</td>\n",
       "      <td>...</td>\n",
       "      <td>33311</td>\n",
       "      <td>South</td>\n",
       "      <td>FUR-TA-10000577</td>\n",
       "      <td>Furniture</td>\n",
       "      <td>Tables</td>\n",
       "      <td>Bretford CR4500 Series Slim Rectangular Table</td>\n",
       "      <td>957.5775</td>\n",
       "      <td>5</td>\n",
       "      <td>0.45</td>\n",
       "      <td>-383.0310</td>\n",
       "    </tr>\n",
       "    <tr>\n",
       "      <th>4</th>\n",
       "      <td>5</td>\n",
       "      <td>US-2015-108966</td>\n",
       "      <td>2015-10-11</td>\n",
       "      <td>2015-10-18</td>\n",
       "      <td>Standard Class</td>\n",
       "      <td>SO-20335</td>\n",
       "      <td>Sean O'Donnell</td>\n",
       "      <td>Consumer</td>\n",
       "      <td>United States</td>\n",
       "      <td>Fort Lauderdale</td>\n",
       "      <td>...</td>\n",
       "      <td>33311</td>\n",
       "      <td>South</td>\n",
       "      <td>OFF-ST-10000760</td>\n",
       "      <td>Office Supplies</td>\n",
       "      <td>Storage</td>\n",
       "      <td>Eldon Fold 'N Roll Cart System</td>\n",
       "      <td>22.3680</td>\n",
       "      <td>2</td>\n",
       "      <td>0.20</td>\n",
       "      <td>2.5164</td>\n",
       "    </tr>\n",
       "  </tbody>\n",
       "</table>\n",
       "<p>5 rows × 21 columns</p>\n",
       "</div>"
      ],
      "text/plain": [
       "   Row ID        Order ID Order Date  Ship Date       Ship Mode Customer ID  \\\n",
       "0       1  CA-2016-152156 2016-11-08 2016-11-11    Second Class    CG-12520   \n",
       "1       2  CA-2016-152156 2016-11-08 2016-11-11    Second Class    CG-12520   \n",
       "2       3  CA-2016-138688 2016-06-12 2016-06-16    Second Class    DV-13045   \n",
       "3       4  US-2015-108966 2015-10-11 2015-10-18  Standard Class    SO-20335   \n",
       "4       5  US-2015-108966 2015-10-11 2015-10-18  Standard Class    SO-20335   \n",
       "\n",
       "     Customer Name    Segment        Country             City  ...  \\\n",
       "0      Claire Gute   Consumer  United States        Henderson  ...   \n",
       "1      Claire Gute   Consumer  United States        Henderson  ...   \n",
       "2  Darrin Van Huff  Corporate  United States      Los Angeles  ...   \n",
       "3   Sean O'Donnell   Consumer  United States  Fort Lauderdale  ...   \n",
       "4   Sean O'Donnell   Consumer  United States  Fort Lauderdale  ...   \n",
       "\n",
       "  Postal Code  Region       Product ID         Category Sub-Category  \\\n",
       "0       42420   South  FUR-BO-10001798        Furniture    Bookcases   \n",
       "1       42420   South  FUR-CH-10000454        Furniture       Chairs   \n",
       "2       90036    West  OFF-LA-10000240  Office Supplies       Labels   \n",
       "3       33311   South  FUR-TA-10000577        Furniture       Tables   \n",
       "4       33311   South  OFF-ST-10000760  Office Supplies      Storage   \n",
       "\n",
       "                                        Product Name     Sales  Quantity  \\\n",
       "0                  Bush Somerset Collection Bookcase  261.9600         2   \n",
       "1  Hon Deluxe Fabric Upholstered Stacking Chairs,...  731.9400         3   \n",
       "2  Self-Adhesive Address Labels for Typewriters b...   14.6200         2   \n",
       "3      Bretford CR4500 Series Slim Rectangular Table  957.5775         5   \n",
       "4                     Eldon Fold 'N Roll Cart System   22.3680         2   \n",
       "\n",
       "   Discount    Profit  \n",
       "0      0.00   41.9136  \n",
       "1      0.00  219.5820  \n",
       "2      0.00    6.8714  \n",
       "3      0.45 -383.0310  \n",
       "4      0.20    2.5164  \n",
       "\n",
       "[5 rows x 21 columns]"
      ]
     },
     "execution_count": 8,
     "metadata": {},
     "output_type": "execute_result"
    }
   ],
   "source": [
    "data.head(5)"
   ]
  },
  {
   "cell_type": "code",
   "execution_count": 9,
   "metadata": {},
   "outputs": [
    {
     "name": "stdout",
     "output_type": "stream",
     "text": [
      "Row ID           0\n",
      "Order ID         0\n",
      "Order Date       0\n",
      "Ship Date        0\n",
      "Ship Mode        0\n",
      "Customer ID      0\n",
      "Customer Name    0\n",
      "Segment          0\n",
      "Country          0\n",
      "City             0\n",
      "State            0\n",
      "Postal Code      0\n",
      "Region           0\n",
      "Product ID       0\n",
      "Category         0\n",
      "Sub-Category     0\n",
      "Product Name     0\n",
      "Sales            0\n",
      "Quantity         0\n",
      "Discount         0\n",
      "Profit           0\n",
      "dtype: int64\n"
     ]
    }
   ],
   "source": [
    "print(data.isnull().sum())  \n"
   ]
  },
  {
   "cell_type": "code",
   "execution_count": 10,
   "metadata": {},
   "outputs": [],
   "source": [
    "data = data.dropna()  \n",
    "data.fillna(0, inplace=True)  \n"
   ]
  },
  {
   "cell_type": "code",
   "execution_count": 11,
   "metadata": {},
   "outputs": [],
   "source": [
    "data['Order month'] = data['Order Date'].dt.month\n",
    "data['Order year'] = data['Order Date'].dt.year\n",
    "data['Order Day of Week'] = data['Order Date'].dt.dayofweek"
   ]
  },
  {
   "cell_type": "code",
   "execution_count": 12,
   "metadata": {},
   "outputs": [
    {
     "data": {
      "application/vnd.microsoft.datawrangler.viewer.v0+json": {
       "columns": [
        {
         "name": "index",
         "rawType": "int64",
         "type": "integer"
        },
        {
         "name": "Row ID",
         "rawType": "int64",
         "type": "integer"
        },
        {
         "name": "Order ID",
         "rawType": "object",
         "type": "string"
        },
        {
         "name": "Order Date",
         "rawType": "datetime64[ns]",
         "type": "datetime"
        },
        {
         "name": "Ship Date",
         "rawType": "datetime64[ns]",
         "type": "datetime"
        },
        {
         "name": "Ship Mode",
         "rawType": "object",
         "type": "string"
        },
        {
         "name": "Customer ID",
         "rawType": "object",
         "type": "string"
        },
        {
         "name": "Customer Name",
         "rawType": "object",
         "type": "string"
        },
        {
         "name": "Segment",
         "rawType": "object",
         "type": "string"
        },
        {
         "name": "Country",
         "rawType": "object",
         "type": "string"
        },
        {
         "name": "City",
         "rawType": "object",
         "type": "string"
        },
        {
         "name": "State",
         "rawType": "object",
         "type": "string"
        },
        {
         "name": "Postal Code",
         "rawType": "int64",
         "type": "integer"
        },
        {
         "name": "Region",
         "rawType": "object",
         "type": "string"
        },
        {
         "name": "Product ID",
         "rawType": "object",
         "type": "string"
        },
        {
         "name": "Category",
         "rawType": "object",
         "type": "string"
        },
        {
         "name": "Sub-Category",
         "rawType": "object",
         "type": "string"
        },
        {
         "name": "Product Name",
         "rawType": "object",
         "type": "string"
        },
        {
         "name": "Sales",
         "rawType": "float64",
         "type": "float"
        },
        {
         "name": "Quantity",
         "rawType": "int64",
         "type": "integer"
        },
        {
         "name": "Discount",
         "rawType": "float64",
         "type": "float"
        },
        {
         "name": "Profit",
         "rawType": "float64",
         "type": "float"
        },
        {
         "name": "Order month",
         "rawType": "int32",
         "type": "integer"
        },
        {
         "name": "Order year",
         "rawType": "int32",
         "type": "integer"
        },
        {
         "name": "Order Day of Week",
         "rawType": "int32",
         "type": "integer"
        }
       ],
       "ref": "f9a76009-7812-4d2d-ba63-bae5612823e1",
       "rows": [
        [
         "0",
         "1",
         "CA-2016-152156",
         "2016-11-08 00:00:00",
         "2016-11-11 00:00:00",
         "Second Class",
         "CG-12520",
         "Claire Gute",
         "Consumer",
         "United States",
         "Henderson",
         "Kentucky",
         "42420",
         "South",
         "FUR-BO-10001798",
         "Furniture",
         "Bookcases",
         "Bush Somerset Collection Bookcase",
         "261.96",
         "2",
         "0.0",
         "41.9136",
         "11",
         "2016",
         "1"
        ],
        [
         "1",
         "2",
         "CA-2016-152156",
         "2016-11-08 00:00:00",
         "2016-11-11 00:00:00",
         "Second Class",
         "CG-12520",
         "Claire Gute",
         "Consumer",
         "United States",
         "Henderson",
         "Kentucky",
         "42420",
         "South",
         "FUR-CH-10000454",
         "Furniture",
         "Chairs",
         "Hon Deluxe Fabric Upholstered Stacking Chairs, Rounded Back",
         "731.94",
         "3",
         "0.0",
         "219.582",
         "11",
         "2016",
         "1"
        ],
        [
         "2",
         "3",
         "CA-2016-138688",
         "2016-06-12 00:00:00",
         "2016-06-16 00:00:00",
         "Second Class",
         "DV-13045",
         "Darrin Van Huff",
         "Corporate",
         "United States",
         "Los Angeles",
         "California",
         "90036",
         "West",
         "OFF-LA-10000240",
         "Office Supplies",
         "Labels",
         "Self-Adhesive Address Labels for Typewriters by Universal",
         "14.62",
         "2",
         "0.0",
         "6.8714",
         "6",
         "2016",
         "6"
        ],
        [
         "3",
         "4",
         "US-2015-108966",
         "2015-10-11 00:00:00",
         "2015-10-18 00:00:00",
         "Standard Class",
         "SO-20335",
         "Sean O'Donnell",
         "Consumer",
         "United States",
         "Fort Lauderdale",
         "Florida",
         "33311",
         "South",
         "FUR-TA-10000577",
         "Furniture",
         "Tables",
         "Bretford CR4500 Series Slim Rectangular Table",
         "957.5775",
         "5",
         "0.45",
         "-383.031",
         "10",
         "2015",
         "6"
        ],
        [
         "4",
         "5",
         "US-2015-108966",
         "2015-10-11 00:00:00",
         "2015-10-18 00:00:00",
         "Standard Class",
         "SO-20335",
         "Sean O'Donnell",
         "Consumer",
         "United States",
         "Fort Lauderdale",
         "Florida",
         "33311",
         "South",
         "OFF-ST-10000760",
         "Office Supplies",
         "Storage",
         "Eldon Fold 'N Roll Cart System",
         "22.368",
         "2",
         "0.2",
         "2.5164",
         "10",
         "2015",
         "6"
        ]
       ],
       "shape": {
        "columns": 24,
        "rows": 5
       }
      },
      "text/html": [
       "<div>\n",
       "<style scoped>\n",
       "    .dataframe tbody tr th:only-of-type {\n",
       "        vertical-align: middle;\n",
       "    }\n",
       "\n",
       "    .dataframe tbody tr th {\n",
       "        vertical-align: top;\n",
       "    }\n",
       "\n",
       "    .dataframe thead th {\n",
       "        text-align: right;\n",
       "    }\n",
       "</style>\n",
       "<table border=\"1\" class=\"dataframe\">\n",
       "  <thead>\n",
       "    <tr style=\"text-align: right;\">\n",
       "      <th></th>\n",
       "      <th>Row ID</th>\n",
       "      <th>Order ID</th>\n",
       "      <th>Order Date</th>\n",
       "      <th>Ship Date</th>\n",
       "      <th>Ship Mode</th>\n",
       "      <th>Customer ID</th>\n",
       "      <th>Customer Name</th>\n",
       "      <th>Segment</th>\n",
       "      <th>Country</th>\n",
       "      <th>City</th>\n",
       "      <th>...</th>\n",
       "      <th>Category</th>\n",
       "      <th>Sub-Category</th>\n",
       "      <th>Product Name</th>\n",
       "      <th>Sales</th>\n",
       "      <th>Quantity</th>\n",
       "      <th>Discount</th>\n",
       "      <th>Profit</th>\n",
       "      <th>Order month</th>\n",
       "      <th>Order year</th>\n",
       "      <th>Order Day of Week</th>\n",
       "    </tr>\n",
       "  </thead>\n",
       "  <tbody>\n",
       "    <tr>\n",
       "      <th>0</th>\n",
       "      <td>1</td>\n",
       "      <td>CA-2016-152156</td>\n",
       "      <td>2016-11-08</td>\n",
       "      <td>2016-11-11</td>\n",
       "      <td>Second Class</td>\n",
       "      <td>CG-12520</td>\n",
       "      <td>Claire Gute</td>\n",
       "      <td>Consumer</td>\n",
       "      <td>United States</td>\n",
       "      <td>Henderson</td>\n",
       "      <td>...</td>\n",
       "      <td>Furniture</td>\n",
       "      <td>Bookcases</td>\n",
       "      <td>Bush Somerset Collection Bookcase</td>\n",
       "      <td>261.9600</td>\n",
       "      <td>2</td>\n",
       "      <td>0.00</td>\n",
       "      <td>41.9136</td>\n",
       "      <td>11</td>\n",
       "      <td>2016</td>\n",
       "      <td>1</td>\n",
       "    </tr>\n",
       "    <tr>\n",
       "      <th>1</th>\n",
       "      <td>2</td>\n",
       "      <td>CA-2016-152156</td>\n",
       "      <td>2016-11-08</td>\n",
       "      <td>2016-11-11</td>\n",
       "      <td>Second Class</td>\n",
       "      <td>CG-12520</td>\n",
       "      <td>Claire Gute</td>\n",
       "      <td>Consumer</td>\n",
       "      <td>United States</td>\n",
       "      <td>Henderson</td>\n",
       "      <td>...</td>\n",
       "      <td>Furniture</td>\n",
       "      <td>Chairs</td>\n",
       "      <td>Hon Deluxe Fabric Upholstered Stacking Chairs,...</td>\n",
       "      <td>731.9400</td>\n",
       "      <td>3</td>\n",
       "      <td>0.00</td>\n",
       "      <td>219.5820</td>\n",
       "      <td>11</td>\n",
       "      <td>2016</td>\n",
       "      <td>1</td>\n",
       "    </tr>\n",
       "    <tr>\n",
       "      <th>2</th>\n",
       "      <td>3</td>\n",
       "      <td>CA-2016-138688</td>\n",
       "      <td>2016-06-12</td>\n",
       "      <td>2016-06-16</td>\n",
       "      <td>Second Class</td>\n",
       "      <td>DV-13045</td>\n",
       "      <td>Darrin Van Huff</td>\n",
       "      <td>Corporate</td>\n",
       "      <td>United States</td>\n",
       "      <td>Los Angeles</td>\n",
       "      <td>...</td>\n",
       "      <td>Office Supplies</td>\n",
       "      <td>Labels</td>\n",
       "      <td>Self-Adhesive Address Labels for Typewriters b...</td>\n",
       "      <td>14.6200</td>\n",
       "      <td>2</td>\n",
       "      <td>0.00</td>\n",
       "      <td>6.8714</td>\n",
       "      <td>6</td>\n",
       "      <td>2016</td>\n",
       "      <td>6</td>\n",
       "    </tr>\n",
       "    <tr>\n",
       "      <th>3</th>\n",
       "      <td>4</td>\n",
       "      <td>US-2015-108966</td>\n",
       "      <td>2015-10-11</td>\n",
       "      <td>2015-10-18</td>\n",
       "      <td>Standard Class</td>\n",
       "      <td>SO-20335</td>\n",
       "      <td>Sean O'Donnell</td>\n",
       "      <td>Consumer</td>\n",
       "      <td>United States</td>\n",
       "      <td>Fort Lauderdale</td>\n",
       "      <td>...</td>\n",
       "      <td>Furniture</td>\n",
       "      <td>Tables</td>\n",
       "      <td>Bretford CR4500 Series Slim Rectangular Table</td>\n",
       "      <td>957.5775</td>\n",
       "      <td>5</td>\n",
       "      <td>0.45</td>\n",
       "      <td>-383.0310</td>\n",
       "      <td>10</td>\n",
       "      <td>2015</td>\n",
       "      <td>6</td>\n",
       "    </tr>\n",
       "    <tr>\n",
       "      <th>4</th>\n",
       "      <td>5</td>\n",
       "      <td>US-2015-108966</td>\n",
       "      <td>2015-10-11</td>\n",
       "      <td>2015-10-18</td>\n",
       "      <td>Standard Class</td>\n",
       "      <td>SO-20335</td>\n",
       "      <td>Sean O'Donnell</td>\n",
       "      <td>Consumer</td>\n",
       "      <td>United States</td>\n",
       "      <td>Fort Lauderdale</td>\n",
       "      <td>...</td>\n",
       "      <td>Office Supplies</td>\n",
       "      <td>Storage</td>\n",
       "      <td>Eldon Fold 'N Roll Cart System</td>\n",
       "      <td>22.3680</td>\n",
       "      <td>2</td>\n",
       "      <td>0.20</td>\n",
       "      <td>2.5164</td>\n",
       "      <td>10</td>\n",
       "      <td>2015</td>\n",
       "      <td>6</td>\n",
       "    </tr>\n",
       "  </tbody>\n",
       "</table>\n",
       "<p>5 rows × 24 columns</p>\n",
       "</div>"
      ],
      "text/plain": [
       "   Row ID        Order ID Order Date  Ship Date       Ship Mode Customer ID  \\\n",
       "0       1  CA-2016-152156 2016-11-08 2016-11-11    Second Class    CG-12520   \n",
       "1       2  CA-2016-152156 2016-11-08 2016-11-11    Second Class    CG-12520   \n",
       "2       3  CA-2016-138688 2016-06-12 2016-06-16    Second Class    DV-13045   \n",
       "3       4  US-2015-108966 2015-10-11 2015-10-18  Standard Class    SO-20335   \n",
       "4       5  US-2015-108966 2015-10-11 2015-10-18  Standard Class    SO-20335   \n",
       "\n",
       "     Customer Name    Segment        Country             City  ...  \\\n",
       "0      Claire Gute   Consumer  United States        Henderson  ...   \n",
       "1      Claire Gute   Consumer  United States        Henderson  ...   \n",
       "2  Darrin Van Huff  Corporate  United States      Los Angeles  ...   \n",
       "3   Sean O'Donnell   Consumer  United States  Fort Lauderdale  ...   \n",
       "4   Sean O'Donnell   Consumer  United States  Fort Lauderdale  ...   \n",
       "\n",
       "          Category  Sub-Category  \\\n",
       "0        Furniture     Bookcases   \n",
       "1        Furniture        Chairs   \n",
       "2  Office Supplies        Labels   \n",
       "3        Furniture        Tables   \n",
       "4  Office Supplies       Storage   \n",
       "\n",
       "                                        Product Name     Sales Quantity  \\\n",
       "0                  Bush Somerset Collection Bookcase  261.9600        2   \n",
       "1  Hon Deluxe Fabric Upholstered Stacking Chairs,...  731.9400        3   \n",
       "2  Self-Adhesive Address Labels for Typewriters b...   14.6200        2   \n",
       "3      Bretford CR4500 Series Slim Rectangular Table  957.5775        5   \n",
       "4                     Eldon Fold 'N Roll Cart System   22.3680        2   \n",
       "\n",
       "  Discount    Profit  Order month  Order year  Order Day of Week  \n",
       "0     0.00   41.9136           11        2016                  1  \n",
       "1     0.00  219.5820           11        2016                  1  \n",
       "2     0.00    6.8714            6        2016                  6  \n",
       "3     0.45 -383.0310           10        2015                  6  \n",
       "4     0.20    2.5164           10        2015                  6  \n",
       "\n",
       "[5 rows x 24 columns]"
      ]
     },
     "execution_count": 12,
     "metadata": {},
     "output_type": "execute_result"
    }
   ],
   "source": [
    "data.head(5)\n"
   ]
  },
  {
   "cell_type": "markdown",
   "metadata": {},
   "source": [
    "Heatmap Graph :--"
   ]
  },
  {
   "cell_type": "code",
   "execution_count": 13,
   "metadata": {},
   "outputs": [],
   "source": [
    "corr_matrix = data.select_dtypes(include=[np.number]).corr()"
   ]
  },
  {
   "cell_type": "code",
   "execution_count": 14,
   "metadata": {},
   "outputs": [
    {
     "data": {
      "image/png": "[encoded data removed]",
      "text/plain": [
       "<Figure size 1000x600 with 2 Axes>"
      ]
     },
     "metadata": {},
     "output_type": "display_data"
    }
   ],
   "source": [
    "plt.figure(figsize=(10, 6))\n",
    "corr_matrix = data.select_dtypes(include=[np.number]).corr()\n",
    "sns.heatmap(corr_matrix, annot=True, cmap='coolwarm', fmt=\".2f\", linewidths=0.5)\n",
    "plt.title('Correlation Heatmap')\n",
    "plt.show()"
   ]
  },
  {
   "cell_type": "markdown",
   "metadata": {},
   "source": [
    "Monthly Sales analysis:--"
   ]
  },
  {
   "cell_type": "code",
   "execution_count": 15,
   "metadata": {},
   "outputs": [],
   "source": [
    "sales_by_month = data.groupby('Order month')['Sales'].sum().reset_index()"
   ]
  },
  {
   "cell_type": "code",
   "execution_count": 16,
   "metadata": {},
   "outputs": [
    {
     "data": {
      "application/vnd.microsoft.datawrangler.viewer.v0+json": {
       "columns": [
        {
         "name": "index",
         "rawType": "int64",
         "type": "integer"
        },
        {
         "name": "Order month",
         "rawType": "int32",
         "type": "integer"
        },
        {
         "name": "Sales",
         "rawType": "float64",
         "type": "float"
        }
       ],
       "ref": "9e78eb60-5179-40e0-bb56-85f680c5a014",
       "rows": [
        [
         "0",
         "1",
         "94924.8356"
        ],
        [
         "1",
         "2",
         "59751.2514"
        ],
        [
         "2",
         "3",
         "205005.4888"
        ],
        [
         "3",
         "4",
         "137762.1286"
        ],
        [
         "4",
         "5",
         "155028.8117"
        ],
        [
         "5",
         "6",
         "152718.6793"
        ],
        [
         "6",
         "7",
         "147238.097"
        ],
        [
         "7",
         "8",
         "159044.063"
        ],
        [
         "8",
         "9",
         "307649.9457"
        ],
        [
         "9",
         "10",
         "200322.9847"
        ],
        [
         "10",
         "11",
         "352461.071"
        ],
        [
         "11",
         "12",
         "325293.5035"
        ]
       ],
       "shape": {
        "columns": 2,
        "rows": 12
       }
      },
      "text/html": [
       "<div>\n",
       "<style scoped>\n",
       "    .dataframe tbody tr th:only-of-type {\n",
       "        vertical-align: middle;\n",
       "    }\n",
       "\n",
       "    .dataframe tbody tr th {\n",
       "        vertical-align: top;\n",
       "    }\n",
       "\n",
       "    .dataframe thead th {\n",
       "        text-align: right;\n",
       "    }\n",
       "</style>\n",
       "<table border=\"1\" class=\"dataframe\">\n",
       "  <thead>\n",
       "    <tr style=\"text-align: right;\">\n",
       "      <th></th>\n",
       "      <th>Order month</th>\n",
       "      <th>Sales</th>\n",
       "    </tr>\n",
       "  </thead>\n",
       "  <tbody>\n",
       "    <tr>\n",
       "      <th>0</th>\n",
       "      <td>1</td>\n",
       "      <td>94924.8356</td>\n",
       "    </tr>\n",
       "    <tr>\n",
       "      <th>1</th>\n",
       "      <td>2</td>\n",
       "      <td>59751.2514</td>\n",
       "    </tr>\n",
       "    <tr>\n",
       "      <th>2</th>\n",
       "      <td>3</td>\n",
       "      <td>205005.4888</td>\n",
       "    </tr>\n",
       "    <tr>\n",
       "      <th>3</th>\n",
       "      <td>4</td>\n",
       "      <td>137762.1286</td>\n",
       "    </tr>\n",
       "    <tr>\n",
       "      <th>4</th>\n",
       "      <td>5</td>\n",
       "      <td>155028.8117</td>\n",
       "    </tr>\n",
       "    <tr>\n",
       "      <th>5</th>\n",
       "      <td>6</td>\n",
       "      <td>152718.6793</td>\n",
       "    </tr>\n",
       "    <tr>\n",
       "      <th>6</th>\n",
       "      <td>7</td>\n",
       "      <td>147238.0970</td>\n",
       "    </tr>\n",
       "    <tr>\n",
       "      <th>7</th>\n",
       "      <td>8</td>\n",
       "      <td>159044.0630</td>\n",
       "    </tr>\n",
       "    <tr>\n",
       "      <th>8</th>\n",
       "      <td>9</td>\n",
       "      <td>307649.9457</td>\n",
       "    </tr>\n",
       "    <tr>\n",
       "      <th>9</th>\n",
       "      <td>10</td>\n",
       "      <td>200322.9847</td>\n",
       "    </tr>\n",
       "    <tr>\n",
       "      <th>10</th>\n",
       "      <td>11</td>\n",
       "      <td>352461.0710</td>\n",
       "    </tr>\n",
       "    <tr>\n",
       "      <th>11</th>\n",
       "      <td>12</td>\n",
       "      <td>325293.5035</td>\n",
       "    </tr>\n",
       "  </tbody>\n",
       "</table>\n",
       "</div>"
      ],
      "text/plain": [
       "    Order month        Sales\n",
       "0             1   94924.8356\n",
       "1             2   59751.2514\n",
       "2             3  205005.4888\n",
       "3             4  137762.1286\n",
       "4             5  155028.8117\n",
       "5             6  152718.6793\n",
       "6             7  147238.0970\n",
       "7             8  159044.0630\n",
       "8             9  307649.9457\n",
       "9            10  200322.9847\n",
       "10           11  352461.0710\n",
       "11           12  325293.5035"
      ]
     },
     "execution_count": 16,
     "metadata": {},
     "output_type": "execute_result"
    }
   ],
   "source": [
    "sales_by_month"
   ]
  },
  {
   "cell_type": "code",
   "execution_count": 17,
   "metadata": {},
   "outputs": [
    {
     "data": {
      "application/vnd.plotly.v1+json": {
       "config": {
        "plotlyServerURL": "https://plot.ly"
       },
       "data": [
        {
         "hovertemplate": "Order month=%{x}<br>Sales=%{y}<extra></extra>",
         "legendgroup": "",
         "line": {
          "color": "#636efa",
          "dash": "solid"
         },
         "marker": {
          "symbol": "circle"
         },
         "mode": "lines",
         "name": "",
         "orientation": "v",
         "showlegend": false,
         "type": "scatter",
         "x": [
          1,
          2,
          3,
          4,
          5,
          6,
          7,
          8,
          9,
          10,
          11,
          12
         ],
         "xaxis": "x",
         "y": [
          94924.8356,
          59751.2514,
          205005.4888,
          137762.1286,
          155028.8117,
          152718.6793,
          147238.097,
          159044.063,
          307649.9457,
          200322.9847,
          352461.071,
          325293.5035
         ],
         "yaxis": "y"
        }
       ],
       "layout": {
        "legend": {
         "tracegroupgap": 0
        },
        "template": {
         "data": {
          "bar": [
           {
            "error_x": {
             "color": "#2a3f5f"
            },
            "error_y": {
             "color": "#2a3f5f"
            },
            "marker": {
             "line": {
              "color": "white",
              "width": 0.5
             },
             "pattern": {
              "fillmode": "overlay",
              "size": 10,
              "solidity": 0.2
             }
            },
            "type": "bar"
           }
          ],
          "barpolar": [
           {
            "marker": {
             "line": {
              "color": "white",
              "width": 0.5
             },
             "pattern": {
              "fillmode": "overlay",
              "size": 10,
              "solidity": 0.2
             }
            },
            "type": "barpolar"
           }
          ],
          "carpet": [
           {
            "aaxis": {
             "endlinecolor": "#2a3f5f",
             "gridcolor": "#C8D4E3",
             "linecolor": "#C8D4E3",
             "minorgridcolor": "#C8D4E3",
             "startlinecolor": "#2a3f5f"
            },
            "baxis": {
             "endlinecolor": "#2a3f5f",
             "gridcolor": "#C8D4E3",
             "linecolor": "#C8D4E3",
             "minorgridcolor": "#C8D4E3",
             "startlinecolor": "#2a3f5f"
            },
            "type": "carpet"
           }
          ],
          "choropleth": [
           {
            "colorbar": {
             "outlinewidth": 0,
             "ticks": ""
            },
            "type": "choropleth"
           }
          ],
          "contour": [
           {
            "colorbar": {
             "outlinewidth": 0,
             "ticks": ""
            },
            "colorscale": [
             [
              0,
              "#0d0887"
             ],
             [
              0.1111111111111111,
              "#46039f"
             ],
             [
              0.2222222222222222,
              "#7201a8"
             ],
             [
              0.3333333333333333,
              "#9c179e"
             ],
             [
              0.4444444444444444,
              "#bd3786"
             ],
             [
              0.5555555555555556,
              "#d8576b"
             ],
             [
              0.6666666666666666,
              "#ed7953"
             ],
             [
              0.7777777777777778,
              "#fb9f3a"
             ],
             [
              0.8888888888888888,
              "#fdca26"
             ],
             [
              1,
              "#f0f921"
             ]
            ],
            "type": "contour"
           }
          ],
          "contourcarpet": [
           {
            "colorbar": {
             "outlinewidth": 0,
             "ticks": ""
            },
            "type": "contourcarpet"
           }
          ],
          "heatmap": [
           {
            "colorbar": {
             "outlinewidth": 0,
             "ticks": ""
            },
            "colorscale": [
             [
              0,
              "#0d0887"
             ],
             [
              0.1111111111111111,
              "#46039f"
             ],
             [
              0.2222222222222222,
              "#7201a8"
             ],
             [
              0.3333333333333333,
              "#9c179e"
             ],
             [
              0.4444444444444444,
              "#bd3786"
             ],
             [
              0.5555555555555556,
              "#d8576b"
             ],
             [
              0.6666666666666666,
              "#ed7953"
             ],
             [
              0.7777777777777778,
              "#fb9f3a"
             ],
             [
              0.8888888888888888,
              "#fdca26"
             ],
             [
              1,
              "#f0f921"
             ]
            ],
            "type": "heatmap"
           }
          ],
          "heatmapgl": [
           {
            "colorbar": {
             "outlinewidth": 0,
             "ticks": ""
            },
            "colorscale": [
             [
              0,
              "#0d0887"
             ],
             [
              0.1111111111111111,
              "#46039f"
             ],
             [
              0.2222222222222222,
              "#7201a8"
             ],
             [
              0.3333333333333333,
              "#9c179e"
             ],
             [
              0.4444444444444444,
              "#bd3786"
             ],
             [
              0.5555555555555556,
              "#d8576b"
             ],
             [
              0.6666666666666666,
              "#ed7953"
             ],
             [
              0.7777777777777778,
              "#fb9f3a"
             ],
             [
              0.8888888888888888,
              "#fdca26"
             ],
             [
              1,
              "#f0f921"
             ]
            ],
            "type": "heatmapgl"
           }
          ],
          "histogram": [
           {
            "marker": {
             "pattern": {
              "fillmode": "overlay",
              "size": 10,
              "solidity": 0.2
             }
            },
            "type": "histogram"
           }
          ],
          "histogram2d": [
           {
            "colorbar": {
             "outlinewidth": 0,
             "ticks": ""
            },
            "colorscale": [
             [
              0,
              "#0d0887"
             ],
             [
              0.1111111111111111,
              "#46039f"
             ],
             [
              0.2222222222222222,
              "#7201a8"
             ],
             [
              0.3333333333333333,
              "#9c179e"
             ],
             [
              0.4444444444444444,
              "#bd3786"
             ],
             [
              0.5555555555555556,
              "#d8576b"
             ],
             [
              0.6666666666666666,
              "#ed7953"
             ],
             [
              0.7777777777777778,
              "#fb9f3a"
             ],
             [
              0.8888888888888888,
              "#fdca26"
             ],
             [
              1,
              "#f0f921"
             ]
            ],
            "type": "histogram2d"
           }
          ],
          "histogram2dcontour": [
           {
            "colorbar": {
             "outlinewidth": 0,
             "ticks": ""
            },
            "colorscale": [
             [
              0,
              "#0d0887"
             ],
             [
              0.1111111111111111,
              "#46039f"
             ],
             [
              0.2222222222222222,
              "#7201a8"
             ],
             [
              0.3333333333333333,
              "#9c179e"
             ],
             [
              0.4444444444444444,
              "#bd3786"
             ],
             [
              0.5555555555555556,
              "#d8576b"
             ],
             [
              0.6666666666666666,
              "#ed7953"
             ],
             [
              0.7777777777777778,
              "#fb9f3a"
             ],
             [
              0.8888888888888888,
              "#fdca26"
             ],
             [
              1,
              "#f0f921"
             ]
            ],
            "type": "histogram2dcontour"
           }
          ],
          "mesh3d": [
           {
            "colorbar": {
             "outlinewidth": 0,
             "ticks": ""
            },
            "type": "mesh3d"
           }
          ],
          "parcoords": [
           {
            "line": {
             "colorbar": {
              "outlinewidth": 0,
              "ticks": ""
             }
            },
            "type": "parcoords"
           }
          ],
          "pie": [
           {
            "automargin": true,
            "type": "pie"
           }
          ],
          "scatter": [
           {
            "fillpattern": {
             "fillmode": "overlay",
             "size": 10,
             "solidity": 0.2
            },
            "type": "scatter"
           }
          ],
          "scatter3d": [
           {
            "line": {
             "colorbar": {
              "outlinewidth": 0,
              "ticks": ""
             }
            },
            "marker": {
             "colorbar": {
              "outlinewidth": 0,
              "ticks": ""
             }
            },
            "type": "scatter3d"
           }
          ],
          "scattercarpet": [
           {
            "marker": {
             "colorbar": {
              "outlinewidth": 0,
              "ticks": ""
             }
            },
            "type": "scattercarpet"
           }
          ],
          "scattergeo": [
           {
            "marker": {
             "colorbar": {
              "outlinewidth": 0,
              "ticks": ""
             }
            },
            "type": "scattergeo"
           }
          ],
          "scattergl": [
           {
            "marker": {
             "colorbar": {
              "outlinewidth": 0,
              "ticks": ""
             }
            },
            "type": "scattergl"
           }
          ],
          "scattermapbox": [
           {
            "marker": {
             "colorbar": {
              "outlinewidth": 0,
              "ticks": ""
             }
            },
            "type": "scattermapbox"
           }
          ],
          "scatterpolar": [
           {
            "marker": {
             "colorbar": {
              "outlinewidth": 0,
              "ticks": ""
             }
            },
            "type": "scatterpolar"
           }
          ],
          "scatterpolargl": [
           {
            "marker": {
             "colorbar": {
              "outlinewidth": 0,
              "ticks": ""
             }
            },
            "type": "scatterpolargl"
           }
          ],
          "scatterternary": [
           {
            "marker": {
             "colorbar": {
              "outlinewidth": 0,
              "ticks": ""
             }
            },
            "type": "scatterternary"
           }
          ],
          "surface": [
           {
            "colorbar": {
             "outlinewidth": 0,
             "ticks": ""
            },
            "colorscale": [
             [
              0,
              "#0d0887"
             ],
             [
              0.1111111111111111,
              "#46039f"
             ],
             [
              0.2222222222222222,
              "#7201a8"
             ],
             [
              0.3333333333333333,
              "#9c179e"
             ],
             [
              0.4444444444444444,
              "#bd3786"
             ],
             [
              0.5555555555555556,
              "#d8576b"
             ],
             [
              0.6666666666666666,
              "#ed7953"
             ],
             [
              0.7777777777777778,
              "#fb9f3a"
             ],
             [
              0.8888888888888888,
              "#fdca26"
             ],
             [
              1,
              "#f0f921"
             ]
            ],
            "type": "surface"
           }
          ],
          "table": [
           {
            "cells": {
             "fill": {
              "color": "#EBF0F8"
             },
             "line": {
              "color": "white"
             }
            },
            "header": {
             "fill": {
              "color": "#C8D4E3"
             },
             "line": {
              "color": "white"
             }
            },
            "type": "table"
           }
          ]
         },
         "layout": {
          "annotationdefaults": {
           "arrowcolor": "#2a3f5f",
           "arrowhead": 0,
           "arrowwidth": 1
          },
          "autotypenumbers": "strict",
          "coloraxis": {
           "colorbar": {
            "outlinewidth": 0,
            "ticks": ""
           }
          },
          "colorscale": {
           "diverging": [
            [
             0,
             "#8e0152"
            ],
            [
             0.1,
             "#c51b7d"
            ],
            [
             0.2,
             "#de77ae"
            ],
            [
             0.3,
             "#f1b6da"
            ],
            [
             0.4,
             "#fde0ef"
            ],
            [
             0.5,
             "#f7f7f7"
            ],
            [
             0.6,
             "#e6f5d0"
            ],
            [
             0.7,
             "#b8e186"
            ],
            [
             0.8,
             "#7fbc41"
            ],
            [
             0.9,
             "#4d9221"
            ],
            [
             1,
             "#276419"
            ]
           ],
           "sequential": [
            [
             0,
             "#0d0887"
            ],
            [
             0.1111111111111111,
             "#46039f"
            ],
            [
             0.2222222222222222,
             "#7201a8"
            ],
            [
             0.3333333333333333,
             "#9c179e"
            ],
            [
             0.4444444444444444,
             "#bd3786"
            ],
            [
             0.5555555555555556,
             "#d8576b"
            ],
            [
             0.6666666666666666,
             "#ed7953"
            ],
            [
             0.7777777777777778,
             "#fb9f3a"
            ],
            [
             0.8888888888888888,
             "#fdca26"
            ],
            [
             1,
             "#f0f921"
            ]
           ],
           "sequentialminus": [
            [
             0,
             "#0d0887"
            ],
            [
             0.1111111111111111,
             "#46039f"
            ],
            [
             0.2222222222222222,
             "#7201a8"
            ],
            [
             0.3333333333333333,
             "#9c179e"
            ],
            [
             0.4444444444444444,
             "#bd3786"
            ],
            [
             0.5555555555555556,
             "#d8576b"
            ],
            [
             0.6666666666666666,
             "#ed7953"
            ],
            [
             0.7777777777777778,
             "#fb9f3a"
            ],
            [
             0.8888888888888888,
             "#fdca26"
            ],
            [
             1,
             "#f0f921"
            ]
           ]
          },
          "colorway": [
           "#636efa",
           "#EF553B",
           "#00cc96",
           "#ab63fa",
           "#FFA15A",
           "#19d3f3",
           "#FF6692",
           "#B6E880",
           "#FF97FF",
           "#FECB52"
          ],
          "font": {
           "color": "#2a3f5f"
          },
          "geo": {
           "bgcolor": "white",
           "lakecolor": "white",
           "landcolor": "white",
           "showlakes": true,
           "showland": true,
           "subunitcolor": "#C8D4E3"
          },
          "hoverlabel": {
           "align": "left"
          },
          "hovermode": "closest",
          "mapbox": {
           "style": "light"
          },
          "paper_bgcolor": "white",
          "plot_bgcolor": "white",
          "polar": {
           "angularaxis": {
            "gridcolor": "#EBF0F8",
            "linecolor": "#EBF0F8",
            "ticks": ""
           },
           "bgcolor": "white",
           "radialaxis": {
            "gridcolor": "#EBF0F8",
            "linecolor": "#EBF0F8",
            "ticks": ""
           }
          },
          "scene": {
           "xaxis": {
            "backgroundcolor": "white",
            "gridcolor": "#DFE8F3",
            "gridwidth": 2,
            "linecolor": "#EBF0F8",
            "showbackground": true,
            "ticks": "",
            "zerolinecolor": "#EBF0F8"
           },
           "yaxis": {
            "backgroundcolor": "white",
            "gridcolor": "#DFE8F3",
            "gridwidth": 2,
            "linecolor": "#EBF0F8",
            "showbackground": true,
            "ticks": "",
            "zerolinecolor": "#EBF0F8"
           },
           "zaxis": {
            "backgroundcolor": "white",
            "gridcolor": "#DFE8F3",
            "gridwidth": 2,
            "linecolor": "#EBF0F8",
            "showbackground": true,
            "ticks": "",
            "zerolinecolor": "#EBF0F8"
           }
          },
          "shapedefaults": {
           "line": {
            "color": "#2a3f5f"
           }
          },
          "ternary": {
           "aaxis": {
            "gridcolor": "#DFE8F3",
            "linecolor": "#A2B1C6",
            "ticks": ""
           },
           "baxis": {
            "gridcolor": "#DFE8F3",
            "linecolor": "#A2B1C6",
            "ticks": ""
           },
           "bgcolor": "white",
           "caxis": {
            "gridcolor": "#DFE8F3",
            "linecolor": "#A2B1C6",
            "ticks": ""
           }
          },
          "title": {
           "x": 0.05
          },
          "xaxis": {
           "automargin": true,
           "gridcolor": "#EBF0F8",
           "linecolor": "#EBF0F8",
           "ticks": "",
           "title": {
            "standoff": 15
           },
           "zerolinecolor": "#EBF0F8",
           "zerolinewidth": 2
          },
          "yaxis": {
           "automargin": true,
           "gridcolor": "#EBF0F8",
           "linecolor": "#EBF0F8",
           "ticks": "",
           "title": {
            "standoff": 15
           },
           "zerolinecolor": "#EBF0F8",
           "zerolinewidth": 2
          }
         }
        },
        "title": {
         "text": "Monthly Sales Analysis"
        },
        "xaxis": {
         "anchor": "y",
         "domain": [
          0,
          1
         ],
         "title": {
          "text": "Order month"
         }
        },
        "yaxis": {
         "anchor": "x",
         "domain": [
          0,
          1
         ],
         "title": {
          "text": "Sales"
         }
        }
       }
      }
     },
     "metadata": {},
     "output_type": "display_data"
    }
   ],
   "source": [
    "fig = px.line(sales_by_month,\n",
    "              x='Order month',\n",
    "              y='Sales',\n",
    "              title='Monthly Sales Analysis')\n",
    "fig.show()\n",
    "\n"
   ]
  },
  {
   "cell_type": "markdown",
   "metadata": {},
   "source": [
    "sales Forcasting for next six month:-"
   ]
  },
  {
   "cell_type": "code",
   "execution_count": 18,
   "metadata": {},
   "outputs": [],
   "source": [
    "data['Order Date'] = pd.to_datetime(data['Order Date'])\n"
   ]
  },
  {
   "cell_type": "code",
   "execution_count": 19,
   "metadata": {},
   "outputs": [],
   "source": [
    "data.set_index('Order Date', inplace=True)"
   ]
  },
  {
   "cell_type": "code",
   "execution_count": 20,
   "metadata": {},
   "outputs": [],
   "source": [
    "numeric_data = data.select_dtypes(include=['number'])"
   ]
  },
  {
   "cell_type": "code",
   "execution_count": 21,
   "metadata": {},
   "outputs": [],
   "source": [
    "monthly_sales = numeric_data.resample('ME').sum().reset_index()"
   ]
  },
  {
   "cell_type": "code",
   "execution_count": 22,
   "metadata": {},
   "outputs": [],
   "source": [
    "monthly_sales['Order month'] = monthly_sales['Order Date'].dt.strftime('%Y-%m')"
   ]
  },
  {
   "cell_type": "code",
   "execution_count": 23,
   "metadata": {},
   "outputs": [],
   "source": [
    "if len(monthly_sales) < 12:\n",
    "    print(\"Not enough data for seasonal forecasting. Using trend-based model instead.\")\n",
    "    model = ExponentialSmoothing(monthly_sales['Sales'], trend='add')\n",
    "else:\n",
    "    model = ExponentialSmoothing(monthly_sales['Sales'], trend='add', seasonal='add', seasonal_periods=12)\n",
    "\n"
   ]
  },
  {
   "cell_type": "code",
   "execution_count": 24,
   "metadata": {},
   "outputs": [
    {
     "name": "stderr",
     "output_type": "stream",
     "text": [
      "C:\\Users\\pauls\\AppData\\Local\\Packages\\PythonSoftwareFoundation.Python.3.11_qbz5n2kfra8p0\\LocalCache\\local-packages\\Python311\\site-packages\\statsmodels\\tsa\\holtwinters\\model.py:918: ConvergenceWarning:\n",
      "\n",
      "Optimization failed to converge. Check mle_retvals.\n",
      "\n"
     ]
    }
   ],
   "source": [
    "fit = model.fit()\n"
   ]
  },
  {
   "cell_type": "code",
   "execution_count": 25,
   "metadata": {},
   "outputs": [],
   "source": [
    "future_dates = pd.date_range(start=monthly_sales['Order Date'].max(), periods=7, freq='ME')[1:]\n",
    "forecasted_sales = fit.forecast(steps=6)"
   ]
  },
  {
   "cell_type": "code",
   "execution_count": 26,
   "metadata": {},
   "outputs": [],
   "source": [
    "forecast_df = pd.DataFrame({'Order Date': future_dates, 'Sales': forecasted_sales})\n"
   ]
  },
  {
   "cell_type": "code",
   "execution_count": 27,
   "metadata": {},
   "outputs": [],
   "source": [
    "monthly_sales['Type'] = 'Actual'\n",
    "forecast_df['Type'] = 'Forecasted'\n",
    "combined_sales = pd.concat([monthly_sales[['Order Date', 'Sales', 'Type']], forecast_df])\n"
   ]
  },
  {
   "cell_type": "code",
   "execution_count": 28,
   "metadata": {},
   "outputs": [
    {
     "data": {
      "application/vnd.plotly.v1+json": {
       "config": {
        "plotlyServerURL": "https://plot.ly"
       },
       "data": [
        {
         "hovertemplate": "Type=Actual<br>Month=%{x}<br>Total Sales ($)=%{y}<extra></extra>",
         "legendgroup": "Actual",
         "line": {
          "color": "#636efa",
          "dash": "solid"
         },
         "marker": {
          "symbol": "circle"
         },
         "mode": "lines",
         "name": "Actual",
         "orientation": "v",
         "showlegend": true,
         "type": "scatter",
         "x": [
          "2014-01-31T00:00:00",
          "2014-02-28T00:00:00",
          "2014-03-31T00:00:00",
          "2014-04-30T00:00:00",
          "2014-05-31T00:00:00",
          "2014-06-30T00:00:00",
          "2014-07-31T00:00:00",
          "2014-08-31T00:00:00",
          "2014-09-30T00:00:00",
          "2014-10-31T00:00:00",
          "2014-11-30T00:00:00",
          "2014-12-31T00:00:00",
          "2015-01-31T00:00:00",
          "2015-02-28T00:00:00",
          "2015-03-31T00:00:00",
          "2015-04-30T00:00:00",
          "2015-05-31T00:00:00",
          "2015-06-30T00:00:00",
          "2015-07-31T00:00:00",
          "2015-08-31T00:00:00",
          "2015-09-30T00:00:00",
          "2015-10-31T00:00:00",
          "2015-11-30T00:00:00",
          "2015-12-31T00:00:00",
          "2016-01-31T00:00:00",
          "2016-02-29T00:00:00",
          "2016-03-31T00:00:00",
          "2016-04-30T00:00:00",
          "2016-05-31T00:00:00",
          "2016-06-30T00:00:00",
          "2016-07-31T00:00:00",
          "2016-08-31T00:00:00",
          "2016-09-30T00:00:00",
          "2016-10-31T00:00:00",
          "2016-11-30T00:00:00",
          "2016-12-31T00:00:00",
          "2017-01-31T00:00:00",
          "2017-02-28T00:00:00",
          "2017-03-31T00:00:00",
          "2017-04-30T00:00:00",
          "2017-05-31T00:00:00",
          "2017-06-30T00:00:00",
          "2017-07-31T00:00:00",
          "2017-08-31T00:00:00",
          "2017-09-30T00:00:00",
          "2017-10-31T00:00:00",
          "2017-11-30T00:00:00",
          "2017-12-31T00:00:00"
         ],
         "xaxis": "x",
         "y": [
          14236.895,
          4519.892,
          55691.009,
          28295.345,
          23648.287,
          34595.1276,
          33946.393,
          27909.4685,
          81777.3508,
          31453.393,
          78628.7167,
          69545.6205,
          18174.0756,
          11951.411,
          38726.252,
          34195.2085,
          30131.6865,
          24797.292,
          28765.325,
          36898.3322,
          64595.918,
          31404.9235,
          75972.5635,
          74919.5212,
          18542.490999999998,
          22978.815000000002,
          51715.875,
          38750.039,
          56987.728,
          40344.534,
          39261.963,
          31115.3743,
          73410.0249,
          59687.745,
          79411.9658,
          96999.043,
          43971.374,
          20301.1334,
          58872.3528,
          36521.5361,
          44261.1102,
          52981.7257,
          45264.416,
          63120.888,
          87866.652,
          77776.9232,
          118447.825,
          83829.3188
         ],
         "yaxis": "y"
        },
        {
         "hovertemplate": "Type=Forecasted<br>Month=%{x}<br>Total Sales ($)=%{y}<extra></extra>",
         "legendgroup": "Forecasted",
         "line": {
          "color": "#EF553B",
          "dash": "solid"
         },
         "marker": {
          "symbol": "circle"
         },
         "mode": "lines",
         "name": "Forecasted",
         "orientation": "v",
         "showlegend": true,
         "type": "scatter",
         "x": [
          "2018-01-31T00:00:00",
          "2018-02-28T00:00:00",
          "2018-03-31T00:00:00",
          "2018-04-30T00:00:00",
          "2018-05-31T00:00:00",
          "2018-06-30T00:00:00"
         ],
         "xaxis": "x",
         "y": [
          50321.38244865174,
          42480.25926077034,
          74560.38820904624,
          61838.886811161094,
          69236.67765615486,
          65358.58877723917
         ],
         "yaxis": "y"
        }
       ],
       "layout": {
        "legend": {
         "title": {
          "text": "Type"
         },
         "tracegroupgap": 0
        },
        "template": {
         "data": {
          "bar": [
           {
            "error_x": {
             "color": "#2a3f5f"
            },
            "error_y": {
             "color": "#2a3f5f"
            },
            "marker": {
             "line": {
              "color": "white",
              "width": 0.5
             },
             "pattern": {
              "fillmode": "overlay",
              "size": 10,
              "solidity": 0.2
             }
            },
            "type": "bar"
           }
          ],
          "barpolar": [
           {
            "marker": {
             "line": {
              "color": "white",
              "width": 0.5
             },
             "pattern": {
              "fillmode": "overlay",
              "size": 10,
              "solidity": 0.2
             }
            },
            "type": "barpolar"
           }
          ],
          "carpet": [
           {
            "aaxis": {
             "endlinecolor": "#2a3f5f",
             "gridcolor": "#C8D4E3",
             "linecolor": "#C8D4E3",
             "minorgridcolor": "#C8D4E3",
             "startlinecolor": "#2a3f5f"
            },
            "baxis": {
             "endlinecolor": "#2a3f5f",
             "gridcolor": "#C8D4E3",
             "linecolor": "#C8D4E3",
             "minorgridcolor": "#C8D4E3",
             "startlinecolor": "#2a3f5f"
            },
            "type": "carpet"
           }
          ],
          "choropleth": [
           {
            "colorbar": {
             "outlinewidth": 0,
             "ticks": ""
            },
            "type": "choropleth"
           }
          ],
          "contour": [
           {
            "colorbar": {
             "outlinewidth": 0,
             "ticks": ""
            },
            "colorscale": [
             [
              0,
              "#0d0887"
             ],
             [
              0.1111111111111111,
              "#46039f"
             ],
             [
              0.2222222222222222,
              "#7201a8"
             ],
             [
              0.3333333333333333,
              "#9c179e"
             ],
             [
              0.4444444444444444,
              "#bd3786"
             ],
             [
              0.5555555555555556,
              "#d8576b"
             ],
             [
              0.6666666666666666,
              "#ed7953"
             ],
             [
              0.7777777777777778,
              "#fb9f3a"
             ],
             [
              0.8888888888888888,
              "#fdca26"
             ],
             [
              1,
              "#f0f921"
             ]
            ],
            "type": "contour"
           }
          ],
          "contourcarpet": [
           {
            "colorbar": {
             "outlinewidth": 0,
             "ticks": ""
            },
            "type": "contourcarpet"
           }
          ],
          "heatmap": [
           {
            "colorbar": {
             "outlinewidth": 0,
             "ticks": ""
            },
            "colorscale": [
             [
              0,
              "#0d0887"
             ],
             [
              0.1111111111111111,
              "#46039f"
             ],
             [
              0.2222222222222222,
              "#7201a8"
             ],
             [
              0.3333333333333333,
              "#9c179e"
             ],
             [
              0.4444444444444444,
              "#bd3786"
             ],
             [
              0.5555555555555556,
              "#d8576b"
             ],
             [
              0.6666666666666666,
              "#ed7953"
             ],
             [
              0.7777777777777778,
              "#fb9f3a"
             ],
             [
              0.8888888888888888,
              "#fdca26"
             ],
             [
              1,
              "#f0f921"
             ]
            ],
            "type": "heatmap"
           }
          ],
          "heatmapgl": [
           {
            "colorbar": {
             "outlinewidth": 0,
             "ticks": ""
            },
            "colorscale": [
             [
              0,
              "#0d0887"
             ],
             [
              0.1111111111111111,
              "#46039f"
             ],
             [
              0.2222222222222222,
              "#7201a8"
             ],
             [
              0.3333333333333333,
              "#9c179e"
             ],
             [
              0.4444444444444444,
              "#bd3786"
             ],
             [
              0.5555555555555556,
              "#d8576b"
             ],
             [
              0.6666666666666666,
              "#ed7953"
             ],
             [
              0.7777777777777778,
              "#fb9f3a"
             ],
             [
              0.8888888888888888,
              "#fdca26"
             ],
             [
              1,
              "#f0f921"
             ]
            ],
            "type": "heatmapgl"
           }
          ],
          "histogram": [
           {
            "marker": {
             "pattern": {
              "fillmode": "overlay",
              "size": 10,
              "solidity": 0.2
             }
            },
            "type": "histogram"
           }
          ],
          "histogram2d": [
           {
            "colorbar": {
             "outlinewidth": 0,
             "ticks": ""
            },
            "colorscale": [
             [
              0,
              "#0d0887"
             ],
             [
              0.1111111111111111,
              "#46039f"
             ],
             [
              0.2222222222222222,
              "#7201a8"
             ],
             [
              0.3333333333333333,
              "#9c179e"
             ],
             [
              0.4444444444444444,
              "#bd3786"
             ],
             [
              0.5555555555555556,
              "#d8576b"
             ],
             [
              0.6666666666666666,
              "#ed7953"
             ],
             [
              0.7777777777777778,
              "#fb9f3a"
             ],
             [
              0.8888888888888888,
              "#fdca26"
             ],
             [
              1,
              "#f0f921"
             ]
            ],
            "type": "histogram2d"
           }
          ],
          "histogram2dcontour": [
           {
            "colorbar": {
             "outlinewidth": 0,
             "ticks": ""
            },
            "colorscale": [
             [
              0,
              "#0d0887"
             ],
             [
              0.1111111111111111,
              "#46039f"
             ],
             [
              0.2222222222222222,
              "#7201a8"
             ],
             [
              0.3333333333333333,
              "#9c179e"
             ],
             [
              0.4444444444444444,
              "#bd3786"
             ],
             [
              0.5555555555555556,
              "#d8576b"
             ],
             [
              0.6666666666666666,
              "#ed7953"
             ],
             [
              0.7777777777777778,
              "#fb9f3a"
             ],
             [
              0.8888888888888888,
              "#fdca26"
             ],
             [
              1,
              "#f0f921"
             ]
            ],
            "type": "histogram2dcontour"
           }
          ],
          "mesh3d": [
           {
            "colorbar": {
             "outlinewidth": 0,
             "ticks": ""
            },
            "type": "mesh3d"
           }
          ],
          "parcoords": [
           {
            "line": {
             "colorbar": {
              "outlinewidth": 0,
              "ticks": ""
             }
            },
            "type": "parcoords"
           }
          ],
          "pie": [
           {
            "automargin": true,
            "type": "pie"
           }
          ],
          "scatter": [
           {
            "fillpattern": {
             "fillmode": "overlay",
             "size": 10,
             "solidity": 0.2
            },
            "type": "scatter"
           }
          ],
          "scatter3d": [
           {
            "line": {
             "colorbar": {
              "outlinewidth": 0,
              "ticks": ""
             }
            },
            "marker": {
             "colorbar": {
              "outlinewidth": 0,
              "ticks": ""
             }
            },
            "type": "scatter3d"
           }
          ],
          "scattercarpet": [
           {
            "marker": {
             "colorbar": {
              "outlinewidth": 0,
              "ticks": ""
             }
            },
            "type": "scattercarpet"
           }
          ],
          "scattergeo": [
           {
            "marker": {
             "colorbar": {
              "outlinewidth": 0,
              "ticks": ""
             }
            },
            "type": "scattergeo"
           }
          ],
          "scattergl": [
           {
            "marker": {
             "colorbar": {
              "outlinewidth": 0,
              "ticks": ""
             }
            },
            "type": "scattergl"
           }
          ],
          "scattermapbox": [
           {
            "marker": {
             "colorbar": {
              "outlinewidth": 0,
              "ticks": ""
             }
            },
            "type": "scattermapbox"
           }
          ],
          "scatterpolar": [
           {
            "marker": {
             "colorbar": {
              "outlinewidth": 0,
              "ticks": ""
             }
            },
            "type": "scatterpolar"
           }
          ],
          "scatterpolargl": [
           {
            "marker": {
             "colorbar": {
              "outlinewidth": 0,
              "ticks": ""
             }
            },
            "type": "scatterpolargl"
           }
          ],
          "scatterternary": [
           {
            "marker": {
             "colorbar": {
              "outlinewidth": 0,
              "ticks": ""
             }
            },
            "type": "scatterternary"
           }
          ],
          "surface": [
           {
            "colorbar": {
             "outlinewidth": 0,
             "ticks": ""
            },
            "colorscale": [
             [
              0,
              "#0d0887"
             ],
             [
              0.1111111111111111,
              "#46039f"
             ],
             [
              0.2222222222222222,
              "#7201a8"
             ],
             [
              0.3333333333333333,
              "#9c179e"
             ],
             [
              0.4444444444444444,
              "#bd3786"
             ],
             [
              0.5555555555555556,
              "#d8576b"
             ],
             [
              0.6666666666666666,
              "#ed7953"
             ],
             [
              0.7777777777777778,
              "#fb9f3a"
             ],
             [
              0.8888888888888888,
              "#fdca26"
             ],
             [
              1,
              "#f0f921"
             ]
            ],
            "type": "surface"
           }
          ],
          "table": [
           {
            "cells": {
             "fill": {
              "color": "#EBF0F8"
             },
             "line": {
              "color": "white"
             }
            },
            "header": {
             "fill": {
              "color": "#C8D4E3"
             },
             "line": {
              "color": "white"
             }
            },
            "type": "table"
           }
          ]
         },
         "layout": {
          "annotationdefaults": {
           "arrowcolor": "#2a3f5f",
           "arrowhead": 0,
           "arrowwidth": 1
          },
          "autotypenumbers": "strict",
          "coloraxis": {
           "colorbar": {
            "outlinewidth": 0,
            "ticks": ""
           }
          },
          "colorscale": {
           "diverging": [
            [
             0,
             "#8e0152"
            ],
            [
             0.1,
             "#c51b7d"
            ],
            [
             0.2,
             "#de77ae"
            ],
            [
             0.3,
             "#f1b6da"
            ],
            [
             0.4,
             "#fde0ef"
            ],
            [
             0.5,
             "#f7f7f7"
            ],
            [
             0.6,
             "#e6f5d0"
            ],
            [
             0.7,
             "#b8e186"
            ],
            [
             0.8,
             "#7fbc41"
            ],
            [
             0.9,
             "#4d9221"
            ],
            [
             1,
             "#276419"
            ]
           ],
           "sequential": [
            [
             0,
             "#0d0887"
            ],
            [
             0.1111111111111111,
             "#46039f"
            ],
            [
             0.2222222222222222,
             "#7201a8"
            ],
            [
             0.3333333333333333,
             "#9c179e"
            ],
            [
             0.4444444444444444,
             "#bd3786"
            ],
            [
             0.5555555555555556,
             "#d8576b"
            ],
            [
             0.6666666666666666,
             "#ed7953"
            ],
            [
             0.7777777777777778,
             "#fb9f3a"
            ],
            [
             0.8888888888888888,
             "#fdca26"
            ],
            [
             1,
             "#f0f921"
            ]
           ],
           "sequentialminus": [
            [
             0,
             "#0d0887"
            ],
            [
             0.1111111111111111,
             "#46039f"
            ],
            [
             0.2222222222222222,
             "#7201a8"
            ],
            [
             0.3333333333333333,
             "#9c179e"
            ],
            [
             0.4444444444444444,
             "#bd3786"
            ],
            [
             0.5555555555555556,
             "#d8576b"
            ],
            [
             0.6666666666666666,
             "#ed7953"
            ],
            [
             0.7777777777777778,
             "#fb9f3a"
            ],
            [
             0.8888888888888888,
             "#fdca26"
            ],
            [
             1,
             "#f0f921"
            ]
           ]
          },
          "colorway": [
           "#636efa",
           "#EF553B",
           "#00cc96",
           "#ab63fa",
           "#FFA15A",
           "#19d3f3",
           "#FF6692",
           "#B6E880",
           "#FF97FF",
           "#FECB52"
          ],
          "font": {
           "color": "#2a3f5f"
          },
          "geo": {
           "bgcolor": "white",
           "lakecolor": "white",
           "landcolor": "white",
           "showlakes": true,
           "showland": true,
           "subunitcolor": "#C8D4E3"
          },
          "hoverlabel": {
           "align": "left"
          },
          "hovermode": "closest",
          "mapbox": {
           "style": "light"
          },
          "paper_bgcolor": "white",
          "plot_bgcolor": "white",
          "polar": {
           "angularaxis": {
            "gridcolor": "#EBF0F8",
            "linecolor": "#EBF0F8",
            "ticks": ""
           },
           "bgcolor": "white",
           "radialaxis": {
            "gridcolor": "#EBF0F8",
            "linecolor": "#EBF0F8",
            "ticks": ""
           }
          },
          "scene": {
           "xaxis": {
            "backgroundcolor": "white",
            "gridcolor": "#DFE8F3",
            "gridwidth": 2,
            "linecolor": "#EBF0F8",
            "showbackground": true,
            "ticks": "",
            "zerolinecolor": "#EBF0F8"
           },
           "yaxis": {
            "backgroundcolor": "white",
            "gridcolor": "#DFE8F3",
            "gridwidth": 2,
            "linecolor": "#EBF0F8",
            "showbackground": true,
            "ticks": "",
            "zerolinecolor": "#EBF0F8"
           },
           "zaxis": {
            "backgroundcolor": "white",
            "gridcolor": "#DFE8F3",
            "gridwidth": 2,
            "linecolor": "#EBF0F8",
            "showbackground": true,
            "ticks": "",
            "zerolinecolor": "#EBF0F8"
           }
          },
          "shapedefaults": {
           "line": {
            "color": "#2a3f5f"
           }
          },
          "ternary": {
           "aaxis": {
            "gridcolor": "#DFE8F3",
            "linecolor": "#A2B1C6",
            "ticks": ""
           },
           "baxis": {
            "gridcolor": "#DFE8F3",
            "linecolor": "#A2B1C6",
            "ticks": ""
           },
           "bgcolor": "white",
           "caxis": {
            "gridcolor": "#DFE8F3",
            "linecolor": "#A2B1C6",
            "ticks": ""
           }
          },
          "title": {
           "x": 0.05
          },
          "xaxis": {
           "automargin": true,
           "gridcolor": "#EBF0F8",
           "linecolor": "#EBF0F8",
           "ticks": "",
           "title": {
            "standoff": 15
           },
           "zerolinecolor": "#EBF0F8",
           "zerolinewidth": 2
          },
          "yaxis": {
           "automargin": true,
           "gridcolor": "#EBF0F8",
           "linecolor": "#EBF0F8",
           "ticks": "",
           "title": {
            "standoff": 15
           },
           "zerolinecolor": "#EBF0F8",
           "zerolinewidth": 2
          }
         }
        },
        "title": {
         "text": "📈 Sales Forecasting for Next 6 Months"
        },
        "xaxis": {
         "anchor": "y",
         "domain": [
          0,
          1
         ],
         "title": {
          "text": "Month"
         }
        },
        "yaxis": {
         "anchor": "x",
         "domain": [
          0,
          1
         ],
         "title": {
          "text": "Total Sales ($)"
         }
        }
       }
      }
     },
     "metadata": {},
     "output_type": "display_data"
    }
   ],
   "source": [
    "fig = px.line(combined_sales, x='Order Date', y='Sales', color='Type', \n",
    "              title=\"📈 Sales Forecasting for Next 6 Months\",\n",
    "              labels={'Sales': 'Total Sales ($)', 'Order Date': 'Month'})\n",
    "\n",
    "fig.show()"
   ]
  },
  {
   "cell_type": "markdown",
   "metadata": {},
   "source": [
    "Sales by Category:--"
   ]
  },
  {
   "cell_type": "code",
   "execution_count": 29,
   "metadata": {},
   "outputs": [],
   "source": [
    "sales_by_category = data.groupby('Category')['Sales'].sum().reset_index()"
   ]
  },
  {
   "cell_type": "code",
   "execution_count": 30,
   "metadata": {},
   "outputs": [
    {
     "data": {
      "application/vnd.microsoft.datawrangler.viewer.v0+json": {
       "columns": [
        {
         "name": "index",
         "rawType": "int64",
         "type": "integer"
        },
        {
         "name": "Category",
         "rawType": "object",
         "type": "string"
        },
        {
         "name": "Sales",
         "rawType": "float64",
         "type": "float"
        }
       ],
       "ref": "5ee657a6-ee1c-450b-a2d8-99feed0ce7dc",
       "rows": [
        [
         "0",
         "Furniture",
         "741999.7953"
        ],
        [
         "1",
         "Office Supplies",
         "719047.032"
        ],
        [
         "2",
         "Technology",
         "836154.033"
        ]
       ],
       "shape": {
        "columns": 2,
        "rows": 3
       }
      },
      "text/html": [
       "<div>\n",
       "<style scoped>\n",
       "    .dataframe tbody tr th:only-of-type {\n",
       "        vertical-align: middle;\n",
       "    }\n",
       "\n",
       "    .dataframe tbody tr th {\n",
       "        vertical-align: top;\n",
       "    }\n",
       "\n",
       "    .dataframe thead th {\n",
       "        text-align: right;\n",
       "    }\n",
       "</style>\n",
       "<table border=\"1\" class=\"dataframe\">\n",
       "  <thead>\n",
       "    <tr style=\"text-align: right;\">\n",
       "      <th></th>\n",
       "      <th>Category</th>\n",
       "      <th>Sales</th>\n",
       "    </tr>\n",
       "  </thead>\n",
       "  <tbody>\n",
       "    <tr>\n",
       "      <th>0</th>\n",
       "      <td>Furniture</td>\n",
       "      <td>741999.7953</td>\n",
       "    </tr>\n",
       "    <tr>\n",
       "      <th>1</th>\n",
       "      <td>Office Supplies</td>\n",
       "      <td>719047.0320</td>\n",
       "    </tr>\n",
       "    <tr>\n",
       "      <th>2</th>\n",
       "      <td>Technology</td>\n",
       "      <td>836154.0330</td>\n",
       "    </tr>\n",
       "  </tbody>\n",
       "</table>\n",
       "</div>"
      ],
      "text/plain": [
       "          Category        Sales\n",
       "0        Furniture  741999.7953\n",
       "1  Office Supplies  719047.0320\n",
       "2       Technology  836154.0330"
      ]
     },
     "execution_count": 30,
     "metadata": {},
     "output_type": "execute_result"
    }
   ],
   "source": [
    "sales_by_category"
   ]
  },
  {
   "cell_type": "code",
   "execution_count": 31,
   "metadata": {},
   "outputs": [
    {
     "data": {
      "application/vnd.plotly.v1+json": {
       "config": {
        "plotlyServerURL": "https://plot.ly"
       },
       "data": [
        {
         "domain": {
          "x": [
           0,
           1
          ],
          "y": [
           0,
           1
          ]
         },
         "hole": 0.4,
         "hovertemplate": "Category=%{label}<br>Sales=%{value}<extra></extra>",
         "labels": [
          "Furniture",
          "Office Supplies",
          "Technology"
         ],
         "legendgroup": "",
         "name": "",
         "showlegend": true,
         "textinfo": "percent+label",
         "textposition": "inside",
         "type": "pie",
         "values": [
          741999.7953,
          719047.032,
          836154.033
         ]
        }
       ],
       "layout": {
        "legend": {
         "tracegroupgap": 0
        },
        "margin": {
         "t": 60
        },
        "piecolorway": [
         "rgb(102, 197, 204)",
         "rgb(246, 207, 113)",
         "rgb(248, 156, 116)",
         "rgb(220, 176, 242)",
         "rgb(135, 197, 95)",
         "rgb(158, 185, 243)",
         "rgb(254, 136, 177)",
         "rgb(201, 219, 116)",
         "rgb(139, 224, 164)",
         "rgb(180, 151, 231)",
         "rgb(179, 179, 179)"
        ],
        "template": {
         "data": {
          "bar": [
           {
            "error_x": {
             "color": "#2a3f5f"
            },
            "error_y": {
             "color": "#2a3f5f"
            },
            "marker": {
             "line": {
              "color": "white",
              "width": 0.5
             },
             "pattern": {
              "fillmode": "overlay",
              "size": 10,
              "solidity": 0.2
             }
            },
            "type": "bar"
           }
          ],
          "barpolar": [
           {
            "marker": {
             "line": {
              "color": "white",
              "width": 0.5
             },
             "pattern": {
              "fillmode": "overlay",
              "size": 10,
              "solidity": 0.2
             }
            },
            "type": "barpolar"
           }
          ],
          "carpet": [
           {
            "aaxis": {
             "endlinecolor": "#2a3f5f",
             "gridcolor": "#C8D4E3",
             "linecolor": "#C8D4E3",
             "minorgridcolor": "#C8D4E3",
             "startlinecolor": "#2a3f5f"
            },
            "baxis": {
             "endlinecolor": "#2a3f5f",
             "gridcolor": "#C8D4E3",
             "linecolor": "#C8D4E3",
             "minorgridcolor": "#C8D4E3",
             "startlinecolor": "#2a3f5f"
            },
            "type": "carpet"
           }
          ],
          "choropleth": [
           {
            "colorbar": {
             "outlinewidth": 0,
             "ticks": ""
            },
            "type": "choropleth"
           }
          ],
          "contour": [
           {
            "colorbar": {
             "outlinewidth": 0,
             "ticks": ""
            },
            "colorscale": [
             [
              0,
              "#0d0887"
             ],
             [
              0.1111111111111111,
              "#46039f"
             ],
             [
              0.2222222222222222,
              "#7201a8"
             ],
             [
              0.3333333333333333,
              "#9c179e"
             ],
             [
              0.4444444444444444,
              "#bd3786"
             ],
             [
              0.5555555555555556,
              "#d8576b"
             ],
             [
              0.6666666666666666,
              "#ed7953"
             ],
             [
              0.7777777777777778,
              "#fb9f3a"
             ],
             [
              0.8888888888888888,
              "#fdca26"
             ],
             [
              1,
              "#f0f921"
             ]
            ],
            "type": "contour"
           }
          ],
          "contourcarpet": [
           {
            "colorbar": {
             "outlinewidth": 0,
             "ticks": ""
            },
            "type": "contourcarpet"
           }
          ],
          "heatmap": [
           {
            "colorbar": {
             "outlinewidth": 0,
             "ticks": ""
            },
            "colorscale": [
             [
              0,
              "#0d0887"
             ],
             [
              0.1111111111111111,
              "#46039f"
             ],
             [
              0.2222222222222222,
              "#7201a8"
             ],
             [
              0.3333333333333333,
              "#9c179e"
             ],
             [
              0.4444444444444444,
              "#bd3786"
             ],
             [
              0.5555555555555556,
              "#d8576b"
             ],
             [
              0.6666666666666666,
              "#ed7953"
             ],
             [
              0.7777777777777778,
              "#fb9f3a"
             ],
             [
              0.8888888888888888,
              "#fdca26"
             ],
             [
              1,
              "#f0f921"
             ]
            ],
            "type": "heatmap"
           }
          ],
          "heatmapgl": [
           {
            "colorbar": {
             "outlinewidth": 0,
             "ticks": ""
            },
            "colorscale": [
             [
              0,
              "#0d0887"
             ],
             [
              0.1111111111111111,
              "#46039f"
             ],
             [
              0.2222222222222222,
              "#7201a8"
             ],
             [
              0.3333333333333333,
              "#9c179e"
             ],
             [
              0.4444444444444444,
              "#bd3786"
             ],
             [
              0.5555555555555556,
              "#d8576b"
             ],
             [
              0.6666666666666666,
              "#ed7953"
             ],
             [
              0.7777777777777778,
              "#fb9f3a"
             ],
             [
              0.8888888888888888,
              "#fdca26"
             ],
             [
              1,
              "#f0f921"
             ]
            ],
            "type": "heatmapgl"
           }
          ],
          "histogram": [
           {
            "marker": {
             "pattern": {
              "fillmode": "overlay",
              "size": 10,
              "solidity": 0.2
             }
            },
            "type": "histogram"
           }
          ],
          "histogram2d": [
           {
            "colorbar": {
             "outlinewidth": 0,
             "ticks": ""
            },
            "colorscale": [
             [
              0,
              "#0d0887"
             ],
             [
              0.1111111111111111,
              "#46039f"
             ],
             [
              0.2222222222222222,
              "#7201a8"
             ],
             [
              0.3333333333333333,
              "#9c179e"
             ],
             [
              0.4444444444444444,
              "#bd3786"
             ],
             [
              0.5555555555555556,
              "#d8576b"
             ],
             [
              0.6666666666666666,
              "#ed7953"
             ],
             [
              0.7777777777777778,
              "#fb9f3a"
             ],
             [
              0.8888888888888888,
              "#fdca26"
             ],
             [
              1,
              "#f0f921"
             ]
            ],
            "type": "histogram2d"
           }
          ],
          "histogram2dcontour": [
           {
            "colorbar": {
             "outlinewidth": 0,
             "ticks": ""
            },
            "colorscale": [
             [
              0,
              "#0d0887"
             ],
             [
              0.1111111111111111,
              "#46039f"
             ],
             [
              0.2222222222222222,
              "#7201a8"
             ],
             [
              0.3333333333333333,
              "#9c179e"
             ],
             [
              0.4444444444444444,
              "#bd3786"
             ],
             [
              0.5555555555555556,
              "#d8576b"
             ],
             [
              0.6666666666666666,
              "#ed7953"
             ],
             [
              0.7777777777777778,
              "#fb9f3a"
             ],
             [
              0.8888888888888888,
              "#fdca26"
             ],
             [
              1,
              "#f0f921"
             ]
            ],
            "type": "histogram2dcontour"
           }
          ],
          "mesh3d": [
           {
            "colorbar": {
             "outlinewidth": 0,
             "ticks": ""
            },
            "type": "mesh3d"
           }
          ],
          "parcoords": [
           {
            "line": {
             "colorbar": {
              "outlinewidth": 0,
              "ticks": ""
             }
            },
            "type": "parcoords"
           }
          ],
          "pie": [
           {
            "automargin": true,
            "type": "pie"
           }
          ],
          "scatter": [
           {
            "fillpattern": {
             "fillmode": "overlay",
             "size": 10,
             "solidity": 0.2
            },
            "type": "scatter"
           }
          ],
          "scatter3d": [
           {
            "line": {
             "colorbar": {
              "outlinewidth": 0,
              "ticks": ""
             }
            },
            "marker": {
             "colorbar": {
              "outlinewidth": 0,
              "ticks": ""
             }
            },
            "type": "scatter3d"
           }
          ],
          "scattercarpet": [
           {
            "marker": {
             "colorbar": {
              "outlinewidth": 0,
              "ticks": ""
             }
            },
            "type": "scattercarpet"
           }
          ],
          "scattergeo": [
           {
            "marker": {
             "colorbar": {
              "outlinewidth": 0,
              "ticks": ""
             }
            },
            "type": "scattergeo"
           }
          ],
          "scattergl": [
           {
            "marker": {
             "colorbar": {
              "outlinewidth": 0,
              "ticks": ""
             }
            },
            "type": "scattergl"
           }
          ],
          "scattermapbox": [
           {
            "marker": {
             "colorbar": {
              "outlinewidth": 0,
              "ticks": ""
             }
            },
            "type": "scattermapbox"
           }
          ],
          "scatterpolar": [
           {
            "marker": {
             "colorbar": {
              "outlinewidth": 0,
              "ticks": ""
             }
            },
            "type": "scatterpolar"
           }
          ],
          "scatterpolargl": [
           {
            "marker": {
             "colorbar": {
              "outlinewidth": 0,
              "ticks": ""
             }
            },
            "type": "scatterpolargl"
           }
          ],
          "scatterternary": [
           {
            "marker": {
             "colorbar": {
              "outlinewidth": 0,
              "ticks": ""
             }
            },
            "type": "scatterternary"
           }
          ],
          "surface": [
           {
            "colorbar": {
             "outlinewidth": 0,
             "ticks": ""
            },
            "colorscale": [
             [
              0,
              "#0d0887"
             ],
             [
              0.1111111111111111,
              "#46039f"
             ],
             [
              0.2222222222222222,
              "#7201a8"
             ],
             [
              0.3333333333333333,
              "#9c179e"
             ],
             [
              0.4444444444444444,
              "#bd3786"
             ],
             [
              0.5555555555555556,
              "#d8576b"
             ],
             [
              0.6666666666666666,
              "#ed7953"
             ],
             [
              0.7777777777777778,
              "#fb9f3a"
             ],
             [
              0.8888888888888888,
              "#fdca26"
             ],
             [
              1,
              "#f0f921"
             ]
            ],
            "type": "surface"
           }
          ],
          "table": [
           {
            "cells": {
             "fill": {
              "color": "#EBF0F8"
             },
             "line": {
              "color": "white"
             }
            },
            "header": {
             "fill": {
              "color": "#C8D4E3"
             },
             "line": {
              "color": "white"
             }
            },
            "type": "table"
           }
          ]
         },
         "layout": {
          "annotationdefaults": {
           "arrowcolor": "#2a3f5f",
           "arrowhead": 0,
           "arrowwidth": 1
          },
          "autotypenumbers": "strict",
          "coloraxis": {
           "colorbar": {
            "outlinewidth": 0,
            "ticks": ""
           }
          },
          "colorscale": {
           "diverging": [
            [
             0,
             "#8e0152"
            ],
            [
             0.1,
             "#c51b7d"
            ],
            [
             0.2,
             "#de77ae"
            ],
            [
             0.3,
             "#f1b6da"
            ],
            [
             0.4,
             "#fde0ef"
            ],
            [
             0.5,
             "#f7f7f7"
            ],
            [
             0.6,
             "#e6f5d0"
            ],
            [
             0.7,
             "#b8e186"
            ],
            [
             0.8,
             "#7fbc41"
            ],
            [
             0.9,
             "#4d9221"
            ],
            [
             1,
             "#276419"
            ]
           ],
           "sequential": [
            [
             0,
             "#0d0887"
            ],
            [
             0.1111111111111111,
             "#46039f"
            ],
            [
             0.2222222222222222,
             "#7201a8"
            ],
            [
             0.3333333333333333,
             "#9c179e"
            ],
            [
             0.4444444444444444,
             "#bd3786"
            ],
            [
             0.5555555555555556,
             "#d8576b"
            ],
            [
             0.6666666666666666,
             "#ed7953"
            ],
            [
             0.7777777777777778,
             "#fb9f3a"
            ],
            [
             0.8888888888888888,
             "#fdca26"
            ],
            [
             1,
             "#f0f921"
            ]
           ],
           "sequentialminus": [
            [
             0,
             "#0d0887"
            ],
            [
             0.1111111111111111,
             "#46039f"
            ],
            [
             0.2222222222222222,
             "#7201a8"
            ],
            [
             0.3333333333333333,
             "#9c179e"
            ],
            [
             0.4444444444444444,
             "#bd3786"
            ],
            [
             0.5555555555555556,
             "#d8576b"
            ],
            [
             0.6666666666666666,
             "#ed7953"
            ],
            [
             0.7777777777777778,
             "#fb9f3a"
            ],
            [
             0.8888888888888888,
             "#fdca26"
            ],
            [
             1,
             "#f0f921"
            ]
           ]
          },
          "colorway": [
           "#636efa",
           "#EF553B",
           "#00cc96",
           "#ab63fa",
           "#FFA15A",
           "#19d3f3",
           "#FF6692",
           "#B6E880",
           "#FF97FF",
           "#FECB52"
          ],
          "font": {
           "color": "#2a3f5f"
          },
          "geo": {
           "bgcolor": "white",
           "lakecolor": "white",
           "landcolor": "white",
           "showlakes": true,
           "showland": true,
           "subunitcolor": "#C8D4E3"
          },
          "hoverlabel": {
           "align": "left"
          },
          "hovermode": "closest",
          "mapbox": {
           "style": "light"
          },
          "paper_bgcolor": "white",
          "plot_bgcolor": "white",
          "polar": {
           "angularaxis": {
            "gridcolor": "#EBF0F8",
            "linecolor": "#EBF0F8",
            "ticks": ""
           },
           "bgcolor": "white",
           "radialaxis": {
            "gridcolor": "#EBF0F8",
            "linecolor": "#EBF0F8",
            "ticks": ""
           }
          },
          "scene": {
           "xaxis": {
            "backgroundcolor": "white",
            "gridcolor": "#DFE8F3",
            "gridwidth": 2,
            "linecolor": "#EBF0F8",
            "showbackground": true,
            "ticks": "",
            "zerolinecolor": "#EBF0F8"
           },
           "yaxis": {
            "backgroundcolor": "white",
            "gridcolor": "#DFE8F3",
            "gridwidth": 2,
            "linecolor": "#EBF0F8",
            "showbackground": true,
            "ticks": "",
            "zerolinecolor": "#EBF0F8"
           },
           "zaxis": {
            "backgroundcolor": "white",
            "gridcolor": "#DFE8F3",
            "gridwidth": 2,
            "linecolor": "#EBF0F8",
            "showbackground": true,
            "ticks": "",
            "zerolinecolor": "#EBF0F8"
           }
          },
          "shapedefaults": {
           "line": {
            "color": "#2a3f5f"
           }
          },
          "ternary": {
           "aaxis": {
            "gridcolor": "#DFE8F3",
            "linecolor": "#A2B1C6",
            "ticks": ""
           },
           "baxis": {
            "gridcolor": "#DFE8F3",
            "linecolor": "#A2B1C6",
            "ticks": ""
           },
           "bgcolor": "white",
           "caxis": {
            "gridcolor": "#DFE8F3",
            "linecolor": "#A2B1C6",
            "ticks": ""
           }
          },
          "title": {
           "x": 0.05
          },
          "xaxis": {
           "automargin": true,
           "gridcolor": "#EBF0F8",
           "linecolor": "#EBF0F8",
           "ticks": "",
           "title": {
            "standoff": 15
           },
           "zerolinecolor": "#EBF0F8",
           "zerolinewidth": 2
          },
          "yaxis": {
           "automargin": true,
           "gridcolor": "#EBF0F8",
           "linecolor": "#EBF0F8",
           "ticks": "",
           "title": {
            "standoff": 15
           },
           "zerolinecolor": "#EBF0F8",
           "zerolinewidth": 2
          }
         }
        },
        "title": {
         "font": {
          "size": 24
         },
         "text": "Sales Analysis by Category"
        }
       }
      }
     },
     "metadata": {},
     "output_type": "display_data"
    }
   ],
   "source": [
    "fig = px.pie(sales_by_category,\n",
    "             values='Sales',\n",
    "             names='Category',\n",
    "             hole=0.4,\n",
    "             color_discrete_sequence=px.colors.qualitative.Pastel)\n",
    "\n",
    "fig.update_traces(textposition='inside', textinfo='percent+label')\n",
    "fig.update_layout(title_text='Sales Analysis by Category', title_font=dict(size=24))\n",
    "\n",
    "fig.show()\n",
    "\n"
   ]
  },
  {
   "cell_type": "markdown",
   "metadata": {},
   "source": [
    "Sales Analysis by SubCategory:--"
   ]
  },
  {
   "cell_type": "code",
   "execution_count": 32,
   "metadata": {},
   "outputs": [
    {
     "data": {
      "application/vnd.microsoft.datawrangler.viewer.v0+json": {
       "columns": [
        {
         "name": "Order Date",
         "rawType": "datetime64[ns]",
         "type": "datetime"
        },
        {
         "name": "Row ID",
         "rawType": "int64",
         "type": "integer"
        },
        {
         "name": "Order ID",
         "rawType": "object",
         "type": "string"
        },
        {
         "name": "Ship Date",
         "rawType": "datetime64[ns]",
         "type": "datetime"
        },
        {
         "name": "Ship Mode",
         "rawType": "object",
         "type": "string"
        },
        {
         "name": "Customer ID",
         "rawType": "object",
         "type": "string"
        },
        {
         "name": "Customer Name",
         "rawType": "object",
         "type": "string"
        },
        {
         "name": "Segment",
         "rawType": "object",
         "type": "string"
        },
        {
         "name": "Country",
         "rawType": "object",
         "type": "string"
        },
        {
         "name": "City",
         "rawType": "object",
         "type": "string"
        },
        {
         "name": "State",
         "rawType": "object",
         "type": "string"
        },
        {
         "name": "Postal Code",
         "rawType": "int64",
         "type": "integer"
        },
        {
         "name": "Region",
         "rawType": "object",
         "type": "string"
        },
        {
         "name": "Product ID",
         "rawType": "object",
         "type": "string"
        },
        {
         "name": "Category",
         "rawType": "object",
         "type": "string"
        },
        {
         "name": "Sub-Category",
         "rawType": "object",
         "type": "string"
        },
        {
         "name": "Product Name",
         "rawType": "object",
         "type": "string"
        },
        {
         "name": "Sales",
         "rawType": "float64",
         "type": "float"
        },
        {
         "name": "Quantity",
         "rawType": "int64",
         "type": "integer"
        },
        {
         "name": "Discount",
         "rawType": "float64",
         "type": "float"
        },
        {
         "name": "Profit",
         "rawType": "float64",
         "type": "float"
        },
        {
         "name": "Order month",
         "rawType": "int32",
         "type": "integer"
        },
        {
         "name": "Order year",
         "rawType": "int32",
         "type": "integer"
        },
        {
         "name": "Order Day of Week",
         "rawType": "int32",
         "type": "integer"
        }
       ],
       "ref": "317f44ec-c8a6-48df-91d1-76a77101fc4f",
       "rows": [
        [
         "2016-11-08 00:00:00",
         "1",
         "CA-2016-152156",
         "2016-11-11 00:00:00",
         "Second Class",
         "CG-12520",
         "Claire Gute",
         "Consumer",
         "United States",
         "Henderson",
         "Kentucky",
         "42420",
         "South",
         "FUR-BO-10001798",
         "Furniture",
         "Bookcases",
         "Bush Somerset Collection Bookcase",
         "261.96",
         "2",
         "0.0",
         "41.9136",
         "11",
         "2016",
         "1"
        ],
        [
         "2016-11-08 00:00:00",
         "2",
         "CA-2016-152156",
         "2016-11-11 00:00:00",
         "Second Class",
         "CG-12520",
         "Claire Gute",
         "Consumer",
         "United States",
         "Henderson",
         "Kentucky",
         "42420",
         "South",
         "FUR-CH-10000454",
         "Furniture",
         "Chairs",
         "Hon Deluxe Fabric Upholstered Stacking Chairs, Rounded Back",
         "731.94",
         "3",
         "0.0",
         "219.582",
         "11",
         "2016",
         "1"
        ],
        [
         "2016-06-12 00:00:00",
         "3",
         "CA-2016-138688",
         "2016-06-16 00:00:00",
         "Second Class",
         "DV-13045",
         "Darrin Van Huff",
         "Corporate",
         "United States",
         "Los Angeles",
         "California",
         "90036",
         "West",
         "OFF-LA-10000240",
         "Office Supplies",
         "Labels",
         "Self-Adhesive Address Labels for Typewriters by Universal",
         "14.62",
         "2",
         "0.0",
         "6.8714",
         "6",
         "2016",
         "6"
        ],
        [
         "2015-10-11 00:00:00",
         "4",
         "US-2015-108966",
         "2015-10-18 00:00:00",
         "Standard Class",
         "SO-20335",
         "Sean O'Donnell",
         "Consumer",
         "United States",
         "Fort Lauderdale",
         "Florida",
         "33311",
         "South",
         "FUR-TA-10000577",
         "Furniture",
         "Tables",
         "Bretford CR4500 Series Slim Rectangular Table",
         "957.5775",
         "5",
         "0.45",
         "-383.031",
         "10",
         "2015",
         "6"
        ],
        [
         "2015-10-11 00:00:00",
         "5",
         "US-2015-108966",
         "2015-10-18 00:00:00",
         "Standard Class",
         "SO-20335",
         "Sean O'Donnell",
         "Consumer",
         "United States",
         "Fort Lauderdale",
         "Florida",
         "33311",
         "South",
         "OFF-ST-10000760",
         "Office Supplies",
         "Storage",
         "Eldon Fold 'N Roll Cart System",
         "22.368",
         "2",
         "0.2",
         "2.5164",
         "10",
         "2015",
         "6"
        ],
        [
         "2014-06-09 00:00:00",
         "6",
         "CA-2014-115812",
         "2014-06-14 00:00:00",
         "Standard Class",
         "BH-11710",
         "Brosina Hoffman",
         "Consumer",
         "United States",
         "Los Angeles",
         "California",
         "90032",
         "West",
         "FUR-FU-10001487",
         "Furniture",
         "Furnishings",
         "Eldon Expressions Wood and Plastic Desk Accessories, Cherry Wood",
         "48.86",
         "7",
         "0.0",
         "14.1694",
         "6",
         "2014",
         "0"
        ],
        [
         "2014-06-09 00:00:00",
         "7",
         "CA-2014-115812",
         "2014-06-14 00:00:00",
         "Standard Class",
         "BH-11710",
         "Brosina Hoffman",
         "Consumer",
         "United States",
         "Los Angeles",
         "California",
         "90032",
         "West",
         "OFF-AR-10002833",
         "Office Supplies",
         "Art",
         "Newell 322",
         "7.28",
         "4",
         "0.0",
         "1.9656",
         "6",
         "2014",
         "0"
        ],
        [
         "2014-06-09 00:00:00",
         "8",
         "CA-2014-115812",
         "2014-06-14 00:00:00",
         "Standard Class",
         "BH-11710",
         "Brosina Hoffman",
         "Consumer",
         "United States",
         "Los Angeles",
         "California",
         "90032",
         "West",
         "TEC-PH-10002275",
         "Technology",
         "Phones",
         "Mitel 5320 IP Phone VoIP phone",
         "907.152",
         "6",
         "0.2",
         "90.7152",
         "6",
         "2014",
         "0"
        ],
        [
         "2014-06-09 00:00:00",
         "9",
         "CA-2014-115812",
         "2014-06-14 00:00:00",
         "Standard Class",
         "BH-11710",
         "Brosina Hoffman",
         "Consumer",
         "United States",
         "Los Angeles",
         "California",
         "90032",
         "West",
         "OFF-BI-10003910",
         "Office Supplies",
         "Binders",
         "DXL Angle-View Binders with Locking Rings by Samsill",
         "18.504",
         "3",
         "0.2",
         "5.7825",
         "6",
         "2014",
         "0"
        ],
        [
         "2014-06-09 00:00:00",
         "10",
         "CA-2014-115812",
         "2014-06-14 00:00:00",
         "Standard Class",
         "BH-11710",
         "Brosina Hoffman",
         "Consumer",
         "United States",
         "Los Angeles",
         "California",
         "90032",
         "West",
         "OFF-AP-10002892",
         "Office Supplies",
         "Appliances",
         "Belkin F5C206VTEL 6 Outlet Surge",
         "114.9",
         "5",
         "0.0",
         "34.47",
         "6",
         "2014",
         "0"
        ]
       ],
       "shape": {
        "columns": 23,
        "rows": 10
       }
      },
      "text/html": [
       "<div>\n",
       "<style scoped>\n",
       "    .dataframe tbody tr th:only-of-type {\n",
       "        vertical-align: middle;\n",
       "    }\n",
       "\n",
       "    .dataframe tbody tr th {\n",
       "        vertical-align: top;\n",
       "    }\n",
       "\n",
       "    .dataframe thead th {\n",
       "        text-align: right;\n",
       "    }\n",
       "</style>\n",
       "<table border=\"1\" class=\"dataframe\">\n",
       "  <thead>\n",
       "    <tr style=\"text-align: right;\">\n",
       "      <th></th>\n",
       "      <th>Row ID</th>\n",
       "      <th>Order ID</th>\n",
       "      <th>Ship Date</th>\n",
       "      <th>Ship Mode</th>\n",
       "      <th>Customer ID</th>\n",
       "      <th>Customer Name</th>\n",
       "      <th>Segment</th>\n",
       "      <th>Country</th>\n",
       "      <th>City</th>\n",
       "      <th>State</th>\n",
       "      <th>...</th>\n",
       "      <th>Category</th>\n",
       "      <th>Sub-Category</th>\n",
       "      <th>Product Name</th>\n",
       "      <th>Sales</th>\n",
       "      <th>Quantity</th>\n",
       "      <th>Discount</th>\n",
       "      <th>Profit</th>\n",
       "      <th>Order month</th>\n",
       "      <th>Order year</th>\n",
       "      <th>Order Day of Week</th>\n",
       "    </tr>\n",
       "    <tr>\n",
       "      <th>Order Date</th>\n",
       "      <th></th>\n",
       "      <th></th>\n",
       "      <th></th>\n",
       "      <th></th>\n",
       "      <th></th>\n",
       "      <th></th>\n",
       "      <th></th>\n",
       "      <th></th>\n",
       "      <th></th>\n",
       "      <th></th>\n",
       "      <th></th>\n",
       "      <th></th>\n",
       "      <th></th>\n",
       "      <th></th>\n",
       "      <th></th>\n",
       "      <th></th>\n",
       "      <th></th>\n",
       "      <th></th>\n",
       "      <th></th>\n",
       "      <th></th>\n",
       "      <th></th>\n",
       "    </tr>\n",
       "  </thead>\n",
       "  <tbody>\n",
       "    <tr>\n",
       "      <th>2016-11-08</th>\n",
       "      <td>1</td>\n",
       "      <td>CA-2016-152156</td>\n",
       "      <td>2016-11-11</td>\n",
       "      <td>Second Class</td>\n",
       "      <td>CG-12520</td>\n",
       "      <td>Claire Gute</td>\n",
       "      <td>Consumer</td>\n",
       "      <td>United States</td>\n",
       "      <td>Henderson</td>\n",
       "      <td>Kentucky</td>\n",
       "      <td>...</td>\n",
       "      <td>Furniture</td>\n",
       "      <td>Bookcases</td>\n",
       "      <td>Bush Somerset Collection Bookcase</td>\n",
       "      <td>261.9600</td>\n",
       "      <td>2</td>\n",
       "      <td>0.00</td>\n",
       "      <td>41.9136</td>\n",
       "      <td>11</td>\n",
       "      <td>2016</td>\n",
       "      <td>1</td>\n",
       "    </tr>\n",
       "    <tr>\n",
       "      <th>2016-11-08</th>\n",
       "      <td>2</td>\n",
       "      <td>CA-2016-152156</td>\n",
       "      <td>2016-11-11</td>\n",
       "      <td>Second Class</td>\n",
       "      <td>CG-12520</td>\n",
       "      <td>Claire Gute</td>\n",
       "      <td>Consumer</td>\n",
       "      <td>United States</td>\n",
       "      <td>Henderson</td>\n",
       "      <td>Kentucky</td>\n",
       "      <td>...</td>\n",
       "      <td>Furniture</td>\n",
       "      <td>Chairs</td>\n",
       "      <td>Hon Deluxe Fabric Upholstered Stacking Chairs,...</td>\n",
       "      <td>731.9400</td>\n",
       "      <td>3</td>\n",
       "      <td>0.00</td>\n",
       "      <td>219.5820</td>\n",
       "      <td>11</td>\n",
       "      <td>2016</td>\n",
       "      <td>1</td>\n",
       "    </tr>\n",
       "    <tr>\n",
       "      <th>2016-06-12</th>\n",
       "      <td>3</td>\n",
       "      <td>CA-2016-138688</td>\n",
       "      <td>2016-06-16</td>\n",
       "      <td>Second Class</td>\n",
       "      <td>DV-13045</td>\n",
       "      <td>Darrin Van Huff</td>\n",
       "      <td>Corporate</td>\n",
       "      <td>United States</td>\n",
       "      <td>Los Angeles</td>\n",
       "      <td>California</td>\n",
       "      <td>...</td>\n",
       "      <td>Office Supplies</td>\n",
       "      <td>Labels</td>\n",
       "      <td>Self-Adhesive Address Labels for Typewriters b...</td>\n",
       "      <td>14.6200</td>\n",
       "      <td>2</td>\n",
       "      <td>0.00</td>\n",
       "      <td>6.8714</td>\n",
       "      <td>6</td>\n",
       "      <td>2016</td>\n",
       "      <td>6</td>\n",
       "    </tr>\n",
       "    <tr>\n",
       "      <th>2015-10-11</th>\n",
       "      <td>4</td>\n",
       "      <td>US-2015-108966</td>\n",
       "      <td>2015-10-18</td>\n",
       "      <td>Standard Class</td>\n",
       "      <td>SO-20335</td>\n",
       "      <td>Sean O'Donnell</td>\n",
       "      <td>Consumer</td>\n",
       "      <td>United States</td>\n",
       "      <td>Fort Lauderdale</td>\n",
       "      <td>Florida</td>\n",
       "      <td>...</td>\n",
       "      <td>Furniture</td>\n",
       "      <td>Tables</td>\n",
       "      <td>Bretford CR4500 Series Slim Rectangular Table</td>\n",
       "      <td>957.5775</td>\n",
       "      <td>5</td>\n",
       "      <td>0.45</td>\n",
       "      <td>-383.0310</td>\n",
       "      <td>10</td>\n",
       "      <td>2015</td>\n",
       "      <td>6</td>\n",
       "    </tr>\n",
       "    <tr>\n",
       "      <th>2015-10-11</th>\n",
       "      <td>5</td>\n",
       "      <td>US-2015-108966</td>\n",
       "      <td>2015-10-18</td>\n",
       "      <td>Standard Class</td>\n",
       "      <td>SO-20335</td>\n",
       "      <td>Sean O'Donnell</td>\n",
       "      <td>Consumer</td>\n",
       "      <td>United States</td>\n",
       "      <td>Fort Lauderdale</td>\n",
       "      <td>Florida</td>\n",
       "      <td>...</td>\n",
       "      <td>Office Supplies</td>\n",
       "      <td>Storage</td>\n",
       "      <td>Eldon Fold 'N Roll Cart System</td>\n",
       "      <td>22.3680</td>\n",
       "      <td>2</td>\n",
       "      <td>0.20</td>\n",
       "      <td>2.5164</td>\n",
       "      <td>10</td>\n",
       "      <td>2015</td>\n",
       "      <td>6</td>\n",
       "    </tr>\n",
       "    <tr>\n",
       "      <th>2014-06-09</th>\n",
       "      <td>6</td>\n",
       "      <td>CA-2014-115812</td>\n",
       "      <td>2014-06-14</td>\n",
       "      <td>Standard Class</td>\n",
       "      <td>BH-11710</td>\n",
       "      <td>Brosina Hoffman</td>\n",
       "      <td>Consumer</td>\n",
       "      <td>United States</td>\n",
       "      <td>Los Angeles</td>\n",
       "      <td>California</td>\n",
       "      <td>...</td>\n",
       "      <td>Furniture</td>\n",
       "      <td>Furnishings</td>\n",
       "      <td>Eldon Expressions Wood and Plastic Desk Access...</td>\n",
       "      <td>48.8600</td>\n",
       "      <td>7</td>\n",
       "      <td>0.00</td>\n",
       "      <td>14.1694</td>\n",
       "      <td>6</td>\n",
       "      <td>2014</td>\n",
       "      <td>0</td>\n",
       "    </tr>\n",
       "    <tr>\n",
       "      <th>2014-06-09</th>\n",
       "      <td>7</td>\n",
       "      <td>CA-2014-115812</td>\n",
       "      <td>2014-06-14</td>\n",
       "      <td>Standard Class</td>\n",
       "      <td>BH-11710</td>\n",
       "      <td>Brosina Hoffman</td>\n",
       "      <td>Consumer</td>\n",
       "      <td>United States</td>\n",
       "      <td>Los Angeles</td>\n",
       "      <td>California</td>\n",
       "      <td>...</td>\n",
       "      <td>Office Supplies</td>\n",
       "      <td>Art</td>\n",
       "      <td>Newell 322</td>\n",
       "      <td>7.2800</td>\n",
       "      <td>4</td>\n",
       "      <td>0.00</td>\n",
       "      <td>1.9656</td>\n",
       "      <td>6</td>\n",
       "      <td>2014</td>\n",
       "      <td>0</td>\n",
       "    </tr>\n",
       "    <tr>\n",
       "      <th>2014-06-09</th>\n",
       "      <td>8</td>\n",
       "      <td>CA-2014-115812</td>\n",
       "      <td>2014-06-14</td>\n",
       "      <td>Standard Class</td>\n",
       "      <td>BH-11710</td>\n",
       "      <td>Brosina Hoffman</td>\n",
       "      <td>Consumer</td>\n",
       "      <td>United States</td>\n",
       "      <td>Los Angeles</td>\n",
       "      <td>California</td>\n",
       "      <td>...</td>\n",
       "      <td>Technology</td>\n",
       "      <td>Phones</td>\n",
       "      <td>Mitel 5320 IP Phone VoIP phone</td>\n",
       "      <td>907.1520</td>\n",
       "      <td>6</td>\n",
       "      <td>0.20</td>\n",
       "      <td>90.7152</td>\n",
       "      <td>6</td>\n",
       "      <td>2014</td>\n",
       "      <td>0</td>\n",
       "    </tr>\n",
       "    <tr>\n",
       "      <th>2014-06-09</th>\n",
       "      <td>9</td>\n",
       "      <td>CA-2014-115812</td>\n",
       "      <td>2014-06-14</td>\n",
       "      <td>Standard Class</td>\n",
       "      <td>BH-11710</td>\n",
       "      <td>Brosina Hoffman</td>\n",
       "      <td>Consumer</td>\n",
       "      <td>United States</td>\n",
       "      <td>Los Angeles</td>\n",
       "      <td>California</td>\n",
       "      <td>...</td>\n",
       "      <td>Office Supplies</td>\n",
       "      <td>Binders</td>\n",
       "      <td>DXL Angle-View Binders with Locking Rings by S...</td>\n",
       "      <td>18.5040</td>\n",
       "      <td>3</td>\n",
       "      <td>0.20</td>\n",
       "      <td>5.7825</td>\n",
       "      <td>6</td>\n",
       "      <td>2014</td>\n",
       "      <td>0</td>\n",
       "    </tr>\n",
       "    <tr>\n",
       "      <th>2014-06-09</th>\n",
       "      <td>10</td>\n",
       "      <td>CA-2014-115812</td>\n",
       "      <td>2014-06-14</td>\n",
       "      <td>Standard Class</td>\n",
       "      <td>BH-11710</td>\n",
       "      <td>Brosina Hoffman</td>\n",
       "      <td>Consumer</td>\n",
       "      <td>United States</td>\n",
       "      <td>Los Angeles</td>\n",
       "      <td>California</td>\n",
       "      <td>...</td>\n",
       "      <td>Office Supplies</td>\n",
       "      <td>Appliances</td>\n",
       "      <td>Belkin F5C206VTEL 6 Outlet Surge</td>\n",
       "      <td>114.9000</td>\n",
       "      <td>5</td>\n",
       "      <td>0.00</td>\n",
       "      <td>34.4700</td>\n",
       "      <td>6</td>\n",
       "      <td>2014</td>\n",
       "      <td>0</td>\n",
       "    </tr>\n",
       "  </tbody>\n",
       "</table>\n",
       "<p>10 rows × 23 columns</p>\n",
       "</div>"
      ],
      "text/plain": [
       "            Row ID        Order ID  Ship Date       Ship Mode Customer ID  \\\n",
       "Order Date                                                                  \n",
       "2016-11-08       1  CA-2016-152156 2016-11-11    Second Class    CG-12520   \n",
       "2016-11-08       2  CA-2016-152156 2016-11-11    Second Class    CG-12520   \n",
       "2016-06-12       3  CA-2016-138688 2016-06-16    Second Class    DV-13045   \n",
       "2015-10-11       4  US-2015-108966 2015-10-18  Standard Class    SO-20335   \n",
       "2015-10-11       5  US-2015-108966 2015-10-18  Standard Class    SO-20335   \n",
       "2014-06-09       6  CA-2014-115812 2014-06-14  Standard Class    BH-11710   \n",
       "2014-06-09       7  CA-2014-115812 2014-06-14  Standard Class    BH-11710   \n",
       "2014-06-09       8  CA-2014-115812 2014-06-14  Standard Class    BH-11710   \n",
       "2014-06-09       9  CA-2014-115812 2014-06-14  Standard Class    BH-11710   \n",
       "2014-06-09      10  CA-2014-115812 2014-06-14  Standard Class    BH-11710   \n",
       "\n",
       "              Customer Name    Segment        Country             City  \\\n",
       "Order Date                                                               \n",
       "2016-11-08      Claire Gute   Consumer  United States        Henderson   \n",
       "2016-11-08      Claire Gute   Consumer  United States        Henderson   \n",
       "2016-06-12  Darrin Van Huff  Corporate  United States      Los Angeles   \n",
       "2015-10-11   Sean O'Donnell   Consumer  United States  Fort Lauderdale   \n",
       "2015-10-11   Sean O'Donnell   Consumer  United States  Fort Lauderdale   \n",
       "2014-06-09  Brosina Hoffman   Consumer  United States      Los Angeles   \n",
       "2014-06-09  Brosina Hoffman   Consumer  United States      Los Angeles   \n",
       "2014-06-09  Brosina Hoffman   Consumer  United States      Los Angeles   \n",
       "2014-06-09  Brosina Hoffman   Consumer  United States      Los Angeles   \n",
       "2014-06-09  Brosina Hoffman   Consumer  United States      Los Angeles   \n",
       "\n",
       "                 State  ...         Category Sub-Category  \\\n",
       "Order Date              ...                                 \n",
       "2016-11-08    Kentucky  ...        Furniture    Bookcases   \n",
       "2016-11-08    Kentucky  ...        Furniture       Chairs   \n",
       "2016-06-12  California  ...  Office Supplies       Labels   \n",
       "2015-10-11     Florida  ...        Furniture       Tables   \n",
       "2015-10-11     Florida  ...  Office Supplies      Storage   \n",
       "2014-06-09  California  ...        Furniture  Furnishings   \n",
       "2014-06-09  California  ...  Office Supplies          Art   \n",
       "2014-06-09  California  ...       Technology       Phones   \n",
       "2014-06-09  California  ...  Office Supplies      Binders   \n",
       "2014-06-09  California  ...  Office Supplies   Appliances   \n",
       "\n",
       "                                                 Product Name     Sales  \\\n",
       "Order Date                                                                \n",
       "2016-11-08                  Bush Somerset Collection Bookcase  261.9600   \n",
       "2016-11-08  Hon Deluxe Fabric Upholstered Stacking Chairs,...  731.9400   \n",
       "2016-06-12  Self-Adhesive Address Labels for Typewriters b...   14.6200   \n",
       "2015-10-11      Bretford CR4500 Series Slim Rectangular Table  957.5775   \n",
       "2015-10-11                     Eldon Fold 'N Roll Cart System   22.3680   \n",
       "2014-06-09  Eldon Expressions Wood and Plastic Desk Access...   48.8600   \n",
       "2014-06-09                                         Newell 322    7.2800   \n",
       "2014-06-09                     Mitel 5320 IP Phone VoIP phone  907.1520   \n",
       "2014-06-09  DXL Angle-View Binders with Locking Rings by S...   18.5040   \n",
       "2014-06-09                   Belkin F5C206VTEL 6 Outlet Surge  114.9000   \n",
       "\n",
       "           Quantity Discount    Profit  Order month  Order year  \\\n",
       "Order Date                                                        \n",
       "2016-11-08        2     0.00   41.9136           11        2016   \n",
       "2016-11-08        3     0.00  219.5820           11        2016   \n",
       "2016-06-12        2     0.00    6.8714            6        2016   \n",
       "2015-10-11        5     0.45 -383.0310           10        2015   \n",
       "2015-10-11        2     0.20    2.5164           10        2015   \n",
       "2014-06-09        7     0.00   14.1694            6        2014   \n",
       "2014-06-09        4     0.00    1.9656            6        2014   \n",
       "2014-06-09        6     0.20   90.7152            6        2014   \n",
       "2014-06-09        3     0.20    5.7825            6        2014   \n",
       "2014-06-09        5     0.00   34.4700            6        2014   \n",
       "\n",
       "            Order Day of Week  \n",
       "Order Date                     \n",
       "2016-11-08                  1  \n",
       "2016-11-08                  1  \n",
       "2016-06-12                  6  \n",
       "2015-10-11                  6  \n",
       "2015-10-11                  6  \n",
       "2014-06-09                  0  \n",
       "2014-06-09                  0  \n",
       "2014-06-09                  0  \n",
       "2014-06-09                  0  \n",
       "2014-06-09                  0  \n",
       "\n",
       "[10 rows x 23 columns]"
      ]
     },
     "execution_count": 32,
     "metadata": {},
     "output_type": "execute_result"
    }
   ],
   "source": [
    "data.head(10)"
   ]
  },
  {
   "cell_type": "code",
   "execution_count": 33,
   "metadata": {},
   "outputs": [],
   "source": [
    "sales_by_subcategory = data.groupby('Sub-Category')['Sales'].sum().reset_index()"
   ]
  },
  {
   "cell_type": "code",
   "execution_count": 34,
   "metadata": {},
   "outputs": [
    {
     "data": {
      "application/vnd.microsoft.datawrangler.viewer.v0+json": {
       "columns": [
        {
         "name": "index",
         "rawType": "int64",
         "type": "integer"
        },
        {
         "name": "Sub-Category",
         "rawType": "object",
         "type": "string"
        },
        {
         "name": "Sales",
         "rawType": "float64",
         "type": "float"
        }
       ],
       "ref": "e83a6045-6c9f-497b-bf09-1bd201860264",
       "rows": [
        [
         "0",
         "Accessories",
         "167380.318"
        ],
        [
         "1",
         "Appliances",
         "107532.16100000001"
        ],
        [
         "2",
         "Art",
         "27118.792"
        ],
        [
         "3",
         "Binders",
         "203412.733"
        ],
        [
         "4",
         "Bookcases",
         "114879.9963"
        ],
        [
         "5",
         "Chairs",
         "328449.103"
        ],
        [
         "6",
         "Copiers",
         "149528.03"
        ],
        [
         "7",
         "Envelopes",
         "16476.402"
        ],
        [
         "8",
         "Fasteners",
         "3024.28"
        ],
        [
         "9",
         "Furnishings",
         "91705.164"
        ],
        [
         "10",
         "Labels",
         "12486.312"
        ],
        [
         "11",
         "Machines",
         "189238.631"
        ],
        [
         "12",
         "Paper",
         "78479.206"
        ],
        [
         "13",
         "Phones",
         "330007.054"
        ],
        [
         "14",
         "Storage",
         "223843.608"
        ],
        [
         "15",
         "Supplies",
         "46673.538"
        ],
        [
         "16",
         "Tables",
         "206965.532"
        ]
       ],
       "shape": {
        "columns": 2,
        "rows": 17
       }
      },
      "text/html": [
       "<div>\n",
       "<style scoped>\n",
       "    .dataframe tbody tr th:only-of-type {\n",
       "        vertical-align: middle;\n",
       "    }\n",
       "\n",
       "    .dataframe tbody tr th {\n",
       "        vertical-align: top;\n",
       "    }\n",
       "\n",
       "    .dataframe thead th {\n",
       "        text-align: right;\n",
       "    }\n",
       "</style>\n",
       "<table border=\"1\" class=\"dataframe\">\n",
       "  <thead>\n",
       "    <tr style=\"text-align: right;\">\n",
       "      <th></th>\n",
       "      <th>Sub-Category</th>\n",
       "      <th>Sales</th>\n",
       "    </tr>\n",
       "  </thead>\n",
       "  <tbody>\n",
       "    <tr>\n",
       "      <th>0</th>\n",
       "      <td>Accessories</td>\n",
       "      <td>167380.3180</td>\n",
       "    </tr>\n",
       "    <tr>\n",
       "      <th>1</th>\n",
       "      <td>Appliances</td>\n",
       "      <td>107532.1610</td>\n",
       "    </tr>\n",
       "    <tr>\n",
       "      <th>2</th>\n",
       "      <td>Art</td>\n",
       "      <td>27118.7920</td>\n",
       "    </tr>\n",
       "    <tr>\n",
       "      <th>3</th>\n",
       "      <td>Binders</td>\n",
       "      <td>203412.7330</td>\n",
       "    </tr>\n",
       "    <tr>\n",
       "      <th>4</th>\n",
       "      <td>Bookcases</td>\n",
       "      <td>114879.9963</td>\n",
       "    </tr>\n",
       "    <tr>\n",
       "      <th>5</th>\n",
       "      <td>Chairs</td>\n",
       "      <td>328449.1030</td>\n",
       "    </tr>\n",
       "    <tr>\n",
       "      <th>6</th>\n",
       "      <td>Copiers</td>\n",
       "      <td>149528.0300</td>\n",
       "    </tr>\n",
       "    <tr>\n",
       "      <th>7</th>\n",
       "      <td>Envelopes</td>\n",
       "      <td>16476.4020</td>\n",
       "    </tr>\n",
       "    <tr>\n",
       "      <th>8</th>\n",
       "      <td>Fasteners</td>\n",
       "      <td>3024.2800</td>\n",
       "    </tr>\n",
       "    <tr>\n",
       "      <th>9</th>\n",
       "      <td>Furnishings</td>\n",
       "      <td>91705.1640</td>\n",
       "    </tr>\n",
       "    <tr>\n",
       "      <th>10</th>\n",
       "      <td>Labels</td>\n",
       "      <td>12486.3120</td>\n",
       "    </tr>\n",
       "    <tr>\n",
       "      <th>11</th>\n",
       "      <td>Machines</td>\n",
       "      <td>189238.6310</td>\n",
       "    </tr>\n",
       "    <tr>\n",
       "      <th>12</th>\n",
       "      <td>Paper</td>\n",
       "      <td>78479.2060</td>\n",
       "    </tr>\n",
       "    <tr>\n",
       "      <th>13</th>\n",
       "      <td>Phones</td>\n",
       "      <td>330007.0540</td>\n",
       "    </tr>\n",
       "    <tr>\n",
       "      <th>14</th>\n",
       "      <td>Storage</td>\n",
       "      <td>223843.6080</td>\n",
       "    </tr>\n",
       "    <tr>\n",
       "      <th>15</th>\n",
       "      <td>Supplies</td>\n",
       "      <td>46673.5380</td>\n",
       "    </tr>\n",
       "    <tr>\n",
       "      <th>16</th>\n",
       "      <td>Tables</td>\n",
       "      <td>206965.5320</td>\n",
       "    </tr>\n",
       "  </tbody>\n",
       "</table>\n",
       "</div>"
      ],
      "text/plain": [
       "   Sub-Category        Sales\n",
       "0   Accessories  167380.3180\n",
       "1    Appliances  107532.1610\n",
       "2           Art   27118.7920\n",
       "3       Binders  203412.7330\n",
       "4     Bookcases  114879.9963\n",
       "5        Chairs  328449.1030\n",
       "6       Copiers  149528.0300\n",
       "7     Envelopes   16476.4020\n",
       "8     Fasteners    3024.2800\n",
       "9   Furnishings   91705.1640\n",
       "10       Labels   12486.3120\n",
       "11     Machines  189238.6310\n",
       "12        Paper   78479.2060\n",
       "13       Phones  330007.0540\n",
       "14      Storage  223843.6080\n",
       "15     Supplies   46673.5380\n",
       "16       Tables  206965.5320"
      ]
     },
     "execution_count": 34,
     "metadata": {},
     "output_type": "execute_result"
    }
   ],
   "source": [
    "sales_by_subcategory"
   ]
  },
  {
   "cell_type": "code",
   "execution_count": 35,
   "metadata": {},
   "outputs": [
    {
     "data": {
      "application/vnd.plotly.v1+json": {
       "config": {
        "plotlyServerURL": "https://plot.ly"
       },
       "data": [
        {
         "alignmentgroup": "True",
         "hovertemplate": "Sub-Category=%{x}<br>Sales=%{y}<extra></extra>",
         "legendgroup": "",
         "marker": {
          "color": "#636efa",
          "pattern": {
           "shape": ""
          }
         },
         "name": "",
         "offsetgroup": "",
         "orientation": "v",
         "showlegend": false,
         "textposition": "auto",
         "type": "bar",
         "x": [
          "Accessories",
          "Appliances",
          "Art",
          "Binders",
          "Bookcases",
          "Chairs",
          "Copiers",
          "Envelopes",
          "Fasteners",
          "Furnishings",
          "Labels",
          "Machines",
          "Paper",
          "Phones",
          "Storage",
          "Supplies",
          "Tables"
         ],
         "xaxis": "x",
         "y": [
          167380.318,
          107532.16100000001,
          27118.792,
          203412.733,
          114879.9963,
          328449.103,
          149528.03,
          16476.402,
          3024.28,
          91705.164,
          12486.312,
          189238.631,
          78479.206,
          330007.054,
          223843.608,
          46673.538,
          206965.532
         ],
         "yaxis": "y"
        }
       ],
       "layout": {
        "barmode": "relative",
        "legend": {
         "tracegroupgap": 0
        },
        "template": {
         "data": {
          "bar": [
           {
            "error_x": {
             "color": "#2a3f5f"
            },
            "error_y": {
             "color": "#2a3f5f"
            },
            "marker": {
             "line": {
              "color": "white",
              "width": 0.5
             },
             "pattern": {
              "fillmode": "overlay",
              "size": 10,
              "solidity": 0.2
             }
            },
            "type": "bar"
           }
          ],
          "barpolar": [
           {
            "marker": {
             "line": {
              "color": "white",
              "width": 0.5
             },
             "pattern": {
              "fillmode": "overlay",
              "size": 10,
              "solidity": 0.2
             }
            },
            "type": "barpolar"
           }
          ],
          "carpet": [
           {
            "aaxis": {
             "endlinecolor": "#2a3f5f",
             "gridcolor": "#C8D4E3",
             "linecolor": "#C8D4E3",
             "minorgridcolor": "#C8D4E3",
             "startlinecolor": "#2a3f5f"
            },
            "baxis": {
             "endlinecolor": "#2a3f5f",
             "gridcolor": "#C8D4E3",
             "linecolor": "#C8D4E3",
             "minorgridcolor": "#C8D4E3",
             "startlinecolor": "#2a3f5f"
            },
            "type": "carpet"
           }
          ],
          "choropleth": [
           {
            "colorbar": {
             "outlinewidth": 0,
             "ticks": ""
            },
            "type": "choropleth"
           }
          ],
          "contour": [
           {
            "colorbar": {
             "outlinewidth": 0,
             "ticks": ""
            },
            "colorscale": [
             [
              0,
              "#0d0887"
             ],
             [
              0.1111111111111111,
              "#46039f"
             ],
             [
              0.2222222222222222,
              "#7201a8"
             ],
             [
              0.3333333333333333,
              "#9c179e"
             ],
             [
              0.4444444444444444,
              "#bd3786"
             ],
             [
              0.5555555555555556,
              "#d8576b"
             ],
             [
              0.6666666666666666,
              "#ed7953"
             ],
             [
              0.7777777777777778,
              "#fb9f3a"
             ],
             [
              0.8888888888888888,
              "#fdca26"
             ],
             [
              1,
              "#f0f921"
             ]
            ],
            "type": "contour"
           }
          ],
          "contourcarpet": [
           {
            "colorbar": {
             "outlinewidth": 0,
             "ticks": ""
            },
            "type": "contourcarpet"
           }
          ],
          "heatmap": [
           {
            "colorbar": {
             "outlinewidth": 0,
             "ticks": ""
            },
            "colorscale": [
             [
              0,
              "#0d0887"
             ],
             [
              0.1111111111111111,
              "#46039f"
             ],
             [
              0.2222222222222222,
              "#7201a8"
             ],
             [
              0.3333333333333333,
              "#9c179e"
             ],
             [
              0.4444444444444444,
              "#bd3786"
             ],
             [
              0.5555555555555556,
              "#d8576b"
             ],
             [
              0.6666666666666666,
              "#ed7953"
             ],
             [
              0.7777777777777778,
              "#fb9f3a"
             ],
             [
              0.8888888888888888,
              "#fdca26"
             ],
             [
              1,
              "#f0f921"
             ]
            ],
            "type": "heatmap"
           }
          ],
          "heatmapgl": [
           {
            "colorbar": {
             "outlinewidth": 0,
             "ticks": ""
            },
            "colorscale": [
             [
              0,
              "#0d0887"
             ],
             [
              0.1111111111111111,
              "#46039f"
             ],
             [
              0.2222222222222222,
              "#7201a8"
             ],
             [
              0.3333333333333333,
              "#9c179e"
             ],
             [
              0.4444444444444444,
              "#bd3786"
             ],
             [
              0.5555555555555556,
              "#d8576b"
             ],
             [
              0.6666666666666666,
              "#ed7953"
             ],
             [
              0.7777777777777778,
              "#fb9f3a"
             ],
             [
              0.8888888888888888,
              "#fdca26"
             ],
             [
              1,
              "#f0f921"
             ]
            ],
            "type": "heatmapgl"
           }
          ],
          "histogram": [
           {
            "marker": {
             "pattern": {
              "fillmode": "overlay",
              "size": 10,
              "solidity": 0.2
             }
            },
            "type": "histogram"
           }
          ],
          "histogram2d": [
           {
            "colorbar": {
             "outlinewidth": 0,
             "ticks": ""
            },
            "colorscale": [
             [
              0,
              "#0d0887"
             ],
             [
              0.1111111111111111,
              "#46039f"
             ],
             [
              0.2222222222222222,
              "#7201a8"
             ],
             [
              0.3333333333333333,
              "#9c179e"
             ],
             [
              0.4444444444444444,
              "#bd3786"
             ],
             [
              0.5555555555555556,
              "#d8576b"
             ],
             [
              0.6666666666666666,
              "#ed7953"
             ],
             [
              0.7777777777777778,
              "#fb9f3a"
             ],
             [
              0.8888888888888888,
              "#fdca26"
             ],
             [
              1,
              "#f0f921"
             ]
            ],
            "type": "histogram2d"
           }
          ],
          "histogram2dcontour": [
           {
            "colorbar": {
             "outlinewidth": 0,
             "ticks": ""
            },
            "colorscale": [
             [
              0,
              "#0d0887"
             ],
             [
              0.1111111111111111,
              "#46039f"
             ],
             [
              0.2222222222222222,
              "#7201a8"
             ],
             [
              0.3333333333333333,
              "#9c179e"
             ],
             [
              0.4444444444444444,
              "#bd3786"
             ],
             [
              0.5555555555555556,
              "#d8576b"
             ],
             [
              0.6666666666666666,
              "#ed7953"
             ],
             [
              0.7777777777777778,
              "#fb9f3a"
             ],
             [
              0.8888888888888888,
              "#fdca26"
             ],
             [
              1,
              "#f0f921"
             ]
            ],
            "type": "histogram2dcontour"
           }
          ],
          "mesh3d": [
           {
            "colorbar": {
             "outlinewidth": 0,
             "ticks": ""
            },
            "type": "mesh3d"
           }
          ],
          "parcoords": [
           {
            "line": {
             "colorbar": {
              "outlinewidth": 0,
              "ticks": ""
             }
            },
            "type": "parcoords"
           }
          ],
          "pie": [
           {
            "automargin": true,
            "type": "pie"
           }
          ],
          "scatter": [
           {
            "fillpattern": {
             "fillmode": "overlay",
             "size": 10,
             "solidity": 0.2
            },
            "type": "scatter"
           }
          ],
          "scatter3d": [
           {
            "line": {
             "colorbar": {
              "outlinewidth": 0,
              "ticks": ""
             }
            },
            "marker": {
             "colorbar": {
              "outlinewidth": 0,
              "ticks": ""
             }
            },
            "type": "scatter3d"
           }
          ],
          "scattercarpet": [
           {
            "marker": {
             "colorbar": {
              "outlinewidth": 0,
              "ticks": ""
             }
            },
            "type": "scattercarpet"
           }
          ],
          "scattergeo": [
           {
            "marker": {
             "colorbar": {
              "outlinewidth": 0,
              "ticks": ""
             }
            },
            "type": "scattergeo"
           }
          ],
          "scattergl": [
           {
            "marker": {
             "colorbar": {
              "outlinewidth": 0,
              "ticks": ""
             }
            },
            "type": "scattergl"
           }
          ],
          "scattermapbox": [
           {
            "marker": {
             "colorbar": {
              "outlinewidth": 0,
              "ticks": ""
             }
            },
            "type": "scattermapbox"
           }
          ],
          "scatterpolar": [
           {
            "marker": {
             "colorbar": {
              "outlinewidth": 0,
              "ticks": ""
             }
            },
            "type": "scatterpolar"
           }
          ],
          "scatterpolargl": [
           {
            "marker": {
             "colorbar": {
              "outlinewidth": 0,
              "ticks": ""
             }
            },
            "type": "scatterpolargl"
           }
          ],
          "scatterternary": [
           {
            "marker": {
             "colorbar": {
              "outlinewidth": 0,
              "ticks": ""
             }
            },
            "type": "scatterternary"
           }
          ],
          "surface": [
           {
            "colorbar": {
             "outlinewidth": 0,
             "ticks": ""
            },
            "colorscale": [
             [
              0,
              "#0d0887"
             ],
             [
              0.1111111111111111,
              "#46039f"
             ],
             [
              0.2222222222222222,
              "#7201a8"
             ],
             [
              0.3333333333333333,
              "#9c179e"
             ],
             [
              0.4444444444444444,
              "#bd3786"
             ],
             [
              0.5555555555555556,
              "#d8576b"
             ],
             [
              0.6666666666666666,
              "#ed7953"
             ],
             [
              0.7777777777777778,
              "#fb9f3a"
             ],
             [
              0.8888888888888888,
              "#fdca26"
             ],
             [
              1,
              "#f0f921"
             ]
            ],
            "type": "surface"
           }
          ],
          "table": [
           {
            "cells": {
             "fill": {
              "color": "#EBF0F8"
             },
             "line": {
              "color": "white"
             }
            },
            "header": {
             "fill": {
              "color": "#C8D4E3"
             },
             "line": {
              "color": "white"
             }
            },
            "type": "table"
           }
          ]
         },
         "layout": {
          "annotationdefaults": {
           "arrowcolor": "#2a3f5f",
           "arrowhead": 0,
           "arrowwidth": 1
          },
          "autotypenumbers": "strict",
          "coloraxis": {
           "colorbar": {
            "outlinewidth": 0,
            "ticks": ""
           }
          },
          "colorscale": {
           "diverging": [
            [
             0,
             "#8e0152"
            ],
            [
             0.1,
             "#c51b7d"
            ],
            [
             0.2,
             "#de77ae"
            ],
            [
             0.3,
             "#f1b6da"
            ],
            [
             0.4,
             "#fde0ef"
            ],
            [
             0.5,
             "#f7f7f7"
            ],
            [
             0.6,
             "#e6f5d0"
            ],
            [
             0.7,
             "#b8e186"
            ],
            [
             0.8,
             "#7fbc41"
            ],
            [
             0.9,
             "#4d9221"
            ],
            [
             1,
             "#276419"
            ]
           ],
           "sequential": [
            [
             0,
             "#0d0887"
            ],
            [
             0.1111111111111111,
             "#46039f"
            ],
            [
             0.2222222222222222,
             "#7201a8"
            ],
            [
             0.3333333333333333,
             "#9c179e"
            ],
            [
             0.4444444444444444,
             "#bd3786"
            ],
            [
             0.5555555555555556,
             "#d8576b"
            ],
            [
             0.6666666666666666,
             "#ed7953"
            ],
            [
             0.7777777777777778,
             "#fb9f3a"
            ],
            [
             0.8888888888888888,
             "#fdca26"
            ],
            [
             1,
             "#f0f921"
            ]
           ],
           "sequentialminus": [
            [
             0,
             "#0d0887"
            ],
            [
             0.1111111111111111,
             "#46039f"
            ],
            [
             0.2222222222222222,
             "#7201a8"
            ],
            [
             0.3333333333333333,
             "#9c179e"
            ],
            [
             0.4444444444444444,
             "#bd3786"
            ],
            [
             0.5555555555555556,
             "#d8576b"
            ],
            [
             0.6666666666666666,
             "#ed7953"
            ],
            [
             0.7777777777777778,
             "#fb9f3a"
            ],
            [
             0.8888888888888888,
             "#fdca26"
            ],
            [
             1,
             "#f0f921"
            ]
           ]
          },
          "colorway": [
           "#636efa",
           "#EF553B",
           "#00cc96",
           "#ab63fa",
           "#FFA15A",
           "#19d3f3",
           "#FF6692",
           "#B6E880",
           "#FF97FF",
           "#FECB52"
          ],
          "font": {
           "color": "#2a3f5f"
          },
          "geo": {
           "bgcolor": "white",
           "lakecolor": "white",
           "landcolor": "white",
           "showlakes": true,
           "showland": true,
           "subunitcolor": "#C8D4E3"
          },
          "hoverlabel": {
           "align": "left"
          },
          "hovermode": "closest",
          "mapbox": {
           "style": "light"
          },
          "paper_bgcolor": "white",
          "plot_bgcolor": "white",
          "polar": {
           "angularaxis": {
            "gridcolor": "#EBF0F8",
            "linecolor": "#EBF0F8",
            "ticks": ""
           },
           "bgcolor": "white",
           "radialaxis": {
            "gridcolor": "#EBF0F8",
            "linecolor": "#EBF0F8",
            "ticks": ""
           }
          },
          "scene": {
           "xaxis": {
            "backgroundcolor": "white",
            "gridcolor": "#DFE8F3",
            "gridwidth": 2,
            "linecolor": "#EBF0F8",
            "showbackground": true,
            "ticks": "",
            "zerolinecolor": "#EBF0F8"
           },
           "yaxis": {
            "backgroundcolor": "white",
            "gridcolor": "#DFE8F3",
            "gridwidth": 2,
            "linecolor": "#EBF0F8",
            "showbackground": true,
            "ticks": "",
            "zerolinecolor": "#EBF0F8"
           },
           "zaxis": {
            "backgroundcolor": "white",
            "gridcolor": "#DFE8F3",
            "gridwidth": 2,
            "linecolor": "#EBF0F8",
            "showbackground": true,
            "ticks": "",
            "zerolinecolor": "#EBF0F8"
           }
          },
          "shapedefaults": {
           "line": {
            "color": "#2a3f5f"
           }
          },
          "ternary": {
           "aaxis": {
            "gridcolor": "#DFE8F3",
            "linecolor": "#A2B1C6",
            "ticks": ""
           },
           "baxis": {
            "gridcolor": "#DFE8F3",
            "linecolor": "#A2B1C6",
            "ticks": ""
           },
           "bgcolor": "white",
           "caxis": {
            "gridcolor": "#DFE8F3",
            "linecolor": "#A2B1C6",
            "ticks": ""
           }
          },
          "title": {
           "x": 0.05
          },
          "xaxis": {
           "automargin": true,
           "gridcolor": "#EBF0F8",
           "linecolor": "#EBF0F8",
           "ticks": "",
           "title": {
            "standoff": 15
           },
           "zerolinecolor": "#EBF0F8",
           "zerolinewidth": 2
          },
          "yaxis": {
           "automargin": true,
           "gridcolor": "#EBF0F8",
           "linecolor": "#EBF0F8",
           "ticks": "",
           "title": {
            "standoff": 15
           },
           "zerolinecolor": "#EBF0F8",
           "zerolinewidth": 2
          }
         }
        },
        "title": {
         "text": "Sales analysis by Sub Category"
        },
        "xaxis": {
         "anchor": "y",
         "domain": [
          0,
          1
         ],
         "title": {
          "text": "Sub-Category"
         }
        },
        "yaxis": {
         "anchor": "x",
         "domain": [
          0,
          1
         ],
         "title": {
          "text": "Sales"
         }
        }
       }
      }
     },
     "metadata": {},
     "output_type": "display_data"
    }
   ],
   "source": [
    "fig = px.bar(sales_by_subcategory, x= 'Sub-Category', y = 'Sales', title =\"Sales analysis by Sub Category\")\n",
    "\n",
    "fig.show()\n"
   ]
  },
  {
   "cell_type": "markdown",
   "metadata": {},
   "source": [
    "Monthly profit analysis:--"
   ]
  },
  {
   "cell_type": "code",
   "execution_count": 36,
   "metadata": {},
   "outputs": [
    {
     "data": {
      "application/vnd.microsoft.datawrangler.viewer.v0+json": {
       "columns": [
        {
         "name": "Order Date",
         "rawType": "datetime64[ns]",
         "type": "datetime"
        },
        {
         "name": "Row ID",
         "rawType": "int64",
         "type": "integer"
        },
        {
         "name": "Order ID",
         "rawType": "object",
         "type": "string"
        },
        {
         "name": "Ship Date",
         "rawType": "datetime64[ns]",
         "type": "datetime"
        },
        {
         "name": "Ship Mode",
         "rawType": "object",
         "type": "string"
        },
        {
         "name": "Customer ID",
         "rawType": "object",
         "type": "string"
        },
        {
         "name": "Customer Name",
         "rawType": "object",
         "type": "string"
        },
        {
         "name": "Segment",
         "rawType": "object",
         "type": "string"
        },
        {
         "name": "Country",
         "rawType": "object",
         "type": "string"
        },
        {
         "name": "City",
         "rawType": "object",
         "type": "string"
        },
        {
         "name": "State",
         "rawType": "object",
         "type": "string"
        },
        {
         "name": "Postal Code",
         "rawType": "int64",
         "type": "integer"
        },
        {
         "name": "Region",
         "rawType": "object",
         "type": "string"
        },
        {
         "name": "Product ID",
         "rawType": "object",
         "type": "string"
        },
        {
         "name": "Category",
         "rawType": "object",
         "type": "string"
        },
        {
         "name": "Sub-Category",
         "rawType": "object",
         "type": "string"
        },
        {
         "name": "Product Name",
         "rawType": "object",
         "type": "string"
        },
        {
         "name": "Sales",
         "rawType": "float64",
         "type": "float"
        },
        {
         "name": "Quantity",
         "rawType": "int64",
         "type": "integer"
        },
        {
         "name": "Discount",
         "rawType": "float64",
         "type": "float"
        },
        {
         "name": "Profit",
         "rawType": "float64",
         "type": "float"
        },
        {
         "name": "Order month",
         "rawType": "int32",
         "type": "integer"
        },
        {
         "name": "Order year",
         "rawType": "int32",
         "type": "integer"
        },
        {
         "name": "Order Day of Week",
         "rawType": "int32",
         "type": "integer"
        }
       ],
       "ref": "d494d856-e99d-41b4-856f-f5b1065ae3b1",
       "rows": [
        [
         "2016-11-08 00:00:00",
         "1",
         "CA-2016-152156",
         "2016-11-11 00:00:00",
         "Second Class",
         "CG-12520",
         "Claire Gute",
         "Consumer",
         "United States",
         "Henderson",
         "Kentucky",
         "42420",
         "South",
         "FUR-BO-10001798",
         "Furniture",
         "Bookcases",
         "Bush Somerset Collection Bookcase",
         "261.96",
         "2",
         "0.0",
         "41.9136",
         "11",
         "2016",
         "1"
        ],
        [
         "2016-11-08 00:00:00",
         "2",
         "CA-2016-152156",
         "2016-11-11 00:00:00",
         "Second Class",
         "CG-12520",
         "Claire Gute",
         "Consumer",
         "United States",
         "Henderson",
         "Kentucky",
         "42420",
         "South",
         "FUR-CH-10000454",
         "Furniture",
         "Chairs",
         "Hon Deluxe Fabric Upholstered Stacking Chairs, Rounded Back",
         "731.94",
         "3",
         "0.0",
         "219.582",
         "11",
         "2016",
         "1"
        ],
        [
         "2016-06-12 00:00:00",
         "3",
         "CA-2016-138688",
         "2016-06-16 00:00:00",
         "Second Class",
         "DV-13045",
         "Darrin Van Huff",
         "Corporate",
         "United States",
         "Los Angeles",
         "California",
         "90036",
         "West",
         "OFF-LA-10000240",
         "Office Supplies",
         "Labels",
         "Self-Adhesive Address Labels for Typewriters by Universal",
         "14.62",
         "2",
         "0.0",
         "6.8714",
         "6",
         "2016",
         "6"
        ],
        [
         "2015-10-11 00:00:00",
         "4",
         "US-2015-108966",
         "2015-10-18 00:00:00",
         "Standard Class",
         "SO-20335",
         "Sean O'Donnell",
         "Consumer",
         "United States",
         "Fort Lauderdale",
         "Florida",
         "33311",
         "South",
         "FUR-TA-10000577",
         "Furniture",
         "Tables",
         "Bretford CR4500 Series Slim Rectangular Table",
         "957.5775",
         "5",
         "0.45",
         "-383.031",
         "10",
         "2015",
         "6"
        ],
        [
         "2015-10-11 00:00:00",
         "5",
         "US-2015-108966",
         "2015-10-18 00:00:00",
         "Standard Class",
         "SO-20335",
         "Sean O'Donnell",
         "Consumer",
         "United States",
         "Fort Lauderdale",
         "Florida",
         "33311",
         "South",
         "OFF-ST-10000760",
         "Office Supplies",
         "Storage",
         "Eldon Fold 'N Roll Cart System",
         "22.368",
         "2",
         "0.2",
         "2.5164",
         "10",
         "2015",
         "6"
        ]
       ],
       "shape": {
        "columns": 23,
        "rows": 5
       }
      },
      "text/html": [
       "<div>\n",
       "<style scoped>\n",
       "    .dataframe tbody tr th:only-of-type {\n",
       "        vertical-align: middle;\n",
       "    }\n",
       "\n",
       "    .dataframe tbody tr th {\n",
       "        vertical-align: top;\n",
       "    }\n",
       "\n",
       "    .dataframe thead th {\n",
       "        text-align: right;\n",
       "    }\n",
       "</style>\n",
       "<table border=\"1\" class=\"dataframe\">\n",
       "  <thead>\n",
       "    <tr style=\"text-align: right;\">\n",
       "      <th></th>\n",
       "      <th>Row ID</th>\n",
       "      <th>Order ID</th>\n",
       "      <th>Ship Date</th>\n",
       "      <th>Ship Mode</th>\n",
       "      <th>Customer ID</th>\n",
       "      <th>Customer Name</th>\n",
       "      <th>Segment</th>\n",
       "      <th>Country</th>\n",
       "      <th>City</th>\n",
       "      <th>State</th>\n",
       "      <th>...</th>\n",
       "      <th>Category</th>\n",
       "      <th>Sub-Category</th>\n",
       "      <th>Product Name</th>\n",
       "      <th>Sales</th>\n",
       "      <th>Quantity</th>\n",
       "      <th>Discount</th>\n",
       "      <th>Profit</th>\n",
       "      <th>Order month</th>\n",
       "      <th>Order year</th>\n",
       "      <th>Order Day of Week</th>\n",
       "    </tr>\n",
       "    <tr>\n",
       "      <th>Order Date</th>\n",
       "      <th></th>\n",
       "      <th></th>\n",
       "      <th></th>\n",
       "      <th></th>\n",
       "      <th></th>\n",
       "      <th></th>\n",
       "      <th></th>\n",
       "      <th></th>\n",
       "      <th></th>\n",
       "      <th></th>\n",
       "      <th></th>\n",
       "      <th></th>\n",
       "      <th></th>\n",
       "      <th></th>\n",
       "      <th></th>\n",
       "      <th></th>\n",
       "      <th></th>\n",
       "      <th></th>\n",
       "      <th></th>\n",
       "      <th></th>\n",
       "      <th></th>\n",
       "    </tr>\n",
       "  </thead>\n",
       "  <tbody>\n",
       "    <tr>\n",
       "      <th>2016-11-08</th>\n",
       "      <td>1</td>\n",
       "      <td>CA-2016-152156</td>\n",
       "      <td>2016-11-11</td>\n",
       "      <td>Second Class</td>\n",
       "      <td>CG-12520</td>\n",
       "      <td>Claire Gute</td>\n",
       "      <td>Consumer</td>\n",
       "      <td>United States</td>\n",
       "      <td>Henderson</td>\n",
       "      <td>Kentucky</td>\n",
       "      <td>...</td>\n",
       "      <td>Furniture</td>\n",
       "      <td>Bookcases</td>\n",
       "      <td>Bush Somerset Collection Bookcase</td>\n",
       "      <td>261.9600</td>\n",
       "      <td>2</td>\n",
       "      <td>0.00</td>\n",
       "      <td>41.9136</td>\n",
       "      <td>11</td>\n",
       "      <td>2016</td>\n",
       "      <td>1</td>\n",
       "    </tr>\n",
       "    <tr>\n",
       "      <th>2016-11-08</th>\n",
       "      <td>2</td>\n",
       "      <td>CA-2016-152156</td>\n",
       "      <td>2016-11-11</td>\n",
       "      <td>Second Class</td>\n",
       "      <td>CG-12520</td>\n",
       "      <td>Claire Gute</td>\n",
       "      <td>Consumer</td>\n",
       "      <td>United States</td>\n",
       "      <td>Henderson</td>\n",
       "      <td>Kentucky</td>\n",
       "      <td>...</td>\n",
       "      <td>Furniture</td>\n",
       "      <td>Chairs</td>\n",
       "      <td>Hon Deluxe Fabric Upholstered Stacking Chairs,...</td>\n",
       "      <td>731.9400</td>\n",
       "      <td>3</td>\n",
       "      <td>0.00</td>\n",
       "      <td>219.5820</td>\n",
       "      <td>11</td>\n",
       "      <td>2016</td>\n",
       "      <td>1</td>\n",
       "    </tr>\n",
       "    <tr>\n",
       "      <th>2016-06-12</th>\n",
       "      <td>3</td>\n",
       "      <td>CA-2016-138688</td>\n",
       "      <td>2016-06-16</td>\n",
       "      <td>Second Class</td>\n",
       "      <td>DV-13045</td>\n",
       "      <td>Darrin Van Huff</td>\n",
       "      <td>Corporate</td>\n",
       "      <td>United States</td>\n",
       "      <td>Los Angeles</td>\n",
       "      <td>California</td>\n",
       "      <td>...</td>\n",
       "      <td>Office Supplies</td>\n",
       "      <td>Labels</td>\n",
       "      <td>Self-Adhesive Address Labels for Typewriters b...</td>\n",
       "      <td>14.6200</td>\n",
       "      <td>2</td>\n",
       "      <td>0.00</td>\n",
       "      <td>6.8714</td>\n",
       "      <td>6</td>\n",
       "      <td>2016</td>\n",
       "      <td>6</td>\n",
       "    </tr>\n",
       "    <tr>\n",
       "      <th>2015-10-11</th>\n",
       "      <td>4</td>\n",
       "      <td>US-2015-108966</td>\n",
       "      <td>2015-10-18</td>\n",
       "      <td>Standard Class</td>\n",
       "      <td>SO-20335</td>\n",
       "      <td>Sean O'Donnell</td>\n",
       "      <td>Consumer</td>\n",
       "      <td>United States</td>\n",
       "      <td>Fort Lauderdale</td>\n",
       "      <td>Florida</td>\n",
       "      <td>...</td>\n",
       "      <td>Furniture</td>\n",
       "      <td>Tables</td>\n",
       "      <td>Bretford CR4500 Series Slim Rectangular Table</td>\n",
       "      <td>957.5775</td>\n",
       "      <td>5</td>\n",
       "      <td>0.45</td>\n",
       "      <td>-383.0310</td>\n",
       "      <td>10</td>\n",
       "      <td>2015</td>\n",
       "      <td>6</td>\n",
       "    </tr>\n",
       "    <tr>\n",
       "      <th>2015-10-11</th>\n",
       "      <td>5</td>\n",
       "      <td>US-2015-108966</td>\n",
       "      <td>2015-10-18</td>\n",
       "      <td>Standard Class</td>\n",
       "      <td>SO-20335</td>\n",
       "      <td>Sean O'Donnell</td>\n",
       "      <td>Consumer</td>\n",
       "      <td>United States</td>\n",
       "      <td>Fort Lauderdale</td>\n",
       "      <td>Florida</td>\n",
       "      <td>...</td>\n",
       "      <td>Office Supplies</td>\n",
       "      <td>Storage</td>\n",
       "      <td>Eldon Fold 'N Roll Cart System</td>\n",
       "      <td>22.3680</td>\n",
       "      <td>2</td>\n",
       "      <td>0.20</td>\n",
       "      <td>2.5164</td>\n",
       "      <td>10</td>\n",
       "      <td>2015</td>\n",
       "      <td>6</td>\n",
       "    </tr>\n",
       "  </tbody>\n",
       "</table>\n",
       "<p>5 rows × 23 columns</p>\n",
       "</div>"
      ],
      "text/plain": [
       "            Row ID        Order ID  Ship Date       Ship Mode Customer ID  \\\n",
       "Order Date                                                                  \n",
       "2016-11-08       1  CA-2016-152156 2016-11-11    Second Class    CG-12520   \n",
       "2016-11-08       2  CA-2016-152156 2016-11-11    Second Class    CG-12520   \n",
       "2016-06-12       3  CA-2016-138688 2016-06-16    Second Class    DV-13045   \n",
       "2015-10-11       4  US-2015-108966 2015-10-18  Standard Class    SO-20335   \n",
       "2015-10-11       5  US-2015-108966 2015-10-18  Standard Class    SO-20335   \n",
       "\n",
       "              Customer Name    Segment        Country             City  \\\n",
       "Order Date                                                               \n",
       "2016-11-08      Claire Gute   Consumer  United States        Henderson   \n",
       "2016-11-08      Claire Gute   Consumer  United States        Henderson   \n",
       "2016-06-12  Darrin Van Huff  Corporate  United States      Los Angeles   \n",
       "2015-10-11   Sean O'Donnell   Consumer  United States  Fort Lauderdale   \n",
       "2015-10-11   Sean O'Donnell   Consumer  United States  Fort Lauderdale   \n",
       "\n",
       "                 State  ...         Category Sub-Category  \\\n",
       "Order Date              ...                                 \n",
       "2016-11-08    Kentucky  ...        Furniture    Bookcases   \n",
       "2016-11-08    Kentucky  ...        Furniture       Chairs   \n",
       "2016-06-12  California  ...  Office Supplies       Labels   \n",
       "2015-10-11     Florida  ...        Furniture       Tables   \n",
       "2015-10-11     Florida  ...  Office Supplies      Storage   \n",
       "\n",
       "                                                 Product Name     Sales  \\\n",
       "Order Date                                                                \n",
       "2016-11-08                  Bush Somerset Collection Bookcase  261.9600   \n",
       "2016-11-08  Hon Deluxe Fabric Upholstered Stacking Chairs,...  731.9400   \n",
       "2016-06-12  Self-Adhesive Address Labels for Typewriters b...   14.6200   \n",
       "2015-10-11      Bretford CR4500 Series Slim Rectangular Table  957.5775   \n",
       "2015-10-11                     Eldon Fold 'N Roll Cart System   22.3680   \n",
       "\n",
       "           Quantity Discount    Profit  Order month  Order year  \\\n",
       "Order Date                                                        \n",
       "2016-11-08        2     0.00   41.9136           11        2016   \n",
       "2016-11-08        3     0.00  219.5820           11        2016   \n",
       "2016-06-12        2     0.00    6.8714            6        2016   \n",
       "2015-10-11        5     0.45 -383.0310           10        2015   \n",
       "2015-10-11        2     0.20    2.5164           10        2015   \n",
       "\n",
       "            Order Day of Week  \n",
       "Order Date                     \n",
       "2016-11-08                  1  \n",
       "2016-11-08                  1  \n",
       "2016-06-12                  6  \n",
       "2015-10-11                  6  \n",
       "2015-10-11                  6  \n",
       "\n",
       "[5 rows x 23 columns]"
      ]
     },
     "execution_count": 36,
     "metadata": {},
     "output_type": "execute_result"
    }
   ],
   "source": [
    "data.head(5)"
   ]
  },
  {
   "cell_type": "code",
   "execution_count": 37,
   "metadata": {},
   "outputs": [],
   "source": [
    "Profit_by_month = data.groupby('Order month')['Profit'].sum().reset_index()"
   ]
  },
  {
   "cell_type": "code",
   "execution_count": 38,
   "metadata": {},
   "outputs": [
    {
     "data": {
      "application/vnd.microsoft.datawrangler.viewer.v0+json": {
       "columns": [
        {
         "name": "index",
         "rawType": "int64",
         "type": "integer"
        },
        {
         "name": "Order month",
         "rawType": "int32",
         "type": "integer"
        },
        {
         "name": "Profit",
         "rawType": "float64",
         "type": "float"
        }
       ],
       "ref": "8b53508c-5446-41ce-9ac4-8b889ae4c1fc",
       "rows": [
        [
         "0",
         "1",
         "9134.4461"
        ],
        [
         "1",
         "2",
         "10294.6107"
        ],
        [
         "2",
         "3",
         "28594.6872"
        ],
        [
         "3",
         "4",
         "11587.4363"
        ],
        [
         "4",
         "5",
         "22411.3078"
        ],
        [
         "5",
         "6",
         "21285.7954"
        ],
        [
         "6",
         "7",
         "13832.6648"
        ],
        [
         "7",
         "8",
         "21776.9384"
        ],
        [
         "8",
         "9",
         "36857.4753"
        ],
        [
         "9",
         "10",
         "31784.0413"
        ],
        [
         "10",
         "11",
         "35468.4265"
        ],
        [
         "11",
         "12",
         "43369.1919"
        ]
       ],
       "shape": {
        "columns": 2,
        "rows": 12
       }
      },
      "text/html": [
       "<div>\n",
       "<style scoped>\n",
       "    .dataframe tbody tr th:only-of-type {\n",
       "        vertical-align: middle;\n",
       "    }\n",
       "\n",
       "    .dataframe tbody tr th {\n",
       "        vertical-align: top;\n",
       "    }\n",
       "\n",
       "    .dataframe thead th {\n",
       "        text-align: right;\n",
       "    }\n",
       "</style>\n",
       "<table border=\"1\" class=\"dataframe\">\n",
       "  <thead>\n",
       "    <tr style=\"text-align: right;\">\n",
       "      <th></th>\n",
       "      <th>Order month</th>\n",
       "      <th>Profit</th>\n",
       "    </tr>\n",
       "  </thead>\n",
       "  <tbody>\n",
       "    <tr>\n",
       "      <th>0</th>\n",
       "      <td>1</td>\n",
       "      <td>9134.4461</td>\n",
       "    </tr>\n",
       "    <tr>\n",
       "      <th>1</th>\n",
       "      <td>2</td>\n",
       "      <td>10294.6107</td>\n",
       "    </tr>\n",
       "    <tr>\n",
       "      <th>2</th>\n",
       "      <td>3</td>\n",
       "      <td>28594.6872</td>\n",
       "    </tr>\n",
       "    <tr>\n",
       "      <th>3</th>\n",
       "      <td>4</td>\n",
       "      <td>11587.4363</td>\n",
       "    </tr>\n",
       "    <tr>\n",
       "      <th>4</th>\n",
       "      <td>5</td>\n",
       "      <td>22411.3078</td>\n",
       "    </tr>\n",
       "    <tr>\n",
       "      <th>5</th>\n",
       "      <td>6</td>\n",
       "      <td>21285.7954</td>\n",
       "    </tr>\n",
       "    <tr>\n",
       "      <th>6</th>\n",
       "      <td>7</td>\n",
       "      <td>13832.6648</td>\n",
       "    </tr>\n",
       "    <tr>\n",
       "      <th>7</th>\n",
       "      <td>8</td>\n",
       "      <td>21776.9384</td>\n",
       "    </tr>\n",
       "    <tr>\n",
       "      <th>8</th>\n",
       "      <td>9</td>\n",
       "      <td>36857.4753</td>\n",
       "    </tr>\n",
       "    <tr>\n",
       "      <th>9</th>\n",
       "      <td>10</td>\n",
       "      <td>31784.0413</td>\n",
       "    </tr>\n",
       "    <tr>\n",
       "      <th>10</th>\n",
       "      <td>11</td>\n",
       "      <td>35468.4265</td>\n",
       "    </tr>\n",
       "    <tr>\n",
       "      <th>11</th>\n",
       "      <td>12</td>\n",
       "      <td>43369.1919</td>\n",
       "    </tr>\n",
       "  </tbody>\n",
       "</table>\n",
       "</div>"
      ],
      "text/plain": [
       "    Order month      Profit\n",
       "0             1   9134.4461\n",
       "1             2  10294.6107\n",
       "2             3  28594.6872\n",
       "3             4  11587.4363\n",
       "4             5  22411.3078\n",
       "5             6  21285.7954\n",
       "6             7  13832.6648\n",
       "7             8  21776.9384\n",
       "8             9  36857.4753\n",
       "9            10  31784.0413\n",
       "10           11  35468.4265\n",
       "11           12  43369.1919"
      ]
     },
     "execution_count": 38,
     "metadata": {},
     "output_type": "execute_result"
    }
   ],
   "source": [
    "Profit_by_month"
   ]
  },
  {
   "cell_type": "code",
   "execution_count": 39,
   "metadata": {},
   "outputs": [
    {
     "data": {
      "application/vnd.plotly.v1+json": {
       "config": {
        "plotlyServerURL": "https://plot.ly"
       },
       "data": [
        {
         "alignmentgroup": "True",
         "hovertemplate": "Order month=%{x}<br>Profit=%{y}<extra></extra>",
         "legendgroup": "",
         "marker": {
          "color": "#636efa",
          "pattern": {
           "shape": ""
          }
         },
         "name": "",
         "offsetgroup": "",
         "orientation": "v",
         "showlegend": false,
         "textposition": "auto",
         "type": "bar",
         "x": [
          1,
          2,
          3,
          4,
          5,
          6,
          7,
          8,
          9,
          10,
          11,
          12
         ],
         "xaxis": "x",
         "y": [
          9134.4461,
          10294.6107,
          28594.6872,
          11587.4363,
          22411.3078,
          21285.7954,
          13832.6648,
          21776.9384,
          36857.4753,
          31784.0413,
          35468.4265,
          43369.1919
         ],
         "yaxis": "y"
        }
       ],
       "layout": {
        "barmode": "relative",
        "legend": {
         "tracegroupgap": 0
        },
        "template": {
         "data": {
          "bar": [
           {
            "error_x": {
             "color": "#2a3f5f"
            },
            "error_y": {
             "color": "#2a3f5f"
            },
            "marker": {
             "line": {
              "color": "white",
              "width": 0.5
             },
             "pattern": {
              "fillmode": "overlay",
              "size": 10,
              "solidity": 0.2
             }
            },
            "type": "bar"
           }
          ],
          "barpolar": [
           {
            "marker": {
             "line": {
              "color": "white",
              "width": 0.5
             },
             "pattern": {
              "fillmode": "overlay",
              "size": 10,
              "solidity": 0.2
             }
            },
            "type": "barpolar"
           }
          ],
          "carpet": [
           {
            "aaxis": {
             "endlinecolor": "#2a3f5f",
             "gridcolor": "#C8D4E3",
             "linecolor": "#C8D4E3",
             "minorgridcolor": "#C8D4E3",
             "startlinecolor": "#2a3f5f"
            },
            "baxis": {
             "endlinecolor": "#2a3f5f",
             "gridcolor": "#C8D4E3",
             "linecolor": "#C8D4E3",
             "minorgridcolor": "#C8D4E3",
             "startlinecolor": "#2a3f5f"
            },
            "type": "carpet"
           }
          ],
          "choropleth": [
           {
            "colorbar": {
             "outlinewidth": 0,
             "ticks": ""
            },
            "type": "choropleth"
           }
          ],
          "contour": [
           {
            "colorbar": {
             "outlinewidth": 0,
             "ticks": ""
            },
            "colorscale": [
             [
              0,
              "#0d0887"
             ],
             [
              0.1111111111111111,
              "#46039f"
             ],
             [
              0.2222222222222222,
              "#7201a8"
             ],
             [
              0.3333333333333333,
              "#9c179e"
             ],
             [
              0.4444444444444444,
              "#bd3786"
             ],
             [
              0.5555555555555556,
              "#d8576b"
             ],
             [
              0.6666666666666666,
              "#ed7953"
             ],
             [
              0.7777777777777778,
              "#fb9f3a"
             ],
             [
              0.8888888888888888,
              "#fdca26"
             ],
             [
              1,
              "#f0f921"
             ]
            ],
            "type": "contour"
           }
          ],
          "contourcarpet": [
           {
            "colorbar": {
             "outlinewidth": 0,
             "ticks": ""
            },
            "type": "contourcarpet"
           }
          ],
          "heatmap": [
           {
            "colorbar": {
             "outlinewidth": 0,
             "ticks": ""
            },
            "colorscale": [
             [
              0,
              "#0d0887"
             ],
             [
              0.1111111111111111,
              "#46039f"
             ],
             [
              0.2222222222222222,
              "#7201a8"
             ],
             [
              0.3333333333333333,
              "#9c179e"
             ],
             [
              0.4444444444444444,
              "#bd3786"
             ],
             [
              0.5555555555555556,
              "#d8576b"
             ],
             [
              0.6666666666666666,
              "#ed7953"
             ],
             [
              0.7777777777777778,
              "#fb9f3a"
             ],
             [
              0.8888888888888888,
              "#fdca26"
             ],
             [
              1,
              "#f0f921"
             ]
            ],
            "type": "heatmap"
           }
          ],
          "heatmapgl": [
           {
            "colorbar": {
             "outlinewidth": 0,
             "ticks": ""
            },
            "colorscale": [
             [
              0,
              "#0d0887"
             ],
             [
              0.1111111111111111,
              "#46039f"
             ],
             [
              0.2222222222222222,
              "#7201a8"
             ],
             [
              0.3333333333333333,
              "#9c179e"
             ],
             [
              0.4444444444444444,
              "#bd3786"
             ],
             [
              0.5555555555555556,
              "#d8576b"
             ],
             [
              0.6666666666666666,
              "#ed7953"
             ],
             [
              0.7777777777777778,
              "#fb9f3a"
             ],
             [
              0.8888888888888888,
              "#fdca26"
             ],
             [
              1,
              "#f0f921"
             ]
            ],
            "type": "heatmapgl"
           }
          ],
          "histogram": [
           {
            "marker": {
             "pattern": {
              "fillmode": "overlay",
              "size": 10,
              "solidity": 0.2
             }
            },
            "type": "histogram"
           }
          ],
          "histogram2d": [
           {
            "colorbar": {
             "outlinewidth": 0,
             "ticks": ""
            },
            "colorscale": [
             [
              0,
              "#0d0887"
             ],
             [
              0.1111111111111111,
              "#46039f"
             ],
             [
              0.2222222222222222,
              "#7201a8"
             ],
             [
              0.3333333333333333,
              "#9c179e"
             ],
             [
              0.4444444444444444,
              "#bd3786"
             ],
             [
              0.5555555555555556,
              "#d8576b"
             ],
             [
              0.6666666666666666,
              "#ed7953"
             ],
             [
              0.7777777777777778,
              "#fb9f3a"
             ],
             [
              0.8888888888888888,
              "#fdca26"
             ],
             [
              1,
              "#f0f921"
             ]
            ],
            "type": "histogram2d"
           }
          ],
          "histogram2dcontour": [
           {
            "colorbar": {
             "outlinewidth": 0,
             "ticks": ""
            },
            "colorscale": [
             [
              0,
              "#0d0887"
             ],
             [
              0.1111111111111111,
              "#46039f"
             ],
             [
              0.2222222222222222,
              "#7201a8"
             ],
             [
              0.3333333333333333,
              "#9c179e"
             ],
             [
              0.4444444444444444,
              "#bd3786"
             ],
             [
              0.5555555555555556,
              "#d8576b"
             ],
             [
              0.6666666666666666,
              "#ed7953"
             ],
             [
              0.7777777777777778,
              "#fb9f3a"
             ],
             [
              0.8888888888888888,
              "#fdca26"
             ],
             [
              1,
              "#f0f921"
             ]
            ],
            "type": "histogram2dcontour"
           }
          ],
          "mesh3d": [
           {
            "colorbar": {
             "outlinewidth": 0,
             "ticks": ""
            },
            "type": "mesh3d"
           }
          ],
          "parcoords": [
           {
            "line": {
             "colorbar": {
              "outlinewidth": 0,
              "ticks": ""
             }
            },
            "type": "parcoords"
           }
          ],
          "pie": [
           {
            "automargin": true,
            "type": "pie"
           }
          ],
          "scatter": [
           {
            "fillpattern": {
             "fillmode": "overlay",
             "size": 10,
             "solidity": 0.2
            },
            "type": "scatter"
           }
          ],
          "scatter3d": [
           {
            "line": {
             "colorbar": {
              "outlinewidth": 0,
              "ticks": ""
             }
            },
            "marker": {
             "colorbar": {
              "outlinewidth": 0,
              "ticks": ""
             }
            },
            "type": "scatter3d"
           }
          ],
          "scattercarpet": [
           {
            "marker": {
             "colorbar": {
              "outlinewidth": 0,
              "ticks": ""
             }
            },
            "type": "scattercarpet"
           }
          ],
          "scattergeo": [
           {
            "marker": {
             "colorbar": {
              "outlinewidth": 0,
              "ticks": ""
             }
            },
            "type": "scattergeo"
           }
          ],
          "scattergl": [
           {
            "marker": {
             "colorbar": {
              "outlinewidth": 0,
              "ticks": ""
             }
            },
            "type": "scattergl"
           }
          ],
          "scattermapbox": [
           {
            "marker": {
             "colorbar": {
              "outlinewidth": 0,
              "ticks": ""
             }
            },
            "type": "scattermapbox"
           }
          ],
          "scatterpolar": [
           {
            "marker": {
             "colorbar": {
              "outlinewidth": 0,
              "ticks": ""
             }
            },
            "type": "scatterpolar"
           }
          ],
          "scatterpolargl": [
           {
            "marker": {
             "colorbar": {
              "outlinewidth": 0,
              "ticks": ""
             }
            },
            "type": "scatterpolargl"
           }
          ],
          "scatterternary": [
           {
            "marker": {
             "colorbar": {
              "outlinewidth": 0,
              "ticks": ""
             }
            },
            "type": "scatterternary"
           }
          ],
          "surface": [
           {
            "colorbar": {
             "outlinewidth": 0,
             "ticks": ""
            },
            "colorscale": [
             [
              0,
              "#0d0887"
             ],
             [
              0.1111111111111111,
              "#46039f"
             ],
             [
              0.2222222222222222,
              "#7201a8"
             ],
             [
              0.3333333333333333,
              "#9c179e"
             ],
             [
              0.4444444444444444,
              "#bd3786"
             ],
             [
              0.5555555555555556,
              "#d8576b"
             ],
             [
              0.6666666666666666,
              "#ed7953"
             ],
             [
              0.7777777777777778,
              "#fb9f3a"
             ],
             [
              0.8888888888888888,
              "#fdca26"
             ],
             [
              1,
              "#f0f921"
             ]
            ],
            "type": "surface"
           }
          ],
          "table": [
           {
            "cells": {
             "fill": {
              "color": "#EBF0F8"
             },
             "line": {
              "color": "white"
             }
            },
            "header": {
             "fill": {
              "color": "#C8D4E3"
             },
             "line": {
              "color": "white"
             }
            },
            "type": "table"
           }
          ]
         },
         "layout": {
          "annotationdefaults": {
           "arrowcolor": "#2a3f5f",
           "arrowhead": 0,
           "arrowwidth": 1
          },
          "autotypenumbers": "strict",
          "coloraxis": {
           "colorbar": {
            "outlinewidth": 0,
            "ticks": ""
           }
          },
          "colorscale": {
           "diverging": [
            [
             0,
             "#8e0152"
            ],
            [
             0.1,
             "#c51b7d"
            ],
            [
             0.2,
             "#de77ae"
            ],
            [
             0.3,
             "#f1b6da"
            ],
            [
             0.4,
             "#fde0ef"
            ],
            [
             0.5,
             "#f7f7f7"
            ],
            [
             0.6,
             "#e6f5d0"
            ],
            [
             0.7,
             "#b8e186"
            ],
            [
             0.8,
             "#7fbc41"
            ],
            [
             0.9,
             "#4d9221"
            ],
            [
             1,
             "#276419"
            ]
           ],
           "sequential": [
            [
             0,
             "#0d0887"
            ],
            [
             0.1111111111111111,
             "#46039f"
            ],
            [
             0.2222222222222222,
             "#7201a8"
            ],
            [
             0.3333333333333333,
             "#9c179e"
            ],
            [
             0.4444444444444444,
             "#bd3786"
            ],
            [
             0.5555555555555556,
             "#d8576b"
            ],
            [
             0.6666666666666666,
             "#ed7953"
            ],
            [
             0.7777777777777778,
             "#fb9f3a"
            ],
            [
             0.8888888888888888,
             "#fdca26"
            ],
            [
             1,
             "#f0f921"
            ]
           ],
           "sequentialminus": [
            [
             0,
             "#0d0887"
            ],
            [
             0.1111111111111111,
             "#46039f"
            ],
            [
             0.2222222222222222,
             "#7201a8"
            ],
            [
             0.3333333333333333,
             "#9c179e"
            ],
            [
             0.4444444444444444,
             "#bd3786"
            ],
            [
             0.5555555555555556,
             "#d8576b"
            ],
            [
             0.6666666666666666,
             "#ed7953"
            ],
            [
             0.7777777777777778,
             "#fb9f3a"
            ],
            [
             0.8888888888888888,
             "#fdca26"
            ],
            [
             1,
             "#f0f921"
            ]
           ]
          },
          "colorway": [
           "#636efa",
           "#EF553B",
           "#00cc96",
           "#ab63fa",
           "#FFA15A",
           "#19d3f3",
           "#FF6692",
           "#B6E880",
           "#FF97FF",
           "#FECB52"
          ],
          "font": {
           "color": "#2a3f5f"
          },
          "geo": {
           "bgcolor": "white",
           "lakecolor": "white",
           "landcolor": "white",
           "showlakes": true,
           "showland": true,
           "subunitcolor": "#C8D4E3"
          },
          "hoverlabel": {
           "align": "left"
          },
          "hovermode": "closest",
          "mapbox": {
           "style": "light"
          },
          "paper_bgcolor": "white",
          "plot_bgcolor": "white",
          "polar": {
           "angularaxis": {
            "gridcolor": "#EBF0F8",
            "linecolor": "#EBF0F8",
            "ticks": ""
           },
           "bgcolor": "white",
           "radialaxis": {
            "gridcolor": "#EBF0F8",
            "linecolor": "#EBF0F8",
            "ticks": ""
           }
          },
          "scene": {
           "xaxis": {
            "backgroundcolor": "white",
            "gridcolor": "#DFE8F3",
            "gridwidth": 2,
            "linecolor": "#EBF0F8",
            "showbackground": true,
            "ticks": "",
            "zerolinecolor": "#EBF0F8"
           },
           "yaxis": {
            "backgroundcolor": "white",
            "gridcolor": "#DFE8F3",
            "gridwidth": 2,
            "linecolor": "#EBF0F8",
            "showbackground": true,
            "ticks": "",
            "zerolinecolor": "#EBF0F8"
           },
           "zaxis": {
            "backgroundcolor": "white",
            "gridcolor": "#DFE8F3",
            "gridwidth": 2,
            "linecolor": "#EBF0F8",
            "showbackground": true,
            "ticks": "",
            "zerolinecolor": "#EBF0F8"
           }
          },
          "shapedefaults": {
           "line": {
            "color": "#2a3f5f"
           }
          },
          "ternary": {
           "aaxis": {
            "gridcolor": "#DFE8F3",
            "linecolor": "#A2B1C6",
            "ticks": ""
           },
           "baxis": {
            "gridcolor": "#DFE8F3",
            "linecolor": "#A2B1C6",
            "ticks": ""
           },
           "bgcolor": "white",
           "caxis": {
            "gridcolor": "#DFE8F3",
            "linecolor": "#A2B1C6",
            "ticks": ""
           }
          },
          "title": {
           "x": 0.05
          },
          "xaxis": {
           "automargin": true,
           "gridcolor": "#EBF0F8",
           "linecolor": "#EBF0F8",
           "ticks": "",
           "title": {
            "standoff": 15
           },
           "zerolinecolor": "#EBF0F8",
           "zerolinewidth": 2
          },
          "yaxis": {
           "automargin": true,
           "gridcolor": "#EBF0F8",
           "linecolor": "#EBF0F8",
           "ticks": "",
           "title": {
            "standoff": 15
           },
           "zerolinecolor": "#EBF0F8",
           "zerolinewidth": 2
          }
         }
        },
        "title": {
         "text": "monthly Profit analysis"
        },
        "xaxis": {
         "anchor": "y",
         "domain": [
          0,
          1
         ],
         "title": {
          "text": "Order month"
         }
        },
        "yaxis": {
         "anchor": "x",
         "domain": [
          0,
          1
         ],
         "title": {
          "text": "Profit"
         }
        }
       }
      }
     },
     "metadata": {},
     "output_type": "display_data"
    }
   ],
   "source": [
    "fig = px.bar(Profit_by_month, x = 'Order month', y = 'Profit', title = 'monthly Profit analysis')\n",
    "\n",
    "fig.show()\n",
    "\n",
    "\n"
   ]
  },
  {
   "cell_type": "markdown",
   "metadata": {},
   "source": [
    "profit by Category:--"
   ]
  },
  {
   "cell_type": "code",
   "execution_count": 40,
   "metadata": {},
   "outputs": [],
   "source": [
    "Profit_by_Category = data.groupby('Category')['Profit'].sum().reset_index()"
   ]
  },
  {
   "cell_type": "code",
   "execution_count": 41,
   "metadata": {},
   "outputs": [
    {
     "data": {
      "application/vnd.microsoft.datawrangler.viewer.v0+json": {
       "columns": [
        {
         "name": "index",
         "rawType": "int64",
         "type": "integer"
        },
        {
         "name": "Category",
         "rawType": "object",
         "type": "string"
        },
        {
         "name": "Profit",
         "rawType": "float64",
         "type": "float"
        }
       ],
       "ref": "5af5c2d9-3f30-4a5c-ac81-777c75ec22a1",
       "rows": [
        [
         "0",
         "Furniture",
         "18451.2728"
        ],
        [
         "1",
         "Office Supplies",
         "122490.8008"
        ],
        [
         "2",
         "Technology",
         "145454.9481"
        ]
       ],
       "shape": {
        "columns": 2,
        "rows": 3
       }
      },
      "text/html": [
       "<div>\n",
       "<style scoped>\n",
       "    .dataframe tbody tr th:only-of-type {\n",
       "        vertical-align: middle;\n",
       "    }\n",
       "\n",
       "    .dataframe tbody tr th {\n",
       "        vertical-align: top;\n",
       "    }\n",
       "\n",
       "    .dataframe thead th {\n",
       "        text-align: right;\n",
       "    }\n",
       "</style>\n",
       "<table border=\"1\" class=\"dataframe\">\n",
       "  <thead>\n",
       "    <tr style=\"text-align: right;\">\n",
       "      <th></th>\n",
       "      <th>Category</th>\n",
       "      <th>Profit</th>\n",
       "    </tr>\n",
       "  </thead>\n",
       "  <tbody>\n",
       "    <tr>\n",
       "      <th>0</th>\n",
       "      <td>Furniture</td>\n",
       "      <td>18451.2728</td>\n",
       "    </tr>\n",
       "    <tr>\n",
       "      <th>1</th>\n",
       "      <td>Office Supplies</td>\n",
       "      <td>122490.8008</td>\n",
       "    </tr>\n",
       "    <tr>\n",
       "      <th>2</th>\n",
       "      <td>Technology</td>\n",
       "      <td>145454.9481</td>\n",
       "    </tr>\n",
       "  </tbody>\n",
       "</table>\n",
       "</div>"
      ],
      "text/plain": [
       "          Category       Profit\n",
       "0        Furniture   18451.2728\n",
       "1  Office Supplies  122490.8008\n",
       "2       Technology  145454.9481"
      ]
     },
     "execution_count": 41,
     "metadata": {},
     "output_type": "execute_result"
    }
   ],
   "source": [
    "Profit_by_Category"
   ]
  },
  {
   "cell_type": "code",
   "execution_count": 42,
   "metadata": {},
   "outputs": [
    {
     "data": {
      "application/vnd.plotly.v1+json": {
       "config": {
        "plotlyServerURL": "https://plot.ly"
       },
       "data": [
        {
         "domain": {
          "x": [
           0,
           1
          ],
          "y": [
           0,
           1
          ]
         },
         "hole": 0.4,
         "hovertemplate": "Category=%{label}<br>Profit=%{value}<extra></extra>",
         "labels": [
          "Furniture",
          "Office Supplies",
          "Technology"
         ],
         "legendgroup": "",
         "name": "",
         "showlegend": true,
         "textinfo": "percent+label",
         "textposition": "inside",
         "type": "pie",
         "values": [
          18451.2728,
          122490.8008,
          145454.9481
         ]
        }
       ],
       "layout": {
        "legend": {
         "tracegroupgap": 0
        },
        "margin": {
         "t": 60
        },
        "piecolorway": [
         "rgb(102, 197, 204)",
         "rgb(246, 207, 113)",
         "rgb(248, 156, 116)",
         "rgb(220, 176, 242)",
         "rgb(135, 197, 95)",
         "rgb(158, 185, 243)",
         "rgb(254, 136, 177)",
         "rgb(201, 219, 116)",
         "rgb(139, 224, 164)",
         "rgb(180, 151, 231)",
         "rgb(179, 179, 179)"
        ],
        "template": {
         "data": {
          "bar": [
           {
            "error_x": {
             "color": "#2a3f5f"
            },
            "error_y": {
             "color": "#2a3f5f"
            },
            "marker": {
             "line": {
              "color": "white",
              "width": 0.5
             },
             "pattern": {
              "fillmode": "overlay",
              "size": 10,
              "solidity": 0.2
             }
            },
            "type": "bar"
           }
          ],
          "barpolar": [
           {
            "marker": {
             "line": {
              "color": "white",
              "width": 0.5
             },
             "pattern": {
              "fillmode": "overlay",
              "size": 10,
              "solidity": 0.2
             }
            },
            "type": "barpolar"
           }
          ],
          "carpet": [
           {
            "aaxis": {
             "endlinecolor": "#2a3f5f",
             "gridcolor": "#C8D4E3",
             "linecolor": "#C8D4E3",
             "minorgridcolor": "#C8D4E3",
             "startlinecolor": "#2a3f5f"
            },
            "baxis": {
             "endlinecolor": "#2a3f5f",
             "gridcolor": "#C8D4E3",
             "linecolor": "#C8D4E3",
             "minorgridcolor": "#C8D4E3",
             "startlinecolor": "#2a3f5f"
            },
            "type": "carpet"
           }
          ],
          "choropleth": [
           {
            "colorbar": {
             "outlinewidth": 0,
             "ticks": ""
            },
            "type": "choropleth"
           }
          ],
          "contour": [
           {
            "colorbar": {
             "outlinewidth": 0,
             "ticks": ""
            },
            "colorscale": [
             [
              0,
              "#0d0887"
             ],
             [
              0.1111111111111111,
              "#46039f"
             ],
             [
              0.2222222222222222,
              "#7201a8"
             ],
             [
              0.3333333333333333,
              "#9c179e"
             ],
             [
              0.4444444444444444,
              "#bd3786"
             ],
             [
              0.5555555555555556,
              "#d8576b"
             ],
             [
              0.6666666666666666,
              "#ed7953"
             ],
             [
              0.7777777777777778,
              "#fb9f3a"
             ],
             [
              0.8888888888888888,
              "#fdca26"
             ],
             [
              1,
              "#f0f921"
             ]
            ],
            "type": "contour"
           }
          ],
          "contourcarpet": [
           {
            "colorbar": {
             "outlinewidth": 0,
             "ticks": ""
            },
            "type": "contourcarpet"
           }
          ],
          "heatmap": [
           {
            "colorbar": {
             "outlinewidth": 0,
             "ticks": ""
            },
            "colorscale": [
             [
              0,
              "#0d0887"
             ],
             [
              0.1111111111111111,
              "#46039f"
             ],
             [
              0.2222222222222222,
              "#7201a8"
             ],
             [
              0.3333333333333333,
              "#9c179e"
             ],
             [
              0.4444444444444444,
              "#bd3786"
             ],
             [
              0.5555555555555556,
              "#d8576b"
             ],
             [
              0.6666666666666666,
              "#ed7953"
             ],
             [
              0.7777777777777778,
              "#fb9f3a"
             ],
             [
              0.8888888888888888,
              "#fdca26"
             ],
             [
              1,
              "#f0f921"
             ]
            ],
            "type": "heatmap"
           }
          ],
          "heatmapgl": [
           {
            "colorbar": {
             "outlinewidth": 0,
             "ticks": ""
            },
            "colorscale": [
             [
              0,
              "#0d0887"
             ],
             [
              0.1111111111111111,
              "#46039f"
             ],
             [
              0.2222222222222222,
              "#7201a8"
             ],
             [
              0.3333333333333333,
              "#9c179e"
             ],
             [
              0.4444444444444444,
              "#bd3786"
             ],
             [
              0.5555555555555556,
              "#d8576b"
             ],
             [
              0.6666666666666666,
              "#ed7953"
             ],
             [
              0.7777777777777778,
              "#fb9f3a"
             ],
             [
              0.8888888888888888,
              "#fdca26"
             ],
             [
              1,
              "#f0f921"
             ]
            ],
            "type": "heatmapgl"
           }
          ],
          "histogram": [
           {
            "marker": {
             "pattern": {
              "fillmode": "overlay",
              "size": 10,
              "solidity": 0.2
             }
            },
            "type": "histogram"
           }
          ],
          "histogram2d": [
           {
            "colorbar": {
             "outlinewidth": 0,
             "ticks": ""
            },
            "colorscale": [
             [
              0,
              "#0d0887"
             ],
             [
              0.1111111111111111,
              "#46039f"
             ],
             [
              0.2222222222222222,
              "#7201a8"
             ],
             [
              0.3333333333333333,
              "#9c179e"
             ],
             [
              0.4444444444444444,
              "#bd3786"
             ],
             [
              0.5555555555555556,
              "#d8576b"
             ],
             [
              0.6666666666666666,
              "#ed7953"
             ],
             [
              0.7777777777777778,
              "#fb9f3a"
             ],
             [
              0.8888888888888888,
              "#fdca26"
             ],
             [
              1,
              "#f0f921"
             ]
            ],
            "type": "histogram2d"
           }
          ],
          "histogram2dcontour": [
           {
            "colorbar": {
             "outlinewidth": 0,
             "ticks": ""
            },
            "colorscale": [
             [
              0,
              "#0d0887"
             ],
             [
              0.1111111111111111,
              "#46039f"
             ],
             [
              0.2222222222222222,
              "#7201a8"
             ],
             [
              0.3333333333333333,
              "#9c179e"
             ],
             [
              0.4444444444444444,
              "#bd3786"
             ],
             [
              0.5555555555555556,
              "#d8576b"
             ],
             [
              0.6666666666666666,
              "#ed7953"
             ],
             [
              0.7777777777777778,
              "#fb9f3a"
             ],
             [
              0.8888888888888888,
              "#fdca26"
             ],
             [
              1,
              "#f0f921"
             ]
            ],
            "type": "histogram2dcontour"
           }
          ],
          "mesh3d": [
           {
            "colorbar": {
             "outlinewidth": 0,
             "ticks": ""
            },
            "type": "mesh3d"
           }
          ],
          "parcoords": [
           {
            "line": {
             "colorbar": {
              "outlinewidth": 0,
              "ticks": ""
             }
            },
            "type": "parcoords"
           }
          ],
          "pie": [
           {
            "automargin": true,
            "type": "pie"
           }
          ],
          "scatter": [
           {
            "fillpattern": {
             "fillmode": "overlay",
             "size": 10,
             "solidity": 0.2
            },
            "type": "scatter"
           }
          ],
          "scatter3d": [
           {
            "line": {
             "colorbar": {
              "outlinewidth": 0,
              "ticks": ""
             }
            },
            "marker": {
             "colorbar": {
              "outlinewidth": 0,
              "ticks": ""
             }
            },
            "type": "scatter3d"
           }
          ],
          "scattercarpet": [
           {
            "marker": {
             "colorbar": {
              "outlinewidth": 0,
              "ticks": ""
             }
            },
            "type": "scattercarpet"
           }
          ],
          "scattergeo": [
           {
            "marker": {
             "colorbar": {
              "outlinewidth": 0,
              "ticks": ""
             }
            },
            "type": "scattergeo"
           }
          ],
          "scattergl": [
           {
            "marker": {
             "colorbar": {
              "outlinewidth": 0,
              "ticks": ""
             }
            },
            "type": "scattergl"
           }
          ],
          "scattermapbox": [
           {
            "marker": {
             "colorbar": {
              "outlinewidth": 0,
              "ticks": ""
             }
            },
            "type": "scattermapbox"
           }
          ],
          "scatterpolar": [
           {
            "marker": {
             "colorbar": {
              "outlinewidth": 0,
              "ticks": ""
             }
            },
            "type": "scatterpolar"
           }
          ],
          "scatterpolargl": [
           {
            "marker": {
             "colorbar": {
              "outlinewidth": 0,
              "ticks": ""
             }
            },
            "type": "scatterpolargl"
           }
          ],
          "scatterternary": [
           {
            "marker": {
             "colorbar": {
              "outlinewidth": 0,
              "ticks": ""
             }
            },
            "type": "scatterternary"
           }
          ],
          "surface": [
           {
            "colorbar": {
             "outlinewidth": 0,
             "ticks": ""
            },
            "colorscale": [
             [
              0,
              "#0d0887"
             ],
             [
              0.1111111111111111,
              "#46039f"
             ],
             [
              0.2222222222222222,
              "#7201a8"
             ],
             [
              0.3333333333333333,
              "#9c179e"
             ],
             [
              0.4444444444444444,
              "#bd3786"
             ],
             [
              0.5555555555555556,
              "#d8576b"
             ],
             [
              0.6666666666666666,
              "#ed7953"
             ],
             [
              0.7777777777777778,
              "#fb9f3a"
             ],
             [
              0.8888888888888888,
              "#fdca26"
             ],
             [
              1,
              "#f0f921"
             ]
            ],
            "type": "surface"
           }
          ],
          "table": [
           {
            "cells": {
             "fill": {
              "color": "#EBF0F8"
             },
             "line": {
              "color": "white"
             }
            },
            "header": {
             "fill": {
              "color": "#C8D4E3"
             },
             "line": {
              "color": "white"
             }
            },
            "type": "table"
           }
          ]
         },
         "layout": {
          "annotationdefaults": {
           "arrowcolor": "#2a3f5f",
           "arrowhead": 0,
           "arrowwidth": 1
          },
          "autotypenumbers": "strict",
          "coloraxis": {
           "colorbar": {
            "outlinewidth": 0,
            "ticks": ""
           }
          },
          "colorscale": {
           "diverging": [
            [
             0,
             "#8e0152"
            ],
            [
             0.1,
             "#c51b7d"
            ],
            [
             0.2,
             "#de77ae"
            ],
            [
             0.3,
             "#f1b6da"
            ],
            [
             0.4,
             "#fde0ef"
            ],
            [
             0.5,
             "#f7f7f7"
            ],
            [
             0.6,
             "#e6f5d0"
            ],
            [
             0.7,
             "#b8e186"
            ],
            [
             0.8,
             "#7fbc41"
            ],
            [
             0.9,
             "#4d9221"
            ],
            [
             1,
             "#276419"
            ]
           ],
           "sequential": [
            [
             0,
             "#0d0887"
            ],
            [
             0.1111111111111111,
             "#46039f"
            ],
            [
             0.2222222222222222,
             "#7201a8"
            ],
            [
             0.3333333333333333,
             "#9c179e"
            ],
            [
             0.4444444444444444,
             "#bd3786"
            ],
            [
             0.5555555555555556,
             "#d8576b"
            ],
            [
             0.6666666666666666,
             "#ed7953"
            ],
            [
             0.7777777777777778,
             "#fb9f3a"
            ],
            [
             0.8888888888888888,
             "#fdca26"
            ],
            [
             1,
             "#f0f921"
            ]
           ],
           "sequentialminus": [
            [
             0,
             "#0d0887"
            ],
            [
             0.1111111111111111,
             "#46039f"
            ],
            [
             0.2222222222222222,
             "#7201a8"
            ],
            [
             0.3333333333333333,
             "#9c179e"
            ],
            [
             0.4444444444444444,
             "#bd3786"
            ],
            [
             0.5555555555555556,
             "#d8576b"
            ],
            [
             0.6666666666666666,
             "#ed7953"
            ],
            [
             0.7777777777777778,
             "#fb9f3a"
            ],
            [
             0.8888888888888888,
             "#fdca26"
            ],
            [
             1,
             "#f0f921"
            ]
           ]
          },
          "colorway": [
           "#636efa",
           "#EF553B",
           "#00cc96",
           "#ab63fa",
           "#FFA15A",
           "#19d3f3",
           "#FF6692",
           "#B6E880",
           "#FF97FF",
           "#FECB52"
          ],
          "font": {
           "color": "#2a3f5f"
          },
          "geo": {
           "bgcolor": "white",
           "lakecolor": "white",
           "landcolor": "white",
           "showlakes": true,
           "showland": true,
           "subunitcolor": "#C8D4E3"
          },
          "hoverlabel": {
           "align": "left"
          },
          "hovermode": "closest",
          "mapbox": {
           "style": "light"
          },
          "paper_bgcolor": "white",
          "plot_bgcolor": "white",
          "polar": {
           "angularaxis": {
            "gridcolor": "#EBF0F8",
            "linecolor": "#EBF0F8",
            "ticks": ""
           },
           "bgcolor": "white",
           "radialaxis": {
            "gridcolor": "#EBF0F8",
            "linecolor": "#EBF0F8",
            "ticks": ""
           }
          },
          "scene": {
           "xaxis": {
            "backgroundcolor": "white",
            "gridcolor": "#DFE8F3",
            "gridwidth": 2,
            "linecolor": "#EBF0F8",
            "showbackground": true,
            "ticks": "",
            "zerolinecolor": "#EBF0F8"
           },
           "yaxis": {
            "backgroundcolor": "white",
            "gridcolor": "#DFE8F3",
            "gridwidth": 2,
            "linecolor": "#EBF0F8",
            "showbackground": true,
            "ticks": "",
            "zerolinecolor": "#EBF0F8"
           },
           "zaxis": {
            "backgroundcolor": "white",
            "gridcolor": "#DFE8F3",
            "gridwidth": 2,
            "linecolor": "#EBF0F8",
            "showbackground": true,
            "ticks": "",
            "zerolinecolor": "#EBF0F8"
           }
          },
          "shapedefaults": {
           "line": {
            "color": "#2a3f5f"
           }
          },
          "ternary": {
           "aaxis": {
            "gridcolor": "#DFE8F3",
            "linecolor": "#A2B1C6",
            "ticks": ""
           },
           "baxis": {
            "gridcolor": "#DFE8F3",
            "linecolor": "#A2B1C6",
            "ticks": ""
           },
           "bgcolor": "white",
           "caxis": {
            "gridcolor": "#DFE8F3",
            "linecolor": "#A2B1C6",
            "ticks": ""
           }
          },
          "title": {
           "x": 0.05
          },
          "xaxis": {
           "automargin": true,
           "gridcolor": "#EBF0F8",
           "linecolor": "#EBF0F8",
           "ticks": "",
           "title": {
            "standoff": 15
           },
           "zerolinecolor": "#EBF0F8",
           "zerolinewidth": 2
          },
          "yaxis": {
           "automargin": true,
           "gridcolor": "#EBF0F8",
           "linecolor": "#EBF0F8",
           "ticks": "",
           "title": {
            "standoff": 15
           },
           "zerolinecolor": "#EBF0F8",
           "zerolinewidth": 2
          }
         }
        },
        "title": {
         "font": {
          "size": 24
         },
         "text": "Profit Analysis by Category"
        }
       }
      }
     },
     "metadata": {},
     "output_type": "display_data"
    }
   ],
   "source": [
    "fig = px.pie(Profit_by_Category,\n",
    "             values='Profit',\n",
    "             names='Category',\n",
    "             hole=0.4,\n",
    "             color_discrete_sequence=px.colors.qualitative.Pastel)\n",
    "\n",
    "fig.update_traces(textposition='inside', textinfo='percent+label')\n",
    "fig.update_layout(title_text='Profit Analysis by Category', title_font=dict(size=24))\n",
    "\n",
    "fig.show()"
   ]
  },
  {
   "cell_type": "markdown",
   "metadata": {},
   "source": [
    "Profit by SubCategory:--"
   ]
  },
  {
   "cell_type": "code",
   "execution_count": 43,
   "metadata": {},
   "outputs": [],
   "source": [
    "Profit_by_SubCategory = data.groupby('Sub-Category')['Profit'].sum().reset_index()"
   ]
  },
  {
   "cell_type": "code",
   "execution_count": 44,
   "metadata": {},
   "outputs": [
    {
     "data": {
      "application/vnd.plotly.v1+json": {
       "config": {
        "plotlyServerURL": "https://plot.ly"
       },
       "data": [
        {
         "alignmentgroup": "True",
         "hovertemplate": "Sub-Category=%{x}<br>Profit=%{y}<extra></extra>",
         "legendgroup": "",
         "marker": {
          "color": "#636efa",
          "pattern": {
           "shape": ""
          }
         },
         "name": "",
         "offsetgroup": "",
         "orientation": "v",
         "showlegend": false,
         "textposition": "auto",
         "type": "bar",
         "x": [
          "Accessories",
          "Appliances",
          "Art",
          "Binders",
          "Bookcases",
          "Chairs",
          "Copiers",
          "Envelopes",
          "Fasteners",
          "Furnishings",
          "Labels",
          "Machines",
          "Paper",
          "Phones",
          "Storage",
          "Supplies",
          "Tables"
         ],
         "xaxis": "x",
         "y": [
          41936.6357,
          18138.005400000002,
          6527.787,
          30221.7633,
          -3472.556,
          26590.1663,
          55617.8249,
          6964.1767,
          949.5182,
          13059.1436,
          5546.254,
          3384.7569,
          34053.5693,
          44515.7306,
          21278.8264,
          -1189.0995,
          -17725.4811
         ],
         "yaxis": "y"
        }
       ],
       "layout": {
        "barmode": "relative",
        "legend": {
         "tracegroupgap": 0
        },
        "template": {
         "data": {
          "bar": [
           {
            "error_x": {
             "color": "#2a3f5f"
            },
            "error_y": {
             "color": "#2a3f5f"
            },
            "marker": {
             "line": {
              "color": "white",
              "width": 0.5
             },
             "pattern": {
              "fillmode": "overlay",
              "size": 10,
              "solidity": 0.2
             }
            },
            "type": "bar"
           }
          ],
          "barpolar": [
           {
            "marker": {
             "line": {
              "color": "white",
              "width": 0.5
             },
             "pattern": {
              "fillmode": "overlay",
              "size": 10,
              "solidity": 0.2
             }
            },
            "type": "barpolar"
           }
          ],
          "carpet": [
           {
            "aaxis": {
             "endlinecolor": "#2a3f5f",
             "gridcolor": "#C8D4E3",
             "linecolor": "#C8D4E3",
             "minorgridcolor": "#C8D4E3",
             "startlinecolor": "#2a3f5f"
            },
            "baxis": {
             "endlinecolor": "#2a3f5f",
             "gridcolor": "#C8D4E3",
             "linecolor": "#C8D4E3",
             "minorgridcolor": "#C8D4E3",
             "startlinecolor": "#2a3f5f"
            },
            "type": "carpet"
           }
          ],
          "choropleth": [
           {
            "colorbar": {
             "outlinewidth": 0,
             "ticks": ""
            },
            "type": "choropleth"
           }
          ],
          "contour": [
           {
            "colorbar": {
             "outlinewidth": 0,
             "ticks": ""
            },
            "colorscale": [
             [
              0,
              "#0d0887"
             ],
             [
              0.1111111111111111,
              "#46039f"
             ],
             [
              0.2222222222222222,
              "#7201a8"
             ],
             [
              0.3333333333333333,
              "#9c179e"
             ],
             [
              0.4444444444444444,
              "#bd3786"
             ],
             [
              0.5555555555555556,
              "#d8576b"
             ],
             [
              0.6666666666666666,
              "#ed7953"
             ],
             [
              0.7777777777777778,
              "#fb9f3a"
             ],
             [
              0.8888888888888888,
              "#fdca26"
             ],
             [
              1,
              "#f0f921"
             ]
            ],
            "type": "contour"
           }
          ],
          "contourcarpet": [
           {
            "colorbar": {
             "outlinewidth": 0,
             "ticks": ""
            },
            "type": "contourcarpet"
           }
          ],
          "heatmap": [
           {
            "colorbar": {
             "outlinewidth": 0,
             "ticks": ""
            },
            "colorscale": [
             [
              0,
              "#0d0887"
             ],
             [
              0.1111111111111111,
              "#46039f"
             ],
             [
              0.2222222222222222,
              "#7201a8"
             ],
             [
              0.3333333333333333,
              "#9c179e"
             ],
             [
              0.4444444444444444,
              "#bd3786"
             ],
             [
              0.5555555555555556,
              "#d8576b"
             ],
             [
              0.6666666666666666,
              "#ed7953"
             ],
             [
              0.7777777777777778,
              "#fb9f3a"
             ],
             [
              0.8888888888888888,
              "#fdca26"
             ],
             [
              1,
              "#f0f921"
             ]
            ],
            "type": "heatmap"
           }
          ],
          "heatmapgl": [
           {
            "colorbar": {
             "outlinewidth": 0,
             "ticks": ""
            },
            "colorscale": [
             [
              0,
              "#0d0887"
             ],
             [
              0.1111111111111111,
              "#46039f"
             ],
             [
              0.2222222222222222,
              "#7201a8"
             ],
             [
              0.3333333333333333,
              "#9c179e"
             ],
             [
              0.4444444444444444,
              "#bd3786"
             ],
             [
              0.5555555555555556,
              "#d8576b"
             ],
             [
              0.6666666666666666,
              "#ed7953"
             ],
             [
              0.7777777777777778,
              "#fb9f3a"
             ],
             [
              0.8888888888888888,
              "#fdca26"
             ],
             [
              1,
              "#f0f921"
             ]
            ],
            "type": "heatmapgl"
           }
          ],
          "histogram": [
           {
            "marker": {
             "pattern": {
              "fillmode": "overlay",
              "size": 10,
              "solidity": 0.2
             }
            },
            "type": "histogram"
           }
          ],
          "histogram2d": [
           {
            "colorbar": {
             "outlinewidth": 0,
             "ticks": ""
            },
            "colorscale": [
             [
              0,
              "#0d0887"
             ],
             [
              0.1111111111111111,
              "#46039f"
             ],
             [
              0.2222222222222222,
              "#7201a8"
             ],
             [
              0.3333333333333333,
              "#9c179e"
             ],
             [
              0.4444444444444444,
              "#bd3786"
             ],
             [
              0.5555555555555556,
              "#d8576b"
             ],
             [
              0.6666666666666666,
              "#ed7953"
             ],
             [
              0.7777777777777778,
              "#fb9f3a"
             ],
             [
              0.8888888888888888,
              "#fdca26"
             ],
             [
              1,
              "#f0f921"
             ]
            ],
            "type": "histogram2d"
           }
          ],
          "histogram2dcontour": [
           {
            "colorbar": {
             "outlinewidth": 0,
             "ticks": ""
            },
            "colorscale": [
             [
              0,
              "#0d0887"
             ],
             [
              0.1111111111111111,
              "#46039f"
             ],
             [
              0.2222222222222222,
              "#7201a8"
             ],
             [
              0.3333333333333333,
              "#9c179e"
             ],
             [
              0.4444444444444444,
              "#bd3786"
             ],
             [
              0.5555555555555556,
              "#d8576b"
             ],
             [
              0.6666666666666666,
              "#ed7953"
             ],
             [
              0.7777777777777778,
              "#fb9f3a"
             ],
             [
              0.8888888888888888,
              "#fdca26"
             ],
             [
              1,
              "#f0f921"
             ]
            ],
            "type": "histogram2dcontour"
           }
          ],
          "mesh3d": [
           {
            "colorbar": {
             "outlinewidth": 0,
             "ticks": ""
            },
            "type": "mesh3d"
           }
          ],
          "parcoords": [
           {
            "line": {
             "colorbar": {
              "outlinewidth": 0,
              "ticks": ""
             }
            },
            "type": "parcoords"
           }
          ],
          "pie": [
           {
            "automargin": true,
            "type": "pie"
           }
          ],
          "scatter": [
           {
            "fillpattern": {
             "fillmode": "overlay",
             "size": 10,
             "solidity": 0.2
            },
            "type": "scatter"
           }
          ],
          "scatter3d": [
           {
            "line": {
             "colorbar": {
              "outlinewidth": 0,
              "ticks": ""
             }
            },
            "marker": {
             "colorbar": {
              "outlinewidth": 0,
              "ticks": ""
             }
            },
            "type": "scatter3d"
           }
          ],
          "scattercarpet": [
           {
            "marker": {
             "colorbar": {
              "outlinewidth": 0,
              "ticks": ""
             }
            },
            "type": "scattercarpet"
           }
          ],
          "scattergeo": [
           {
            "marker": {
             "colorbar": {
              "outlinewidth": 0,
              "ticks": ""
             }
            },
            "type": "scattergeo"
           }
          ],
          "scattergl": [
           {
            "marker": {
             "colorbar": {
              "outlinewidth": 0,
              "ticks": ""
             }
            },
            "type": "scattergl"
           }
          ],
          "scattermapbox": [
           {
            "marker": {
             "colorbar": {
              "outlinewidth": 0,
              "ticks": ""
             }
            },
            "type": "scattermapbox"
           }
          ],
          "scatterpolar": [
           {
            "marker": {
             "colorbar": {
              "outlinewidth": 0,
              "ticks": ""
             }
            },
            "type": "scatterpolar"
           }
          ],
          "scatterpolargl": [
           {
            "marker": {
             "colorbar": {
              "outlinewidth": 0,
              "ticks": ""
             }
            },
            "type": "scatterpolargl"
           }
          ],
          "scatterternary": [
           {
            "marker": {
             "colorbar": {
              "outlinewidth": 0,
              "ticks": ""
             }
            },
            "type": "scatterternary"
           }
          ],
          "surface": [
           {
            "colorbar": {
             "outlinewidth": 0,
             "ticks": ""
            },
            "colorscale": [
             [
              0,
              "#0d0887"
             ],
             [
              0.1111111111111111,
              "#46039f"
             ],
             [
              0.2222222222222222,
              "#7201a8"
             ],
             [
              0.3333333333333333,
              "#9c179e"
             ],
             [
              0.4444444444444444,
              "#bd3786"
             ],
             [
              0.5555555555555556,
              "#d8576b"
             ],
             [
              0.6666666666666666,
              "#ed7953"
             ],
             [
              0.7777777777777778,
              "#fb9f3a"
             ],
             [
              0.8888888888888888,
              "#fdca26"
             ],
             [
              1,
              "#f0f921"
             ]
            ],
            "type": "surface"
           }
          ],
          "table": [
           {
            "cells": {
             "fill": {
              "color": "#EBF0F8"
             },
             "line": {
              "color": "white"
             }
            },
            "header": {
             "fill": {
              "color": "#C8D4E3"
             },
             "line": {
              "color": "white"
             }
            },
            "type": "table"
           }
          ]
         },
         "layout": {
          "annotationdefaults": {
           "arrowcolor": "#2a3f5f",
           "arrowhead": 0,
           "arrowwidth": 1
          },
          "autotypenumbers": "strict",
          "coloraxis": {
           "colorbar": {
            "outlinewidth": 0,
            "ticks": ""
           }
          },
          "colorscale": {
           "diverging": [
            [
             0,
             "#8e0152"
            ],
            [
             0.1,
             "#c51b7d"
            ],
            [
             0.2,
             "#de77ae"
            ],
            [
             0.3,
             "#f1b6da"
            ],
            [
             0.4,
             "#fde0ef"
            ],
            [
             0.5,
             "#f7f7f7"
            ],
            [
             0.6,
             "#e6f5d0"
            ],
            [
             0.7,
             "#b8e186"
            ],
            [
             0.8,
             "#7fbc41"
            ],
            [
             0.9,
             "#4d9221"
            ],
            [
             1,
             "#276419"
            ]
           ],
           "sequential": [
            [
             0,
             "#0d0887"
            ],
            [
             0.1111111111111111,
             "#46039f"
            ],
            [
             0.2222222222222222,
             "#7201a8"
            ],
            [
             0.3333333333333333,
             "#9c179e"
            ],
            [
             0.4444444444444444,
             "#bd3786"
            ],
            [
             0.5555555555555556,
             "#d8576b"
            ],
            [
             0.6666666666666666,
             "#ed7953"
            ],
            [
             0.7777777777777778,
             "#fb9f3a"
            ],
            [
             0.8888888888888888,
             "#fdca26"
            ],
            [
             1,
             "#f0f921"
            ]
           ],
           "sequentialminus": [
            [
             0,
             "#0d0887"
            ],
            [
             0.1111111111111111,
             "#46039f"
            ],
            [
             0.2222222222222222,
             "#7201a8"
            ],
            [
             0.3333333333333333,
             "#9c179e"
            ],
            [
             0.4444444444444444,
             "#bd3786"
            ],
            [
             0.5555555555555556,
             "#d8576b"
            ],
            [
             0.6666666666666666,
             "#ed7953"
            ],
            [
             0.7777777777777778,
             "#fb9f3a"
            ],
            [
             0.8888888888888888,
             "#fdca26"
            ],
            [
             1,
             "#f0f921"
            ]
           ]
          },
          "colorway": [
           "#636efa",
           "#EF553B",
           "#00cc96",
           "#ab63fa",
           "#FFA15A",
           "#19d3f3",
           "#FF6692",
           "#B6E880",
           "#FF97FF",
           "#FECB52"
          ],
          "font": {
           "color": "#2a3f5f"
          },
          "geo": {
           "bgcolor": "white",
           "lakecolor": "white",
           "landcolor": "white",
           "showlakes": true,
           "showland": true,
           "subunitcolor": "#C8D4E3"
          },
          "hoverlabel": {
           "align": "left"
          },
          "hovermode": "closest",
          "mapbox": {
           "style": "light"
          },
          "paper_bgcolor": "white",
          "plot_bgcolor": "white",
          "polar": {
           "angularaxis": {
            "gridcolor": "#EBF0F8",
            "linecolor": "#EBF0F8",
            "ticks": ""
           },
           "bgcolor": "white",
           "radialaxis": {
            "gridcolor": "#EBF0F8",
            "linecolor": "#EBF0F8",
            "ticks": ""
           }
          },
          "scene": {
           "xaxis": {
            "backgroundcolor": "white",
            "gridcolor": "#DFE8F3",
            "gridwidth": 2,
            "linecolor": "#EBF0F8",
            "showbackground": true,
            "ticks": "",
            "zerolinecolor": "#EBF0F8"
           },
           "yaxis": {
            "backgroundcolor": "white",
            "gridcolor": "#DFE8F3",
            "gridwidth": 2,
            "linecolor": "#EBF0F8",
            "showbackground": true,
            "ticks": "",
            "zerolinecolor": "#EBF0F8"
           },
           "zaxis": {
            "backgroundcolor": "white",
            "gridcolor": "#DFE8F3",
            "gridwidth": 2,
            "linecolor": "#EBF0F8",
            "showbackground": true,
            "ticks": "",
            "zerolinecolor": "#EBF0F8"
           }
          },
          "shapedefaults": {
           "line": {
            "color": "#2a3f5f"
           }
          },
          "ternary": {
           "aaxis": {
            "gridcolor": "#DFE8F3",
            "linecolor": "#A2B1C6",
            "ticks": ""
           },
           "baxis": {
            "gridcolor": "#DFE8F3",
            "linecolor": "#A2B1C6",
            "ticks": ""
           },
           "bgcolor": "white",
           "caxis": {
            "gridcolor": "#DFE8F3",
            "linecolor": "#A2B1C6",
            "ticks": ""
           }
          },
          "title": {
           "x": 0.05
          },
          "xaxis": {
           "automargin": true,
           "gridcolor": "#EBF0F8",
           "linecolor": "#EBF0F8",
           "ticks": "",
           "title": {
            "standoff": 15
           },
           "zerolinecolor": "#EBF0F8",
           "zerolinewidth": 2
          },
          "yaxis": {
           "automargin": true,
           "gridcolor": "#EBF0F8",
           "linecolor": "#EBF0F8",
           "ticks": "",
           "title": {
            "standoff": 15
           },
           "zerolinecolor": "#EBF0F8",
           "zerolinewidth": 2
          }
         }
        },
        "title": {
         "text": "Profit Analysis bny Sub Category"
        },
        "xaxis": {
         "anchor": "y",
         "domain": [
          0,
          1
         ],
         "title": {
          "text": "Sub-Category"
         }
        },
        "yaxis": {
         "anchor": "x",
         "domain": [
          0,
          1
         ],
         "title": {
          "text": "Profit"
         }
        }
       }
      }
     },
     "metadata": {},
     "output_type": "display_data"
    }
   ],
   "source": [
    "fig = px.bar(Profit_by_SubCategory, x= 'Sub-Category', y = 'Profit', title =\"Profit Analysis bny Sub Category\")\n",
    "\n",
    "fig.show()"
   ]
  },
  {
   "cell_type": "markdown",
   "metadata": {},
   "source": [
    "Sales and Profit by segment :--"
   ]
  },
  {
   "cell_type": "code",
   "execution_count": 45,
   "metadata": {},
   "outputs": [],
   "source": [
    "Sales_Profit_by_segment = data.groupby('Segment').agg({'Sales': 'sum', 'Profit': 'sum'}).reset_index()"
   ]
  },
  {
   "cell_type": "code",
   "execution_count": 46,
   "metadata": {},
   "outputs": [
    {
     "data": {
      "application/vnd.plotly.v1+json": {
       "config": {
        "plotlyServerURL": "https://plot.ly"
       },
       "data": [
        {
         "marker": {
          "color": "rgb(251,180,174)"
         },
         "name": "sales",
         "type": "bar",
         "x": [
          "Consumer",
          "Corporate",
          "Home Office"
         ],
         "y": [
          1161401.345,
          706146.3668,
          429653.1485
         ]
        },
        {
         "marker": {
          "color": "rgb(179,205,227)"
         },
         "name": "Profit",
         "type": "bar",
         "x": [
          "Consumer",
          "Corporate",
          "Home Office"
         ],
         "y": [
          134119.2092,
          91979.134,
          60298.6785
         ]
        }
       ],
       "layout": {
        "template": {
         "data": {
          "bar": [
           {
            "error_x": {
             "color": "#2a3f5f"
            },
            "error_y": {
             "color": "#2a3f5f"
            },
            "marker": {
             "line": {
              "color": "white",
              "width": 0.5
             },
             "pattern": {
              "fillmode": "overlay",
              "size": 10,
              "solidity": 0.2
             }
            },
            "type": "bar"
           }
          ],
          "barpolar": [
           {
            "marker": {
             "line": {
              "color": "white",
              "width": 0.5
             },
             "pattern": {
              "fillmode": "overlay",
              "size": 10,
              "solidity": 0.2
             }
            },
            "type": "barpolar"
           }
          ],
          "carpet": [
           {
            "aaxis": {
             "endlinecolor": "#2a3f5f",
             "gridcolor": "#C8D4E3",
             "linecolor": "#C8D4E3",
             "minorgridcolor": "#C8D4E3",
             "startlinecolor": "#2a3f5f"
            },
            "baxis": {
             "endlinecolor": "#2a3f5f",
             "gridcolor": "#C8D4E3",
             "linecolor": "#C8D4E3",
             "minorgridcolor": "#C8D4E3",
             "startlinecolor": "#2a3f5f"
            },
            "type": "carpet"
           }
          ],
          "choropleth": [
           {
            "colorbar": {
             "outlinewidth": 0,
             "ticks": ""
            },
            "type": "choropleth"
           }
          ],
          "contour": [
           {
            "colorbar": {
             "outlinewidth": 0,
             "ticks": ""
            },
            "colorscale": [
             [
              0,
              "#0d0887"
             ],
             [
              0.1111111111111111,
              "#46039f"
             ],
             [
              0.2222222222222222,
              "#7201a8"
             ],
             [
              0.3333333333333333,
              "#9c179e"
             ],
             [
              0.4444444444444444,
              "#bd3786"
             ],
             [
              0.5555555555555556,
              "#d8576b"
             ],
             [
              0.6666666666666666,
              "#ed7953"
             ],
             [
              0.7777777777777778,
              "#fb9f3a"
             ],
             [
              0.8888888888888888,
              "#fdca26"
             ],
             [
              1,
              "#f0f921"
             ]
            ],
            "type": "contour"
           }
          ],
          "contourcarpet": [
           {
            "colorbar": {
             "outlinewidth": 0,
             "ticks": ""
            },
            "type": "contourcarpet"
           }
          ],
          "heatmap": [
           {
            "colorbar": {
             "outlinewidth": 0,
             "ticks": ""
            },
            "colorscale": [
             [
              0,
              "#0d0887"
             ],
             [
              0.1111111111111111,
              "#46039f"
             ],
             [
              0.2222222222222222,
              "#7201a8"
             ],
             [
              0.3333333333333333,
              "#9c179e"
             ],
             [
              0.4444444444444444,
              "#bd3786"
             ],
             [
              0.5555555555555556,
              "#d8576b"
             ],
             [
              0.6666666666666666,
              "#ed7953"
             ],
             [
              0.7777777777777778,
              "#fb9f3a"
             ],
             [
              0.8888888888888888,
              "#fdca26"
             ],
             [
              1,
              "#f0f921"
             ]
            ],
            "type": "heatmap"
           }
          ],
          "heatmapgl": [
           {
            "colorbar": {
             "outlinewidth": 0,
             "ticks": ""
            },
            "colorscale": [
             [
              0,
              "#0d0887"
             ],
             [
              0.1111111111111111,
              "#46039f"
             ],
             [
              0.2222222222222222,
              "#7201a8"
             ],
             [
              0.3333333333333333,
              "#9c179e"
             ],
             [
              0.4444444444444444,
              "#bd3786"
             ],
             [
              0.5555555555555556,
              "#d8576b"
             ],
             [
              0.6666666666666666,
              "#ed7953"
             ],
             [
              0.7777777777777778,
              "#fb9f3a"
             ],
             [
              0.8888888888888888,
              "#fdca26"
             ],
             [
              1,
              "#f0f921"
             ]
            ],
            "type": "heatmapgl"
           }
          ],
          "histogram": [
           {
            "marker": {
             "pattern": {
              "fillmode": "overlay",
              "size": 10,
              "solidity": 0.2
             }
            },
            "type": "histogram"
           }
          ],
          "histogram2d": [
           {
            "colorbar": {
             "outlinewidth": 0,
             "ticks": ""
            },
            "colorscale": [
             [
              0,
              "#0d0887"
             ],
             [
              0.1111111111111111,
              "#46039f"
             ],
             [
              0.2222222222222222,
              "#7201a8"
             ],
             [
              0.3333333333333333,
              "#9c179e"
             ],
             [
              0.4444444444444444,
              "#bd3786"
             ],
             [
              0.5555555555555556,
              "#d8576b"
             ],
             [
              0.6666666666666666,
              "#ed7953"
             ],
             [
              0.7777777777777778,
              "#fb9f3a"
             ],
             [
              0.8888888888888888,
              "#fdca26"
             ],
             [
              1,
              "#f0f921"
             ]
            ],
            "type": "histogram2d"
           }
          ],
          "histogram2dcontour": [
           {
            "colorbar": {
             "outlinewidth": 0,
             "ticks": ""
            },
            "colorscale": [
             [
              0,
              "#0d0887"
             ],
             [
              0.1111111111111111,
              "#46039f"
             ],
             [
              0.2222222222222222,
              "#7201a8"
             ],
             [
              0.3333333333333333,
              "#9c179e"
             ],
             [
              0.4444444444444444,
              "#bd3786"
             ],
             [
              0.5555555555555556,
              "#d8576b"
             ],
             [
              0.6666666666666666,
              "#ed7953"
             ],
             [
              0.7777777777777778,
              "#fb9f3a"
             ],
             [
              0.8888888888888888,
              "#fdca26"
             ],
             [
              1,
              "#f0f921"
             ]
            ],
            "type": "histogram2dcontour"
           }
          ],
          "mesh3d": [
           {
            "colorbar": {
             "outlinewidth": 0,
             "ticks": ""
            },
            "type": "mesh3d"
           }
          ],
          "parcoords": [
           {
            "line": {
             "colorbar": {
              "outlinewidth": 0,
              "ticks": ""
             }
            },
            "type": "parcoords"
           }
          ],
          "pie": [
           {
            "automargin": true,
            "type": "pie"
           }
          ],
          "scatter": [
           {
            "fillpattern": {
             "fillmode": "overlay",
             "size": 10,
             "solidity": 0.2
            },
            "type": "scatter"
           }
          ],
          "scatter3d": [
           {
            "line": {
             "colorbar": {
              "outlinewidth": 0,
              "ticks": ""
             }
            },
            "marker": {
             "colorbar": {
              "outlinewidth": 0,
              "ticks": ""
             }
            },
            "type": "scatter3d"
           }
          ],
          "scattercarpet": [
           {
            "marker": {
             "colorbar": {
              "outlinewidth": 0,
              "ticks": ""
             }
            },
            "type": "scattercarpet"
           }
          ],
          "scattergeo": [
           {
            "marker": {
             "colorbar": {
              "outlinewidth": 0,
              "ticks": ""
             }
            },
            "type": "scattergeo"
           }
          ],
          "scattergl": [
           {
            "marker": {
             "colorbar": {
              "outlinewidth": 0,
              "ticks": ""
             }
            },
            "type": "scattergl"
           }
          ],
          "scattermapbox": [
           {
            "marker": {
             "colorbar": {
              "outlinewidth": 0,
              "ticks": ""
             }
            },
            "type": "scattermapbox"
           }
          ],
          "scatterpolar": [
           {
            "marker": {
             "colorbar": {
              "outlinewidth": 0,
              "ticks": ""
             }
            },
            "type": "scatterpolar"
           }
          ],
          "scatterpolargl": [
           {
            "marker": {
             "colorbar": {
              "outlinewidth": 0,
              "ticks": ""
             }
            },
            "type": "scatterpolargl"
           }
          ],
          "scatterternary": [
           {
            "marker": {
             "colorbar": {
              "outlinewidth": 0,
              "ticks": ""
             }
            },
            "type": "scatterternary"
           }
          ],
          "surface": [
           {
            "colorbar": {
             "outlinewidth": 0,
             "ticks": ""
            },
            "colorscale": [
             [
              0,
              "#0d0887"
             ],
             [
              0.1111111111111111,
              "#46039f"
             ],
             [
              0.2222222222222222,
              "#7201a8"
             ],
             [
              0.3333333333333333,
              "#9c179e"
             ],
             [
              0.4444444444444444,
              "#bd3786"
             ],
             [
              0.5555555555555556,
              "#d8576b"
             ],
             [
              0.6666666666666666,
              "#ed7953"
             ],
             [
              0.7777777777777778,
              "#fb9f3a"
             ],
             [
              0.8888888888888888,
              "#fdca26"
             ],
             [
              1,
              "#f0f921"
             ]
            ],
            "type": "surface"
           }
          ],
          "table": [
           {
            "cells": {
             "fill": {
              "color": "#EBF0F8"
             },
             "line": {
              "color": "white"
             }
            },
            "header": {
             "fill": {
              "color": "#C8D4E3"
             },
             "line": {
              "color": "white"
             }
            },
            "type": "table"
           }
          ]
         },
         "layout": {
          "annotationdefaults": {
           "arrowcolor": "#2a3f5f",
           "arrowhead": 0,
           "arrowwidth": 1
          },
          "autotypenumbers": "strict",
          "coloraxis": {
           "colorbar": {
            "outlinewidth": 0,
            "ticks": ""
           }
          },
          "colorscale": {
           "diverging": [
            [
             0,
             "#8e0152"
            ],
            [
             0.1,
             "#c51b7d"
            ],
            [
             0.2,
             "#de77ae"
            ],
            [
             0.3,
             "#f1b6da"
            ],
            [
             0.4,
             "#fde0ef"
            ],
            [
             0.5,
             "#f7f7f7"
            ],
            [
             0.6,
             "#e6f5d0"
            ],
            [
             0.7,
             "#b8e186"
            ],
            [
             0.8,
             "#7fbc41"
            ],
            [
             0.9,
             "#4d9221"
            ],
            [
             1,
             "#276419"
            ]
           ],
           "sequential": [
            [
             0,
             "#0d0887"
            ],
            [
             0.1111111111111111,
             "#46039f"
            ],
            [
             0.2222222222222222,
             "#7201a8"
            ],
            [
             0.3333333333333333,
             "#9c179e"
            ],
            [
             0.4444444444444444,
             "#bd3786"
            ],
            [
             0.5555555555555556,
             "#d8576b"
            ],
            [
             0.6666666666666666,
             "#ed7953"
            ],
            [
             0.7777777777777778,
             "#fb9f3a"
            ],
            [
             0.8888888888888888,
             "#fdca26"
            ],
            [
             1,
             "#f0f921"
            ]
           ],
           "sequentialminus": [
            [
             0,
             "#0d0887"
            ],
            [
             0.1111111111111111,
             "#46039f"
            ],
            [
             0.2222222222222222,
             "#7201a8"
            ],
            [
             0.3333333333333333,
             "#9c179e"
            ],
            [
             0.4444444444444444,
             "#bd3786"
            ],
            [
             0.5555555555555556,
             "#d8576b"
            ],
            [
             0.6666666666666666,
             "#ed7953"
            ],
            [
             0.7777777777777778,
             "#fb9f3a"
            ],
            [
             0.8888888888888888,
             "#fdca26"
            ],
            [
             1,
             "#f0f921"
            ]
           ]
          },
          "colorway": [
           "#636efa",
           "#EF553B",
           "#00cc96",
           "#ab63fa",
           "#FFA15A",
           "#19d3f3",
           "#FF6692",
           "#B6E880",
           "#FF97FF",
           "#FECB52"
          ],
          "font": {
           "color": "#2a3f5f"
          },
          "geo": {
           "bgcolor": "white",
           "lakecolor": "white",
           "landcolor": "white",
           "showlakes": true,
           "showland": true,
           "subunitcolor": "#C8D4E3"
          },
          "hoverlabel": {
           "align": "left"
          },
          "hovermode": "closest",
          "mapbox": {
           "style": "light"
          },
          "paper_bgcolor": "white",
          "plot_bgcolor": "white",
          "polar": {
           "angularaxis": {
            "gridcolor": "#EBF0F8",
            "linecolor": "#EBF0F8",
            "ticks": ""
           },
           "bgcolor": "white",
           "radialaxis": {
            "gridcolor": "#EBF0F8",
            "linecolor": "#EBF0F8",
            "ticks": ""
           }
          },
          "scene": {
           "xaxis": {
            "backgroundcolor": "white",
            "gridcolor": "#DFE8F3",
            "gridwidth": 2,
            "linecolor": "#EBF0F8",
            "showbackground": true,
            "ticks": "",
            "zerolinecolor": "#EBF0F8"
           },
           "yaxis": {
            "backgroundcolor": "white",
            "gridcolor": "#DFE8F3",
            "gridwidth": 2,
            "linecolor": "#EBF0F8",
            "showbackground": true,
            "ticks": "",
            "zerolinecolor": "#EBF0F8"
           },
           "zaxis": {
            "backgroundcolor": "white",
            "gridcolor": "#DFE8F3",
            "gridwidth": 2,
            "linecolor": "#EBF0F8",
            "showbackground": true,
            "ticks": "",
            "zerolinecolor": "#EBF0F8"
           }
          },
          "shapedefaults": {
           "line": {
            "color": "#2a3f5f"
           }
          },
          "ternary": {
           "aaxis": {
            "gridcolor": "#DFE8F3",
            "linecolor": "#A2B1C6",
            "ticks": ""
           },
           "baxis": {
            "gridcolor": "#DFE8F3",
            "linecolor": "#A2B1C6",
            "ticks": ""
           },
           "bgcolor": "white",
           "caxis": {
            "gridcolor": "#DFE8F3",
            "linecolor": "#A2B1C6",
            "ticks": ""
           }
          },
          "title": {
           "x": 0.05
          },
          "xaxis": {
           "automargin": true,
           "gridcolor": "#EBF0F8",
           "linecolor": "#EBF0F8",
           "ticks": "",
           "title": {
            "standoff": 15
           },
           "zerolinecolor": "#EBF0F8",
           "zerolinewidth": 2
          },
          "yaxis": {
           "automargin": true,
           "gridcolor": "#EBF0F8",
           "linecolor": "#EBF0F8",
           "ticks": "",
           "title": {
            "standoff": 15
           },
           "zerolinecolor": "#EBF0F8",
           "zerolinewidth": 2
          }
         }
        },
        "title": {
         "text": "Sales and Profit Analyis by Customer Segment"
        },
        "xaxis": {
         "title": {
          "text": "Customer Segment"
         }
        },
        "yaxis": {
         "title": {
          "text": "Amount"
         }
        }
       }
      }
     },
     "metadata": {},
     "output_type": "display_data"
    }
   ],
   "source": [
    "color_palatte = colors.qualitative.Pastel1\n",
    "\n",
    "fig = go.Figure()\n",
    "\n",
    "fig.add_trace(go.Bar(x=Sales_Profit_by_segment['Segment'],\n",
    "                     y=Sales_Profit_by_segment['Sales'],\n",
    "                     name='sales',\n",
    "                     marker_color=color_palatte[0]))\n",
    "\n",
    "fig.add_trace(go.Bar(x=Sales_Profit_by_segment['Segment'],\n",
    "                     y=Sales_Profit_by_segment['Profit'],\n",
    "                     name='Profit',\n",
    "                     marker_color=color_palatte[1]))\n",
    "\n",
    "fig.update_layout(title='Sales and Profit Analyis by Customer Segment',\n",
    "                  xaxis_title='Customer Segment', yaxis_title='Amount')\n",
    "\n",
    "fig.show()\n",
    "\n",
    "              "
   ]
  },
  {
   "cell_type": "markdown",
   "metadata": {},
   "source": [
    "Sales to Profit Ratio:--"
   ]
  },
  {
   "cell_type": "code",
   "execution_count": 47,
   "metadata": {},
   "outputs": [
    {
     "name": "stdout",
     "output_type": "stream",
     "text": [
      "       Segment  Sales_to_Profit_Ratio\n",
      "0     Consumer               8.659471\n",
      "1    Corporate               7.677245\n",
      "2  Home Office               7.125416\n"
     ]
    }
   ],
   "source": [
    "Sales_Profit_by_Segment = data.groupby('Segment').agg({'Sales': 'sum', 'Profit': 'sum'}).reset_index()\n",
    "Sales_Profit_by_Segment['Sales_to_Profit_Ratio'] = Sales_Profit_by_Segment['Sales'] / Sales_Profit_by_Segment['Profit']\n",
    "print(Sales_Profit_by_Segment[['Segment', 'Sales_to_Profit_Ratio']])\n"
   ]
  },
  {
   "cell_type": "code",
   "execution_count": 48,
   "metadata": {},
   "outputs": [
    {
     "name": "stdout",
     "output_type": "stream",
     "text": [
      "<class 'pandas.core.frame.DataFrame'>\n",
      "DatetimeIndex: 9994 entries, 2016-11-08 to 2017-05-04\n",
      "Data columns (total 23 columns):\n",
      " #   Column             Non-Null Count  Dtype         \n",
      "---  ------             --------------  -----         \n",
      " 0   Row ID             9994 non-null   int64         \n",
      " 1   Order ID           9994 non-null   object        \n",
      " 2   Ship Date          9994 non-null   datetime64[ns]\n",
      " 3   Ship Mode          9994 non-null   object        \n",
      " 4   Customer ID        9994 non-null   object        \n",
      " 5   Customer Name      9994 non-null   object        \n",
      " 6   Segment            9994 non-null   object        \n",
      " 7   Country            9994 non-null   object        \n",
      " 8   City               9994 non-null   object        \n",
      " 9   State              9994 non-null   object        \n",
      " 10  Postal Code        9994 non-null   int64         \n",
      " 11  Region             9994 non-null   object        \n",
      " 12  Product ID         9994 non-null   object        \n",
      " 13  Category           9994 non-null   object        \n",
      " 14  Sub-Category       9994 non-null   object        \n",
      " 15  Product Name       9994 non-null   object        \n",
      " 16  Sales              9994 non-null   float64       \n",
      " 17  Quantity           9994 non-null   int64         \n",
      " 18  Discount           9994 non-null   float64       \n",
      " 19  Profit             9994 non-null   float64       \n",
      " 20  Order month        9994 non-null   int32         \n",
      " 21  Order year         9994 non-null   int32         \n",
      " 22  Order Day of Week  9994 non-null   int32         \n",
      "dtypes: datetime64[ns](1), float64(3), int32(3), int64(3), object(13)\n",
      "memory usage: 1.7+ MB\n"
     ]
    }
   ],
   "source": [
    "data.info()"
   ]
  },
  {
   "cell_type": "code",
   "execution_count": 49,
   "metadata": {},
   "outputs": [
    {
     "data": {
      "text/plain": [
       "(9994, 23)"
      ]
     },
     "execution_count": 49,
     "metadata": {},
     "output_type": "execute_result"
    }
   ],
   "source": [
    "data.shape"
   ]
  },
  {
   "cell_type": "code",
   "execution_count": 50,
   "metadata": {},
   "outputs": [],
   "source": [
    "sales_by_City = data.groupby('City')['Sales'].sum().reset_index()"
   ]
  },
  {
   "cell_type": "code",
   "execution_count": 51,
   "metadata": {},
   "outputs": [
    {
     "data": {
      "application/vnd.microsoft.datawrangler.viewer.v0+json": {
       "columns": [
        {
         "name": "index",
         "rawType": "int64",
         "type": "integer"
        },
        {
         "name": "City",
         "rawType": "object",
         "type": "string"
        },
        {
         "name": "Sales",
         "rawType": "float64",
         "type": "float"
        }
       ],
       "ref": "a802d4f9-495c-483e-90a0-412014439e72",
       "rows": [
        [
         "0",
         "Aberdeen",
         "25.5"
        ],
        [
         "1",
         "Abilene",
         "1.392"
        ],
        [
         "2",
         "Akron",
         "2729.986"
        ],
        [
         "3",
         "Albuquerque",
         "2220.16"
        ],
        [
         "4",
         "Alexandria",
         "5519.57"
        ],
        [
         "5",
         "Allen",
         "290.206"
        ],
        [
         "6",
         "Allentown",
         "853.252"
        ],
        [
         "7",
         "Altoona",
         "20.451"
        ],
        [
         "8",
         "Amarillo",
         "3773.0628"
        ],
        [
         "9",
         "Anaheim",
         "7986.87"
        ],
        [
         "10",
         "Andover",
         "435.84999999999997"
        ],
        [
         "11",
         "Ann Arbor",
         "889.273"
        ],
        [
         "12",
         "Antioch",
         "19.44"
        ],
        [
         "13",
         "Apopka",
         "904.554"
        ],
        [
         "14",
         "Apple Valley",
         "2053.0209999999997"
        ],
        [
         "15",
         "Appleton",
         "1671.31"
        ],
        [
         "16",
         "Arlington",
         "20214.532000000003"
        ],
        [
         "17",
         "Arlington Heights",
         "14.112"
        ],
        [
         "18",
         "Arvada",
         "503.4"
        ],
        [
         "19",
         "Asheville",
         "1475.376"
        ],
        [
         "20",
         "Athens",
         "1720.81"
        ],
        [
         "21",
         "Atlanta",
         "17197.84"
        ],
        [
         "22",
         "Atlantic City",
         "23.36"
        ],
        [
         "23",
         "Auburn",
         "3155.168"
        ],
        [
         "24",
         "Aurora",
         "11656.478"
        ],
        [
         "25",
         "Austin",
         "6057.982"
        ],
        [
         "26",
         "Avondale",
         "946.808"
        ],
        [
         "27",
         "Bakersfield",
         "1377.29"
        ],
        [
         "28",
         "Baltimore",
         "6156.842000000001"
        ],
        [
         "29",
         "Bangor",
         "1164.45"
        ],
        [
         "30",
         "Bartlett",
         "88.96"
        ],
        [
         "31",
         "Bayonne",
         "183.4"
        ],
        [
         "32",
         "Baytown",
         "10.368"
        ],
        [
         "33",
         "Beaumont",
         "472.11600000000004"
        ],
        [
         "34",
         "Bedford",
         "226.25600000000003"
        ],
        [
         "35",
         "Belleville",
         "1891.6000000000001"
        ],
        [
         "36",
         "Bellevue",
         "103.622"
        ],
        [
         "37",
         "Bellingham",
         "3790.24"
        ],
        [
         "38",
         "Bethlehem",
         "1689.6339999999998"
        ],
        [
         "39",
         "Beverly",
         "2583.19"
        ],
        [
         "40",
         "Billings",
         "8.288"
        ],
        [
         "41",
         "Bloomington",
         "1567.74"
        ],
        [
         "42",
         "Boca Raton",
         "63.007999999999996"
        ],
        [
         "43",
         "Boise",
         "1094.47"
        ],
        [
         "44",
         "Bolingbrook",
         "218.308"
        ],
        [
         "45",
         "Bossier City",
         "1417.18"
        ],
        [
         "46",
         "Bowling Green",
         "2077.375"
        ],
        [
         "47",
         "Boynton Beach",
         "469.585"
        ],
        [
         "48",
         "Bozeman",
         "43.66"
        ],
        [
         "49",
         "Brentwood",
         "5090.114"
        ]
       ],
       "shape": {
        "columns": 2,
        "rows": 531
       }
      },
      "text/html": [
       "<div>\n",
       "<style scoped>\n",
       "    .dataframe tbody tr th:only-of-type {\n",
       "        vertical-align: middle;\n",
       "    }\n",
       "\n",
       "    .dataframe tbody tr th {\n",
       "        vertical-align: top;\n",
       "    }\n",
       "\n",
       "    .dataframe thead th {\n",
       "        text-align: right;\n",
       "    }\n",
       "</style>\n",
       "<table border=\"1\" class=\"dataframe\">\n",
       "  <thead>\n",
       "    <tr style=\"text-align: right;\">\n",
       "      <th></th>\n",
       "      <th>City</th>\n",
       "      <th>Sales</th>\n",
       "    </tr>\n",
       "  </thead>\n",
       "  <tbody>\n",
       "    <tr>\n",
       "      <th>0</th>\n",
       "      <td>Aberdeen</td>\n",
       "      <td>25.500</td>\n",
       "    </tr>\n",
       "    <tr>\n",
       "      <th>1</th>\n",
       "      <td>Abilene</td>\n",
       "      <td>1.392</td>\n",
       "    </tr>\n",
       "    <tr>\n",
       "      <th>2</th>\n",
       "      <td>Akron</td>\n",
       "      <td>2729.986</td>\n",
       "    </tr>\n",
       "    <tr>\n",
       "      <th>3</th>\n",
       "      <td>Albuquerque</td>\n",
       "      <td>2220.160</td>\n",
       "    </tr>\n",
       "    <tr>\n",
       "      <th>4</th>\n",
       "      <td>Alexandria</td>\n",
       "      <td>5519.570</td>\n",
       "    </tr>\n",
       "    <tr>\n",
       "      <th>...</th>\n",
       "      <td>...</td>\n",
       "      <td>...</td>\n",
       "    </tr>\n",
       "    <tr>\n",
       "      <th>526</th>\n",
       "      <td>Woonsocket</td>\n",
       "      <td>195.550</td>\n",
       "    </tr>\n",
       "    <tr>\n",
       "      <th>527</th>\n",
       "      <td>Yonkers</td>\n",
       "      <td>7657.666</td>\n",
       "    </tr>\n",
       "    <tr>\n",
       "      <th>528</th>\n",
       "      <td>York</td>\n",
       "      <td>817.978</td>\n",
       "    </tr>\n",
       "    <tr>\n",
       "      <th>529</th>\n",
       "      <td>Yucaipa</td>\n",
       "      <td>50.800</td>\n",
       "    </tr>\n",
       "    <tr>\n",
       "      <th>530</th>\n",
       "      <td>Yuma</td>\n",
       "      <td>840.865</td>\n",
       "    </tr>\n",
       "  </tbody>\n",
       "</table>\n",
       "<p>531 rows × 2 columns</p>\n",
       "</div>"
      ],
      "text/plain": [
       "            City     Sales\n",
       "0       Aberdeen    25.500\n",
       "1        Abilene     1.392\n",
       "2          Akron  2729.986\n",
       "3    Albuquerque  2220.160\n",
       "4     Alexandria  5519.570\n",
       "..           ...       ...\n",
       "526   Woonsocket   195.550\n",
       "527      Yonkers  7657.666\n",
       "528         York   817.978\n",
       "529      Yucaipa    50.800\n",
       "530         Yuma   840.865\n",
       "\n",
       "[531 rows x 2 columns]"
      ]
     },
     "execution_count": 51,
     "metadata": {},
     "output_type": "execute_result"
    }
   ],
   "source": [
    "sales_by_City"
   ]
  },
  {
   "cell_type": "code",
   "execution_count": 52,
   "metadata": {},
   "outputs": [
    {
     "data": {
      "application/vnd.plotly.v1+json": {
       "config": {
        "plotlyServerURL": "https://plot.ly"
       },
       "data": [
        {
         "hovertemplate": "City=%{x}<br>Sales=%{y}<extra></extra>",
         "legendgroup": "",
         "line": {
          "color": "#636efa",
          "dash": "solid"
         },
         "marker": {
          "symbol": "circle"
         },
         "mode": "lines",
         "name": "",
         "orientation": "v",
         "showlegend": false,
         "type": "scatter",
         "x": [
          "Aberdeen",
          "Abilene",
          "Akron",
          "Albuquerque",
          "Alexandria",
          "Allen",
          "Allentown",
          "Altoona",
          "Amarillo",
          "Anaheim",
          "Andover",
          "Ann Arbor",
          "Antioch",
          "Apopka",
          "Apple Valley",
          "Appleton",
          "Arlington",
          "Arlington Heights",
          "Arvada",
          "Asheville",
          "Athens",
          "Atlanta",
          "Atlantic City",
          "Auburn",
          "Aurora",
          "Austin",
          "Avondale",
          "Bakersfield",
          "Baltimore",
          "Bangor",
          "Bartlett",
          "Bayonne",
          "Baytown",
          "Beaumont",
          "Bedford",
          "Belleville",
          "Bellevue",
          "Bellingham",
          "Bethlehem",
          "Beverly",
          "Billings",
          "Bloomington",
          "Boca Raton",
          "Boise",
          "Bolingbrook",
          "Bossier City",
          "Bowling Green",
          "Boynton Beach",
          "Bozeman",
          "Brentwood",
          "Bridgeton",
          "Bristol",
          "Broken Arrow",
          "Broomfield",
          "Brownsville",
          "Bryan",
          "Buffalo",
          "Buffalo Grove",
          "Bullhead City",
          "Burbank",
          "Burlington",
          "Caldwell",
          "Camarillo",
          "Cambridge",
          "Canton",
          "Carlsbad",
          "Carol Stream",
          "Carrollton",
          "Cary",
          "Cedar Hill",
          "Cedar Rapids",
          "Champaign",
          "Chandler",
          "Chapel Hill",
          "Charlotte",
          "Charlottesville",
          "Chattanooga",
          "Chesapeake",
          "Chester",
          "Cheyenne",
          "Chicago",
          "Chico",
          "Chula Vista",
          "Cincinnati",
          "Citrus Heights",
          "Clarksville",
          "Cleveland",
          "Clifton",
          "Clinton",
          "Clovis",
          "Coachella",
          "College Station",
          "Colorado Springs",
          "Columbia",
          "Columbus",
          "Commerce City",
          "Concord",
          "Conroe",
          "Conway",
          "Coon Rapids",
          "Coppell",
          "Coral Gables",
          "Coral Springs",
          "Corpus Christi",
          "Costa Mesa",
          "Cottage Grove",
          "Covington",
          "Cranston",
          "Cuyahoga Falls",
          "Dallas",
          "Danbury",
          "Danville",
          "Davis",
          "Daytona Beach",
          "Dearborn",
          "Dearborn Heights",
          "Decatur",
          "Deer Park",
          "Delray Beach",
          "Deltona",
          "Denver",
          "Des Moines",
          "Des Plaines",
          "Detroit",
          "Dover",
          "Draper",
          "Dublin",
          "Dubuque",
          "Durham",
          "Eagan",
          "East Orange",
          "East Point",
          "Eau Claire",
          "Edinburg",
          "Edmond",
          "Edmonds",
          "El Cajon",
          "El Paso",
          "Elkhart",
          "Elmhurst",
          "Elyria",
          "Encinitas",
          "Englewood",
          "Escondido",
          "Eugene",
          "Evanston",
          "Everett",
          "Fairfield",
          "Fargo",
          "Farmington",
          "Fayetteville",
          "Florence",
          "Fort Collins",
          "Fort Lauderdale",
          "Fort Worth",
          "Frankfort",
          "Franklin",
          "Freeport",
          "Fremont",
          "Fresno",
          "Frisco",
          "Gaithersburg",
          "Garden City",
          "Garland",
          "Gastonia",
          "Georgetown",
          "Gilbert",
          "Gladstone",
          "Glendale",
          "Glenview",
          "Goldsboro",
          "Grand Island",
          "Grand Prairie",
          "Grand Rapids",
          "Grapevine",
          "Great Falls",
          "Greeley",
          "Green Bay",
          "Greensboro",
          "Greenville",
          "Greenwood",
          "Gresham",
          "Grove City",
          "Gulfport",
          "Hackensack",
          "Hagerstown",
          "Haltom City",
          "Hamilton",
          "Hampton",
          "Harlingen",
          "Harrisonburg",
          "Hattiesburg",
          "Helena",
          "Hempstead",
          "Henderson",
          "Hendersonville",
          "Hesperia",
          "Hialeah",
          "Hickory",
          "Highland Park",
          "Hillsboro",
          "Holland",
          "Hollywood",
          "Holyoke",
          "Homestead",
          "Hoover",
          "Hot Springs",
          "Houston",
          "Huntington Beach",
          "Huntsville",
          "Independence",
          "Indianapolis",
          "Inglewood",
          "Iowa City",
          "Irving",
          "Jackson",
          "Jacksonville",
          "Jamestown",
          "Jefferson City",
          "Johnson City",
          "Jonesboro",
          "Jupiter",
          "Keller",
          "Kenner",
          "Kenosha",
          "Kent",
          "Kirkwood",
          "Kissimmee",
          "Knoxville",
          "La Crosse",
          "La Mesa",
          "La Porte",
          "La Quinta",
          "Lafayette",
          "Laguna Niguel",
          "Lake Charles",
          "Lake Elsinore",
          "Lake Forest",
          "Lakeland",
          "Lakeville",
          "Lakewood",
          "Lancaster",
          "Lansing",
          "Laredo",
          "Las Cruces",
          "Las Vegas",
          "Laurel",
          "Lawrence",
          "Lawton",
          "Layton",
          "League City",
          "Lebanon",
          "Lehi",
          "Leominster",
          "Lewiston",
          "Lincoln Park",
          "Linden",
          "Lindenhurst",
          "Little Rock",
          "Littleton",
          "Lodi",
          "Logan",
          "Long Beach",
          "Longmont",
          "Longview",
          "Lorain",
          "Los Angeles",
          "Louisville",
          "Loveland",
          "Lowell",
          "Lubbock",
          "Macon",
          "Madison",
          "Malden",
          "Manchester",
          "Manhattan",
          "Mansfield",
          "Manteca",
          "Maple Grove",
          "Margate",
          "Marietta",
          "Marion",
          "Marlborough",
          "Marysville",
          "Mason",
          "Mcallen",
          "Medford",
          "Medina",
          "Melbourne",
          "Memphis",
          "Mentor",
          "Meriden",
          "Meridian",
          "Mesa",
          "Mesquite",
          "Miami",
          "Middletown",
          "Midland",
          "Milford",
          "Milwaukee",
          "Minneapolis",
          "Miramar",
          "Mishawaka",
          "Mission Viejo",
          "Missoula",
          "Missouri City",
          "Mobile",
          "Modesto",
          "Monroe",
          "Montebello",
          "Montgomery",
          "Moorhead",
          "Moreno Valley",
          "Morgan Hill",
          "Morristown",
          "Mount Pleasant",
          "Mount Vernon",
          "Murfreesboro",
          "Murray",
          "Murrieta",
          "Muskogee",
          "Naperville",
          "Nashua",
          "Nashville",
          "New Albany",
          "New Bedford",
          "New Brunswick",
          "New Castle",
          "New Rochelle",
          "New York City",
          "Newark",
          "Newport News",
          "Niagara Falls",
          "Noblesville",
          "Norfolk",
          "Normal",
          "Norman",
          "North Charleston",
          "North Las Vegas",
          "North Miami",
          "Norwich",
          "Oak Park",
          "Oakland",
          "Oceanside",
          "Odessa",
          "Oklahoma City",
          "Olathe",
          "Olympia",
          "Omaha",
          "Ontario",
          "Orange",
          "Orem",
          "Orland Park",
          "Orlando",
          "Ormond Beach",
          "Oswego",
          "Overland Park",
          "Owensboro",
          "Oxnard",
          "Palatine",
          "Palm Coast",
          "Park Ridge",
          "Parker",
          "Parma",
          "Pasadena",
          "Pasco",
          "Passaic",
          "Paterson",
          "Pearland",
          "Pembroke Pines",
          "Pensacola",
          "Peoria",
          "Perth Amboy",
          "Pharr",
          "Philadelphia",
          "Phoenix",
          "Pico Rivera",
          "Pine Bluff",
          "Plainfield",
          "Plano",
          "Plantation",
          "Pleasant Grove",
          "Pocatello",
          "Pomona",
          "Pompano Beach",
          "Port Arthur",
          "Port Orange",
          "Port Saint Lucie",
          "Portage",
          "Portland",
          "Providence",
          "Provo",
          "Pueblo",
          "Quincy",
          "Raleigh",
          "Rancho Cucamonga",
          "Rapid City",
          "Reading",
          "Redding",
          "Redlands",
          "Redmond",
          "Redondo Beach",
          "Redwood City",
          "Reno",
          "Renton",
          "Revere",
          "Richardson",
          "Richmond",
          "Rio Rancho",
          "Riverside",
          "Rochester",
          "Rochester Hills",
          "Rock Hill",
          "Rockford",
          "Rockville",
          "Rogers",
          "Rome",
          "Romeoville",
          "Roseville",
          "Roswell",
          "Round Rock",
          "Royal Oak",
          "Sacramento",
          "Saginaw",
          "Saint Charles",
          "Saint Cloud",
          "Saint Louis",
          "Saint Paul",
          "Saint Peters",
          "Saint Petersburg",
          "Salem",
          "Salinas",
          "Salt Lake City",
          "San Angelo",
          "San Antonio",
          "San Bernardino",
          "San Clemente",
          "San Diego",
          "San Francisco",
          "San Gabriel",
          "San Jose",
          "San Luis Obispo",
          "San Marcos",
          "San Mateo",
          "Sandy Springs",
          "Sanford",
          "Santa Ana",
          "Santa Barbara",
          "Santa Clara",
          "Santa Fe",
          "Santa Maria",
          "Scottsdale",
          "Seattle",
          "Sheboygan",
          "Shelton",
          "Sierra Vista",
          "Sioux Falls",
          "Skokie",
          "Smyrna",
          "South Bend",
          "Southaven",
          "Sparks",
          "Spokane",
          "Springdale",
          "Springfield",
          "Sterling Heights",
          "Stockton",
          "Suffolk",
          "Summerville",
          "Sunnyvale",
          "Superior",
          "Tallahassee",
          "Tamarac",
          "Tampa",
          "Taylor",
          "Temecula",
          "Tempe",
          "Texarkana",
          "Texas City",
          "The Colony",
          "Thomasville",
          "Thornton",
          "Thousand Oaks",
          "Tigard",
          "Tinley Park",
          "Toledo",
          "Torrance",
          "Trenton",
          "Troy",
          "Tucson",
          "Tulsa",
          "Tuscaloosa",
          "Twin Falls",
          "Tyler",
          "Urbandale",
          "Utica",
          "Vacaville",
          "Vallejo",
          "Vancouver",
          "Vineland",
          "Virginia Beach",
          "Visalia",
          "Waco",
          "Warner Robins",
          "Warwick",
          "Washington",
          "Waterbury",
          "Waterloo",
          "Watertown",
          "Waukesha",
          "Wausau",
          "Waynesboro",
          "West Allis",
          "West Jordan",
          "West Palm Beach",
          "Westfield",
          "Westland",
          "Westminster",
          "Wheeling",
          "Whittier",
          "Wichita",
          "Wilmington",
          "Wilson",
          "Woodbury",
          "Woodland",
          "Woodstock",
          "Woonsocket",
          "Yonkers",
          "York",
          "Yucaipa",
          "Yuma"
         ],
         "xaxis": "x",
         "y": [
          25.5,
          1.392,
          2729.986,
          2220.16,
          5519.57,
          290.206,
          853.252,
          20.451,
          3773.0628,
          7986.87,
          435.84999999999997,
          889.273,
          19.44,
          904.554,
          2053.0209999999997,
          1671.31,
          20214.532000000003,
          14.112,
          503.4,
          1475.376,
          1720.81,
          17197.84,
          23.36,
          3155.168,
          11656.478,
          6057.982,
          946.808,
          1377.29,
          6156.842000000001,
          1164.45,
          88.96,
          183.4,
          10.368,
          472.11600000000004,
          226.25600000000003,
          1891.6000000000001,
          103.622,
          3790.24,
          1689.6339999999998,
          2583.19,
          8.288,
          1567.74,
          63.007999999999996,
          1094.47,
          218.308,
          1417.18,
          2077.375,
          469.585,
          43.66,
          5090.114,
          52.410000000000004,
          1251.182,
          2439.53,
          793.504,
          1292.2268000000001,
          616.656,
          9063.496,
          831.399,
          22.288,
          3247.1580000000004,
          21668.082,
          455.63199999999995,
          1467.5175,
          502.09000000000003,
          818.13,
          419.34,
          1305.81,
          2200.6459999999997,
          505.20799999999997,
          122.376,
          278.4,
          151.96,
          1076.747,
          14.016,
          13693.339,
          102.60999999999999,
          988.803,
          5996.72,
          1968.4789999999998,
          1603.136,
          48539.541,
          2050.178,
          1041.62,
          1611.976,
          129.39,
          2217.73,
          6346.185,
          336.82,
          5514.251,
          111.42,
          163.55,
          291.042,
          3694.009,
          25283.324,
          38706.243,
          146.352,
          10542.402,
          111.672,
          301.96,
          503.13,
          135.936,
          64.248,
          824.992,
          220.54399999999998,
          1497.67,
          144.35999999999999,
          413.68,
          4024.916,
          29.093999999999998,
          20131.9322,
          27.46,
          1202.254,
          32.4,
          272.3315,
          1603.3100000000002,
          1051.5700000000002,
          6544.293000000001,
          6.924,
          242.536,
          893.24,
          12198.793,
          5463.278,
          1493.212,
          42446.944,
          4878.074,
          263.65,
          2401.16,
          1687.3,
          879.96,
          214.28,
          377.27,
          268.4,
          1645.65,
          88.27600000000001,
          959.55,
          2523.692,
          865.616,
          3546.064,
          171.43,
          891.6279999999999,
          1.824,
          591.981,
          124.056,
          94.548,
          1465.032,
          1753.799,
          5665.734,
          9483.858,
          919.91,
          718.72,
          6925.926,
          7621.72,
          935.252,
          4929.532499999999,
          6602.7064,
          97.632,
          11257.037,
          739.15,
          1119.0099999999998,
          7888.5285,
          57.504,
          405.91999999999996,
          312.38,
          67.704,
          895.06,
          1786.42,
          4172.382,
          164.34,
          2917.865,
          158.376,
          34.944,
          15.96,
          1012.486,
          526.13,
          41.528,
          4605.58,
          30.351999999999997,
          527.3199999999999,
          2406.78,
          2117.83,
          1665.0500000000002,
          2133.424,
          123.588,
          166.5,
          1456.16,
          43.8,
          269.32800000000003,
          328.224,
          2722.26,
          471.404,
          4388.71,
          1722.84,
          443.84,
          2589.586,
          17549.068,
          319.538,
          1213.1715,
          2338.949,
          40.764,
          2035.096,
          87.838,
          137.86,
          1070.474,
          301.96,
          132.552,
          525.85,
          245.82999999999998,
          64504.7604,
          2527.82,
          9194.9868,
          2417.37,
          9306.42,
          3479.328,
          9.99,
          605.5,
          24963.858,
          44713.183,
          4708.79,
          86.62,
          765.848,
          2915.32,
          2.064,
          6,
          89.32000000000001,
          3906.73,
          1697.556,
          241.34,
          751.984,
          3928.166,
          830.41,
          367.53000000000003,
          1051.732,
          46.32,
          25036.2,
          290.983,
          547.41,
          283.92,
          1625.536,
          5606.8865000000005,
          4260.95,
          18192.047000000002,
          9891.464,
          1610.286,
          1024.34,
          98.77,
          1834.02,
          152.59,
          7654.192,
          1057.49,
          4.96,
          875.3679999999999,
          488.896,
          1516.726,
          217.49,
          115.664,
          387.602,
          115.36,
          55.48,
          3560.35,
          72.294,
          136.98,
          280.276,
          13455.03,
          915.088,
          119.21000000000001,
          2015.1109999999999,
          175851.34100000001,
          12345.806,
          20.964000000000002,
          4837.93,
          592.564,
          364.01,
          5346.79,
          228.38,
          2126.28,
          273.96,
          558.877,
          452.182,
          882.87,
          15.552,
          2938.62,
          3369.346,
          206.64,
          102.18,
          94.264,
          866.716,
          90.218,
          2477.722,
          95.616,
          5942.341,
          693.13,
          1550.6799999999998,
          329.052,
          4037.7400000000002,
          52.147999999999996,
          8673.0745,
          1154.61,
          5291.512,
          961.74,
          11410.22,
          16870.54,
          1531.192,
          776.24,
          775.986,
          487.984,
          6.37,
          5462.99,
          326.15000000000003,
          2970.4339999999997,
          27.88,
          3722.73,
          543.86,
          1262.4660000000001,
          545.01,
          5033.099999999999,
          563.08,
          2119.632,
          337.333,
          410.938,
          484.65,
          1721.7,
          1288.3029999999999,
          35.94,
          6070.863,
          209.55,
          235.96999999999997,
          14.77,
          84.61,
          1255.228,
          256368.161,
          28576.119,
          3321.9500000000003,
          199.84199999999998,
          3091.1800000000003,
          17.43,
          366.744,
          1351.3300000000002,
          284.25,
          9801.002,
          22.128,
          414.03999999999996,
          591.0519999999999,
          5964.418,
          4350.738,
          976.1239999999999,
          6596.820000000001,
          895.79,
          1020.448,
          6312.53,
          283.92,
          211.11,
          2994.0879999999997,
          339.96,
          1740.08,
          2.808,
          321.978,
          606.91,
          71.18,
          1558.1000000000001,
          116.312,
          274.428,
          685,
          1067.942,
          3879.756,
          6590.146,
          2201.112,
          1562.086,
          2243.21,
          494.996,
          1714.3754999999999,
          2.214,
          1842.8319999999999,
          1717.08,
          1540.708,
          109077.013,
          11000.257,
          145.9,
          212.91,
          4526.85,
          3530.3746,
          1436.836,
          2138.178,
          1344.942,
          1482.502,
          90.44,
          737.0528,
          7.824,
          248.95,
          16.28,
          4051.869,
          15980.65,
          2761.234,
          1686.9379999999999,
          1276.459,
          4507.54,
          231.852,
          152.64000000000001,
          873.7120000000001,
          333.576,
          2891.021,
          1098.257,
          1959.803,
          41.904,
          644.062,
          1242.6319999999998,
          833.26,
          1288.4640000000002,
          18137.93,
          1114.192,
          1944.2459999999999,
          7974.53,
          132.52,
          11.85,
          3166.228,
          469.77,
          40.41,
          534.852,
          8.952,
          3588.626,
          6652.32,
          4854.0527999999995,
          35.34,
          7311.278,
          395.86,
          1659.65,
          1331.82,
          285.96000000000004,
          192.82999999999998,
          697.16,
          1690.7920000000001,
          3444.245,
          728.8910000000001,
          802.776,
          650.636,
          21843.528,
          979.3000000000001,
          90.05799999999999,
          47521.029,
          112669.092,
          2061.01,
          6071.229,
          3.62,
          108.44399999999999,
          75.18,
          1997.03,
          225.54600000000002,
          3366.31,
          4289.2339999999995,
          222.192,
          100.92,
          115.44,
          1466.307,
          119540.742,
          79.74000000000001,
          73.33,
          76.072,
          1137.42,
          568.832,
          3238.889,
          1238.33,
          1455.39,
          2561.96,
          2027.9180000000001,
          4.3,
          43054.342,
          110.03999999999999,
          1227.6,
          1597.9,
          406.93999999999994,
          636.21,
          1299.73,
          7250.669,
          1413.51,
          5196.0805,
          353.7,
          808.6659999999999,
          1070.3020000000001,
          654.24,
          790.972,
          142.16000000000003,
          151.292,
          765.248,
          238.804,
          1393.7820000000002,
          22.288,
          4466.053,
          3132.268,
          1765.1950000000002,
          4507.091,
          6313.016,
          5556.97,
          175.70000000000002,
          1148.806,
          347.206,
          149.12,
          655.04,
          423.28,
          1221.41,
          686.836,
          647.966,
          5752.13,
          318.78000000000003,
          606.1072,
          434.8,
          2426.84,
          2865.02,
          1326.06,
          30.32,
          4044.998,
          54.5,
          317.48,
          3058.77,
          250.48000000000002,
          311.85,
          141.328,
          519.72,
          2057.976,
          3826.6459999999997,
          1946.9660000000001,
          444.768,
          825.27,
          7297.061000000001,
          368.73199999999997,
          607.65,
          264.66200000000003,
          1143.9,
          195.55,
          7657.666,
          817.978,
          50.8,
          840.865
         ],
         "yaxis": "y"
        }
       ],
       "layout": {
        "legend": {
         "tracegroupgap": 0
        },
        "template": {
         "data": {
          "bar": [
           {
            "error_x": {
             "color": "#2a3f5f"
            },
            "error_y": {
             "color": "#2a3f5f"
            },
            "marker": {
             "line": {
              "color": "white",
              "width": 0.5
             },
             "pattern": {
              "fillmode": "overlay",
              "size": 10,
              "solidity": 0.2
             }
            },
            "type": "bar"
           }
          ],
          "barpolar": [
           {
            "marker": {
             "line": {
              "color": "white",
              "width": 0.5
             },
             "pattern": {
              "fillmode": "overlay",
              "size": 10,
              "solidity": 0.2
             }
            },
            "type": "barpolar"
           }
          ],
          "carpet": [
           {
            "aaxis": {
             "endlinecolor": "#2a3f5f",
             "gridcolor": "#C8D4E3",
             "linecolor": "#C8D4E3",
             "minorgridcolor": "#C8D4E3",
             "startlinecolor": "#2a3f5f"
            },
            "baxis": {
             "endlinecolor": "#2a3f5f",
             "gridcolor": "#C8D4E3",
             "linecolor": "#C8D4E3",
             "minorgridcolor": "#C8D4E3",
             "startlinecolor": "#2a3f5f"
            },
            "type": "carpet"
           }
          ],
          "choropleth": [
           {
            "colorbar": {
             "outlinewidth": 0,
             "ticks": ""
            },
            "type": "choropleth"
           }
          ],
          "contour": [
           {
            "colorbar": {
             "outlinewidth": 0,
             "ticks": ""
            },
            "colorscale": [
             [
              0,
              "#0d0887"
             ],
             [
              0.1111111111111111,
              "#46039f"
             ],
             [
              0.2222222222222222,
              "#7201a8"
             ],
             [
              0.3333333333333333,
              "#9c179e"
             ],
             [
              0.4444444444444444,
              "#bd3786"
             ],
             [
              0.5555555555555556,
              "#d8576b"
             ],
             [
              0.6666666666666666,
              "#ed7953"
             ],
             [
              0.7777777777777778,
              "#fb9f3a"
             ],
             [
              0.8888888888888888,
              "#fdca26"
             ],
             [
              1,
              "#f0f921"
             ]
            ],
            "type": "contour"
           }
          ],
          "contourcarpet": [
           {
            "colorbar": {
             "outlinewidth": 0,
             "ticks": ""
            },
            "type": "contourcarpet"
           }
          ],
          "heatmap": [
           {
            "colorbar": {
             "outlinewidth": 0,
             "ticks": ""
            },
            "colorscale": [
             [
              0,
              "#0d0887"
             ],
             [
              0.1111111111111111,
              "#46039f"
             ],
             [
              0.2222222222222222,
              "#7201a8"
             ],
             [
              0.3333333333333333,
              "#9c179e"
             ],
             [
              0.4444444444444444,
              "#bd3786"
             ],
             [
              0.5555555555555556,
              "#d8576b"
             ],
             [
              0.6666666666666666,
              "#ed7953"
             ],
             [
              0.7777777777777778,
              "#fb9f3a"
             ],
             [
              0.8888888888888888,
              "#fdca26"
             ],
             [
              1,
              "#f0f921"
             ]
            ],
            "type": "heatmap"
           }
          ],
          "heatmapgl": [
           {
            "colorbar": {
             "outlinewidth": 0,
             "ticks": ""
            },
            "colorscale": [
             [
              0,
              "#0d0887"
             ],
             [
              0.1111111111111111,
              "#46039f"
             ],
             [
              0.2222222222222222,
              "#7201a8"
             ],
             [
              0.3333333333333333,
              "#9c179e"
             ],
             [
              0.4444444444444444,
              "#bd3786"
             ],
             [
              0.5555555555555556,
              "#d8576b"
             ],
             [
              0.6666666666666666,
              "#ed7953"
             ],
             [
              0.7777777777777778,
              "#fb9f3a"
             ],
             [
              0.8888888888888888,
              "#fdca26"
             ],
             [
              1,
              "#f0f921"
             ]
            ],
            "type": "heatmapgl"
           }
          ],
          "histogram": [
           {
            "marker": {
             "pattern": {
              "fillmode": "overlay",
              "size": 10,
              "solidity": 0.2
             }
            },
            "type": "histogram"
           }
          ],
          "histogram2d": [
           {
            "colorbar": {
             "outlinewidth": 0,
             "ticks": ""
            },
            "colorscale": [
             [
              0,
              "#0d0887"
             ],
             [
              0.1111111111111111,
              "#46039f"
             ],
             [
              0.2222222222222222,
              "#7201a8"
             ],
             [
              0.3333333333333333,
              "#9c179e"
             ],
             [
              0.4444444444444444,
              "#bd3786"
             ],
             [
              0.5555555555555556,
              "#d8576b"
             ],
             [
              0.6666666666666666,
              "#ed7953"
             ],
             [
              0.7777777777777778,
              "#fb9f3a"
             ],
             [
              0.8888888888888888,
              "#fdca26"
             ],
             [
              1,
              "#f0f921"
             ]
            ],
            "type": "histogram2d"
           }
          ],
          "histogram2dcontour": [
           {
            "colorbar": {
             "outlinewidth": 0,
             "ticks": ""
            },
            "colorscale": [
             [
              0,
              "#0d0887"
             ],
             [
              0.1111111111111111,
              "#46039f"
             ],
             [
              0.2222222222222222,
              "#7201a8"
             ],
             [
              0.3333333333333333,
              "#9c179e"
             ],
             [
              0.4444444444444444,
              "#bd3786"
             ],
             [
              0.5555555555555556,
              "#d8576b"
             ],
             [
              0.6666666666666666,
              "#ed7953"
             ],
             [
              0.7777777777777778,
              "#fb9f3a"
             ],
             [
              0.8888888888888888,
              "#fdca26"
             ],
             [
              1,
              "#f0f921"
             ]
            ],
            "type": "histogram2dcontour"
           }
          ],
          "mesh3d": [
           {
            "colorbar": {
             "outlinewidth": 0,
             "ticks": ""
            },
            "type": "mesh3d"
           }
          ],
          "parcoords": [
           {
            "line": {
             "colorbar": {
              "outlinewidth": 0,
              "ticks": ""
             }
            },
            "type": "parcoords"
           }
          ],
          "pie": [
           {
            "automargin": true,
            "type": "pie"
           }
          ],
          "scatter": [
           {
            "fillpattern": {
             "fillmode": "overlay",
             "size": 10,
             "solidity": 0.2
            },
            "type": "scatter"
           }
          ],
          "scatter3d": [
           {
            "line": {
             "colorbar": {
              "outlinewidth": 0,
              "ticks": ""
             }
            },
            "marker": {
             "colorbar": {
              "outlinewidth": 0,
              "ticks": ""
             }
            },
            "type": "scatter3d"
           }
          ],
          "scattercarpet": [
           {
            "marker": {
             "colorbar": {
              "outlinewidth": 0,
              "ticks": ""
             }
            },
            "type": "scattercarpet"
           }
          ],
          "scattergeo": [
           {
            "marker": {
             "colorbar": {
              "outlinewidth": 0,
              "ticks": ""
             }
            },
            "type": "scattergeo"
           }
          ],
          "scattergl": [
           {
            "marker": {
             "colorbar": {
              "outlinewidth": 0,
              "ticks": ""
             }
            },
            "type": "scattergl"
           }
          ],
          "scattermapbox": [
           {
            "marker": {
             "colorbar": {
              "outlinewidth": 0,
              "ticks": ""
             }
            },
            "type": "scattermapbox"
           }
          ],
          "scatterpolar": [
           {
            "marker": {
             "colorbar": {
              "outlinewidth": 0,
              "ticks": ""
             }
            },
            "type": "scatterpolar"
           }
          ],
          "scatterpolargl": [
           {
            "marker": {
             "colorbar": {
              "outlinewidth": 0,
              "ticks": ""
             }
            },
            "type": "scatterpolargl"
           }
          ],
          "scatterternary": [
           {
            "marker": {
             "colorbar": {
              "outlinewidth": 0,
              "ticks": ""
             }
            },
            "type": "scatterternary"
           }
          ],
          "surface": [
           {
            "colorbar": {
             "outlinewidth": 0,
             "ticks": ""
            },
            "colorscale": [
             [
              0,
              "#0d0887"
             ],
             [
              0.1111111111111111,
              "#46039f"
             ],
             [
              0.2222222222222222,
              "#7201a8"
             ],
             [
              0.3333333333333333,
              "#9c179e"
             ],
             [
              0.4444444444444444,
              "#bd3786"
             ],
             [
              0.5555555555555556,
              "#d8576b"
             ],
             [
              0.6666666666666666,
              "#ed7953"
             ],
             [
              0.7777777777777778,
              "#fb9f3a"
             ],
             [
              0.8888888888888888,
              "#fdca26"
             ],
             [
              1,
              "#f0f921"
             ]
            ],
            "type": "surface"
           }
          ],
          "table": [
           {
            "cells": {
             "fill": {
              "color": "#EBF0F8"
             },
             "line": {
              "color": "white"
             }
            },
            "header": {
             "fill": {
              "color": "#C8D4E3"
             },
             "line": {
              "color": "white"
             }
            },
            "type": "table"
           }
          ]
         },
         "layout": {
          "annotationdefaults": {
           "arrowcolor": "#2a3f5f",
           "arrowhead": 0,
           "arrowwidth": 1
          },
          "autotypenumbers": "strict",
          "coloraxis": {
           "colorbar": {
            "outlinewidth": 0,
            "ticks": ""
           }
          },
          "colorscale": {
           "diverging": [
            [
             0,
             "#8e0152"
            ],
            [
             0.1,
             "#c51b7d"
            ],
            [
             0.2,
             "#de77ae"
            ],
            [
             0.3,
             "#f1b6da"
            ],
            [
             0.4,
             "#fde0ef"
            ],
            [
             0.5,
             "#f7f7f7"
            ],
            [
             0.6,
             "#e6f5d0"
            ],
            [
             0.7,
             "#b8e186"
            ],
            [
             0.8,
             "#7fbc41"
            ],
            [
             0.9,
             "#4d9221"
            ],
            [
             1,
             "#276419"
            ]
           ],
           "sequential": [
            [
             0,
             "#0d0887"
            ],
            [
             0.1111111111111111,
             "#46039f"
            ],
            [
             0.2222222222222222,
             "#7201a8"
            ],
            [
             0.3333333333333333,
             "#9c179e"
            ],
            [
             0.4444444444444444,
             "#bd3786"
            ],
            [
             0.5555555555555556,
             "#d8576b"
            ],
            [
             0.6666666666666666,
             "#ed7953"
            ],
            [
             0.7777777777777778,
             "#fb9f3a"
            ],
            [
             0.8888888888888888,
             "#fdca26"
            ],
            [
             1,
             "#f0f921"
            ]
           ],
           "sequentialminus": [
            [
             0,
             "#0d0887"
            ],
            [
             0.1111111111111111,
             "#46039f"
            ],
            [
             0.2222222222222222,
             "#7201a8"
            ],
            [
             0.3333333333333333,
             "#9c179e"
            ],
            [
             0.4444444444444444,
             "#bd3786"
            ],
            [
             0.5555555555555556,
             "#d8576b"
            ],
            [
             0.6666666666666666,
             "#ed7953"
            ],
            [
             0.7777777777777778,
             "#fb9f3a"
            ],
            [
             0.8888888888888888,
             "#fdca26"
            ],
            [
             1,
             "#f0f921"
            ]
           ]
          },
          "colorway": [
           "#636efa",
           "#EF553B",
           "#00cc96",
           "#ab63fa",
           "#FFA15A",
           "#19d3f3",
           "#FF6692",
           "#B6E880",
           "#FF97FF",
           "#FECB52"
          ],
          "font": {
           "color": "#2a3f5f"
          },
          "geo": {
           "bgcolor": "white",
           "lakecolor": "white",
           "landcolor": "white",
           "showlakes": true,
           "showland": true,
           "subunitcolor": "#C8D4E3"
          },
          "hoverlabel": {
           "align": "left"
          },
          "hovermode": "closest",
          "mapbox": {
           "style": "light"
          },
          "paper_bgcolor": "white",
          "plot_bgcolor": "white",
          "polar": {
           "angularaxis": {
            "gridcolor": "#EBF0F8",
            "linecolor": "#EBF0F8",
            "ticks": ""
           },
           "bgcolor": "white",
           "radialaxis": {
            "gridcolor": "#EBF0F8",
            "linecolor": "#EBF0F8",
            "ticks": ""
           }
          },
          "scene": {
           "xaxis": {
            "backgroundcolor": "white",
            "gridcolor": "#DFE8F3",
            "gridwidth": 2,
            "linecolor": "#EBF0F8",
            "showbackground": true,
            "ticks": "",
            "zerolinecolor": "#EBF0F8"
           },
           "yaxis": {
            "backgroundcolor": "white",
            "gridcolor": "#DFE8F3",
            "gridwidth": 2,
            "linecolor": "#EBF0F8",
            "showbackground": true,
            "ticks": "",
            "zerolinecolor": "#EBF0F8"
           },
           "zaxis": {
            "backgroundcolor": "white",
            "gridcolor": "#DFE8F3",
            "gridwidth": 2,
            "linecolor": "#EBF0F8",
            "showbackground": true,
            "ticks": "",
            "zerolinecolor": "#EBF0F8"
           }
          },
          "shapedefaults": {
           "line": {
            "color": "#2a3f5f"
           }
          },
          "ternary": {
           "aaxis": {
            "gridcolor": "#DFE8F3",
            "linecolor": "#A2B1C6",
            "ticks": ""
           },
           "baxis": {
            "gridcolor": "#DFE8F3",
            "linecolor": "#A2B1C6",
            "ticks": ""
           },
           "bgcolor": "white",
           "caxis": {
            "gridcolor": "#DFE8F3",
            "linecolor": "#A2B1C6",
            "ticks": ""
           }
          },
          "title": {
           "x": 0.05
          },
          "xaxis": {
           "automargin": true,
           "gridcolor": "#EBF0F8",
           "linecolor": "#EBF0F8",
           "ticks": "",
           "title": {
            "standoff": 15
           },
           "zerolinecolor": "#EBF0F8",
           "zerolinewidth": 2
          },
          "yaxis": {
           "automargin": true,
           "gridcolor": "#EBF0F8",
           "linecolor": "#EBF0F8",
           "ticks": "",
           "title": {
            "standoff": 15
           },
           "zerolinecolor": "#EBF0F8",
           "zerolinewidth": 2
          }
         }
        },
        "title": {
         "text": "City sales Analysis"
        },
        "xaxis": {
         "anchor": "y",
         "domain": [
          0,
          1
         ],
         "title": {
          "text": "City"
         }
        },
        "yaxis": {
         "anchor": "x",
         "domain": [
          0,
          1
         ],
         "title": {
          "text": "Sales"
         }
        }
       }
      }
     },
     "metadata": {},
     "output_type": "display_data"
    }
   ],
   "source": [
    "fig = px.line(sales_by_City, x = 'City', y = 'Sales', title = 'City sales Analysis')\n",
    "\n",
    "fig.show()\n"
   ]
  },
  {
   "cell_type": "markdown",
   "metadata": {},
   "source": [
    "Top Customers by sales:--"
   ]
  },
  {
   "cell_type": "code",
   "execution_count": 53,
   "metadata": {},
   "outputs": [],
   "source": [
    "top_customers = data.groupby('Customer Name')['Sales'].sum().reset_index()\n"
   ]
  },
  {
   "cell_type": "code",
   "execution_count": 54,
   "metadata": {},
   "outputs": [],
   "source": [
    "top_customers = top_customers.sort_values(by='Sales', ascending=False).head(10)"
   ]
  },
  {
   "cell_type": "code",
   "execution_count": 55,
   "metadata": {},
   "outputs": [
    {
     "data": {
      "application/vnd.plotly.v1+json": {
       "config": {
        "plotlyServerURL": "https://plot.ly"
       },
       "data": [
        {
         "alignmentgroup": "True",
         "hovertemplate": "Customer Name=%{x}<br>Sales=%{marker.color}<extra></extra>",
         "legendgroup": "",
         "marker": {
          "color": [
           25043.05,
           19052.218,
           15117.339,
           14595.62,
           14473.570999999998,
           14175.229000000001,
           14142.333999999999,
           12873.297999999999,
           12209.438000000002,
           12129.072000000002
          ],
          "coloraxis": "coloraxis",
          "pattern": {
           "shape": ""
          }
         },
         "name": "",
         "offsetgroup": "",
         "orientation": "v",
         "showlegend": false,
         "textposition": "auto",
         "texttemplate": "%{y}",
         "type": "bar",
         "x": [
          "Sean Miller",
          "Tamara Chand",
          "Raymond Buch",
          "Tom Ashbrook",
          "Adrian Barton",
          "Ken Lonsdale",
          "Sanjit Chand",
          "Hunter Lopez",
          "Sanjit Engle",
          "Christopher Conant"
         ],
         "xaxis": "x",
         "y": [
          25043.05,
          19052.218,
          15117.339,
          14595.62,
          14473.570999999998,
          14175.229000000001,
          14142.333999999999,
          12873.297999999999,
          12209.438000000002,
          12129.072000000002
         ],
         "yaxis": "y"
        }
       ],
       "layout": {
        "barmode": "relative",
        "coloraxis": {
         "colorbar": {
          "title": {
           "text": "Sales"
          }
         },
         "colorscale": [
          [
           0,
           "#0d0887"
          ],
          [
           0.1111111111111111,
           "#46039f"
          ],
          [
           0.2222222222222222,
           "#7201a8"
          ],
          [
           0.3333333333333333,
           "#9c179e"
          ],
          [
           0.4444444444444444,
           "#bd3786"
          ],
          [
           0.5555555555555556,
           "#d8576b"
          ],
          [
           0.6666666666666666,
           "#ed7953"
          ],
          [
           0.7777777777777778,
           "#fb9f3a"
          ],
          [
           0.8888888888888888,
           "#fdca26"
          ],
          [
           1,
           "#f0f921"
          ]
         ]
        },
        "legend": {
         "tracegroupgap": 0
        },
        "template": {
         "data": {
          "bar": [
           {
            "error_x": {
             "color": "#2a3f5f"
            },
            "error_y": {
             "color": "#2a3f5f"
            },
            "marker": {
             "line": {
              "color": "white",
              "width": 0.5
             },
             "pattern": {
              "fillmode": "overlay",
              "size": 10,
              "solidity": 0.2
             }
            },
            "type": "bar"
           }
          ],
          "barpolar": [
           {
            "marker": {
             "line": {
              "color": "white",
              "width": 0.5
             },
             "pattern": {
              "fillmode": "overlay",
              "size": 10,
              "solidity": 0.2
             }
            },
            "type": "barpolar"
           }
          ],
          "carpet": [
           {
            "aaxis": {
             "endlinecolor": "#2a3f5f",
             "gridcolor": "#C8D4E3",
             "linecolor": "#C8D4E3",
             "minorgridcolor": "#C8D4E3",
             "startlinecolor": "#2a3f5f"
            },
            "baxis": {
             "endlinecolor": "#2a3f5f",
             "gridcolor": "#C8D4E3",
             "linecolor": "#C8D4E3",
             "minorgridcolor": "#C8D4E3",
             "startlinecolor": "#2a3f5f"
            },
            "type": "carpet"
           }
          ],
          "choropleth": [
           {
            "colorbar": {
             "outlinewidth": 0,
             "ticks": ""
            },
            "type": "choropleth"
           }
          ],
          "contour": [
           {
            "colorbar": {
             "outlinewidth": 0,
             "ticks": ""
            },
            "colorscale": [
             [
              0,
              "#0d0887"
             ],
             [
              0.1111111111111111,
              "#46039f"
             ],
             [
              0.2222222222222222,
              "#7201a8"
             ],
             [
              0.3333333333333333,
              "#9c179e"
             ],
             [
              0.4444444444444444,
              "#bd3786"
             ],
             [
              0.5555555555555556,
              "#d8576b"
             ],
             [
              0.6666666666666666,
              "#ed7953"
             ],
             [
              0.7777777777777778,
              "#fb9f3a"
             ],
             [
              0.8888888888888888,
              "#fdca26"
             ],
             [
              1,
              "#f0f921"
             ]
            ],
            "type": "contour"
           }
          ],
          "contourcarpet": [
           {
            "colorbar": {
             "outlinewidth": 0,
             "ticks": ""
            },
            "type": "contourcarpet"
           }
          ],
          "heatmap": [
           {
            "colorbar": {
             "outlinewidth": 0,
             "ticks": ""
            },
            "colorscale": [
             [
              0,
              "#0d0887"
             ],
             [
              0.1111111111111111,
              "#46039f"
             ],
             [
              0.2222222222222222,
              "#7201a8"
             ],
             [
              0.3333333333333333,
              "#9c179e"
             ],
             [
              0.4444444444444444,
              "#bd3786"
             ],
             [
              0.5555555555555556,
              "#d8576b"
             ],
             [
              0.6666666666666666,
              "#ed7953"
             ],
             [
              0.7777777777777778,
              "#fb9f3a"
             ],
             [
              0.8888888888888888,
              "#fdca26"
             ],
             [
              1,
              "#f0f921"
             ]
            ],
            "type": "heatmap"
           }
          ],
          "heatmapgl": [
           {
            "colorbar": {
             "outlinewidth": 0,
             "ticks": ""
            },
            "colorscale": [
             [
              0,
              "#0d0887"
             ],
             [
              0.1111111111111111,
              "#46039f"
             ],
             [
              0.2222222222222222,
              "#7201a8"
             ],
             [
              0.3333333333333333,
              "#9c179e"
             ],
             [
              0.4444444444444444,
              "#bd3786"
             ],
             [
              0.5555555555555556,
              "#d8576b"
             ],
             [
              0.6666666666666666,
              "#ed7953"
             ],
             [
              0.7777777777777778,
              "#fb9f3a"
             ],
             [
              0.8888888888888888,
              "#fdca26"
             ],
             [
              1,
              "#f0f921"
             ]
            ],
            "type": "heatmapgl"
           }
          ],
          "histogram": [
           {
            "marker": {
             "pattern": {
              "fillmode": "overlay",
              "size": 10,
              "solidity": 0.2
             }
            },
            "type": "histogram"
           }
          ],
          "histogram2d": [
           {
            "colorbar": {
             "outlinewidth": 0,
             "ticks": ""
            },
            "colorscale": [
             [
              0,
              "#0d0887"
             ],
             [
              0.1111111111111111,
              "#46039f"
             ],
             [
              0.2222222222222222,
              "#7201a8"
             ],
             [
              0.3333333333333333,
              "#9c179e"
             ],
             [
              0.4444444444444444,
              "#bd3786"
             ],
             [
              0.5555555555555556,
              "#d8576b"
             ],
             [
              0.6666666666666666,
              "#ed7953"
             ],
             [
              0.7777777777777778,
              "#fb9f3a"
             ],
             [
              0.8888888888888888,
              "#fdca26"
             ],
             [
              1,
              "#f0f921"
             ]
            ],
            "type": "histogram2d"
           }
          ],
          "histogram2dcontour": [
           {
            "colorbar": {
             "outlinewidth": 0,
             "ticks": ""
            },
            "colorscale": [
             [
              0,
              "#0d0887"
             ],
             [
              0.1111111111111111,
              "#46039f"
             ],
             [
              0.2222222222222222,
              "#7201a8"
             ],
             [
              0.3333333333333333,
              "#9c179e"
             ],
             [
              0.4444444444444444,
              "#bd3786"
             ],
             [
              0.5555555555555556,
              "#d8576b"
             ],
             [
              0.6666666666666666,
              "#ed7953"
             ],
             [
              0.7777777777777778,
              "#fb9f3a"
             ],
             [
              0.8888888888888888,
              "#fdca26"
             ],
             [
              1,
              "#f0f921"
             ]
            ],
            "type": "histogram2dcontour"
           }
          ],
          "mesh3d": [
           {
            "colorbar": {
             "outlinewidth": 0,
             "ticks": ""
            },
            "type": "mesh3d"
           }
          ],
          "parcoords": [
           {
            "line": {
             "colorbar": {
              "outlinewidth": 0,
              "ticks": ""
             }
            },
            "type": "parcoords"
           }
          ],
          "pie": [
           {
            "automargin": true,
            "type": "pie"
           }
          ],
          "scatter": [
           {
            "fillpattern": {
             "fillmode": "overlay",
             "size": 10,
             "solidity": 0.2
            },
            "type": "scatter"
           }
          ],
          "scatter3d": [
           {
            "line": {
             "colorbar": {
              "outlinewidth": 0,
              "ticks": ""
             }
            },
            "marker": {
             "colorbar": {
              "outlinewidth": 0,
              "ticks": ""
             }
            },
            "type": "scatter3d"
           }
          ],
          "scattercarpet": [
           {
            "marker": {
             "colorbar": {
              "outlinewidth": 0,
              "ticks": ""
             }
            },
            "type": "scattercarpet"
           }
          ],
          "scattergeo": [
           {
            "marker": {
             "colorbar": {
              "outlinewidth": 0,
              "ticks": ""
             }
            },
            "type": "scattergeo"
           }
          ],
          "scattergl": [
           {
            "marker": {
             "colorbar": {
              "outlinewidth": 0,
              "ticks": ""
             }
            },
            "type": "scattergl"
           }
          ],
          "scattermapbox": [
           {
            "marker": {
             "colorbar": {
              "outlinewidth": 0,
              "ticks": ""
             }
            },
            "type": "scattermapbox"
           }
          ],
          "scatterpolar": [
           {
            "marker": {
             "colorbar": {
              "outlinewidth": 0,
              "ticks": ""
             }
            },
            "type": "scatterpolar"
           }
          ],
          "scatterpolargl": [
           {
            "marker": {
             "colorbar": {
              "outlinewidth": 0,
              "ticks": ""
             }
            },
            "type": "scatterpolargl"
           }
          ],
          "scatterternary": [
           {
            "marker": {
             "colorbar": {
              "outlinewidth": 0,
              "ticks": ""
             }
            },
            "type": "scatterternary"
           }
          ],
          "surface": [
           {
            "colorbar": {
             "outlinewidth": 0,
             "ticks": ""
            },
            "colorscale": [
             [
              0,
              "#0d0887"
             ],
             [
              0.1111111111111111,
              "#46039f"
             ],
             [
              0.2222222222222222,
              "#7201a8"
             ],
             [
              0.3333333333333333,
              "#9c179e"
             ],
             [
              0.4444444444444444,
              "#bd3786"
             ],
             [
              0.5555555555555556,
              "#d8576b"
             ],
             [
              0.6666666666666666,
              "#ed7953"
             ],
             [
              0.7777777777777778,
              "#fb9f3a"
             ],
             [
              0.8888888888888888,
              "#fdca26"
             ],
             [
              1,
              "#f0f921"
             ]
            ],
            "type": "surface"
           }
          ],
          "table": [
           {
            "cells": {
             "fill": {
              "color": "#EBF0F8"
             },
             "line": {
              "color": "white"
             }
            },
            "header": {
             "fill": {
              "color": "#C8D4E3"
             },
             "line": {
              "color": "white"
             }
            },
            "type": "table"
           }
          ]
         },
         "layout": {
          "annotationdefaults": {
           "arrowcolor": "#2a3f5f",
           "arrowhead": 0,
           "arrowwidth": 1
          },
          "autotypenumbers": "strict",
          "coloraxis": {
           "colorbar": {
            "outlinewidth": 0,
            "ticks": ""
           }
          },
          "colorscale": {
           "diverging": [
            [
             0,
             "#8e0152"
            ],
            [
             0.1,
             "#c51b7d"
            ],
            [
             0.2,
             "#de77ae"
            ],
            [
             0.3,
             "#f1b6da"
            ],
            [
             0.4,
             "#fde0ef"
            ],
            [
             0.5,
             "#f7f7f7"
            ],
            [
             0.6,
             "#e6f5d0"
            ],
            [
             0.7,
             "#b8e186"
            ],
            [
             0.8,
             "#7fbc41"
            ],
            [
             0.9,
             "#4d9221"
            ],
            [
             1,
             "#276419"
            ]
           ],
           "sequential": [
            [
             0,
             "#0d0887"
            ],
            [
             0.1111111111111111,
             "#46039f"
            ],
            [
             0.2222222222222222,
             "#7201a8"
            ],
            [
             0.3333333333333333,
             "#9c179e"
            ],
            [
             0.4444444444444444,
             "#bd3786"
            ],
            [
             0.5555555555555556,
             "#d8576b"
            ],
            [
             0.6666666666666666,
             "#ed7953"
            ],
            [
             0.7777777777777778,
             "#fb9f3a"
            ],
            [
             0.8888888888888888,
             "#fdca26"
            ],
            [
             1,
             "#f0f921"
            ]
           ],
           "sequentialminus": [
            [
             0,
             "#0d0887"
            ],
            [
             0.1111111111111111,
             "#46039f"
            ],
            [
             0.2222222222222222,
             "#7201a8"
            ],
            [
             0.3333333333333333,
             "#9c179e"
            ],
            [
             0.4444444444444444,
             "#bd3786"
            ],
            [
             0.5555555555555556,
             "#d8576b"
            ],
            [
             0.6666666666666666,
             "#ed7953"
            ],
            [
             0.7777777777777778,
             "#fb9f3a"
            ],
            [
             0.8888888888888888,
             "#fdca26"
            ],
            [
             1,
             "#f0f921"
            ]
           ]
          },
          "colorway": [
           "#636efa",
           "#EF553B",
           "#00cc96",
           "#ab63fa",
           "#FFA15A",
           "#19d3f3",
           "#FF6692",
           "#B6E880",
           "#FF97FF",
           "#FECB52"
          ],
          "font": {
           "color": "#2a3f5f"
          },
          "geo": {
           "bgcolor": "white",
           "lakecolor": "white",
           "landcolor": "white",
           "showlakes": true,
           "showland": true,
           "subunitcolor": "#C8D4E3"
          },
          "hoverlabel": {
           "align": "left"
          },
          "hovermode": "closest",
          "mapbox": {
           "style": "light"
          },
          "paper_bgcolor": "white",
          "plot_bgcolor": "white",
          "polar": {
           "angularaxis": {
            "gridcolor": "#EBF0F8",
            "linecolor": "#EBF0F8",
            "ticks": ""
           },
           "bgcolor": "white",
           "radialaxis": {
            "gridcolor": "#EBF0F8",
            "linecolor": "#EBF0F8",
            "ticks": ""
           }
          },
          "scene": {
           "xaxis": {
            "backgroundcolor": "white",
            "gridcolor": "#DFE8F3",
            "gridwidth": 2,
            "linecolor": "#EBF0F8",
            "showbackground": true,
            "ticks": "",
            "zerolinecolor": "#EBF0F8"
           },
           "yaxis": {
            "backgroundcolor": "white",
            "gridcolor": "#DFE8F3",
            "gridwidth": 2,
            "linecolor": "#EBF0F8",
            "showbackground": true,
            "ticks": "",
            "zerolinecolor": "#EBF0F8"
           },
           "zaxis": {
            "backgroundcolor": "white",
            "gridcolor": "#DFE8F3",
            "gridwidth": 2,
            "linecolor": "#EBF0F8",
            "showbackground": true,
            "ticks": "",
            "zerolinecolor": "#EBF0F8"
           }
          },
          "shapedefaults": {
           "line": {
            "color": "#2a3f5f"
           }
          },
          "ternary": {
           "aaxis": {
            "gridcolor": "#DFE8F3",
            "linecolor": "#A2B1C6",
            "ticks": ""
           },
           "baxis": {
            "gridcolor": "#DFE8F3",
            "linecolor": "#A2B1C6",
            "ticks": ""
           },
           "bgcolor": "white",
           "caxis": {
            "gridcolor": "#DFE8F3",
            "linecolor": "#A2B1C6",
            "ticks": ""
           }
          },
          "title": {
           "x": 0.05
          },
          "xaxis": {
           "automargin": true,
           "gridcolor": "#EBF0F8",
           "linecolor": "#EBF0F8",
           "ticks": "",
           "title": {
            "standoff": 15
           },
           "zerolinecolor": "#EBF0F8",
           "zerolinewidth": 2
          },
          "yaxis": {
           "automargin": true,
           "gridcolor": "#EBF0F8",
           "linecolor": "#EBF0F8",
           "ticks": "",
           "title": {
            "standoff": 15
           },
           "zerolinecolor": "#EBF0F8",
           "zerolinewidth": 2
          }
         }
        },
        "title": {
         "text": "Top 10 Customers by Sales"
        },
        "xaxis": {
         "anchor": "y",
         "domain": [
          0,
          1
         ],
         "title": {
          "text": "Customer Name"
         }
        },
        "yaxis": {
         "anchor": "x",
         "domain": [
          0,
          1
         ],
         "title": {
          "text": "Total Sales"
         }
        }
       }
      }
     },
     "metadata": {},
     "output_type": "display_data"
    }
   ],
   "source": [
    "fig = px.bar(top_customers, \n",
    "             x='Customer Name', \n",
    "             y='Sales', \n",
    "             title=\"Top 10 Customers by Sales\",\n",
    "             color='Sales',\n",
    "             text_auto=True)\n",
    "\n",
    "fig.update_layout(xaxis_title=\"Customer Name\", yaxis_title=\"Total Sales\")\n",
    "fig.show()"
   ]
  },
  {
   "cell_type": "code",
   "execution_count": 56,
   "metadata": {},
   "outputs": [],
   "source": [
    "sales_by_Region = data.groupby('Region')['Sales'].sum().reset_index()"
   ]
  },
  {
   "cell_type": "code",
   "execution_count": 57,
   "metadata": {},
   "outputs": [
    {
     "data": {
      "application/vnd.microsoft.datawrangler.viewer.v0+json": {
       "columns": [
        {
         "name": "index",
         "rawType": "int64",
         "type": "integer"
        },
        {
         "name": "Region",
         "rawType": "object",
         "type": "string"
        },
        {
         "name": "Sales",
         "rawType": "float64",
         "type": "float"
        }
       ],
       "ref": "132ced36-0f06-44fc-b890-760087de3df2",
       "rows": [
        [
         "0",
         "Central",
         "501239.8908"
        ],
        [
         "1",
         "East",
         "678781.24"
        ],
        [
         "2",
         "South",
         "391721.905"
        ],
        [
         "3",
         "West",
         "725457.8245"
        ]
       ],
       "shape": {
        "columns": 2,
        "rows": 4
       }
      },
      "text/html": [
       "<div>\n",
       "<style scoped>\n",
       "    .dataframe tbody tr th:only-of-type {\n",
       "        vertical-align: middle;\n",
       "    }\n",
       "\n",
       "    .dataframe tbody tr th {\n",
       "        vertical-align: top;\n",
       "    }\n",
       "\n",
       "    .dataframe thead th {\n",
       "        text-align: right;\n",
       "    }\n",
       "</style>\n",
       "<table border=\"1\" class=\"dataframe\">\n",
       "  <thead>\n",
       "    <tr style=\"text-align: right;\">\n",
       "      <th></th>\n",
       "      <th>Region</th>\n",
       "      <th>Sales</th>\n",
       "    </tr>\n",
       "  </thead>\n",
       "  <tbody>\n",
       "    <tr>\n",
       "      <th>0</th>\n",
       "      <td>Central</td>\n",
       "      <td>501239.8908</td>\n",
       "    </tr>\n",
       "    <tr>\n",
       "      <th>1</th>\n",
       "      <td>East</td>\n",
       "      <td>678781.2400</td>\n",
       "    </tr>\n",
       "    <tr>\n",
       "      <th>2</th>\n",
       "      <td>South</td>\n",
       "      <td>391721.9050</td>\n",
       "    </tr>\n",
       "    <tr>\n",
       "      <th>3</th>\n",
       "      <td>West</td>\n",
       "      <td>725457.8245</td>\n",
       "    </tr>\n",
       "  </tbody>\n",
       "</table>\n",
       "</div>"
      ],
      "text/plain": [
       "    Region        Sales\n",
       "0  Central  501239.8908\n",
       "1     East  678781.2400\n",
       "2    South  391721.9050\n",
       "3     West  725457.8245"
      ]
     },
     "execution_count": 57,
     "metadata": {},
     "output_type": "execute_result"
    }
   ],
   "source": [
    "sales_by_Region"
   ]
  },
  {
   "cell_type": "code",
   "execution_count": 58,
   "metadata": {},
   "outputs": [
    {
     "data": {
      "application/vnd.plotly.v1+json": {
       "config": {
        "plotlyServerURL": "https://plot.ly"
       },
       "data": [
        {
         "domain": {
          "x": [
           0,
           1
          ],
          "y": [
           0,
           1
          ]
         },
         "hole": 0.4,
         "hovertemplate": "Region=%{label}<br>Sales=%{value}<extra></extra>",
         "labels": [
          "Central",
          "East",
          "South",
          "West"
         ],
         "legendgroup": "",
         "name": "",
         "showlegend": true,
         "textinfo": "percent+label",
         "textposition": "inside",
         "type": "pie",
         "values": [
          501239.8908,
          678781.24,
          391721.905,
          725457.8245
         ]
        }
       ],
       "layout": {
        "legend": {
         "tracegroupgap": 0
        },
        "margin": {
         "t": 60
        },
        "piecolorway": [
         "rgb(102, 197, 204)",
         "rgb(246, 207, 113)",
         "rgb(248, 156, 116)",
         "rgb(220, 176, 242)",
         "rgb(135, 197, 95)",
         "rgb(158, 185, 243)",
         "rgb(254, 136, 177)",
         "rgb(201, 219, 116)",
         "rgb(139, 224, 164)",
         "rgb(180, 151, 231)",
         "rgb(179, 179, 179)"
        ],
        "template": {
         "data": {
          "bar": [
           {
            "error_x": {
             "color": "#2a3f5f"
            },
            "error_y": {
             "color": "#2a3f5f"
            },
            "marker": {
             "line": {
              "color": "white",
              "width": 0.5
             },
             "pattern": {
              "fillmode": "overlay",
              "size": 10,
              "solidity": 0.2
             }
            },
            "type": "bar"
           }
          ],
          "barpolar": [
           {
            "marker": {
             "line": {
              "color": "white",
              "width": 0.5
             },
             "pattern": {
              "fillmode": "overlay",
              "size": 10,
              "solidity": 0.2
             }
            },
            "type": "barpolar"
           }
          ],
          "carpet": [
           {
            "aaxis": {
             "endlinecolor": "#2a3f5f",
             "gridcolor": "#C8D4E3",
             "linecolor": "#C8D4E3",
             "minorgridcolor": "#C8D4E3",
             "startlinecolor": "#2a3f5f"
            },
            "baxis": {
             "endlinecolor": "#2a3f5f",
             "gridcolor": "#C8D4E3",
             "linecolor": "#C8D4E3",
             "minorgridcolor": "#C8D4E3",
             "startlinecolor": "#2a3f5f"
            },
            "type": "carpet"
           }
          ],
          "choropleth": [
           {
            "colorbar": {
             "outlinewidth": 0,
             "ticks": ""
            },
            "type": "choropleth"
           }
          ],
          "contour": [
           {
            "colorbar": {
             "outlinewidth": 0,
             "ticks": ""
            },
            "colorscale": [
             [
              0,
              "#0d0887"
             ],
             [
              0.1111111111111111,
              "#46039f"
             ],
             [
              0.2222222222222222,
              "#7201a8"
             ],
             [
              0.3333333333333333,
              "#9c179e"
             ],
             [
              0.4444444444444444,
              "#bd3786"
             ],
             [
              0.5555555555555556,
              "#d8576b"
             ],
             [
              0.6666666666666666,
              "#ed7953"
             ],
             [
              0.7777777777777778,
              "#fb9f3a"
             ],
             [
              0.8888888888888888,
              "#fdca26"
             ],
             [
              1,
              "#f0f921"
             ]
            ],
            "type": "contour"
           }
          ],
          "contourcarpet": [
           {
            "colorbar": {
             "outlinewidth": 0,
             "ticks": ""
            },
            "type": "contourcarpet"
           }
          ],
          "heatmap": [
           {
            "colorbar": {
             "outlinewidth": 0,
             "ticks": ""
            },
            "colorscale": [
             [
              0,
              "#0d0887"
             ],
             [
              0.1111111111111111,
              "#46039f"
             ],
             [
              0.2222222222222222,
              "#7201a8"
             ],
             [
              0.3333333333333333,
              "#9c179e"
             ],
             [
              0.4444444444444444,
              "#bd3786"
             ],
             [
              0.5555555555555556,
              "#d8576b"
             ],
             [
              0.6666666666666666,
              "#ed7953"
             ],
             [
              0.7777777777777778,
              "#fb9f3a"
             ],
             [
              0.8888888888888888,
              "#fdca26"
             ],
             [
              1,
              "#f0f921"
             ]
            ],
            "type": "heatmap"
           }
          ],
          "heatmapgl": [
           {
            "colorbar": {
             "outlinewidth": 0,
             "ticks": ""
            },
            "colorscale": [
             [
              0,
              "#0d0887"
             ],
             [
              0.1111111111111111,
              "#46039f"
             ],
             [
              0.2222222222222222,
              "#7201a8"
             ],
             [
              0.3333333333333333,
              "#9c179e"
             ],
             [
              0.4444444444444444,
              "#bd3786"
             ],
             [
              0.5555555555555556,
              "#d8576b"
             ],
             [
              0.6666666666666666,
              "#ed7953"
             ],
             [
              0.7777777777777778,
              "#fb9f3a"
             ],
             [
              0.8888888888888888,
              "#fdca26"
             ],
             [
              1,
              "#f0f921"
             ]
            ],
            "type": "heatmapgl"
           }
          ],
          "histogram": [
           {
            "marker": {
             "pattern": {
              "fillmode": "overlay",
              "size": 10,
              "solidity": 0.2
             }
            },
            "type": "histogram"
           }
          ],
          "histogram2d": [
           {
            "colorbar": {
             "outlinewidth": 0,
             "ticks": ""
            },
            "colorscale": [
             [
              0,
              "#0d0887"
             ],
             [
              0.1111111111111111,
              "#46039f"
             ],
             [
              0.2222222222222222,
              "#7201a8"
             ],
             [
              0.3333333333333333,
              "#9c179e"
             ],
             [
              0.4444444444444444,
              "#bd3786"
             ],
             [
              0.5555555555555556,
              "#d8576b"
             ],
             [
              0.6666666666666666,
              "#ed7953"
             ],
             [
              0.7777777777777778,
              "#fb9f3a"
             ],
             [
              0.8888888888888888,
              "#fdca26"
             ],
             [
              1,
              "#f0f921"
             ]
            ],
            "type": "histogram2d"
           }
          ],
          "histogram2dcontour": [
           {
            "colorbar": {
             "outlinewidth": 0,
             "ticks": ""
            },
            "colorscale": [
             [
              0,
              "#0d0887"
             ],
             [
              0.1111111111111111,
              "#46039f"
             ],
             [
              0.2222222222222222,
              "#7201a8"
             ],
             [
              0.3333333333333333,
              "#9c179e"
             ],
             [
              0.4444444444444444,
              "#bd3786"
             ],
             [
              0.5555555555555556,
              "#d8576b"
             ],
             [
              0.6666666666666666,
              "#ed7953"
             ],
             [
              0.7777777777777778,
              "#fb9f3a"
             ],
             [
              0.8888888888888888,
              "#fdca26"
             ],
             [
              1,
              "#f0f921"
             ]
            ],
            "type": "histogram2dcontour"
           }
          ],
          "mesh3d": [
           {
            "colorbar": {
             "outlinewidth": 0,
             "ticks": ""
            },
            "type": "mesh3d"
           }
          ],
          "parcoords": [
           {
            "line": {
             "colorbar": {
              "outlinewidth": 0,
              "ticks": ""
             }
            },
            "type": "parcoords"
           }
          ],
          "pie": [
           {
            "automargin": true,
            "type": "pie"
           }
          ],
          "scatter": [
           {
            "fillpattern": {
             "fillmode": "overlay",
             "size": 10,
             "solidity": 0.2
            },
            "type": "scatter"
           }
          ],
          "scatter3d": [
           {
            "line": {
             "colorbar": {
              "outlinewidth": 0,
              "ticks": ""
             }
            },
            "marker": {
             "colorbar": {
              "outlinewidth": 0,
              "ticks": ""
             }
            },
            "type": "scatter3d"
           }
          ],
          "scattercarpet": [
           {
            "marker": {
             "colorbar": {
              "outlinewidth": 0,
              "ticks": ""
             }
            },
            "type": "scattercarpet"
           }
          ],
          "scattergeo": [
           {
            "marker": {
             "colorbar": {
              "outlinewidth": 0,
              "ticks": ""
             }
            },
            "type": "scattergeo"
           }
          ],
          "scattergl": [
           {
            "marker": {
             "colorbar": {
              "outlinewidth": 0,
              "ticks": ""
             }
            },
            "type": "scattergl"
           }
          ],
          "scattermapbox": [
           {
            "marker": {
             "colorbar": {
              "outlinewidth": 0,
              "ticks": ""
             }
            },
            "type": "scattermapbox"
           }
          ],
          "scatterpolar": [
           {
            "marker": {
             "colorbar": {
              "outlinewidth": 0,
              "ticks": ""
             }
            },
            "type": "scatterpolar"
           }
          ],
          "scatterpolargl": [
           {
            "marker": {
             "colorbar": {
              "outlinewidth": 0,
              "ticks": ""
             }
            },
            "type": "scatterpolargl"
           }
          ],
          "scatterternary": [
           {
            "marker": {
             "colorbar": {
              "outlinewidth": 0,
              "ticks": ""
             }
            },
            "type": "scatterternary"
           }
          ],
          "surface": [
           {
            "colorbar": {
             "outlinewidth": 0,
             "ticks": ""
            },
            "colorscale": [
             [
              0,
              "#0d0887"
             ],
             [
              0.1111111111111111,
              "#46039f"
             ],
             [
              0.2222222222222222,
              "#7201a8"
             ],
             [
              0.3333333333333333,
              "#9c179e"
             ],
             [
              0.4444444444444444,
              "#bd3786"
             ],
             [
              0.5555555555555556,
              "#d8576b"
             ],
             [
              0.6666666666666666,
              "#ed7953"
             ],
             [
              0.7777777777777778,
              "#fb9f3a"
             ],
             [
              0.8888888888888888,
              "#fdca26"
             ],
             [
              1,
              "#f0f921"
             ]
            ],
            "type": "surface"
           }
          ],
          "table": [
           {
            "cells": {
             "fill": {
              "color": "#EBF0F8"
             },
             "line": {
              "color": "white"
             }
            },
            "header": {
             "fill": {
              "color": "#C8D4E3"
             },
             "line": {
              "color": "white"
             }
            },
            "type": "table"
           }
          ]
         },
         "layout": {
          "annotationdefaults": {
           "arrowcolor": "#2a3f5f",
           "arrowhead": 0,
           "arrowwidth": 1
          },
          "autotypenumbers": "strict",
          "coloraxis": {
           "colorbar": {
            "outlinewidth": 0,
            "ticks": ""
           }
          },
          "colorscale": {
           "diverging": [
            [
             0,
             "#8e0152"
            ],
            [
             0.1,
             "#c51b7d"
            ],
            [
             0.2,
             "#de77ae"
            ],
            [
             0.3,
             "#f1b6da"
            ],
            [
             0.4,
             "#fde0ef"
            ],
            [
             0.5,
             "#f7f7f7"
            ],
            [
             0.6,
             "#e6f5d0"
            ],
            [
             0.7,
             "#b8e186"
            ],
            [
             0.8,
             "#7fbc41"
            ],
            [
             0.9,
             "#4d9221"
            ],
            [
             1,
             "#276419"
            ]
           ],
           "sequential": [
            [
             0,
             "#0d0887"
            ],
            [
             0.1111111111111111,
             "#46039f"
            ],
            [
             0.2222222222222222,
             "#7201a8"
            ],
            [
             0.3333333333333333,
             "#9c179e"
            ],
            [
             0.4444444444444444,
             "#bd3786"
            ],
            [
             0.5555555555555556,
             "#d8576b"
            ],
            [
             0.6666666666666666,
             "#ed7953"
            ],
            [
             0.7777777777777778,
             "#fb9f3a"
            ],
            [
             0.8888888888888888,
             "#fdca26"
            ],
            [
             1,
             "#f0f921"
            ]
           ],
           "sequentialminus": [
            [
             0,
             "#0d0887"
            ],
            [
             0.1111111111111111,
             "#46039f"
            ],
            [
             0.2222222222222222,
             "#7201a8"
            ],
            [
             0.3333333333333333,
             "#9c179e"
            ],
            [
             0.4444444444444444,
             "#bd3786"
            ],
            [
             0.5555555555555556,
             "#d8576b"
            ],
            [
             0.6666666666666666,
             "#ed7953"
            ],
            [
             0.7777777777777778,
             "#fb9f3a"
            ],
            [
             0.8888888888888888,
             "#fdca26"
            ],
            [
             1,
             "#f0f921"
            ]
           ]
          },
          "colorway": [
           "#636efa",
           "#EF553B",
           "#00cc96",
           "#ab63fa",
           "#FFA15A",
           "#19d3f3",
           "#FF6692",
           "#B6E880",
           "#FF97FF",
           "#FECB52"
          ],
          "font": {
           "color": "#2a3f5f"
          },
          "geo": {
           "bgcolor": "white",
           "lakecolor": "white",
           "landcolor": "white",
           "showlakes": true,
           "showland": true,
           "subunitcolor": "#C8D4E3"
          },
          "hoverlabel": {
           "align": "left"
          },
          "hovermode": "closest",
          "mapbox": {
           "style": "light"
          },
          "paper_bgcolor": "white",
          "plot_bgcolor": "white",
          "polar": {
           "angularaxis": {
            "gridcolor": "#EBF0F8",
            "linecolor": "#EBF0F8",
            "ticks": ""
           },
           "bgcolor": "white",
           "radialaxis": {
            "gridcolor": "#EBF0F8",
            "linecolor": "#EBF0F8",
            "ticks": ""
           }
          },
          "scene": {
           "xaxis": {
            "backgroundcolor": "white",
            "gridcolor": "#DFE8F3",
            "gridwidth": 2,
            "linecolor": "#EBF0F8",
            "showbackground": true,
            "ticks": "",
            "zerolinecolor": "#EBF0F8"
           },
           "yaxis": {
            "backgroundcolor": "white",
            "gridcolor": "#DFE8F3",
            "gridwidth": 2,
            "linecolor": "#EBF0F8",
            "showbackground": true,
            "ticks": "",
            "zerolinecolor": "#EBF0F8"
           },
           "zaxis": {
            "backgroundcolor": "white",
            "gridcolor": "#DFE8F3",
            "gridwidth": 2,
            "linecolor": "#EBF0F8",
            "showbackground": true,
            "ticks": "",
            "zerolinecolor": "#EBF0F8"
           }
          },
          "shapedefaults": {
           "line": {
            "color": "#2a3f5f"
           }
          },
          "ternary": {
           "aaxis": {
            "gridcolor": "#DFE8F3",
            "linecolor": "#A2B1C6",
            "ticks": ""
           },
           "baxis": {
            "gridcolor": "#DFE8F3",
            "linecolor": "#A2B1C6",
            "ticks": ""
           },
           "bgcolor": "white",
           "caxis": {
            "gridcolor": "#DFE8F3",
            "linecolor": "#A2B1C6",
            "ticks": ""
           }
          },
          "title": {
           "x": 0.05
          },
          "xaxis": {
           "automargin": true,
           "gridcolor": "#EBF0F8",
           "linecolor": "#EBF0F8",
           "ticks": "",
           "title": {
            "standoff": 15
           },
           "zerolinecolor": "#EBF0F8",
           "zerolinewidth": 2
          },
          "yaxis": {
           "automargin": true,
           "gridcolor": "#EBF0F8",
           "linecolor": "#EBF0F8",
           "ticks": "",
           "title": {
            "standoff": 15
           },
           "zerolinecolor": "#EBF0F8",
           "zerolinewidth": 2
          }
         }
        },
        "title": {
         "font": {
          "size": 24
         },
         "text": "Sales analysis by Region"
        }
       }
      }
     },
     "metadata": {},
     "output_type": "display_data"
    }
   ],
   "source": [
    "fig = px.pie(sales_by_Region,\n",
    "             values='Sales',\n",
    "             names='Region',\n",
    "             hole=0.4,\n",
    "             color_discrete_sequence=px.colors.qualitative.Pastel)\n",
    "\n",
    "fig.update_traces(textposition='inside', textinfo='percent+label')\n",
    "fig.update_layout(title_text='Sales analysis by Region', title_font=dict(size=24))\n",
    "\n",
    "fig.show()"
   ]
  },
  {
   "cell_type": "code",
   "execution_count": 59,
   "metadata": {},
   "outputs": [],
   "source": [
    "sales_by_Quantity = data.groupby('Quantity')['Sales'].sum().reset_index()"
   ]
  },
  {
   "cell_type": "code",
   "execution_count": 60,
   "metadata": {},
   "outputs": [
    {
     "data": {
      "application/vnd.microsoft.datawrangler.viewer.v0+json": {
       "columns": [
        {
         "name": "index",
         "rawType": "int64",
         "type": "integer"
        },
        {
         "name": "Quantity",
         "rawType": "int64",
         "type": "integer"
        },
        {
         "name": "Sales",
         "rawType": "float64",
         "type": "float"
        }
       ],
       "ref": "51aeacb5-3966-49d2-b9c3-cb9c69b16480",
       "rows": [
        [
         "0",
         "1",
         "53251.9345"
        ],
        [
         "1",
         "2",
         "289091.47980000003"
        ],
        [
         "2",
         "3",
         "422060.6007"
        ],
        [
         "3",
         "4",
         "323670.9944"
        ],
        [
         "4",
         "5",
         "415661.6965"
        ],
        [
         "5",
         "6",
         "207122.3214"
        ],
        [
         "6",
         "7",
         "239908.3659"
        ],
        [
         "7",
         "8",
         "117760.176"
        ],
        [
         "8",
         "9",
         "128505.5901"
        ],
        [
         "9",
         "10",
         "24056.664"
        ],
        [
         "10",
         "11",
         "15772.482"
        ],
        [
         "11",
         "12",
         "14868.408"
        ],
        [
         "12",
         "13",
         "32338.189"
        ],
        [
         "13",
         "14",
         "13131.958"
        ]
       ],
       "shape": {
        "columns": 2,
        "rows": 14
       }
      },
      "text/html": [
       "<div>\n",
       "<style scoped>\n",
       "    .dataframe tbody tr th:only-of-type {\n",
       "        vertical-align: middle;\n",
       "    }\n",
       "\n",
       "    .dataframe tbody tr th {\n",
       "        vertical-align: top;\n",
       "    }\n",
       "\n",
       "    .dataframe thead th {\n",
       "        text-align: right;\n",
       "    }\n",
       "</style>\n",
       "<table border=\"1\" class=\"dataframe\">\n",
       "  <thead>\n",
       "    <tr style=\"text-align: right;\">\n",
       "      <th></th>\n",
       "      <th>Quantity</th>\n",
       "      <th>Sales</th>\n",
       "    </tr>\n",
       "  </thead>\n",
       "  <tbody>\n",
       "    <tr>\n",
       "      <th>0</th>\n",
       "      <td>1</td>\n",
       "      <td>53251.9345</td>\n",
       "    </tr>\n",
       "    <tr>\n",
       "      <th>1</th>\n",
       "      <td>2</td>\n",
       "      <td>289091.4798</td>\n",
       "    </tr>\n",
       "    <tr>\n",
       "      <th>2</th>\n",
       "      <td>3</td>\n",
       "      <td>422060.6007</td>\n",
       "    </tr>\n",
       "    <tr>\n",
       "      <th>3</th>\n",
       "      <td>4</td>\n",
       "      <td>323670.9944</td>\n",
       "    </tr>\n",
       "    <tr>\n",
       "      <th>4</th>\n",
       "      <td>5</td>\n",
       "      <td>415661.6965</td>\n",
       "    </tr>\n",
       "    <tr>\n",
       "      <th>5</th>\n",
       "      <td>6</td>\n",
       "      <td>207122.3214</td>\n",
       "    </tr>\n",
       "    <tr>\n",
       "      <th>6</th>\n",
       "      <td>7</td>\n",
       "      <td>239908.3659</td>\n",
       "    </tr>\n",
       "    <tr>\n",
       "      <th>7</th>\n",
       "      <td>8</td>\n",
       "      <td>117760.1760</td>\n",
       "    </tr>\n",
       "    <tr>\n",
       "      <th>8</th>\n",
       "      <td>9</td>\n",
       "      <td>128505.5901</td>\n",
       "    </tr>\n",
       "    <tr>\n",
       "      <th>9</th>\n",
       "      <td>10</td>\n",
       "      <td>24056.6640</td>\n",
       "    </tr>\n",
       "    <tr>\n",
       "      <th>10</th>\n",
       "      <td>11</td>\n",
       "      <td>15772.4820</td>\n",
       "    </tr>\n",
       "    <tr>\n",
       "      <th>11</th>\n",
       "      <td>12</td>\n",
       "      <td>14868.4080</td>\n",
       "    </tr>\n",
       "    <tr>\n",
       "      <th>12</th>\n",
       "      <td>13</td>\n",
       "      <td>32338.1890</td>\n",
       "    </tr>\n",
       "    <tr>\n",
       "      <th>13</th>\n",
       "      <td>14</td>\n",
       "      <td>13131.9580</td>\n",
       "    </tr>\n",
       "  </tbody>\n",
       "</table>\n",
       "</div>"
      ],
      "text/plain": [
       "    Quantity        Sales\n",
       "0          1   53251.9345\n",
       "1          2  289091.4798\n",
       "2          3  422060.6007\n",
       "3          4  323670.9944\n",
       "4          5  415661.6965\n",
       "5          6  207122.3214\n",
       "6          7  239908.3659\n",
       "7          8  117760.1760\n",
       "8          9  128505.5901\n",
       "9         10   24056.6640\n",
       "10        11   15772.4820\n",
       "11        12   14868.4080\n",
       "12        13   32338.1890\n",
       "13        14   13131.9580"
      ]
     },
     "execution_count": 60,
     "metadata": {},
     "output_type": "execute_result"
    }
   ],
   "source": [
    "sales_by_Quantity"
   ]
  },
  {
   "cell_type": "code",
   "execution_count": 61,
   "metadata": {},
   "outputs": [
    {
     "data": {
      "application/vnd.plotly.v1+json": {
       "config": {
        "plotlyServerURL": "https://plot.ly"
       },
       "data": [
        {
         "hovertemplate": "Quantity=%{x}<br>Sales=%{y}<extra></extra>",
         "legendgroup": "",
         "line": {
          "color": "#636efa",
          "dash": "solid"
         },
         "marker": {
          "symbol": "circle"
         },
         "mode": "lines",
         "name": "",
         "orientation": "v",
         "showlegend": false,
         "type": "scatter",
         "x": [
          1,
          2,
          3,
          4,
          5,
          6,
          7,
          8,
          9,
          10,
          11,
          12,
          13,
          14
         ],
         "xaxis": "x",
         "y": [
          53251.9345,
          289091.47980000003,
          422060.6007,
          323670.9944,
          415661.6965,
          207122.3214,
          239908.3659,
          117760.176,
          128505.5901,
          24056.664,
          15772.482,
          14868.408,
          32338.189,
          13131.958
         ],
         "yaxis": "y"
        }
       ],
       "layout": {
        "legend": {
         "tracegroupgap": 0
        },
        "template": {
         "data": {
          "bar": [
           {
            "error_x": {
             "color": "#2a3f5f"
            },
            "error_y": {
             "color": "#2a3f5f"
            },
            "marker": {
             "line": {
              "color": "white",
              "width": 0.5
             },
             "pattern": {
              "fillmode": "overlay",
              "size": 10,
              "solidity": 0.2
             }
            },
            "type": "bar"
           }
          ],
          "barpolar": [
           {
            "marker": {
             "line": {
              "color": "white",
              "width": 0.5
             },
             "pattern": {
              "fillmode": "overlay",
              "size": 10,
              "solidity": 0.2
             }
            },
            "type": "barpolar"
           }
          ],
          "carpet": [
           {
            "aaxis": {
             "endlinecolor": "#2a3f5f",
             "gridcolor": "#C8D4E3",
             "linecolor": "#C8D4E3",
             "minorgridcolor": "#C8D4E3",
             "startlinecolor": "#2a3f5f"
            },
            "baxis": {
             "endlinecolor": "#2a3f5f",
             "gridcolor": "#C8D4E3",
             "linecolor": "#C8D4E3",
             "minorgridcolor": "#C8D4E3",
             "startlinecolor": "#2a3f5f"
            },
            "type": "carpet"
           }
          ],
          "choropleth": [
           {
            "colorbar": {
             "outlinewidth": 0,
             "ticks": ""
            },
            "type": "choropleth"
           }
          ],
          "contour": [
           {
            "colorbar": {
             "outlinewidth": 0,
             "ticks": ""
            },
            "colorscale": [
             [
              0,
              "#0d0887"
             ],
             [
              0.1111111111111111,
              "#46039f"
             ],
             [
              0.2222222222222222,
              "#7201a8"
             ],
             [
              0.3333333333333333,
              "#9c179e"
             ],
             [
              0.4444444444444444,
              "#bd3786"
             ],
             [
              0.5555555555555556,
              "#d8576b"
             ],
             [
              0.6666666666666666,
              "#ed7953"
             ],
             [
              0.7777777777777778,
              "#fb9f3a"
             ],
             [
              0.8888888888888888,
              "#fdca26"
             ],
             [
              1,
              "#f0f921"
             ]
            ],
            "type": "contour"
           }
          ],
          "contourcarpet": [
           {
            "colorbar": {
             "outlinewidth": 0,
             "ticks": ""
            },
            "type": "contourcarpet"
           }
          ],
          "heatmap": [
           {
            "colorbar": {
             "outlinewidth": 0,
             "ticks": ""
            },
            "colorscale": [
             [
              0,
              "#0d0887"
             ],
             [
              0.1111111111111111,
              "#46039f"
             ],
             [
              0.2222222222222222,
              "#7201a8"
             ],
             [
              0.3333333333333333,
              "#9c179e"
             ],
             [
              0.4444444444444444,
              "#bd3786"
             ],
             [
              0.5555555555555556,
              "#d8576b"
             ],
             [
              0.6666666666666666,
              "#ed7953"
             ],
             [
              0.7777777777777778,
              "#fb9f3a"
             ],
             [
              0.8888888888888888,
              "#fdca26"
             ],
             [
              1,
              "#f0f921"
             ]
            ],
            "type": "heatmap"
           }
          ],
          "heatmapgl": [
           {
            "colorbar": {
             "outlinewidth": 0,
             "ticks": ""
            },
            "colorscale": [
             [
              0,
              "#0d0887"
             ],
             [
              0.1111111111111111,
              "#46039f"
             ],
             [
              0.2222222222222222,
              "#7201a8"
             ],
             [
              0.3333333333333333,
              "#9c179e"
             ],
             [
              0.4444444444444444,
              "#bd3786"
             ],
             [
              0.5555555555555556,
              "#d8576b"
             ],
             [
              0.6666666666666666,
              "#ed7953"
             ],
             [
              0.7777777777777778,
              "#fb9f3a"
             ],
             [
              0.8888888888888888,
              "#fdca26"
             ],
             [
              1,
              "#f0f921"
             ]
            ],
            "type": "heatmapgl"
           }
          ],
          "histogram": [
           {
            "marker": {
             "pattern": {
              "fillmode": "overlay",
              "size": 10,
              "solidity": 0.2
             }
            },
            "type": "histogram"
           }
          ],
          "histogram2d": [
           {
            "colorbar": {
             "outlinewidth": 0,
             "ticks": ""
            },
            "colorscale": [
             [
              0,
              "#0d0887"
             ],
             [
              0.1111111111111111,
              "#46039f"
             ],
             [
              0.2222222222222222,
              "#7201a8"
             ],
             [
              0.3333333333333333,
              "#9c179e"
             ],
             [
              0.4444444444444444,
              "#bd3786"
             ],
             [
              0.5555555555555556,
              "#d8576b"
             ],
             [
              0.6666666666666666,
              "#ed7953"
             ],
             [
              0.7777777777777778,
              "#fb9f3a"
             ],
             [
              0.8888888888888888,
              "#fdca26"
             ],
             [
              1,
              "#f0f921"
             ]
            ],
            "type": "histogram2d"
           }
          ],
          "histogram2dcontour": [
           {
            "colorbar": {
             "outlinewidth": 0,
             "ticks": ""
            },
            "colorscale": [
             [
              0,
              "#0d0887"
             ],
             [
              0.1111111111111111,
              "#46039f"
             ],
             [
              0.2222222222222222,
              "#7201a8"
             ],
             [
              0.3333333333333333,
              "#9c179e"
             ],
             [
              0.4444444444444444,
              "#bd3786"
             ],
             [
              0.5555555555555556,
              "#d8576b"
             ],
             [
              0.6666666666666666,
              "#ed7953"
             ],
             [
              0.7777777777777778,
              "#fb9f3a"
             ],
             [
              0.8888888888888888,
              "#fdca26"
             ],
             [
              1,
              "#f0f921"
             ]
            ],
            "type": "histogram2dcontour"
           }
          ],
          "mesh3d": [
           {
            "colorbar": {
             "outlinewidth": 0,
             "ticks": ""
            },
            "type": "mesh3d"
           }
          ],
          "parcoords": [
           {
            "line": {
             "colorbar": {
              "outlinewidth": 0,
              "ticks": ""
             }
            },
            "type": "parcoords"
           }
          ],
          "pie": [
           {
            "automargin": true,
            "type": "pie"
           }
          ],
          "scatter": [
           {
            "fillpattern": {
             "fillmode": "overlay",
             "size": 10,
             "solidity": 0.2
            },
            "type": "scatter"
           }
          ],
          "scatter3d": [
           {
            "line": {
             "colorbar": {
              "outlinewidth": 0,
              "ticks": ""
             }
            },
            "marker": {
             "colorbar": {
              "outlinewidth": 0,
              "ticks": ""
             }
            },
            "type": "scatter3d"
           }
          ],
          "scattercarpet": [
           {
            "marker": {
             "colorbar": {
              "outlinewidth": 0,
              "ticks": ""
             }
            },
            "type": "scattercarpet"
           }
          ],
          "scattergeo": [
           {
            "marker": {
             "colorbar": {
              "outlinewidth": 0,
              "ticks": ""
             }
            },
            "type": "scattergeo"
           }
          ],
          "scattergl": [
           {
            "marker": {
             "colorbar": {
              "outlinewidth": 0,
              "ticks": ""
             }
            },
            "type": "scattergl"
           }
          ],
          "scattermapbox": [
           {
            "marker": {
             "colorbar": {
              "outlinewidth": 0,
              "ticks": ""
             }
            },
            "type": "scattermapbox"
           }
          ],
          "scatterpolar": [
           {
            "marker": {
             "colorbar": {
              "outlinewidth": 0,
              "ticks": ""
             }
            },
            "type": "scatterpolar"
           }
          ],
          "scatterpolargl": [
           {
            "marker": {
             "colorbar": {
              "outlinewidth": 0,
              "ticks": ""
             }
            },
            "type": "scatterpolargl"
           }
          ],
          "scatterternary": [
           {
            "marker": {
             "colorbar": {
              "outlinewidth": 0,
              "ticks": ""
             }
            },
            "type": "scatterternary"
           }
          ],
          "surface": [
           {
            "colorbar": {
             "outlinewidth": 0,
             "ticks": ""
            },
            "colorscale": [
             [
              0,
              "#0d0887"
             ],
             [
              0.1111111111111111,
              "#46039f"
             ],
             [
              0.2222222222222222,
              "#7201a8"
             ],
             [
              0.3333333333333333,
              "#9c179e"
             ],
             [
              0.4444444444444444,
              "#bd3786"
             ],
             [
              0.5555555555555556,
              "#d8576b"
             ],
             [
              0.6666666666666666,
              "#ed7953"
             ],
             [
              0.7777777777777778,
              "#fb9f3a"
             ],
             [
              0.8888888888888888,
              "#fdca26"
             ],
             [
              1,
              "#f0f921"
             ]
            ],
            "type": "surface"
           }
          ],
          "table": [
           {
            "cells": {
             "fill": {
              "color": "#EBF0F8"
             },
             "line": {
              "color": "white"
             }
            },
            "header": {
             "fill": {
              "color": "#C8D4E3"
             },
             "line": {
              "color": "white"
             }
            },
            "type": "table"
           }
          ]
         },
         "layout": {
          "annotationdefaults": {
           "arrowcolor": "#2a3f5f",
           "arrowhead": 0,
           "arrowwidth": 1
          },
          "autotypenumbers": "strict",
          "coloraxis": {
           "colorbar": {
            "outlinewidth": 0,
            "ticks": ""
           }
          },
          "colorscale": {
           "diverging": [
            [
             0,
             "#8e0152"
            ],
            [
             0.1,
             "#c51b7d"
            ],
            [
             0.2,
             "#de77ae"
            ],
            [
             0.3,
             "#f1b6da"
            ],
            [
             0.4,
             "#fde0ef"
            ],
            [
             0.5,
             "#f7f7f7"
            ],
            [
             0.6,
             "#e6f5d0"
            ],
            [
             0.7,
             "#b8e186"
            ],
            [
             0.8,
             "#7fbc41"
            ],
            [
             0.9,
             "#4d9221"
            ],
            [
             1,
             "#276419"
            ]
           ],
           "sequential": [
            [
             0,
             "#0d0887"
            ],
            [
             0.1111111111111111,
             "#46039f"
            ],
            [
             0.2222222222222222,
             "#7201a8"
            ],
            [
             0.3333333333333333,
             "#9c179e"
            ],
            [
             0.4444444444444444,
             "#bd3786"
            ],
            [
             0.5555555555555556,
             "#d8576b"
            ],
            [
             0.6666666666666666,
             "#ed7953"
            ],
            [
             0.7777777777777778,
             "#fb9f3a"
            ],
            [
             0.8888888888888888,
             "#fdca26"
            ],
            [
             1,
             "#f0f921"
            ]
           ],
           "sequentialminus": [
            [
             0,
             "#0d0887"
            ],
            [
             0.1111111111111111,
             "#46039f"
            ],
            [
             0.2222222222222222,
             "#7201a8"
            ],
            [
             0.3333333333333333,
             "#9c179e"
            ],
            [
             0.4444444444444444,
             "#bd3786"
            ],
            [
             0.5555555555555556,
             "#d8576b"
            ],
            [
             0.6666666666666666,
             "#ed7953"
            ],
            [
             0.7777777777777778,
             "#fb9f3a"
            ],
            [
             0.8888888888888888,
             "#fdca26"
            ],
            [
             1,
             "#f0f921"
            ]
           ]
          },
          "colorway": [
           "#636efa",
           "#EF553B",
           "#00cc96",
           "#ab63fa",
           "#FFA15A",
           "#19d3f3",
           "#FF6692",
           "#B6E880",
           "#FF97FF",
           "#FECB52"
          ],
          "font": {
           "color": "#2a3f5f"
          },
          "geo": {
           "bgcolor": "white",
           "lakecolor": "white",
           "landcolor": "white",
           "showlakes": true,
           "showland": true,
           "subunitcolor": "#C8D4E3"
          },
          "hoverlabel": {
           "align": "left"
          },
          "hovermode": "closest",
          "mapbox": {
           "style": "light"
          },
          "paper_bgcolor": "white",
          "plot_bgcolor": "white",
          "polar": {
           "angularaxis": {
            "gridcolor": "#EBF0F8",
            "linecolor": "#EBF0F8",
            "ticks": ""
           },
           "bgcolor": "white",
           "radialaxis": {
            "gridcolor": "#EBF0F8",
            "linecolor": "#EBF0F8",
            "ticks": ""
           }
          },
          "scene": {
           "xaxis": {
            "backgroundcolor": "white",
            "gridcolor": "#DFE8F3",
            "gridwidth": 2,
            "linecolor": "#EBF0F8",
            "showbackground": true,
            "ticks": "",
            "zerolinecolor": "#EBF0F8"
           },
           "yaxis": {
            "backgroundcolor": "white",
            "gridcolor": "#DFE8F3",
            "gridwidth": 2,
            "linecolor": "#EBF0F8",
            "showbackground": true,
            "ticks": "",
            "zerolinecolor": "#EBF0F8"
           },
           "zaxis": {
            "backgroundcolor": "white",
            "gridcolor": "#DFE8F3",
            "gridwidth": 2,
            "linecolor": "#EBF0F8",
            "showbackground": true,
            "ticks": "",
            "zerolinecolor": "#EBF0F8"
           }
          },
          "shapedefaults": {
           "line": {
            "color": "#2a3f5f"
           }
          },
          "ternary": {
           "aaxis": {
            "gridcolor": "#DFE8F3",
            "linecolor": "#A2B1C6",
            "ticks": ""
           },
           "baxis": {
            "gridcolor": "#DFE8F3",
            "linecolor": "#A2B1C6",
            "ticks": ""
           },
           "bgcolor": "white",
           "caxis": {
            "gridcolor": "#DFE8F3",
            "linecolor": "#A2B1C6",
            "ticks": ""
           }
          },
          "title": {
           "x": 0.05
          },
          "xaxis": {
           "automargin": true,
           "gridcolor": "#EBF0F8",
           "linecolor": "#EBF0F8",
           "ticks": "",
           "title": {
            "standoff": 15
           },
           "zerolinecolor": "#EBF0F8",
           "zerolinewidth": 2
          },
          "yaxis": {
           "automargin": true,
           "gridcolor": "#EBF0F8",
           "linecolor": "#EBF0F8",
           "ticks": "",
           "title": {
            "standoff": 15
           },
           "zerolinecolor": "#EBF0F8",
           "zerolinewidth": 2
          }
         }
        },
        "title": {
         "text": "Sales and Quantity analysis"
        },
        "xaxis": {
         "anchor": "y",
         "domain": [
          0,
          1
         ],
         "title": {
          "text": "Quantity"
         }
        },
        "yaxis": {
         "anchor": "x",
         "domain": [
          0,
          1
         ],
         "title": {
          "text": "Sales"
         }
        }
       }
      }
     },
     "metadata": {},
     "output_type": "display_data"
    }
   ],
   "source": [
    "fig = px.line(sales_by_Quantity, x= 'Quantity', y = 'Sales', title =\"Sales and Quantity analysis\")\n",
    "\n",
    "fig.show()"
   ]
  },
  {
   "cell_type": "markdown",
   "metadata": {},
   "source": [
    "### 👥 Customer Segmentation Using KMeans\n"
   ]
  },
  {
   "cell_type": "code",
   "execution_count": 62,
   "metadata": {},
   "outputs": [
    {
     "data": {
      "application/vnd.plotly.v1+json": {
       "config": {
        "plotlyServerURL": "https://plot.ly"
       },
       "data": [
        {
         "hovertemplate": "<b>%{hovertext}</b><br><br>Sales=%{x}<br>Profit=%{y}<br>Quantity=%{z}<br>Cluster=%{marker.color}<extra></extra>",
         "hovertext": [
          "Aaron Bergman",
          "Aaron Hawkins",
          "Aaron Smayling",
          "Adam Bellavance",
          "Adam Hart",
          "Adam Shillingsburg",
          "Adrian Barton",
          "Adrian Hane",
          "Adrian Shami",
          "Aimee Bixby",
          "Alan Barnes",
          "Alan Dominguez",
          "Alan Haines",
          "Alan Hwang",
          "Alan Schoenberger",
          "Alan Shonely",
          "Alejandro Ballentine",
          "Alejandro Grove",
          "Alejandro Savely",
          "Aleksandra Gannaway",
          "Alex Avila",
          "Alex Grayson",
          "Alex Russell",
          "Alice McCarthy",
          "Allen Armold",
          "Allen Goldenen",
          "Allen Rosenblatt",
          "Alyssa Crouse",
          "Alyssa Tate",
          "Amy Cox",
          "Amy Hunt",
          "Andrew Allen",
          "Andrew Gjertsen",
          "Andrew Roberts",
          "Andy Gerbode",
          "Andy Reiter",
          "Andy Yotov",
          "Anemone Ratner",
          "Angele Hood",
          "Ann Blume",
          "Ann Chong",
          "Ann Steele",
          "Anna Andreadi",
          "Anna Chung",
          "Anna Gayman",
          "Anna Häberlin",
          "Anne McFarland",
          "Anne Pryor",
          "Annie Thurman",
          "Annie Zypern",
          "Anthony Garverick",
          "Anthony Jacobs",
          "Anthony Johnson",
          "Anthony O'Donnell",
          "Anthony Rawles",
          "Anthony Witt",
          "Arianne Irving",
          "Art Ferguson",
          "Art Foster",
          "Arthur Gainer",
          "Arthur Prichep",
          "Arthur Wiediger",
          "Ashley Jarboe",
          "Astrea Jones",
          "Barbara Fisher",
          "Barry Blumstein",
          "Barry Franz",
          "Barry Französisch",
          "Barry Gonzalez",
          "Barry Pond",
          "Barry Weirich",
          "Bart Folk",
          "Bart Pistole",
          "Bart Watters",
          "Becky Castell",
          "Becky Martin",
          "Becky Pak",
          "Ben Ferrer",
          "Ben Peterman",
          "Ben Wallace",
          "Benjamin Farhat",
          "Benjamin Patterson",
          "Benjamin Venier",
          "Berenike Kampe",
          "Beth Fritzler",
          "Beth Paige",
          "Beth Thompson",
          "Bill Donatelli",
          "Bill Eplett",
          "Bill Overfelt",
          "Bill Shonely",
          "Bill Stewart",
          "Bill Tyler",
          "Bobby Elias",
          "Bobby Odegard",
          "Bobby Trafton",
          "Brad Eason",
          "Brad Norvell",
          "Brad Thomas",
          "Bradley Drucker",
          "Bradley Nguyen",
          "Bradley Talbott",
          "Brenda Bowman",
          "Brendan Dodson",
          "Brendan Murry",
          "Brendan Sweed",
          "Brian Dahlen",
          "Brian DeCherney",
          "Brian Derr",
          "Brian Moss",
          "Brian Stugart",
          "Brian Thompson",
          "Brooke Gillingham",
          "Brosina Hoffman",
          "Bruce Degenhardt",
          "Bruce Geld",
          "Bruce Stewart",
          "Bryan Davis",
          "Bryan Mills",
          "Bryan Spruell",
          "Candace McMahon",
          "Cari Sayre",
          "Cari Schnelling",
          "Carl Jackson",
          "Carl Ludwig",
          "Carl Weiss",
          "Carlos Daly",
          "Carlos Meador",
          "Carlos Soltero",
          "Carol Adams",
          "Carol Darley",
          "Carol Triggs",
          "Caroline Jumper",
          "Cassandra Brandow",
          "Catherine Glotzbach",
          "Cathy Armstrong",
          "Cathy Hwang",
          "Cathy Prescott",
          "Chad Cunningham",
          "Chad McGuire",
          "Chad Sievert",
          "Charles Crestani",
          "Charles McCrossin",
          "Charles Sheldon",
          "Charlotte Melton",
          "Chloris Kastensmidt",
          "Chris Cortes",
          "Chris McAfee",
          "Chris Selesnick",
          "Christina Anderson",
          "Christina DeMoss",
          "Christina VanderZanden",
          "Christine Abelman",
          "Christine Kargatis",
          "Christine Phan",
          "Christine Sundaresam",
          "Christopher Conant",
          "Christopher Martinez",
          "Christopher Schild",
          "Christy Brittain",
          "Chuck Clark",
          "Chuck Magee",
          "Chuck Sachs",
          "Cindy Chapman",
          "Cindy Schnelling",
          "Cindy Stewart",
          "Claire Gute",
          "Claudia Bergmann",
          "Clay Cheatham",
          "Clay Ludtke",
          "Clay Rozendal",
          "Clytie Kelty",
          "Corey Catlett",
          "Corey Roper",
          "Corey-Lock",
          "Corinna Mitchell",
          "Craig Carreira",
          "Craig Carroll",
          "Craig Leslie",
          "Craig Molinari",
          "Craig Reiter",
          "Craig Yedwab",
          "Cyma Kinney",
          "Cynthia Arntzen",
          "Cynthia Delaney",
          "Cynthia Voltz",
          "Cyra Reiten",
          "Damala Kotsonis",
          "Dan Campbell",
          "Dan Lawera",
          "Dan Reichenbach",
          "Dana Kaydos",
          "Daniel Byrd",
          "Daniel Lacy",
          "Daniel Raglin",
          "Dario Medina",
          "Darren Budd",
          "Darren Koutras",
          "Darren Powers",
          "Darrin Martin",
          "Darrin Sayre",
          "Darrin Van Huff",
          "Dave Brooks",
          "Dave Hallsten",
          "Dave Kipp",
          "Dave Poirier",
          "David Bremer",
          "David Flashing",
          "David Kendrick",
          "David Philippe",
          "David Smith",
          "David Wiener",
          "Dean Braden",
          "Dean Katz",
          "Dean percer",
          "Deanra Eno",
          "Deborah Brumfield",
          "Debra Catini",
          "Deirdre Greer",
          "Delfina Latchford",
          "Denise Leinenbach",
          "Denise Monton",
          "Dennis Bolton",
          "Dennis Kane",
          "Dennis Pardue",
          "Denny Blanton",
          "Denny Joy",
          "Denny Ordway",
          "Dianna Arnett",
          "Dianna Vittorini",
          "Dianna Wilson",
          "Dionis Lloyd",
          "Don Jones",
          "Don Miller",
          "Don Weiss",
          "Dorothy Badders",
          "Dorothy Dickinson",
          "Dorothy Wardle",
          "Dorris liebe",
          "Doug Bickford",
          "Doug Jacobs",
          "Doug O'Connell",
          "Duane Benoit",
          "Duane Huffman",
          "Duane Noonan",
          "Ed Braxton",
          "Ed Jacobs",
          "Ed Ludwig",
          "Edward Becker",
          "Edward Hooks",
          "Edward Nazzal",
          "Eileen Kiefer",
          "Eleni McCrary",
          "Elizabeth Moffitt",
          "Ellis Ballard",
          "Elpida Rittenbach",
          "Emily Burns",
          "Emily Ducich",
          "Emily Grady",
          "Emily Phan",
          "Eric Barreto",
          "Eric Hoffmann",
          "Eric Murdock",
          "Erica Bern",
          "Erica Hackney",
          "Erica Hernandez",
          "Erica Smith",
          "Erin Ashbrook",
          "Erin Creighton",
          "Erin Mull",
          "Erin Smith",
          "Eudokia Martin",
          "Eugene Barchas",
          "Eugene Hildebrand",
          "Eugene Moren",
          "Eva Jacobs",
          "Evan Bailliet",
          "Evan Henry",
          "Evan Minnotte",
          "Filia McAdams",
          "Frank Atkinson",
          "Frank Carlisle",
          "Frank Gastineau",
          "Frank Hawley",
          "Frank Merwin",
          "Frank Olsen",
          "Frank Preis",
          "Fred Chung",
          "Fred Harton",
          "Fred Hopkins",
          "Fred McMath",
          "Fred Wasserman",
          "Gary Hansen",
          "Gary Hwang",
          "Gary McGarr",
          "Gary Mitchum",
          "Gary Zandusky",
          "Gene Hale",
          "Gene McClure",
          "George Ashbrook",
          "George Bell",
          "George Zrebassa",
          "Georgia Rosenberg",
          "Giulietta Baptist",
          "Giulietta Dortch",
          "Giulietta Weimer",
          "Grace Kelly",
          "Grant Thornton",
          "Greg Guthrie",
          "Greg Hansen",
          "Greg Matthias",
          "Greg Maxwell",
          "Greg Tran",
          "Guy Armstrong",
          "Guy Phonely",
          "Guy Thornton",
          "Hallie Redmond",
          "Harold Dahlen",
          "Harold Engle",
          "Harold Pawlan",
          "Harold Ryan",
          "Harry Greene",
          "Harry Marie",
          "Heather Jas",
          "Heather Kirkland",
          "Helen Abelman",
          "Helen Andreada",
          "Helen Wasserman",
          "Henia Zydlo",
          "Henry Goldwyn",
          "Henry MacAllister",
          "Herbert Flentye",
          "Hilary Holden",
          "Hunter Glantz",
          "Hunter Lopez",
          "Ionia McGrath",
          "Irene Maddox",
          "Ivan Gibson",
          "Ivan Liston",
          "Jack Garza",
          "Jack Lebron",
          "Jack O'Briant",
          "James Galang",
          "James Lanier",
          "Jamie Frazer",
          "Jamie Kunitz",
          "Jane Waco",
          "Janet Lee",
          "Janet Martin",
          "Janet Molinari",
          "Jas O'Carroll",
          "Jason Fortune-",
          "Jason Gross",
          "Jason Klamczynski",
          "Jasper Cacioppo",
          "Jay Fein",
          "Jay Kimmel",
          "Jenna Caffey",
          "Jennifer Braxton",
          "Jennifer Ferguson",
          "Jennifer Halladay",
          "Jennifer Jackson",
          "Jennifer Patt",
          "Jeremy Ellison",
          "Jeremy Farry",
          "Jeremy Lonsdale",
          "Jeremy Pistek",
          "Jessica Myrick",
          "Jesus Ocampo",
          "Jill Fjeld",
          "Jill Matthias",
          "Jill Stevenson",
          "Jim Epp",
          "Jim Karlsson",
          "Jim Kriz",
          "Jim Mitchum",
          "Jim Radford",
          "Jim Sink",
          "Jocasta Rupert",
          "Joe Elijah",
          "Joe Kamberova",
          "Joel Eaton",
          "Joel Jenkins",
          "John Castell",
          "John Dryer",
          "John Grady",
          "John Huston",
          "John Lee",
          "John Lucas",
          "John Murray",
          "John Stevenson",
          "Jonathan Doherty",
          "Jonathan Howell",
          "Joni Blumstein",
          "Joni Sundaresam",
          "Joni Wasserman",
          "Joseph Airdo",
          "Joseph Holt",
          "Joy Bell-",
          "Joy Daniels",
          "Joy Smith",
          "Julia Barnett",
          "Julia Dunbar",
          "Julia West",
          "Juliana Krohn",
          "Julie Creighton",
          "Julie Kriz",
          "Julie Prescott",
          "Justin Deggeller",
          "Justin Ellison",
          "Justin Hirsh",
          "Justin MacKendrick",
          "Justin Ritter",
          "Kalyca Meade",
          "Karen Bern",
          "Karen Carlisle",
          "Karen Daniels",
          "Karen Ferguson",
          "Karen Seio",
          "Karl Braun",
          "Katharine Harms",
          "Katherine Ducich",
          "Katherine Hughes",
          "Katherine Murray",
          "Katherine Nockton",
          "Katrina Bavinger",
          "Katrina Edelman",
          "Katrina Willman",
          "Kean Nguyen",
          "Kean Takahito",
          "Kean Thornton",
          "Keith Dawkins",
          "Keith Herrera",
          "Kelly Andreada",
          "Kelly Collister",
          "Kelly Lampkin",
          "Kelly Williams",
          "Ken Black",
          "Ken Brennan",
          "Ken Dana",
          "Ken Heidel",
          "Ken Lonsdale",
          "Khloe Miller",
          "Kimberly Carter",
          "Kristen Hastings",
          "Kristina Nunn",
          "Kunst Miller",
          "Larry Blacks",
          "Larry Hughes",
          "Larry Tron",
          "Laura Armstrong",
          "Laurel Beltran",
          "Laurel Elliston",
          "Laurel Workman",
          "Lauren Leatherbury",
          "Lela Donovan",
          "Lena Cacioppo",
          "Lena Creighton",
          "Lena Hernandez",
          "Lena Radford",
          "Linda Cazamias",
          "Linda Southworth",
          "Lindsay Castell",
          "Lindsay Shagiari",
          "Lindsay Williams",
          "Lisa DeCherney",
          "Lisa Hazard",
          "Lisa Ryan",
          "Liz Carlisle",
          "Liz MacKendrick",
          "Liz Pelletier",
          "Liz Preis",
          "Liz Thompson",
          "Liz Willingham",
          "Logan Currie",
          "Logan Haushalter",
          "Lori Olson",
          "Luke Foster",
          "Luke Schmidt",
          "Luke Weiss",
          "Lycoris Saunders",
          "Lynn Smith",
          "Magdelene Morse",
          "Marc Crier",
          "Marc Harrigan",
          "Maria Bertelson",
          "Maria Etezadi",
          "Maria Zettner",
          "Maribeth Dona",
          "Maribeth Schnelling",
          "Maribeth Yedwab",
          "Marina Lichtenstein",
          "Maris LaWare",
          "Mark Cousins",
          "Mark Haberlin",
          "Mark Hamilton",
          "Mark Packer",
          "Mark Van Huff",
          "Mary O'Rourke",
          "Mary Zewe",
          "MaryBeth Skach",
          "Mathew Reese",
          "Matt Abelman",
          "Matt Collins",
          "Matt Collister",
          "Matt Connell",
          "Matt Hagelstein",
          "Matthew Clasen",
          "Matthew Grinstein",
          "Maureen Fritzler",
          "Maureen Gastineau",
          "Maureen Gnade",
          "Maurice Satty",
          "Max Engle",
          "Max Jones",
          "Max Ludwig",
          "Maxwell Schwartz",
          "Maya Herman",
          "Meg O'Connel",
          "Meg Tillman",
          "Melanie Seite",
          "Michael Chen",
          "Michael Dominguez",
          "Michael Grace",
          "Michael Granlund",
          "Michael Kennedy",
          "Michael Moore",
          "Michael Nguyen",
          "Michael Oakman",
          "Michael Paige",
          "Michael Stewart",
          "Michelle Arnett",
          "Michelle Ellison",
          "Michelle Huthwaite",
          "Michelle Lonsdale",
          "Michelle Moray",
          "Michelle Tran",
          "Mick Brown",
          "Mick Crebagga",
          "Mick Hernandez",
          "Mike Caudle",
          "Mike Gockenbach",
          "Mike Kennedy",
          "Mike Pelletier",
          "Mike Vittorini",
          "Mitch Gastineau",
          "Mitch Webber",
          "Mitch Willingham",
          "Monica Federle",
          "Muhammed Lee",
          "Muhammed MacIntyre",
          "Muhammed Yedwab",
          "Nancy Lomonaco",
          "Naresj Patel",
          "Nat Carroll",
          "Nat Gilpin",
          "Natalie DeCherney",
          "Natalie Fritzler",
          "Natalie Webber",
          "Nathan Cano",
          "Nathan Gelder",
          "Nathan Mautz",
          "Neil Ducich",
          "Neil Französisch",
          "Neil Knudson",
          "Neola Schneider",
          "Neoma Murray",
          "Nick Crebassa",
          "Nick Radford",
          "Nick Zandusky",
          "Nicole Brennan",
          "Nicole Fjeld",
          "Nicole Hansen",
          "Noah Childs",
          "Noel Staavos",
          "Nona Balk",
          "Nora Paige",
          "Nora Pelletier",
          "Nora Preis",
          "Odella Nelson",
          "Olvera Toch",
          "Pamela Coakley",
          "Pamela Stobb",
          "Parhena Norris",
          "Patricia Hirasaki",
          "Patrick Bzostek",
          "Patrick Gardner",
          "Patrick Jones",
          "Patrick O'Brill",
          "Patrick O'Donnell",
          "Patrick Ryan",
          "Paul Gonzalez",
          "Paul Knutson",
          "Paul Lucas",
          "Paul MacIntyre",
          "Paul Prost",
          "Paul Stevenson",
          "Paul Van Hugh",
          "Pauline Chand",
          "Pauline Johnson",
          "Pauline Webber",
          "Penelope Sewall",
          "Pete Armstrong",
          "Pete Kriz",
          "Pete Takahito",
          "Peter Bühler",
          "Peter Fuller",
          "Peter McVee",
          "Philip Brown",
          "Philip Fox",
          "Philisse Overcash",
          "Phillina Ober",
          "Phillip Breyer",
          "Phillip Flathmann",
          "Pierre Wener",
          "Quincy Jones",
          "Rachel Payne",
          "Ralph Arnett",
          "Ralph Kennedy",
          "Ralph Ritter",
          "Randy Bradley",
          "Randy Ferguson",
          "Raymond Buch",
          "Raymond Messe",
          "Resi Pölking",
          "Ricardo Emerson",
          "Ricardo Sperren",
          "Richard Bierner",
          "Richard Eichhorn",
          "Rick Bensley",
          "Rick Duston",
          "Rick Hansen",
          "Rick Huthwaite",
          "Rick Reed",
          "Rick Wilson",
          "Ritsa Hightower",
          "Rob Beeghly",
          "Rob Dowd",
          "Rob Haberlin",
          "Rob Lucas",
          "Rob Williams",
          "Robert Barroso",
          "Robert Dilbeck",
          "Robert Marley",
          "Robert Waldorf",
          "Roger Barcio",
          "Roger Demir",
          "Roland Fjeld",
          "Roland Murray",
          "Roland Schwarz",
          "Rose O'Brian",
          "Ross Baird",
          "Ross DeVincentis",
          "Roy Collins",
          "Roy Französisch",
          "Roy Phan",
          "Roy Skaria",
          "Ruben Ausman",
          "Ruben Dartt",
          "Russell Applegate",
          "Russell D'Ascenzo",
          "Ryan Akin",
          "Ryan Crowe",
          "Sally Hughsby",
          "Sally Knutson",
          "Sally Matthias",
          "Sam Craven",
          "Sam Zeldin",
          "Sample Company A",
          "Sandra Flanagan",
          "Sandra Glassco",
          "Sanjit Chand",
          "Sanjit Engle",
          "Sanjit Jacobs",
          "Saphhira Shifley",
          "Sara Luxemburg",
          "Sarah Bern",
          "Sarah Brown",
          "Sarah Foster",
          "Sarah Jordon",
          "Scot Coram",
          "Scot Wooten",
          "Scott Cohen",
          "Scott Williamson",
          "Sean Braxton",
          "Sean Christensen",
          "Sean Miller",
          "Sean O'Donnell",
          "Sean Wendt",
          "Seth Vernon",
          "Shahid Collister",
          "Shahid Hopkins",
          "Shahid Shariari",
          "Sharelle Roach",
          "Shaun Chance",
          "Shaun Weien",
          "Sheri Gordon",
          "Shirley Daniels",
          "Shirley Jackson",
          "Shirley Schmidt",
          "Shui Tom",
          "Sibella Parks",
          "Skye Norling",
          "Sonia Cooley",
          "Sonia Sunley",
          "Speros Goranitis",
          "Stefania Perrino",
          "Stefanie Holloman",
          "Stephanie Phelps",
          "Stephanie Ulpright",
          "Steve Carroll",
          "Steve Chapman",
          "Steve Nguyen",
          "Steven Cartwright",
          "Steven Roelle",
          "Steven Ward",
          "Stewart Carmichael",
          "Stewart Visinsky",
          "Stuart Calhoun",
          "Stuart Van",
          "Sue Ann Reed",
          "Sung Chung",
          "Sung Pak",
          "Sung Shariari",
          "Susan Gilcrest",
          "Susan MacKendrick",
          "Susan Pistek",
          "Susan Vittorini",
          "Suzanne McNair",
          "Sylvia Foulston",
          "Tamara Chand",
          "Tamara Dahlen",
          "Tamara Manning",
          "Tamara Willingham",
          "Tanja Norvell",
          "Ted Butterfield",
          "Ted Trevino",
          "Thais Sissman",
          "Thea Hendricks",
          "Thea Hudgings",
          "Theone Pippenger",
          "Theresa Coyne",
          "Theresa Swint",
          "Thomas Boland",
          "Thomas Brumley",
          "Thomas Seio",
          "Thomas Thornton",
          "Tiffany House",
          "Tim Brockman",
          "Tim Taslimi",
          "Toby Braunhardt",
          "Toby Carlisle",
          "Toby Gnade",
          "Toby Ritter",
          "Toby Swindell",
          "Todd Boyes",
          "Todd Sumrall",
          "Tom Ashbrook",
          "Tom Boeckenhauer",
          "Tom Prescott",
          "Tom Stivers",
          "Tonja Turnell",
          "Tony Chapman",
          "Tony Molinari",
          "Tony Sayre",
          "Tracy Blumstein",
          "Tracy Collins",
          "Tracy Hopkins",
          "Tracy Poddar",
          "Tracy Zic",
          "Troy Blackwell",
          "Troy Staebel",
          "Trudy Brown",
          "Trudy Glocke",
          "Trudy Schmidt",
          "Valerie Dominguez",
          "Valerie Mitchum",
          "Valerie Takahito",
          "Vicky Freymann",
          "Victor Preis",
          "Victoria Brennan",
          "Victoria Pisteka",
          "Victoria Wilson",
          "Vivek Gonzalez",
          "Vivek Grady",
          "Vivek Sundaresam",
          "Vivian Mathis",
          "William Brown",
          "Xylona Preis",
          "Yana Sorensen",
          "Yoseph Carroll",
          "Zuschuss Carroll",
          "Zuschuss Donatelli"
         ],
         "legendgroup": "",
         "marker": {
          "color": [
           0,
           1,
           1,
           2,
           1,
           1,
           3,
           1,
           0,
           0,
           0,
           2,
           0,
           1,
           1,
           0,
           0,
           1,
           0,
           0,
           0,
           0,
           0,
           0,
           0,
           0,
           0,
           0,
           0,
           1,
           0,
           0,
           1,
           0,
           0,
           2,
           0,
           0,
           0,
           0,
           1,
           0,
           1,
           0,
           1,
           2,
           2,
           1,
           1,
           0,
           0,
           1,
           2,
           0,
           1,
           0,
           1,
           1,
           0,
           1,
           1,
           1,
           0,
           0,
           0,
           0,
           0,
           1,
           0,
           0,
           0,
           0,
           1,
           1,
           1,
           2,
           0,
           2,
           1,
           0,
           0,
           0,
           0,
           1,
           0,
           1,
           0,
           2,
           1,
           0,
           2,
           1,
           0,
           0,
           0,
           0,
           0,
           0,
           0,
           1,
           1,
           1,
           2,
           0,
           0,
           0,
           1,
           0,
           0,
           2,
           1,
           1,
           0,
           2,
           0,
           0,
           0,
           0,
           0,
           0,
           0,
           0,
           0,
           0,
           0,
           0,
           0,
           0,
           1,
           0,
           0,
           1,
           2,
           2,
           0,
           0,
           0,
           1,
           0,
           0,
           0,
           0,
           0,
           0,
           0,
           1,
           1,
           0,
           1,
           1,
           0,
           1,
           0,
           1,
           1,
           1,
           2,
           3,
           1,
           0,
           1,
           0,
           0,
           0,
           0,
           0,
           0,
           1,
           0,
           2,
           0,
           1,
           0,
           0,
           0,
           2,
           1,
           1,
           0,
           1,
           0,
           0,
           1,
           1,
           1,
           1,
           0,
           1,
           1,
           1,
           2,
           1,
           1,
           1,
           2,
           0,
           0,
           0,
           1,
           2,
           1,
           0,
           1,
           2,
           0,
           1,
           1,
           0,
           0,
           0,
           1,
           0,
           1,
           1,
           2,
           0,
           1,
           0,
           0,
           1,
           0,
           1,
           0,
           1,
           2,
           1,
           0,
           0,
           0,
           1,
           1,
           0,
           1,
           0,
           0,
           1,
           0,
           0,
           0,
           0,
           1,
           0,
           0,
           0,
           0,
           1,
           0,
           0,
           1,
           2,
           0,
           0,
           0,
           1,
           1,
           0,
           0,
           1,
           0,
           2,
           0,
           1,
           0,
           0,
           0,
           0,
           0,
           1,
           0,
           0,
           1,
           0,
           0,
           1,
           2,
           0,
           0,
           0,
           0,
           1,
           1,
           1,
           0,
           1,
           1,
           1,
           1,
           1,
           1,
           2,
           1,
           0,
           1,
           1,
           1,
           1,
           1,
           0,
           1,
           1,
           1,
           0,
           0,
           1,
           0,
           0,
           2,
           0,
           1,
           0,
           0,
           1,
           2,
           1,
           0,
           0,
           0,
           0,
           0,
           0,
           1,
           0,
           2,
           0,
           1,
           0,
           1,
           2,
           0,
           1,
           0,
           1,
           0,
           1,
           3,
           0,
           1,
           0,
           1,
           0,
           0,
           1,
           2,
           0,
           1,
           1,
           2,
           0,
           1,
           1,
           0,
           0,
           0,
           0,
           0,
           1,
           1,
           0,
           0,
           1,
           0,
           0,
           1,
           0,
           0,
           1,
           1,
           0,
           0,
           1,
           0,
           0,
           2,
           1,
           1,
           0,
           0,
           0,
           0,
           2,
           1,
           2,
           0,
           1,
           0,
           0,
           0,
           2,
           0,
           2,
           1,
           2,
           0,
           0,
           0,
           0,
           1,
           1,
           0,
           0,
           1,
           0,
           0,
           0,
           1,
           0,
           1,
           0,
           2,
           0,
           0,
           1,
           0,
           1,
           0,
           0,
           2,
           2,
           0,
           1,
           1,
           0,
           0,
           2,
           1,
           0,
           1,
           1,
           1,
           1,
           1,
           2,
           2,
           1,
           0,
           1,
           0,
           1,
           0,
           1,
           1,
           2,
           0,
           0,
           2,
           1,
           2,
           0,
           0,
           0,
           2,
           1,
           0,
           1,
           1,
           0,
           1,
           2,
           1,
           1,
           1,
           1,
           0,
           1,
           0,
           0,
           0,
           0,
           0,
           0,
           0,
           1,
           1,
           0,
           1,
           0,
           0,
           1,
           1,
           1,
           0,
           0,
           0,
           1,
           1,
           1,
           2,
           0,
           1,
           2,
           1,
           1,
           1,
           1,
           0,
           1,
           1,
           1,
           0,
           0,
           0,
           0,
           2,
           0,
           1,
           1,
           0,
           0,
           1,
           0,
           0,
           0,
           0,
           0,
           2,
           1,
           1,
           0,
           0,
           0,
           0,
           1,
           0,
           0,
           0,
           1,
           1,
           0,
           0,
           1,
           0,
           0,
           0,
           0,
           0,
           1,
           0,
           0,
           1,
           1,
           0,
           0,
           0,
           1,
           0,
           0,
           1,
           0,
           0,
           0,
           0,
           1,
           0,
           2,
           1,
           0,
           1,
           1,
           2,
           0,
           0,
           2,
           0,
           0,
           0,
           1,
           1,
           2,
           0,
           1,
           0,
           1,
           1,
           0,
           1,
           1,
           1,
           0,
           2,
           1,
           1,
           0,
           1,
           0,
           0,
           0,
           1,
           0,
           2,
           1,
           0,
           1,
           0,
           0,
           0,
           2,
           1,
           1,
           0,
           0,
           1,
           2,
           0,
           2,
           0,
           0,
           2,
           1,
           1,
           0,
           1,
           0,
           0,
           0,
           1,
           2,
           0,
           1,
           0,
           0,
           0,
           1,
           3,
           0,
           1,
           0,
           0,
           1,
           0,
           1,
           1,
           0,
           2,
           0,
           2,
           0,
           0,
           1,
           0,
           2,
           1,
           0,
           0,
           2,
           1,
           0,
           1,
           1,
           0,
           1,
           1,
           1,
           1,
           0,
           0,
           1,
           0,
           1,
           1,
           1,
           0,
           0,
           0,
           1,
           0,
           0,
           1,
           1,
           1,
           0,
           0,
           3,
           2,
           1,
           1,
           0,
           0,
           1,
           1,
           0,
           1,
           0,
           1,
           0,
           1,
           1,
           2,
           1,
           0,
           2,
           1,
           0,
           0,
           0,
           0,
           0,
           1,
           2,
           0,
           0,
           0,
           0,
           1,
           0,
           0,
           1,
           1,
           0,
           1,
           1,
           0,
           1,
           1,
           2,
           2,
           0,
           1,
           1,
           0,
           0,
           1,
           0,
           1,
           0,
           0,
           0,
           1,
           1,
           2,
           1,
           3,
           1,
           1,
           1,
           1,
           1,
           1,
           0,
           0,
           0,
           1,
           0,
           1,
           0,
           0,
           1,
           1,
           0,
           1,
           0,
           0,
           1,
           0,
           0,
           0,
           0,
           2,
           3,
           2,
           1,
           0,
           1,
           0,
           0,
           1,
           1,
           0,
           1,
           0,
           0,
           0,
           0,
           1,
           1,
           1,
           2,
           0,
           0,
           0,
           0,
           0,
           1,
           1,
           0,
           0,
           0,
           0,
           2,
           1,
           2,
           1,
           2,
           0
          ],
          "coloraxis": "coloraxis",
          "symbol": "circle"
         },
         "mode": "markers",
         "name": "",
         "scene": "scene",
         "showlegend": false,
         "type": "scatter3d",
         "x": [
          886.156,
          1744.7,
          3050.692,
          7755.62,
          3250.337,
          3255.31,
          14473.570999999998,
          1735.5140000000001,
          58.82,
          966.71,
          1113.838,
          6106.88,
          1587.452,
          4805.344,
          4260.784,
          584.6080000000001,
          914.5319999999999,
          2582.898,
          3214.236,
          367.548,
          5563.56,
          660.972,
          1055.694,
          814.012,
          1056.39,
          200.945,
          2236.128,
          925.8,
          1171.814,
          5527.846,
          2495.3916,
          1790.5120000000002,
          2356.855,
          264.86400000000003,
          1455.038,
          6608.448,
          497.014,
          88.15,
          738.504,
          1515.862,
          2537.6859999999997,
          833.398,
          5086.9349999999995,
          657.316,
          3489.0396000000005,
          7888.294,
          5664.022,
          1638.554,
          3831.864,
          1622.0179999999998,
          170.584,
          4867.344,
          4501.391,
          161.28,
          4523.336,
          649.376,
          4375.786,
          2052.908,
          861.565,
          4510.797,
          3323.556,
          2852.968,
          1839.24,
          629.2479999999999,
          599.798,
          744.3399999999999,
          1333.88,
          2888.506,
          2798.948,
          983.42,
          385.516,
          272.95,
          2442.044,
          4750.358,
          2933.676,
          11789.63,
          1697.8609999999999,
          5907.972,
          3675.861,
          1738.406,
          1585.162,
          1181.49,
          1523.2730000000001,
          659.1379999999999,
          791.9899999999999,
          2475.157,
          2567.656,
          5718.521,
          4204.676,
          2682.728,
          10501.653,
          3887.834,
          2186.6130000000003,
          2261.438,
          130.83,
          603.876,
          1727.652,
          265.296,
          415.19599999999997,
          4411.2429999999995,
          1459.344,
          2684.4919999999997,
          6765.728,
          320.54,
          808.162,
          2454.928,
          3288.471,
          1538.11,
          582.646,
          7294.185,
          3288.1099999999997,
          3196.752,
          1874.172,
          6255.351,
          1526.5,
          1006.356,
          2562.382,
          658.466,
          1338.842,
          949.4300000000001,
          1673.888,
          1278.954,
          537.632,
          16.52,
          1262.0140000000001,
          1136.592,
          2033.968,
          565.392,
          3036.547,
          3789.7228,
          639.766,
          3241.898,
          11164.974,
          6076.139,
          904.4680000000001,
          1679.7240000000002,
          1537.236,
          5402.254,
          1770.945,
          1661.6100000000001,
          884.64,
          2471.65,
          2533.314,
          844.4580000000001,
          1475.144,
          3154.855,
          3913.418,
          2305.712,
          2754.216,
          2648.2872,
          1205.584,
          2830.6279999999997,
          1421.954,
          2945.321,
          5888.275,
          3202.1620000000003,
          12129.072000000002,
          8954.019999999999,
          3651.8585000000003,
          1949.2,
          2870.05,
          287.99,
          550.644,
          1659.438,
          1077.2285,
          5690.054999999999,
          1148.7800000000002,
          4246.4555,
          113.832,
          10880.546,
          2148.852,
          2372.75,
          2540.631,
          475.9,
          1300.076,
          6339.5576,
          2269.7015,
          2854.1150000000002,
          2353.586,
          3984.4524,
          1600.55,
          2900.026,
          1582.109,
          3041.566,
          1860.732,
          2370.3136,
          1397.8724,
          3256.48,
          3336.168,
          1503.112,
          6528.034000000001,
          4282.176,
          2171.599,
          3272.2,
          8350.868,
          1322.034,
          2839.2272,
          1687.04,
          1050.636,
          6345.103,
          1762.213,
          1119.483,
          4531.646,
          4932.872,
          2650.557,
          2215.002,
          2973.094,
          2390.534,
          797.832,
          1058.616,
          2881.8128,
          1080.751,
          2332.577,
          4802.394,
          7198.7609999999995,
          2550.874,
          4655.897,
          1174.618,
          3195.818,
          1458.258,
          585.02,
          4074.4719999999998,
          1081.466,
          3318.486,
          5480.723999999999,
          1711.692,
          2012.52,
          1300.0315,
          156.76,
          3341.587,
          5271.628,
          3539.322,
          2501.6879999999996,
          1376.792,
          344.08,
          3908.8028,
          269.542,
          1204.854,
          755.602,
          1989.05,
          3356.398,
          1267.316,
          1155.202,
          1043.096,
          2139.79,
          3644.978,
          2162.174,
          124.28,
          3236.314,
          10310.880000000001,
          2199.366,
          1303.478,
          2567.0099999999998,
          2339.598,
          4358.128,
          1245.788,
          2767.219,
          3484.92,
          1832.02,
          5478.0608,
          944.6000000000001,
          684.1709999999999,
          933.704,
          1643.255,
          825.9499999999999,
          1219.53,
          3510.4579999999996,
          2846.705,
          461.914,
          228.99,
          4657.924,
          1041.0420000000001,
          3071.126,
          3082.653,
          4588.436000000001,
          2656.691,
          1186.326,
          923.884,
          366.822,
          2456.638,
          2984.054,
          3418.742,
          1383.144,
          4256.272,
          3736.198,
          2678.438,
          4046.746,
          3889.366,
          2271.284,
          6987.196,
          2523.266,
          79.75,
          2819.4669999999996,
          4172.8460000000005,
          3582.8199999999997,
          3078.624,
          4355.150000000001,
          1361.2440000000001,
          1255.682,
          3919.7760000000003,
          1568.44,
          2454.6220000000003,
          1284.38,
          4716.288,
          1888.07,
          2189.019,
          6497.27,
          9351.212,
          2224,
          146.94080000000002,
          3163.628,
          6049.966,
          11820.119999999999,
          1398.382,
          236.53,
          226.436,
          1299.288,
          251.36,
          883.5319999999999,
          1990.314,
          5248.787,
          785.628,
          8236.7648,
          358.1,
          4877.784,
          2163.3,
          2584.158,
          9300.254,
          886.52,
          3247.642,
          736.276,
          2533.1639999999998,
          218.668,
          3690.284,
          12873.297999999999,
          2872.63,
          4930.474,
          744.574,
          5040.736,
          2358.676,
          1214.956,
          3254.949,
          6366.392,
          1571.523,
          2279.5860000000002,
          4427.142,
          7721.714,
          2203.7,
          3159.1220000000003,
          1804.146,
          1934.272,
          955.124,
          2240.58,
          383.812,
          71.263,
          1911.844,
          2709.632,
          1058.108,
          1791.605,
          2371.448,
          309.281,
          709.178,
          1669.135,
          1388.682,
          1082.918,
          3173.874,
          3635.594,
          1733.443,
          1090.838,
          4198.332,
          303.948,
          1417.654,
          7754.976,
          3760.028,
          4760.434,
          864.947,
          1156.658,
          1131.0639999999999,
          863.88,
          8697.842999999999,
          4867.2,
          6760.8150000000005,
          195,
          2772.055,
          2152.352,
          1507.018,
          528.91,
          9799.923,
          2725.256,
          7625.076000000001,
          3868.02,
          7610.8640000000005,
          959.477,
          900.552,
          469.169,
          1244.086,
          6491.026,
          7954.9980000000005,
          644.1188,
          385.43,
          2516.494,
          2518.115,
          695.442,
          1428.731,
          3747.668,
          858.576,
          2932.484,
          1707.71,
          8828.0305,
          2697.248,
          2256.3940000000002,
          2833.9260000000004,
          2201.686,
          2260.958,
          3152.6150000000002,
          2120.954,
          8282.358,
          10604.266,
          88.472,
          1569.464,
          3312.864,
          1888.964,
          3100.612,
          5620.186,
          2617.272,
          908.821,
          1686.7312,
          4416.5199999999995,
          2171.962,
          3057.1,
          4642.088400000001,
          8181.256,
          5952.859,
          1519.506,
          3908.262,
          5016.488,
          449.096,
          2744.742,
          983.922,
          2243.5099999999998,
          3918.9660000000003,
          14175.229000000001,
          453.538,
          1146.05,
          5990.799,
          2280.58,
          4909.472,
          50.188,
          287.426,
          329.876,
          8673.222,
          4985.676,
          1469.45,
          2238.061,
          2741.2039999999997,
          5.304,
          2580.7039999999997,
          7663.126,
          2295.332,
          5142.892,
          4492.946,
          2845.27,
          3246.626,
          2988.674,
          3230.308,
          1961.934,
          318.239,
          1879.306,
          2095.064,
          1346.774,
          756.606,
          3653.399,
          2936.252,
          1259.04,
          2633.582,
          1739.689,
          644.35,
          3930.5089999999996,
          1010.2560000000001,
          5420.514,
          368.88000000000005,
          1008.1360000000001,
          1314.023,
          2725.982,
          2394.025,
          1548.702,
          10663.728000000001,
          593.606,
          3766.382,
          7443.6900000000005,
          2254.285,
          2722.843,
          2921.5,
          4432.138,
          400.016,
          2456.1820000000002,
          3206.132,
          1560.05,
          922.487,
          2564.906,
          475.65599999999995,
          639.178,
          4299.161,
          1303.893,
          2426.067,
          2258.192,
          1252.8,
          795.154,
          3785.276,
          937.039,
          2350.188,
          1342.282,
          1613.402,
          1908.4532,
          6320.746,
          2071.9139999999998,
          3144.678,
          2203.7780000000002,
          1687.0269999999998,
          2890.139,
          370.348,
          3805.714,
          1204.91,
          1242.8329999999999,
          776.384,
          2302.368,
          3794.0800000000004,
          2477.946,
          154.288,
          3983.6420000000003,
          855.116,
          2453.284,
          1256.944,
          2984.948,
          742.082,
          2749.881,
          1319.4498,
          1428.231,
          2218.98,
          5503.093,
          1581.9979999999998,
          3061.543,
          1031.602,
          5087.92,
          1734.574,
          16.739,
          5341.900000000001,
          5253.876,
          1758.3,
          162.232,
          775.414,
          4152.696,
          1418.0900000000001,
          5529.62,
          2461.404,
          1869.58,
          4326.139,
          8322.826,
          7234.014,
          2218.9900000000002,
          1395.9379999999999,
          6459.344,
          2893.455,
          377.16200000000003,
          572.048,
          2575.863,
          2161.979,
          8241.739,
          2367.277,
          2488.31,
          273.87199999999996,
          2031.472,
          2673.29,
          1821.742,
          2964.823,
          1972.599,
          3908.402,
          1228.698,
          7903.1825,
          1567.52,
          3818.624,
          1832.064,
          2181.479,
          1467.152,
          729.648,
          740.356,
          3086.907,
          1220.09,
          7473.8282,
          2493.214,
          1840.178,
          1987.164,
          1441.152,
          239.481,
          1405.402,
          7252.608,
          1278.639,
          2876.046,
          1061.488,
          1824.2340000000002,
          3454.916,
          6843.634,
          729.408,
          8646.934,
          160.572,
          688.324,
          9062.864,
          4115.662,
          1456.95,
          2770,
          4893.043,
          1056.858,
          132.738,
          2206.1279999999997,
          3922.4150000000004,
          6108.338,
          954.6452,
          2617.906,
          1460.192,
          615.932,
          1008.1959999999999,
          3309.15,
          15117.339,
          1453.474,
          5153.084,
          48.36,
          3221.29,
          2663.0860000000002,
          876.696,
          4715.466,
          4272.93,
          3621.3759999999997,
          6979.18,
          3302.2619999999997,
          7397.401,
          740.382,
          528.546,
          2912.8940000000002,
          2085.7400000000002,
          6234.91,
          3279.746,
          221.084,
          2786.632,
          5979.0960000000005,
          3495.646,
          2067.45,
          1419.737,
          2341.2960000000003,
          98.35,
          4159.7699999999995,
          3815.478,
          5633.316000000001,
          1137.616,
          966.409,
          945.222,
          2170.716,
          22.328,
          3832.314,
          3133.924,
          4793.543,
          970.9420000000001,
          1686.9225,
          885.752,
          3406.8395,
          883.409,
          244.49399999999997,
          3362.9636,
          3625.329,
          4624.572,
          763.5459999999999,
          3406.5809999999997,
          14142.333999999999,
          12209.438000000002,
          3949.656,
          1324.028,
          3053.012,
          1348.02,
          6410.996,
          3422.7859999999996,
          1341.036,
          4371.9580000000005,
          1085.078,
          3729.7929999999997,
          1966.65,
          8057.891,
          3979.065,
          25043.05,
          2602.5755,
          1019.044,
          11470.949999999999,
          5992.536,
          2180.718,
          3056.8070000000002,
          3233.481,
          1874.998,
          2921.544,
          1884.798,
          6121.114,
          1318.776,
          613.4,
          433.34000000000003,
          1306.086,
          1860.418,
          902.7280000000001,
          418.49,
          3124.832,
          5440.319,
          2096.392,
          1872.4360000000001,
          2595.364,
          1254.64,
          2576.408,
          3127.9592,
          5226.21,
          4345.8859999999995,
          758.6959999999999,
          4492.657,
          4105.305,
          279.25600000000003,
          1271.0900000000001,
          4767.3415,
          280.632,
          4282.94,
          964.636,
          47.946,
          1043.041,
          3990.689,
          1903.491,
          5563.392,
          3336.535,
          19052.218,
          1434.5480000000002,
          2955.2259999999997,
          5278.826,
          3130.221,
          1467.881,
          4915.602,
          4.833,
          2422.824,
          2942.772,
          4454.0560000000005,
          1038.26,
          2163.6240000000003,
          3589.296,
          816.1740000000001,
          5371.09,
          1427.0439999999999,
          1022.201,
          1602.376,
          439.5,
          2198.45,
          4266.812,
          3058.372,
          675.9419999999999,
          974.7819999999999,
          834.328,
          11891.751,
          14595.62,
          9133.99,
          5329.0048,
          2054.14,
          5364.808,
          1244.976,
          1094.6779999999999,
          2243.274,
          4737.486,
          742.5580000000001,
          4234.0960000000005,
          1936.6399999999999,
          1707.286,
          1387.559,
          2820.424,
          2797.668,
          2074.661,
          3368.094,
          6442.254,
          2454.866,
          1736.596,
          847.944,
          993.9019999999999,
          2005.596,
          3360.526,
          6134.0380000000005,
          846.01,
          427.372,
          1055.981,
          380.69,
          6160.102,
          2374.658,
          6720.4439999999995,
          5454.35,
          8025.707,
          1493.944
         ],
         "y": [
          129.3465,
          365.2152,
          -253.57459999999998,
          2054.5885,
          281.189,
          64.53739999999998,
          5444.8055,
          -2.3145999999999773,
          21.8496,
          313.6597,
          220.813,
          1869.9294,
          -378.5509,
          1308.5546,
          719.7751000000001,
          33.715799999999994,
          264.5675,
          732.7399,
          354.62760000000003,
          59.288399999999996,
          -362.8825,
          -5.137100000000006,
          -221.0544,
          194.9878,
          277.3824,
          69.2784,
          -98.7646,
          -62.1342,
          100.87680000000002,
          1366.0098,
          -196.12009999999998,
          435.8274,
          295.6668,
          43.6695,
          -152.7613,
          2884.6208,
          103.3499,
          32.633,
          83.96300000000001,
          -274.9604,
          298.8273,
          136.49190000000002,
          857.8033,
          -28.700399999999995,
          -246.42570000000003,
          1298.0166,
          1085.7326,
          285.7888,
          974.107,
          154.9503,
          -8.431000000000001,
          150.71300000000005,
          1158.7064,
          12.096,
          494.83519999999993,
          65.77250000000001,
          867.7271000000001,
          317.9712,
          -163.1175,
          343.6824,
          579.3113,
          -104.5486,
          521.1351999999999,
          60.4265,
          227.4384,
          11.583900000000007,
          -291.38109999999995,
          302.02,
          -711.4274,
          209.78300000000002,
          -58.28659999999999,
          110.9272,
          433.9751,
          921.2574,
          251.5974,
          -1659.9580999999998,
          647.3847000000001,
          1538.2127,
          363.5991,
          246.9973,
          523.2133,
          -197.2695,
          315.2214,
          -63.764399999999995,
          25.870199999999997,
          -319.0637,
          417.5918,
          1094.5037,
          1487.7739000000001,
          278.77700000000004,
          2616.0643999999998,
          -17.532200000000024,
          257.9163,
          755.9150999999999,
          59.4522,
          -77.5256,
          139.20080000000002,
          36.6131,
          126.8694,
          1142.1225,
          340.7054,
          409.4983,
          1015.0749999999999,
          116.714,
          95.58160000000001,
          381.7807,
          634.8463,
          206.75689999999997,
          141.53400000000002,
          2199.2781,
          238.73680000000002,
          447.74839999999995,
          107.5715,
          802.7898,
          333.9791,
          119.34790000000001,
          -113.29840000000003,
          141.265,
          137.7439,
          194.0516,
          214.463,
          185.3776,
          105.8275,
          1.652,
          328.0847,
          370.8298,
          426.661,
          -43.732400000000005,
          -126.4223,
          1143.3817,
          -206.7172,
          161.22629999999995,
          858.7414,
          150.2089,
          86.5106,
          211.2559,
          195.15109999999999,
          427.0258,
          208.5912,
          409.0679,
          143.8339,
          392.2825,
          -394.3686,
          113.1405,
          91.2033,
          141.2831,
          393.9618,
          365.0387,
          738.3626,
          279.6183,
          233.0274,
          493.0861,
          246.02179999999998,
          261.22090000000003,
          -1850.3029000000001,
          831.9432,
          2177.0493,
          3899.8903999999998,
          -342.80330000000004,
          272.3883,
          424.6583,
          64.4296,
          156.2593,
          154.851,
          -302.8761,
          -6626.389499999999,
          169.93439999999998,
          1049.5601,
          33.870599999999996,
          1933.7830999999999,
          74.40129999999999,
          497.70980000000003,
          331.434,
          144.7594,
          205.62820000000002,
          1572.4585,
          187.8399,
          850.1591,
          229.00990000000002,
          176.3108,
          306.9176,
          60.64670000000001,
          -338.4311,
          204.48950000000002,
          403.8422,
          98.99749999999999,
          83.27029999999999,
          881.1228000000001,
          -1441.6312999999998,
          322.2449,
          1641.8613,
          937.6496,
          431.3748,
          4.213200000000029,
          2869.0759999999996,
          108.7583,
          213.00289999999998,
          -107.35379999999998,
          241.4524,
          1677.3931,
          193.3319,
          -427.184,
          473.0272,
          1193.7404,
          536.3935,
          563.1761,
          -1421.7692,
          -259.3097,
          249.9447,
          -40.93759999999999,
          163.6993,
          -86.87379999999999,
          169.9679,
          209.89940000000004,
          333.36479999999995,
          464.47139999999996,
          841.8263999999999,
          132.06820000000002,
          562.7761,
          288.8732,
          222.6812,
          1319.0586,
          291.0085,
          377.0799,
          1571.8318,
          438.9092,
          483.03499999999997,
          -38.90860000000001,
          56.7904,
          353.2127,
          1348.7556,
          -52.78799999999997,
          345.2521,
          199.7688,
          69.6672,
          109.32700000000001,
          36.4344,
          -266.8966,
          175.2388,
          438.80119999999994,
          731.5644,
          294.0676,
          177.67350000000002,
          116.667,
          540.5405000000001,
          13.621500000000005,
          387.0176,
          27.1154,
          -80.28599999999999,
          1393.5154,
          496.1131,
          97.10659999999999,
          -133.8275,
          682.5541999999999,
          656.1988,
          -295.7398,
          261.5315,
          670.4435000000001,
          104.2656,
          144.9578,
          0.6042000000000058,
          53.53980000000001,
          102.29599999999999,
          162.8781,
          150.3759,
          -94.14079999999997,
          1003.2935,
          -52.74059999999998,
          96.4256,
          40.15459999999999,
          246.6661,
          240.2362,
          184.7656,
          96.27019999999999,
          1319.3655,
          451.87550000000005,
          282.1701,
          242.1107,
          21.7721,
          249.6808,
          520.5229,
          1217.1662000000001,
          394.73969999999997,
          1073.2676,
          198.10949999999997,
          215.59689999999998,
          406.44730000000004,
          714.2926,
          706.289,
          2050.2826,
          191.4898,
          23.491300000000003,
          -576.8335,
          1176.4181,
          347.266,
          793.2814000000001,
          1087.7539,
          -95.4498,
          441.3185,
          840.899,
          7.837100000000003,
          828.661,
          359.83320000000003,
          1135.8393,
          230.93729999999996,
          -268.54229999999995,
          1448.5525,
          -4108.6589,
          12.698500000000008,
          -5.810200000000001,
          35.48649999999999,
          188.7235,
          2163.4269,
          136.70790000000002,
          31.837600000000002,
          -6.139200000000002,
          185.5794,
          -135.87599999999998,
          274.4028,
          373.8637,
          1196.9504,
          147.0032,
          2437.9836,
          98.6548,
          956.9451,
          270.8574,
          99.1445,
          2164.1611,
          -130.3879,
          -2797.9635000000003,
          117.2755,
          -13.876799999999989,
          86.7342,
          804.6113,
          5622.4292000000005,
          975.7701,
          514.6527,
          320.4982,
          1121.937,
          684.1911,
          -207.79559999999998,
          581.4045,
          1415.6664,
          209.2817,
          575.1259,
          1219.983,
          2173.7093999999997,
          54.51740000000002,
          19.82350000000004,
          502.6143,
          202.13619999999997,
          97.28899999999999,
          3.7976000000000063,
          55.32769999999999,
          -0.35560000000000036,
          330.199,
          330.2838,
          502.92440000000005,
          156.05319999999998,
          635.6376,
          -24.077100000000005,
          200.5558,
          429.7465,
          276.2197,
          -18.06730000000001,
          591.7163,
          757.1802,
          356.5395,
          167.6709,
          1073.2088,
          113.1204,
          -175.54899999999998,
          1623.4019,
          750.9485,
          1172.5303,
          117.20400000000001,
          -785.1645,
          -54.8692,
          107.985,
          1262.2926,
          55.0483,
          221.79670000000002,
          34.449200000000005,
          279.56919999999997,
          -266.55249999999995,
          206.1019,
          26.082199999999997,
          228.907,
          779.9046,
          1574.6163999999999,
          564.9798000000001,
          1050.2667999999999,
          -13.554499999999996,
          -286.9808,
          -327.9336,
          -29.575899999999987,
          -819.4217000000001,
          -644.6982,
          126.76490000000001,
          26.7605,
          -311.25749999999994,
          201.51850000000002,
          111.11410000000001,
          154.06369999999998,
          586.6625,
          201.5952,
          122.6566,
          309.7116,
          1619.5199,
          789.6476,
          -96.95300000000002,
          754.1144,
          452.37300000000005,
          635.1057000000001,
          763.9076,
          846.1217,
          1107.6952000000003,
          1660.1386,
          0.11099999999999888,
          49.71929999999999,
          454.7871,
          328.5942,
          528.2051,
          973.7901999999999,
          -151.1518,
          274.297,
          397.87989999999996,
          1756.135,
          114.3083,
          254.0032,
          194.0671,
          3038.6254,
          656.1162,
          234.9194,
          709.4219,
          -182.78130000000002,
          107.92699999999999,
          579.3551,
          293.55240000000003,
          539.7219,
          727.3786,
          806.855,
          91.1391,
          156.7797,
          1227.5091,
          329.76250000000005,
          745.7685,
          18.6507,
          12.627699999999999,
          59.036,
          2059.1199,
          -52.19099999999998,
          161.76489999999998,
          32.5767,
          560.0078,
          0.4641,
          -188.25110000000004,
          1288.3469,
          526.0727,
          535.4764,
          288.26599999999996,
          -318.77369999999996,
          299.48019999999997,
          262.63669999999996,
          662.8339000000001,
          557.1714,
          -242.73989999999998,
          -382.8079,
          86.77799999999999,
          -44.87799999999999,
          110.7813,
          338.44539999999995,
          320.973,
          192.6312,
          231.12520000000004,
          316.5202,
          150.1712,
          -3583.977,
          244.197,
          837.2411,
          39.1952,
          348.3584,
          178.402,
          461.0014,
          28.761200000000038,
          212.425,
          1859.4695,
          85.01910000000001,
          -241.94999999999996,
          844.9354999999998,
          319.1211,
          684.9162,
          -76.17550000000003,
          1802.3903,
          61.428599999999996,
          484.77330000000006,
          600.2873,
          189.0258,
          59.357699999999994,
          787.7503,
          84.0268,
          162.9363,
          1240.2266,
          210.7493,
          288.98409999999996,
          195.4486,
          122.3612,
          -247.94350000000003,
          341.898,
          -341.52650000000006,
          25.888599999999972,
          -398.79319999999996,
          247.4348,
          77.81280000000001,
          1054.5529000000001,
          409.51120000000003,
          280.85839999999996,
          238.5614,
          169.34369999999998,
          509.0068,
          19.431199999999997,
          698.4174,
          -4.040300000000002,
          -470.7684,
          171.7372,
          -405.3559,
          82.12499999999997,
          290.8227,
          -82.0074,
          638.1563,
          55.226,
          280.7822,
          107.3604,
          476.9032,
          138.71620000000001,
          -520.3443,
          -23.676300000000005,
          117.8057,
          -64.1668,
          170.9746,
          121.7565,
          -93.603,
          227.83380000000002,
          226.4529,
          273.8582,
          -1.2453,
          1238.422,
          1665.516,
          456.86080000000004,
          42.6648,
          58.8916,
          -371.7111,
          343.6381,
          1208.8890000000001,
          580.3075,
          313.63349999999997,
          353.64549999999997,
          -1695.9714,
          1023.123,
          -2204.8072,
          217.0893,
          2751.6848999999997,
          443.33680000000004,
          85.92779999999999,
          121.2177,
          -12.303999999999997,
          788.9525000000001,
          1314.758,
          -25.148799999999966,
          402.4236,
          24.788800000000002,
          388.2131,
          760.1666,
          -359.02099999999996,
          -234.7714,
          117.6429,
          514.6002,
          514.5017,
          631.2282,
          -5.88900000000001,
          -925.1203,
          272.685,
          -134.441,
          192.0396,
          47.8878,
          229.2257,
          137.46130000000002,
          442.1355,
          38.47569999999996,
          437.8533,
          247.6226,
          334.5163,
          -798.705,
          -0.7527000000000026,
          157.8768,
          1495.0854,
          198.5099,
          434.52840000000003,
          -184.3364,
          682.9979000000001,
          803.8169,
          1742.7296999999999,
          225.8588,
          2038.2676000000001,
          -20.0508,
          218.15970000000002,
          -614.2943000000001,
          526.7537,
          280.6606,
          196.87389999999996,
          1155.4331,
          -49.70089999999999,
          21.897000000000002,
          591.3118000000001,
          1290.354,
          1203.6768,
          59.538399999999996,
          546.0882,
          269.688,
          -73.835,
          -164.40619999999998,
          633.7072000000001,
          6976.0959,
          392.1499,
          465.25030000000015,
          6.045,
          633.4513999999999,
          477.23990000000003,
          209.2294,
          640.5466,
          480.594,
          563.7877,
          1289.4535,
          721.6826,
          1586.6273,
          0.30570000000000164,
          76.8879,
          734.5158,
          172.6261,
          488.14840000000004,
          698.8325,
          72.679,
          835.772,
          1902.5438000000001,
          707.5503,
          243.07549999999998,
          207.3304,
          711.6168,
          28.6879,
          1206.3851,
          -1262.5716000000002,
          -461.73319999999995,
          318.4625,
          63.991400000000006,
          280.0261,
          594.5868,
          9.5838,
          1292.8656,
          455.5292,
          304.8673,
          35.05740000000001,
          -445.695,
          10.563300000000002,
          558.4739999999999,
          168.7933,
          -26.5927,
          -317.0508,
          366.43030000000005,
          1011.7443,
          228.1623,
          570.438,
          5757.411899999999,
          2650.6769,
          144.1189,
          332.3487,
          527.9715,
          157.6658,
          885.4623999999999,
          286.9046,
          -23.5137,
          440.14099999999996,
          -19.60620000000001,
          671.0033999999999,
          332.8725,
          -2082.7451,
          229.1617,
          -1980.7393,
          -81.0858,
          95.8383,
          1199.4242,
          236.66149999999996,
          -144.5229,
          -1010.9738,
          -3333.9144,
          379.5611,
          793.6548,
          -119.0105,
          1985.1671999999999,
          68.09629999999999,
          199.93449999999999,
          84.4419,
          -118.77570000000001,
          -716.8565000000001,
          100.2253,
          135.5401,
          463.269,
          -270.42819999999995,
          260.6258,
          268.4782,
          763.4719,
          370.1578,
          611.8291,
          481.74989999999997,
          1276.6513,
          1990.4243999999999,
          68.2416,
          -671.1874,
          485.0272,
          51.8252,
          199.6502,
          610.1496000000001,
          31.1757,
          566.7226,
          -75.586,
          -3.7073,
          -237.2885,
          14.692400000000003,
          106.8912,
          581.5741999999999,
          539.9352,
          8981.323900000001,
          88.1897,
          573.3013,
          737.3905,
          -692.0452,
          390.2113,
          751.9567,
          -3.3156,
          -135.2125,
          -252.5539,
          1129.1261,
          265.5332,
          260.87440000000004,
          829.1635,
          179.0038,
          862.8877,
          278.7371,
          92.729,
          260.6155,
          93.9162,
          490.9567,
          606.3727,
          682.1704,
          220.36440000000002,
          -184.97889999999998,
          268.967,
          2371.7144000000003,
          4703.7883,
          2798.3689,
          -1087.3898,
          48.70169999999999,
          1124.4999,
          119.104,
          292.52099999999996,
          11.377899999999983,
          -1603.0451,
          217.933,
          -571.9678,
          139.22869999999995,
          224.8887,
          -136.4091,
          -294.6981,
          379.882,
          365.7205,
          220.91629999999998,
          1617.7874000000002,
          513.5269,
          -224.08889999999997,
          -96.27799999999999,
          205.3888,
          371.2398,
          -1018.7768,
          -874.6645,
          143.6268,
          -52.333,
          -262.8093,
          116.6373,
          714.3311,
          621.23,
          1778.2923,
          1305.629,
          -1032.1490000000001,
          249.1307
         ],
         "z": [
          13,
          54,
          48,
          56,
          75,
          81,
          73,
          65,
          9,
          37,
          48,
          40,
          28,
          53,
          41,
          39,
          39,
          58,
          39,
          16,
          30,
          47,
          18,
          48,
          41,
          33,
          29,
          17,
          28,
          43,
          35,
          36,
          93,
          33,
          33,
          33,
          34,
          6,
          17,
          38,
          59,
          34,
          64,
          16,
          54,
          102,
          81,
          85,
          60,
          40,
          20,
          62,
          88,
          2,
          54,
          24,
          72,
          51,
          37,
          92,
          102,
          68,
          40,
          22,
          38,
          26,
          26,
          78,
          35,
          30,
          8,
          29,
          70,
          74,
          60,
          64,
          32,
          102,
          69,
          49,
          48,
          14,
          49,
          58,
          11,
          51,
          33,
          75,
          35,
          43,
          39,
          58,
          38,
          19,
          7,
          16,
          40,
          15,
          11,
          49,
          79,
          44,
          83,
          11,
          22,
          41,
          74,
          27,
          19,
          95,
          47,
          88,
          24,
          97,
          29,
          22,
          45,
          21,
          44,
          22,
          38,
          22,
          16,
          5,
          24,
          40,
          35,
          18,
          68,
          29,
          22,
          60,
          83,
          122,
          37,
          49,
          13,
          57,
          46,
          35,
          28,
          31,
          23,
          30,
          21,
          122,
          81,
          28,
          97,
          65,
          39,
          54,
          25,
          46,
          59,
          74,
          34,
          34,
          47,
          44,
          63,
          32,
          13,
          40,
          33,
          40,
          14,
          74,
          14,
          106,
          32,
          108,
          39,
          14,
          30,
          42,
          47,
          51,
          34,
          57,
          18,
          43,
          64,
          72,
          49,
          62,
          26,
          86,
          64,
          51,
          103,
          65,
          47,
          43,
          57,
          28,
          43,
          32,
          58,
          87,
          54,
          28,
          48,
          81,
          33,
          63,
          59,
          23,
          20,
          20,
          68,
          39,
          75,
          70,
          99,
          38,
          52,
          37,
          39,
          74,
          32,
          41,
          28,
          77,
          50,
          62,
          20,
          48,
          27,
          62,
          38,
          33,
          52,
          33,
          21,
          61,
          33,
          44,
          19,
          41,
          43,
          36,
          33,
          41,
          41,
          55,
          31,
          9,
          91,
          120,
          27,
          18,
          23,
          57,
          41,
          27,
          41,
          54,
          44,
          124,
          24,
          72,
          18,
          18,
          20,
          50,
          31,
          87,
          37,
          22,
          77,
          34,
          30,
          76,
          74,
          31,
          20,
          22,
          13,
          48,
          58,
          50,
          48,
          65,
          79,
          60,
          54,
          37,
          52,
          52,
          53,
          9,
          65,
          51,
          43,
          54,
          48,
          15,
          53,
          48,
          62,
          25,
          23,
          63,
          25,
          43,
          66,
          26,
          92,
          9,
          31,
          44,
          106,
          79,
          21,
          23,
          38,
          31,
          44,
          44,
          51,
          31,
          76,
          21,
          64,
          45,
          72,
          85,
          21,
          68,
          29,
          70,
          20,
          38,
          50,
          19,
          93,
          19,
          60,
          20,
          42,
          59,
          70,
          29,
          72,
          67,
          66,
          39,
          91,
          52,
          36,
          42,
          46,
          15,
          12,
          58,
          72,
          14,
          43,
          69,
          29,
          25,
          54,
          49,
          36,
          56,
          63,
          46,
          42,
          67,
          26,
          35,
          74,
          44,
          41,
          41,
          14,
          42,
          3,
          97,
          88,
          90,
          11,
          64,
          26,
          46,
          29,
          143,
          38,
          50,
          43,
          150,
          35,
          32,
          37,
          41,
          87,
          64,
          32,
          39,
          70,
          32,
          17,
          38,
          43,
          43,
          49,
          47,
          60,
          34,
          28,
          74,
          41,
          72,
          34,
          40,
          64,
          67,
          10,
          62,
          70,
          36,
          40,
          69,
          56,
          25,
          67,
          42,
          49,
          45,
          37,
          84,
          91,
          57,
          28,
          84,
          22,
          102,
          29,
          56,
          84,
          113,
          30,
          40,
          69,
          55,
          98,
          12,
          12,
          8,
          105,
          76,
          32,
          50,
          50,
          3,
          113,
          93,
          64,
          64,
          52,
          51,
          30,
          63,
          38,
          25,
          34,
          44,
          43,
          32,
          39,
          52,
          63,
          15,
          62,
          44,
          34,
          69,
          54,
          59,
          16,
          47,
          17,
          54,
          55,
          63,
          82,
          11,
          64,
          105,
          49,
          72,
          51,
          48,
          25,
          45,
          77,
          52,
          15,
          39,
          21,
          29,
          117,
          40,
          47,
          60,
          19,
          33,
          57,
          36,
          25,
          23,
          48,
          46,
          50,
          53,
          73,
          42,
          49,
          31,
          14,
          45,
          45,
          23,
          35,
          73,
          68,
          36,
          14,
          62,
          49,
          42,
          15,
          31,
          18,
          73,
          44,
          39,
          73,
          79,
          34,
          42,
          43,
          78,
          37,
          8,
          51,
          13,
          38,
          7,
          32,
          89,
          44,
          77,
          54,
          45,
          63,
          52,
          78,
          38,
          41,
          44,
          36,
          13,
          51,
          52,
          60,
          64,
          37,
          77,
          7,
          55,
          52,
          29,
          113,
          64,
          46,
          23,
          63,
          58,
          51,
          22,
          75,
          47,
          6,
          54,
          83,
          46,
          91,
          54,
          43,
          61,
          14,
          29,
          16,
          138,
          52,
          52,
          18,
          25,
          48,
          47,
          27,
          107,
          19,
          18,
          75,
          36,
          54,
          34,
          65,
          32,
          10,
          32,
          39,
          61,
          47,
          58,
          29,
          7,
          16,
          67,
          71,
          29,
          88,
          5,
          29,
          66,
          47,
          85,
          60,
          38,
          43,
          36,
          89,
          11,
          35,
          73,
          43,
          101,
          53,
          29,
          23,
          39,
          61,
          22,
          78,
          53,
          4,
          54,
          48,
          92,
          63,
          29,
          45,
          61,
          10,
          53,
          85,
          75,
          33,
          27,
          44,
          113,
          19,
          26,
          62,
          69,
          61,
          35,
          30,
          87,
          78,
          104,
          86,
          30,
          24,
          45,
          74,
          35,
          49,
          33,
          63,
          28,
          84,
          64,
          50,
          52,
          25,
          109,
          80,
          45,
          46,
          34,
          44,
          18,
          62,
          82,
          30,
          36,
          33,
          43,
          67,
          30,
          17,
          49,
          77,
          16,
          71,
          61,
          26,
          66,
          89,
          133,
          50,
          27,
          75,
          91,
          11,
          24,
          75,
          13,
          80,
          39,
          17,
          20,
          57,
          66,
          94,
          66,
          42,
          67,
          67,
          57,
          48,
          66,
          66,
          4,
          29,
          29,
          55,
          17,
          60,
          36,
          23,
          67,
          55,
          40,
          74,
          8,
          35,
          63,
          30,
          22,
          51,
          44,
          59,
          36,
          55,
          39,
          31,
          48,
          45,
          12,
          54,
          85,
          28,
          44,
          48,
          30,
          29,
          44,
          60,
          50,
          52,
          71,
          37,
          42,
          35,
          18,
          37,
          65,
          77,
          32,
          16,
          38,
          25,
          146,
          100,
          58,
          31,
          105,
          32
         ]
        }
       ],
       "layout": {
        "coloraxis": {
         "colorbar": {
          "title": {
           "text": "Cluster"
          }
         },
         "colorscale": [
          [
           0,
           "#0d0887"
          ],
          [
           0.1111111111111111,
           "#46039f"
          ],
          [
           0.2222222222222222,
           "#7201a8"
          ],
          [
           0.3333333333333333,
           "#9c179e"
          ],
          [
           0.4444444444444444,
           "#bd3786"
          ],
          [
           0.5555555555555556,
           "#d8576b"
          ],
          [
           0.6666666666666666,
           "#ed7953"
          ],
          [
           0.7777777777777778,
           "#fb9f3a"
          ],
          [
           0.8888888888888888,
           "#fdca26"
          ],
          [
           1,
           "#f0f921"
          ]
         ]
        },
        "legend": {
         "tracegroupgap": 0
        },
        "scene": {
         "domain": {
          "x": [
           0,
           1
          ],
          "y": [
           0,
           1
          ]
         },
         "xaxis": {
          "title": {
           "text": "Sales"
          }
         },
         "yaxis": {
          "title": {
           "text": "Profit"
          }
         },
         "zaxis": {
          "title": {
           "text": "Quantity"
          }
         }
        },
        "template": {
         "data": {
          "bar": [
           {
            "error_x": {
             "color": "#2a3f5f"
            },
            "error_y": {
             "color": "#2a3f5f"
            },
            "marker": {
             "line": {
              "color": "white",
              "width": 0.5
             },
             "pattern": {
              "fillmode": "overlay",
              "size": 10,
              "solidity": 0.2
             }
            },
            "type": "bar"
           }
          ],
          "barpolar": [
           {
            "marker": {
             "line": {
              "color": "white",
              "width": 0.5
             },
             "pattern": {
              "fillmode": "overlay",
              "size": 10,
              "solidity": 0.2
             }
            },
            "type": "barpolar"
           }
          ],
          "carpet": [
           {
            "aaxis": {
             "endlinecolor": "#2a3f5f",
             "gridcolor": "#C8D4E3",
             "linecolor": "#C8D4E3",
             "minorgridcolor": "#C8D4E3",
             "startlinecolor": "#2a3f5f"
            },
            "baxis": {
             "endlinecolor": "#2a3f5f",
             "gridcolor": "#C8D4E3",
             "linecolor": "#C8D4E3",
             "minorgridcolor": "#C8D4E3",
             "startlinecolor": "#2a3f5f"
            },
            "type": "carpet"
           }
          ],
          "choropleth": [
           {
            "colorbar": {
             "outlinewidth": 0,
             "ticks": ""
            },
            "type": "choropleth"
           }
          ],
          "contour": [
           {
            "colorbar": {
             "outlinewidth": 0,
             "ticks": ""
            },
            "colorscale": [
             [
              0,
              "#0d0887"
             ],
             [
              0.1111111111111111,
              "#46039f"
             ],
             [
              0.2222222222222222,
              "#7201a8"
             ],
             [
              0.3333333333333333,
              "#9c179e"
             ],
             [
              0.4444444444444444,
              "#bd3786"
             ],
             [
              0.5555555555555556,
              "#d8576b"
             ],
             [
              0.6666666666666666,
              "#ed7953"
             ],
             [
              0.7777777777777778,
              "#fb9f3a"
             ],
             [
              0.8888888888888888,
              "#fdca26"
             ],
             [
              1,
              "#f0f921"
             ]
            ],
            "type": "contour"
           }
          ],
          "contourcarpet": [
           {
            "colorbar": {
             "outlinewidth": 0,
             "ticks": ""
            },
            "type": "contourcarpet"
           }
          ],
          "heatmap": [
           {
            "colorbar": {
             "outlinewidth": 0,
             "ticks": ""
            },
            "colorscale": [
             [
              0,
              "#0d0887"
             ],
             [
              0.1111111111111111,
              "#46039f"
             ],
             [
              0.2222222222222222,
              "#7201a8"
             ],
             [
              0.3333333333333333,
              "#9c179e"
             ],
             [
              0.4444444444444444,
              "#bd3786"
             ],
             [
              0.5555555555555556,
              "#d8576b"
             ],
             [
              0.6666666666666666,
              "#ed7953"
             ],
             [
              0.7777777777777778,
              "#fb9f3a"
             ],
             [
              0.8888888888888888,
              "#fdca26"
             ],
             [
              1,
              "#f0f921"
             ]
            ],
            "type": "heatmap"
           }
          ],
          "heatmapgl": [
           {
            "colorbar": {
             "outlinewidth": 0,
             "ticks": ""
            },
            "colorscale": [
             [
              0,
              "#0d0887"
             ],
             [
              0.1111111111111111,
              "#46039f"
             ],
             [
              0.2222222222222222,
              "#7201a8"
             ],
             [
              0.3333333333333333,
              "#9c179e"
             ],
             [
              0.4444444444444444,
              "#bd3786"
             ],
             [
              0.5555555555555556,
              "#d8576b"
             ],
             [
              0.6666666666666666,
              "#ed7953"
             ],
             [
              0.7777777777777778,
              "#fb9f3a"
             ],
             [
              0.8888888888888888,
              "#fdca26"
             ],
             [
              1,
              "#f0f921"
             ]
            ],
            "type": "heatmapgl"
           }
          ],
          "histogram": [
           {
            "marker": {
             "pattern": {
              "fillmode": "overlay",
              "size": 10,
              "solidity": 0.2
             }
            },
            "type": "histogram"
           }
          ],
          "histogram2d": [
           {
            "colorbar": {
             "outlinewidth": 0,
             "ticks": ""
            },
            "colorscale": [
             [
              0,
              "#0d0887"
             ],
             [
              0.1111111111111111,
              "#46039f"
             ],
             [
              0.2222222222222222,
              "#7201a8"
             ],
             [
              0.3333333333333333,
              "#9c179e"
             ],
             [
              0.4444444444444444,
              "#bd3786"
             ],
             [
              0.5555555555555556,
              "#d8576b"
             ],
             [
              0.6666666666666666,
              "#ed7953"
             ],
             [
              0.7777777777777778,
              "#fb9f3a"
             ],
             [
              0.8888888888888888,
              "#fdca26"
             ],
             [
              1,
              "#f0f921"
             ]
            ],
            "type": "histogram2d"
           }
          ],
          "histogram2dcontour": [
           {
            "colorbar": {
             "outlinewidth": 0,
             "ticks": ""
            },
            "colorscale": [
             [
              0,
              "#0d0887"
             ],
             [
              0.1111111111111111,
              "#46039f"
             ],
             [
              0.2222222222222222,
              "#7201a8"
             ],
             [
              0.3333333333333333,
              "#9c179e"
             ],
             [
              0.4444444444444444,
              "#bd3786"
             ],
             [
              0.5555555555555556,
              "#d8576b"
             ],
             [
              0.6666666666666666,
              "#ed7953"
             ],
             [
              0.7777777777777778,
              "#fb9f3a"
             ],
             [
              0.8888888888888888,
              "#fdca26"
             ],
             [
              1,
              "#f0f921"
             ]
            ],
            "type": "histogram2dcontour"
           }
          ],
          "mesh3d": [
           {
            "colorbar": {
             "outlinewidth": 0,
             "ticks": ""
            },
            "type": "mesh3d"
           }
          ],
          "parcoords": [
           {
            "line": {
             "colorbar": {
              "outlinewidth": 0,
              "ticks": ""
             }
            },
            "type": "parcoords"
           }
          ],
          "pie": [
           {
            "automargin": true,
            "type": "pie"
           }
          ],
          "scatter": [
           {
            "fillpattern": {
             "fillmode": "overlay",
             "size": 10,
             "solidity": 0.2
            },
            "type": "scatter"
           }
          ],
          "scatter3d": [
           {
            "line": {
             "colorbar": {
              "outlinewidth": 0,
              "ticks": ""
             }
            },
            "marker": {
             "colorbar": {
              "outlinewidth": 0,
              "ticks": ""
             }
            },
            "type": "scatter3d"
           }
          ],
          "scattercarpet": [
           {
            "marker": {
             "colorbar": {
              "outlinewidth": 0,
              "ticks": ""
             }
            },
            "type": "scattercarpet"
           }
          ],
          "scattergeo": [
           {
            "marker": {
             "colorbar": {
              "outlinewidth": 0,
              "ticks": ""
             }
            },
            "type": "scattergeo"
           }
          ],
          "scattergl": [
           {
            "marker": {
             "colorbar": {
              "outlinewidth": 0,
              "ticks": ""
             }
            },
            "type": "scattergl"
           }
          ],
          "scattermapbox": [
           {
            "marker": {
             "colorbar": {
              "outlinewidth": 0,
              "ticks": ""
             }
            },
            "type": "scattermapbox"
           }
          ],
          "scatterpolar": [
           {
            "marker": {
             "colorbar": {
              "outlinewidth": 0,
              "ticks": ""
             }
            },
            "type": "scatterpolar"
           }
          ],
          "scatterpolargl": [
           {
            "marker": {
             "colorbar": {
              "outlinewidth": 0,
              "ticks": ""
             }
            },
            "type": "scatterpolargl"
           }
          ],
          "scatterternary": [
           {
            "marker": {
             "colorbar": {
              "outlinewidth": 0,
              "ticks": ""
             }
            },
            "type": "scatterternary"
           }
          ],
          "surface": [
           {
            "colorbar": {
             "outlinewidth": 0,
             "ticks": ""
            },
            "colorscale": [
             [
              0,
              "#0d0887"
             ],
             [
              0.1111111111111111,
              "#46039f"
             ],
             [
              0.2222222222222222,
              "#7201a8"
             ],
             [
              0.3333333333333333,
              "#9c179e"
             ],
             [
              0.4444444444444444,
              "#bd3786"
             ],
             [
              0.5555555555555556,
              "#d8576b"
             ],
             [
              0.6666666666666666,
              "#ed7953"
             ],
             [
              0.7777777777777778,
              "#fb9f3a"
             ],
             [
              0.8888888888888888,
              "#fdca26"
             ],
             [
              1,
              "#f0f921"
             ]
            ],
            "type": "surface"
           }
          ],
          "table": [
           {
            "cells": {
             "fill": {
              "color": "#EBF0F8"
             },
             "line": {
              "color": "white"
             }
            },
            "header": {
             "fill": {
              "color": "#C8D4E3"
             },
             "line": {
              "color": "white"
             }
            },
            "type": "table"
           }
          ]
         },
         "layout": {
          "annotationdefaults": {
           "arrowcolor": "#2a3f5f",
           "arrowhead": 0,
           "arrowwidth": 1
          },
          "autotypenumbers": "strict",
          "coloraxis": {
           "colorbar": {
            "outlinewidth": 0,
            "ticks": ""
           }
          },
          "colorscale": {
           "diverging": [
            [
             0,
             "#8e0152"
            ],
            [
             0.1,
             "#c51b7d"
            ],
            [
             0.2,
             "#de77ae"
            ],
            [
             0.3,
             "#f1b6da"
            ],
            [
             0.4,
             "#fde0ef"
            ],
            [
             0.5,
             "#f7f7f7"
            ],
            [
             0.6,
             "#e6f5d0"
            ],
            [
             0.7,
             "#b8e186"
            ],
            [
             0.8,
             "#7fbc41"
            ],
            [
             0.9,
             "#4d9221"
            ],
            [
             1,
             "#276419"
            ]
           ],
           "sequential": [
            [
             0,
             "#0d0887"
            ],
            [
             0.1111111111111111,
             "#46039f"
            ],
            [
             0.2222222222222222,
             "#7201a8"
            ],
            [
             0.3333333333333333,
             "#9c179e"
            ],
            [
             0.4444444444444444,
             "#bd3786"
            ],
            [
             0.5555555555555556,
             "#d8576b"
            ],
            [
             0.6666666666666666,
             "#ed7953"
            ],
            [
             0.7777777777777778,
             "#fb9f3a"
            ],
            [
             0.8888888888888888,
             "#fdca26"
            ],
            [
             1,
             "#f0f921"
            ]
           ],
           "sequentialminus": [
            [
             0,
             "#0d0887"
            ],
            [
             0.1111111111111111,
             "#46039f"
            ],
            [
             0.2222222222222222,
             "#7201a8"
            ],
            [
             0.3333333333333333,
             "#9c179e"
            ],
            [
             0.4444444444444444,
             "#bd3786"
            ],
            [
             0.5555555555555556,
             "#d8576b"
            ],
            [
             0.6666666666666666,
             "#ed7953"
            ],
            [
             0.7777777777777778,
             "#fb9f3a"
            ],
            [
             0.8888888888888888,
             "#fdca26"
            ],
            [
             1,
             "#f0f921"
            ]
           ]
          },
          "colorway": [
           "#636efa",
           "#EF553B",
           "#00cc96",
           "#ab63fa",
           "#FFA15A",
           "#19d3f3",
           "#FF6692",
           "#B6E880",
           "#FF97FF",
           "#FECB52"
          ],
          "font": {
           "color": "#2a3f5f"
          },
          "geo": {
           "bgcolor": "white",
           "lakecolor": "white",
           "landcolor": "white",
           "showlakes": true,
           "showland": true,
           "subunitcolor": "#C8D4E3"
          },
          "hoverlabel": {
           "align": "left"
          },
          "hovermode": "closest",
          "mapbox": {
           "style": "light"
          },
          "paper_bgcolor": "white",
          "plot_bgcolor": "white",
          "polar": {
           "angularaxis": {
            "gridcolor": "#EBF0F8",
            "linecolor": "#EBF0F8",
            "ticks": ""
           },
           "bgcolor": "white",
           "radialaxis": {
            "gridcolor": "#EBF0F8",
            "linecolor": "#EBF0F8",
            "ticks": ""
           }
          },
          "scene": {
           "xaxis": {
            "backgroundcolor": "white",
            "gridcolor": "#DFE8F3",
            "gridwidth": 2,
            "linecolor": "#EBF0F8",
            "showbackground": true,
            "ticks": "",
            "zerolinecolor": "#EBF0F8"
           },
           "yaxis": {
            "backgroundcolor": "white",
            "gridcolor": "#DFE8F3",
            "gridwidth": 2,
            "linecolor": "#EBF0F8",
            "showbackground": true,
            "ticks": "",
            "zerolinecolor": "#EBF0F8"
           },
           "zaxis": {
            "backgroundcolor": "white",
            "gridcolor": "#DFE8F3",
            "gridwidth": 2,
            "linecolor": "#EBF0F8",
            "showbackground": true,
            "ticks": "",
            "zerolinecolor": "#EBF0F8"
           }
          },
          "shapedefaults": {
           "line": {
            "color": "#2a3f5f"
           }
          },
          "ternary": {
           "aaxis": {
            "gridcolor": "#DFE8F3",
            "linecolor": "#A2B1C6",
            "ticks": ""
           },
           "baxis": {
            "gridcolor": "#DFE8F3",
            "linecolor": "#A2B1C6",
            "ticks": ""
           },
           "bgcolor": "white",
           "caxis": {
            "gridcolor": "#DFE8F3",
            "linecolor": "#A2B1C6",
            "ticks": ""
           }
          },
          "title": {
           "x": 0.05
          },
          "xaxis": {
           "automargin": true,
           "gridcolor": "#EBF0F8",
           "linecolor": "#EBF0F8",
           "ticks": "",
           "title": {
            "standoff": 15
           },
           "zerolinecolor": "#EBF0F8",
           "zerolinewidth": 2
          },
          "yaxis": {
           "automargin": true,
           "gridcolor": "#EBF0F8",
           "linecolor": "#EBF0F8",
           "ticks": "",
           "title": {
            "standoff": 15
           },
           "zerolinecolor": "#EBF0F8",
           "zerolinewidth": 2
          }
         }
        },
        "title": {
         "text": "Customer Segmentation using KMeans"
        }
       }
      }
     },
     "metadata": {},
     "output_type": "display_data"
    }
   ],
   "source": [
    "customer_data = data.groupby('Customer Name')[['Sales', 'Profit', 'Quantity']].sum().reset_index()\n",
    "X = customer_data[['Sales', 'Profit', 'Quantity']]\n",
    "scaler = StandardScaler()\n",
    "X_scaled = scaler.fit_transform(X)\n",
    "\n",
    "kmeans = KMeans(n_clusters=4, random_state=42)\n",
    "customer_data['Cluster'] = kmeans.fit_predict(X_scaled)\n",
    "\n",
    "fig = px.scatter_3d(customer_data, x='Sales', y='Profit', z='Quantity', color='Cluster',\n",
    "                    hover_name='Customer Name', title='Customer Segmentation using KMeans')\n",
    "fig.show()"
   ]
  },
  {
   "cell_type": "code",
   "execution_count": 63,
   "metadata": {},
   "outputs": [
    {
     "name": "stdout",
     "output_type": "stream",
     "text": [
      "R² Score: -0.724\n"
     ]
    }
   ],
   "source": [
    "features = ['Sales', 'Discount', 'Quantity']\n",
    "X = data[features]\n",
    "y = data['Profit']\n",
    "\n",
    "X_train, X_test, y_train, y_test = train_test_split(X, y, test_size=0.2, random_state=42)\n",
    "\n",
    "lr_model = LinearRegression()\n",
    "lr_model.fit(X_train, y_train)\n",
    "\n",
    "y_pred = lr_model.predict(X_test)\n",
    "print(\"R² Score:\", round(r2_score(y_test, y_pred), 3))"
   ]
  },
  {
   "cell_type": "code",
   "execution_count": 64,
   "metadata": {},
   "outputs": [
    {
     "name": "stdout",
     "output_type": "stream",
     "text": [
      "Predicted Profit: ₹20.03\n"
     ]
    }
   ],
   "source": [
    "test_input = pd.DataFrame([[200, 0.2, 3]], columns=features)\n",
    "predicted_profit = lr_model.predict(test_input)[0]\n",
    "print(f\"Predicted Profit: ₹{predicted_profit:.2f}\")"
   ]
  },
  {
   "cell_type": "code",
   "execution_count": 65,
   "metadata": {},
   "outputs": [
    {
     "name": "stdout",
     "output_type": "stream",
     "text": [
      "Classification Report:\n",
      "               precision    recall  f1-score   support\n",
      "\n",
      "           0       0.86      0.81      0.84       377\n",
      "           1       0.96      0.97      0.96      1622\n",
      "\n",
      "    accuracy                           0.94      1999\n",
      "   macro avg       0.91      0.89      0.90      1999\n",
      "weighted avg       0.94      0.94      0.94      1999\n",
      "\n"
     ]
    }
   ],
   "source": [
    "data['Is_Profitable'] = (data['Profit'] > 0).astype(int)\n",
    "X = data[['Sales', 'Quantity', 'Discount']]\n",
    "y = data['Is_Profitable']\n",
    "\n",
    "X_train, X_test, y_train, y_test = train_test_split(X, y, test_size=0.2, random_state=42)\n",
    "clf = RandomForestClassifier()\n",
    "clf.fit(X_train, y_train)\n",
    "\n",
    "y_pred = clf.predict(X_test)\n",
    "print(\"Classification Report:\\n\", classification_report(y_test, y_pred))"
   ]
  },
  {
   "cell_type": "markdown",
   "metadata": {},
   "source": [
    "Time Series analysis:--"
   ]
  },
  {
   "cell_type": "code",
   "execution_count": 66,
   "metadata": {},
   "outputs": [
    {
     "name": "stdout",
     "output_type": "stream",
     "text": [
      "Prediction: Profitable ✅\n"
     ]
    }
   ],
   "source": [
    "example = pd.DataFrame([[200, 3, 0.2]], columns=['Sales', 'Quantity', 'Discount'])\n",
    "prediction = clf.predict(example)[0]\n",
    "print(\"Prediction: Profitable ✅\" if prediction == 1 else \"Prediction: Not Profitable ❌\")"
   ]
  },
  {
   "cell_type": "code",
   "execution_count": 67,
   "metadata": {},
   "outputs": [],
   "source": [
    "numeric_data = data.select_dtypes(include=['number'])"
   ]
  },
  {
   "cell_type": "code",
   "execution_count": 68,
   "metadata": {},
   "outputs": [],
   "source": [
    "monthly_sales = data['Sales'].resample('ME').sum()"
   ]
  },
  {
   "cell_type": "code",
   "execution_count": 69,
   "metadata": {},
   "outputs": [],
   "source": [
    "decomposition = seasonal_decompose(monthly_sales, model='multiplicative', period=12)"
   ]
  },
  {
   "cell_type": "code",
   "execution_count": 70,
   "metadata": {},
   "outputs": [
    {
     "data": {
      "image/png": "[encoded data removed]",
      "text/plain": [
       "<Figure size 1400x800 with 4 Axes>"
      ]
     },
     "metadata": {},
     "output_type": "display_data"
    }
   ],
   "source": [
    "plt.figure(figsize=(14, 8))\n",
    "\n",
    "plt.subplot(411)\n",
    "plt.plot(decomposition.observed, label='Observed')\n",
    "plt.legend(loc='upper left')\n",
    "\n",
    "plt.subplot(412)\n",
    "plt.plot(decomposition.trend, label='Trend')\n",
    "plt.legend(loc='upper left')\n",
    "\n",
    "plt.subplot(413)\n",
    "plt.plot(decomposition.seasonal, label='Seasonal')\n",
    "plt.legend(loc='upper left')\n",
    "\n",
    "plt.subplot(414)\n",
    "plt.plot(decomposition.resid, label='Residual')\n",
    "plt.legend(loc='upper left')\n",
    "\n",
    "plt.tight_layout()\n",
    "plt.show()"
   ]
  },
  {
   "cell_type": "code",
   "execution_count": 71,
   "metadata": {},
   "outputs": [
    {
     "data": {
      "application/vnd.plotly.v1+json": {
       "config": {
        "plotlyServerURL": "https://plot.ly"
       },
       "data": [
        {
         "hovertemplate": "<b>%{hovertext}</b><br><br>Sales=%{x}<br>Profit=%{y}<br>Quantity=%{z}<br>Cluster=%{marker.color}<extra></extra>",
         "hovertext": [
          "Aaron Bergman",
          "Aaron Hawkins",
          "Aaron Smayling",
          "Adam Bellavance",
          "Adam Hart",
          "Adam Shillingsburg",
          "Adrian Barton",
          "Adrian Hane",
          "Adrian Shami",
          "Aimee Bixby",
          "Alan Barnes",
          "Alan Dominguez",
          "Alan Haines",
          "Alan Hwang",
          "Alan Schoenberger",
          "Alan Shonely",
          "Alejandro Ballentine",
          "Alejandro Grove",
          "Alejandro Savely",
          "Aleksandra Gannaway",
          "Alex Avila",
          "Alex Grayson",
          "Alex Russell",
          "Alice McCarthy",
          "Allen Armold",
          "Allen Goldenen",
          "Allen Rosenblatt",
          "Alyssa Crouse",
          "Alyssa Tate",
          "Amy Cox",
          "Amy Hunt",
          "Andrew Allen",
          "Andrew Gjertsen",
          "Andrew Roberts",
          "Andy Gerbode",
          "Andy Reiter",
          "Andy Yotov",
          "Anemone Ratner",
          "Angele Hood",
          "Ann Blume",
          "Ann Chong",
          "Ann Steele",
          "Anna Andreadi",
          "Anna Chung",
          "Anna Gayman",
          "Anna Häberlin",
          "Anne McFarland",
          "Anne Pryor",
          "Annie Thurman",
          "Annie Zypern",
          "Anthony Garverick",
          "Anthony Jacobs",
          "Anthony Johnson",
          "Anthony O'Donnell",
          "Anthony Rawles",
          "Anthony Witt",
          "Arianne Irving",
          "Art Ferguson",
          "Art Foster",
          "Arthur Gainer",
          "Arthur Prichep",
          "Arthur Wiediger",
          "Ashley Jarboe",
          "Astrea Jones",
          "Barbara Fisher",
          "Barry Blumstein",
          "Barry Franz",
          "Barry Französisch",
          "Barry Gonzalez",
          "Barry Pond",
          "Barry Weirich",
          "Bart Folk",
          "Bart Pistole",
          "Bart Watters",
          "Becky Castell",
          "Becky Martin",
          "Becky Pak",
          "Ben Ferrer",
          "Ben Peterman",
          "Ben Wallace",
          "Benjamin Farhat",
          "Benjamin Patterson",
          "Benjamin Venier",
          "Berenike Kampe",
          "Beth Fritzler",
          "Beth Paige",
          "Beth Thompson",
          "Bill Donatelli",
          "Bill Eplett",
          "Bill Overfelt",
          "Bill Shonely",
          "Bill Stewart",
          "Bill Tyler",
          "Bobby Elias",
          "Bobby Odegard",
          "Bobby Trafton",
          "Brad Eason",
          "Brad Norvell",
          "Brad Thomas",
          "Bradley Drucker",
          "Bradley Nguyen",
          "Bradley Talbott",
          "Brenda Bowman",
          "Brendan Dodson",
          "Brendan Murry",
          "Brendan Sweed",
          "Brian Dahlen",
          "Brian DeCherney",
          "Brian Derr",
          "Brian Moss",
          "Brian Stugart",
          "Brian Thompson",
          "Brooke Gillingham",
          "Brosina Hoffman",
          "Bruce Degenhardt",
          "Bruce Geld",
          "Bruce Stewart",
          "Bryan Davis",
          "Bryan Mills",
          "Bryan Spruell",
          "Candace McMahon",
          "Cari Sayre",
          "Cari Schnelling",
          "Carl Jackson",
          "Carl Ludwig",
          "Carl Weiss",
          "Carlos Daly",
          "Carlos Meador",
          "Carlos Soltero",
          "Carol Adams",
          "Carol Darley",
          "Carol Triggs",
          "Caroline Jumper",
          "Cassandra Brandow",
          "Catherine Glotzbach",
          "Cathy Armstrong",
          "Cathy Hwang",
          "Cathy Prescott",
          "Chad Cunningham",
          "Chad McGuire",
          "Chad Sievert",
          "Charles Crestani",
          "Charles McCrossin",
          "Charles Sheldon",
          "Charlotte Melton",
          "Chloris Kastensmidt",
          "Chris Cortes",
          "Chris McAfee",
          "Chris Selesnick",
          "Christina Anderson",
          "Christina DeMoss",
          "Christina VanderZanden",
          "Christine Abelman",
          "Christine Kargatis",
          "Christine Phan",
          "Christine Sundaresam",
          "Christopher Conant",
          "Christopher Martinez",
          "Christopher Schild",
          "Christy Brittain",
          "Chuck Clark",
          "Chuck Magee",
          "Chuck Sachs",
          "Cindy Chapman",
          "Cindy Schnelling",
          "Cindy Stewart",
          "Claire Gute",
          "Claudia Bergmann",
          "Clay Cheatham",
          "Clay Ludtke",
          "Clay Rozendal",
          "Clytie Kelty",
          "Corey Catlett",
          "Corey Roper",
          "Corey-Lock",
          "Corinna Mitchell",
          "Craig Carreira",
          "Craig Carroll",
          "Craig Leslie",
          "Craig Molinari",
          "Craig Reiter",
          "Craig Yedwab",
          "Cyma Kinney",
          "Cynthia Arntzen",
          "Cynthia Delaney",
          "Cynthia Voltz",
          "Cyra Reiten",
          "Damala Kotsonis",
          "Dan Campbell",
          "Dan Lawera",
          "Dan Reichenbach",
          "Dana Kaydos",
          "Daniel Byrd",
          "Daniel Lacy",
          "Daniel Raglin",
          "Dario Medina",
          "Darren Budd",
          "Darren Koutras",
          "Darren Powers",
          "Darrin Martin",
          "Darrin Sayre",
          "Darrin Van Huff",
          "Dave Brooks",
          "Dave Hallsten",
          "Dave Kipp",
          "Dave Poirier",
          "David Bremer",
          "David Flashing",
          "David Kendrick",
          "David Philippe",
          "David Smith",
          "David Wiener",
          "Dean Braden",
          "Dean Katz",
          "Dean percer",
          "Deanra Eno",
          "Deborah Brumfield",
          "Debra Catini",
          "Deirdre Greer",
          "Delfina Latchford",
          "Denise Leinenbach",
          "Denise Monton",
          "Dennis Bolton",
          "Dennis Kane",
          "Dennis Pardue",
          "Denny Blanton",
          "Denny Joy",
          "Denny Ordway",
          "Dianna Arnett",
          "Dianna Vittorini",
          "Dianna Wilson",
          "Dionis Lloyd",
          "Don Jones",
          "Don Miller",
          "Don Weiss",
          "Dorothy Badders",
          "Dorothy Dickinson",
          "Dorothy Wardle",
          "Dorris liebe",
          "Doug Bickford",
          "Doug Jacobs",
          "Doug O'Connell",
          "Duane Benoit",
          "Duane Huffman",
          "Duane Noonan",
          "Ed Braxton",
          "Ed Jacobs",
          "Ed Ludwig",
          "Edward Becker",
          "Edward Hooks",
          "Edward Nazzal",
          "Eileen Kiefer",
          "Eleni McCrary",
          "Elizabeth Moffitt",
          "Ellis Ballard",
          "Elpida Rittenbach",
          "Emily Burns",
          "Emily Ducich",
          "Emily Grady",
          "Emily Phan",
          "Eric Barreto",
          "Eric Hoffmann",
          "Eric Murdock",
          "Erica Bern",
          "Erica Hackney",
          "Erica Hernandez",
          "Erica Smith",
          "Erin Ashbrook",
          "Erin Creighton",
          "Erin Mull",
          "Erin Smith",
          "Eudokia Martin",
          "Eugene Barchas",
          "Eugene Hildebrand",
          "Eugene Moren",
          "Eva Jacobs",
          "Evan Bailliet",
          "Evan Henry",
          "Evan Minnotte",
          "Filia McAdams",
          "Frank Atkinson",
          "Frank Carlisle",
          "Frank Gastineau",
          "Frank Hawley",
          "Frank Merwin",
          "Frank Olsen",
          "Frank Preis",
          "Fred Chung",
          "Fred Harton",
          "Fred Hopkins",
          "Fred McMath",
          "Fred Wasserman",
          "Gary Hansen",
          "Gary Hwang",
          "Gary McGarr",
          "Gary Mitchum",
          "Gary Zandusky",
          "Gene Hale",
          "Gene McClure",
          "George Ashbrook",
          "George Bell",
          "George Zrebassa",
          "Georgia Rosenberg",
          "Giulietta Baptist",
          "Giulietta Dortch",
          "Giulietta Weimer",
          "Grace Kelly",
          "Grant Thornton",
          "Greg Guthrie",
          "Greg Hansen",
          "Greg Matthias",
          "Greg Maxwell",
          "Greg Tran",
          "Guy Armstrong",
          "Guy Phonely",
          "Guy Thornton",
          "Hallie Redmond",
          "Harold Dahlen",
          "Harold Engle",
          "Harold Pawlan",
          "Harold Ryan",
          "Harry Greene",
          "Harry Marie",
          "Heather Jas",
          "Heather Kirkland",
          "Helen Abelman",
          "Helen Andreada",
          "Helen Wasserman",
          "Henia Zydlo",
          "Henry Goldwyn",
          "Henry MacAllister",
          "Herbert Flentye",
          "Hilary Holden",
          "Hunter Glantz",
          "Hunter Lopez",
          "Ionia McGrath",
          "Irene Maddox",
          "Ivan Gibson",
          "Ivan Liston",
          "Jack Garza",
          "Jack Lebron",
          "Jack O'Briant",
          "James Galang",
          "James Lanier",
          "Jamie Frazer",
          "Jamie Kunitz",
          "Jane Waco",
          "Janet Lee",
          "Janet Martin",
          "Janet Molinari",
          "Jas O'Carroll",
          "Jason Fortune-",
          "Jason Gross",
          "Jason Klamczynski",
          "Jasper Cacioppo",
          "Jay Fein",
          "Jay Kimmel",
          "Jenna Caffey",
          "Jennifer Braxton",
          "Jennifer Ferguson",
          "Jennifer Halladay",
          "Jennifer Jackson",
          "Jennifer Patt",
          "Jeremy Ellison",
          "Jeremy Farry",
          "Jeremy Lonsdale",
          "Jeremy Pistek",
          "Jessica Myrick",
          "Jesus Ocampo",
          "Jill Fjeld",
          "Jill Matthias",
          "Jill Stevenson",
          "Jim Epp",
          "Jim Karlsson",
          "Jim Kriz",
          "Jim Mitchum",
          "Jim Radford",
          "Jim Sink",
          "Jocasta Rupert",
          "Joe Elijah",
          "Joe Kamberova",
          "Joel Eaton",
          "Joel Jenkins",
          "John Castell",
          "John Dryer",
          "John Grady",
          "John Huston",
          "John Lee",
          "John Lucas",
          "John Murray",
          "John Stevenson",
          "Jonathan Doherty",
          "Jonathan Howell",
          "Joni Blumstein",
          "Joni Sundaresam",
          "Joni Wasserman",
          "Joseph Airdo",
          "Joseph Holt",
          "Joy Bell-",
          "Joy Daniels",
          "Joy Smith",
          "Julia Barnett",
          "Julia Dunbar",
          "Julia West",
          "Juliana Krohn",
          "Julie Creighton",
          "Julie Kriz",
          "Julie Prescott",
          "Justin Deggeller",
          "Justin Ellison",
          "Justin Hirsh",
          "Justin MacKendrick",
          "Justin Ritter",
          "Kalyca Meade",
          "Karen Bern",
          "Karen Carlisle",
          "Karen Daniels",
          "Karen Ferguson",
          "Karen Seio",
          "Karl Braun",
          "Katharine Harms",
          "Katherine Ducich",
          "Katherine Hughes",
          "Katherine Murray",
          "Katherine Nockton",
          "Katrina Bavinger",
          "Katrina Edelman",
          "Katrina Willman",
          "Kean Nguyen",
          "Kean Takahito",
          "Kean Thornton",
          "Keith Dawkins",
          "Keith Herrera",
          "Kelly Andreada",
          "Kelly Collister",
          "Kelly Lampkin",
          "Kelly Williams",
          "Ken Black",
          "Ken Brennan",
          "Ken Dana",
          "Ken Heidel",
          "Ken Lonsdale",
          "Khloe Miller",
          "Kimberly Carter",
          "Kristen Hastings",
          "Kristina Nunn",
          "Kunst Miller",
          "Larry Blacks",
          "Larry Hughes",
          "Larry Tron",
          "Laura Armstrong",
          "Laurel Beltran",
          "Laurel Elliston",
          "Laurel Workman",
          "Lauren Leatherbury",
          "Lela Donovan",
          "Lena Cacioppo",
          "Lena Creighton",
          "Lena Hernandez",
          "Lena Radford",
          "Linda Cazamias",
          "Linda Southworth",
          "Lindsay Castell",
          "Lindsay Shagiari",
          "Lindsay Williams",
          "Lisa DeCherney",
          "Lisa Hazard",
          "Lisa Ryan",
          "Liz Carlisle",
          "Liz MacKendrick",
          "Liz Pelletier",
          "Liz Preis",
          "Liz Thompson",
          "Liz Willingham",
          "Logan Currie",
          "Logan Haushalter",
          "Lori Olson",
          "Luke Foster",
          "Luke Schmidt",
          "Luke Weiss",
          "Lycoris Saunders",
          "Lynn Smith",
          "Magdelene Morse",
          "Marc Crier",
          "Marc Harrigan",
          "Maria Bertelson",
          "Maria Etezadi",
          "Maria Zettner",
          "Maribeth Dona",
          "Maribeth Schnelling",
          "Maribeth Yedwab",
          "Marina Lichtenstein",
          "Maris LaWare",
          "Mark Cousins",
          "Mark Haberlin",
          "Mark Hamilton",
          "Mark Packer",
          "Mark Van Huff",
          "Mary O'Rourke",
          "Mary Zewe",
          "MaryBeth Skach",
          "Mathew Reese",
          "Matt Abelman",
          "Matt Collins",
          "Matt Collister",
          "Matt Connell",
          "Matt Hagelstein",
          "Matthew Clasen",
          "Matthew Grinstein",
          "Maureen Fritzler",
          "Maureen Gastineau",
          "Maureen Gnade",
          "Maurice Satty",
          "Max Engle",
          "Max Jones",
          "Max Ludwig",
          "Maxwell Schwartz",
          "Maya Herman",
          "Meg O'Connel",
          "Meg Tillman",
          "Melanie Seite",
          "Michael Chen",
          "Michael Dominguez",
          "Michael Grace",
          "Michael Granlund",
          "Michael Kennedy",
          "Michael Moore",
          "Michael Nguyen",
          "Michael Oakman",
          "Michael Paige",
          "Michael Stewart",
          "Michelle Arnett",
          "Michelle Ellison",
          "Michelle Huthwaite",
          "Michelle Lonsdale",
          "Michelle Moray",
          "Michelle Tran",
          "Mick Brown",
          "Mick Crebagga",
          "Mick Hernandez",
          "Mike Caudle",
          "Mike Gockenbach",
          "Mike Kennedy",
          "Mike Pelletier",
          "Mike Vittorini",
          "Mitch Gastineau",
          "Mitch Webber",
          "Mitch Willingham",
          "Monica Federle",
          "Muhammed Lee",
          "Muhammed MacIntyre",
          "Muhammed Yedwab",
          "Nancy Lomonaco",
          "Naresj Patel",
          "Nat Carroll",
          "Nat Gilpin",
          "Natalie DeCherney",
          "Natalie Fritzler",
          "Natalie Webber",
          "Nathan Cano",
          "Nathan Gelder",
          "Nathan Mautz",
          "Neil Ducich",
          "Neil Französisch",
          "Neil Knudson",
          "Neola Schneider",
          "Neoma Murray",
          "Nick Crebassa",
          "Nick Radford",
          "Nick Zandusky",
          "Nicole Brennan",
          "Nicole Fjeld",
          "Nicole Hansen",
          "Noah Childs",
          "Noel Staavos",
          "Nona Balk",
          "Nora Paige",
          "Nora Pelletier",
          "Nora Preis",
          "Odella Nelson",
          "Olvera Toch",
          "Pamela Coakley",
          "Pamela Stobb",
          "Parhena Norris",
          "Patricia Hirasaki",
          "Patrick Bzostek",
          "Patrick Gardner",
          "Patrick Jones",
          "Patrick O'Brill",
          "Patrick O'Donnell",
          "Patrick Ryan",
          "Paul Gonzalez",
          "Paul Knutson",
          "Paul Lucas",
          "Paul MacIntyre",
          "Paul Prost",
          "Paul Stevenson",
          "Paul Van Hugh",
          "Pauline Chand",
          "Pauline Johnson",
          "Pauline Webber",
          "Penelope Sewall",
          "Pete Armstrong",
          "Pete Kriz",
          "Pete Takahito",
          "Peter Bühler",
          "Peter Fuller",
          "Peter McVee",
          "Philip Brown",
          "Philip Fox",
          "Philisse Overcash",
          "Phillina Ober",
          "Phillip Breyer",
          "Phillip Flathmann",
          "Pierre Wener",
          "Quincy Jones",
          "Rachel Payne",
          "Ralph Arnett",
          "Ralph Kennedy",
          "Ralph Ritter",
          "Randy Bradley",
          "Randy Ferguson",
          "Raymond Buch",
          "Raymond Messe",
          "Resi Pölking",
          "Ricardo Emerson",
          "Ricardo Sperren",
          "Richard Bierner",
          "Richard Eichhorn",
          "Rick Bensley",
          "Rick Duston",
          "Rick Hansen",
          "Rick Huthwaite",
          "Rick Reed",
          "Rick Wilson",
          "Ritsa Hightower",
          "Rob Beeghly",
          "Rob Dowd",
          "Rob Haberlin",
          "Rob Lucas",
          "Rob Williams",
          "Robert Barroso",
          "Robert Dilbeck",
          "Robert Marley",
          "Robert Waldorf",
          "Roger Barcio",
          "Roger Demir",
          "Roland Fjeld",
          "Roland Murray",
          "Roland Schwarz",
          "Rose O'Brian",
          "Ross Baird",
          "Ross DeVincentis",
          "Roy Collins",
          "Roy Französisch",
          "Roy Phan",
          "Roy Skaria",
          "Ruben Ausman",
          "Ruben Dartt",
          "Russell Applegate",
          "Russell D'Ascenzo",
          "Ryan Akin",
          "Ryan Crowe",
          "Sally Hughsby",
          "Sally Knutson",
          "Sally Matthias",
          "Sam Craven",
          "Sam Zeldin",
          "Sample Company A",
          "Sandra Flanagan",
          "Sandra Glassco",
          "Sanjit Chand",
          "Sanjit Engle",
          "Sanjit Jacobs",
          "Saphhira Shifley",
          "Sara Luxemburg",
          "Sarah Bern",
          "Sarah Brown",
          "Sarah Foster",
          "Sarah Jordon",
          "Scot Coram",
          "Scot Wooten",
          "Scott Cohen",
          "Scott Williamson",
          "Sean Braxton",
          "Sean Christensen",
          "Sean Miller",
          "Sean O'Donnell",
          "Sean Wendt",
          "Seth Vernon",
          "Shahid Collister",
          "Shahid Hopkins",
          "Shahid Shariari",
          "Sharelle Roach",
          "Shaun Chance",
          "Shaun Weien",
          "Sheri Gordon",
          "Shirley Daniels",
          "Shirley Jackson",
          "Shirley Schmidt",
          "Shui Tom",
          "Sibella Parks",
          "Skye Norling",
          "Sonia Cooley",
          "Sonia Sunley",
          "Speros Goranitis",
          "Stefania Perrino",
          "Stefanie Holloman",
          "Stephanie Phelps",
          "Stephanie Ulpright",
          "Steve Carroll",
          "Steve Chapman",
          "Steve Nguyen",
          "Steven Cartwright",
          "Steven Roelle",
          "Steven Ward",
          "Stewart Carmichael",
          "Stewart Visinsky",
          "Stuart Calhoun",
          "Stuart Van",
          "Sue Ann Reed",
          "Sung Chung",
          "Sung Pak",
          "Sung Shariari",
          "Susan Gilcrest",
          "Susan MacKendrick",
          "Susan Pistek",
          "Susan Vittorini",
          "Suzanne McNair",
          "Sylvia Foulston",
          "Tamara Chand",
          "Tamara Dahlen",
          "Tamara Manning",
          "Tamara Willingham",
          "Tanja Norvell",
          "Ted Butterfield",
          "Ted Trevino",
          "Thais Sissman",
          "Thea Hendricks",
          "Thea Hudgings",
          "Theone Pippenger",
          "Theresa Coyne",
          "Theresa Swint",
          "Thomas Boland",
          "Thomas Brumley",
          "Thomas Seio",
          "Thomas Thornton",
          "Tiffany House",
          "Tim Brockman",
          "Tim Taslimi",
          "Toby Braunhardt",
          "Toby Carlisle",
          "Toby Gnade",
          "Toby Ritter",
          "Toby Swindell",
          "Todd Boyes",
          "Todd Sumrall",
          "Tom Ashbrook",
          "Tom Boeckenhauer",
          "Tom Prescott",
          "Tom Stivers",
          "Tonja Turnell",
          "Tony Chapman",
          "Tony Molinari",
          "Tony Sayre",
          "Tracy Blumstein",
          "Tracy Collins",
          "Tracy Hopkins",
          "Tracy Poddar",
          "Tracy Zic",
          "Troy Blackwell",
          "Troy Staebel",
          "Trudy Brown",
          "Trudy Glocke",
          "Trudy Schmidt",
          "Valerie Dominguez",
          "Valerie Mitchum",
          "Valerie Takahito",
          "Vicky Freymann",
          "Victor Preis",
          "Victoria Brennan",
          "Victoria Pisteka",
          "Victoria Wilson",
          "Vivek Gonzalez",
          "Vivek Grady",
          "Vivek Sundaresam",
          "Vivian Mathis",
          "William Brown",
          "Xylona Preis",
          "Yana Sorensen",
          "Yoseph Carroll",
          "Zuschuss Carroll",
          "Zuschuss Donatelli"
         ],
         "legendgroup": "",
         "marker": {
          "color": [
           0,
           1,
           1,
           2,
           1,
           1,
           3,
           1,
           0,
           0,
           0,
           2,
           0,
           1,
           1,
           0,
           0,
           1,
           0,
           0,
           0,
           0,
           0,
           0,
           0,
           0,
           0,
           0,
           0,
           1,
           0,
           0,
           1,
           0,
           0,
           2,
           0,
           0,
           0,
           0,
           1,
           0,
           1,
           0,
           1,
           2,
           2,
           1,
           1,
           0,
           0,
           1,
           2,
           0,
           1,
           0,
           1,
           1,
           0,
           1,
           1,
           1,
           0,
           0,
           0,
           0,
           0,
           1,
           0,
           0,
           0,
           0,
           1,
           1,
           1,
           2,
           0,
           2,
           1,
           0,
           0,
           0,
           0,
           1,
           0,
           1,
           0,
           2,
           1,
           0,
           2,
           1,
           0,
           0,
           0,
           0,
           0,
           0,
           0,
           1,
           1,
           1,
           2,
           0,
           0,
           0,
           1,
           0,
           0,
           2,
           1,
           1,
           0,
           2,
           0,
           0,
           0,
           0,
           0,
           0,
           0,
           0,
           0,
           0,
           0,
           0,
           0,
           0,
           1,
           0,
           0,
           1,
           2,
           2,
           0,
           0,
           0,
           1,
           0,
           0,
           0,
           0,
           0,
           0,
           0,
           1,
           1,
           0,
           1,
           1,
           0,
           1,
           0,
           1,
           1,
           1,
           2,
           3,
           1,
           0,
           1,
           0,
           0,
           0,
           0,
           0,
           0,
           1,
           0,
           2,
           0,
           1,
           0,
           0,
           0,
           2,
           1,
           1,
           0,
           1,
           0,
           0,
           1,
           1,
           1,
           1,
           0,
           1,
           1,
           1,
           2,
           1,
           1,
           1,
           2,
           0,
           0,
           0,
           1,
           2,
           1,
           0,
           1,
           2,
           0,
           1,
           1,
           0,
           0,
           0,
           1,
           0,
           1,
           1,
           2,
           0,
           1,
           0,
           0,
           1,
           0,
           1,
           0,
           1,
           2,
           1,
           0,
           0,
           0,
           1,
           1,
           0,
           1,
           0,
           0,
           1,
           0,
           0,
           0,
           0,
           1,
           0,
           0,
           0,
           0,
           1,
           0,
           0,
           1,
           2,
           0,
           0,
           0,
           1,
           1,
           0,
           0,
           1,
           0,
           2,
           0,
           1,
           0,
           0,
           0,
           0,
           0,
           1,
           0,
           0,
           1,
           0,
           0,
           1,
           2,
           0,
           0,
           0,
           0,
           1,
           1,
           1,
           0,
           1,
           1,
           1,
           1,
           1,
           1,
           2,
           1,
           0,
           1,
           1,
           1,
           1,
           1,
           0,
           1,
           1,
           1,
           0,
           0,
           1,
           0,
           0,
           2,
           0,
           1,
           0,
           0,
           1,
           2,
           1,
           0,
           0,
           0,
           0,
           0,
           0,
           1,
           0,
           2,
           0,
           1,
           0,
           1,
           2,
           0,
           1,
           0,
           1,
           0,
           1,
           3,
           0,
           1,
           0,
           1,
           0,
           0,
           1,
           2,
           0,
           1,
           1,
           2,
           0,
           1,
           1,
           0,
           0,
           0,
           0,
           0,
           1,
           1,
           0,
           0,
           1,
           0,
           0,
           1,
           0,
           0,
           1,
           1,
           0,
           0,
           1,
           0,
           0,
           2,
           1,
           1,
           0,
           0,
           0,
           0,
           2,
           1,
           2,
           0,
           1,
           0,
           0,
           0,
           2,
           0,
           2,
           1,
           2,
           0,
           0,
           0,
           0,
           1,
           1,
           0,
           0,
           1,
           0,
           0,
           0,
           1,
           0,
           1,
           0,
           2,
           0,
           0,
           1,
           0,
           1,
           0,
           0,
           2,
           2,
           0,
           1,
           1,
           0,
           0,
           2,
           1,
           0,
           1,
           1,
           1,
           1,
           1,
           2,
           2,
           1,
           0,
           1,
           0,
           1,
           0,
           1,
           1,
           2,
           0,
           0,
           2,
           1,
           2,
           0,
           0,
           0,
           2,
           1,
           0,
           1,
           1,
           0,
           1,
           2,
           1,
           1,
           1,
           1,
           0,
           1,
           0,
           0,
           0,
           0,
           0,
           0,
           0,
           1,
           1,
           0,
           1,
           0,
           0,
           1,
           1,
           1,
           0,
           0,
           0,
           1,
           1,
           1,
           2,
           0,
           1,
           2,
           1,
           1,
           1,
           1,
           0,
           1,
           1,
           1,
           0,
           0,
           0,
           0,
           2,
           0,
           1,
           1,
           0,
           0,
           1,
           0,
           0,
           0,
           0,
           0,
           2,
           1,
           1,
           0,
           0,
           0,
           0,
           1,
           0,
           0,
           0,
           1,
           1,
           0,
           0,
           1,
           0,
           0,
           0,
           0,
           0,
           1,
           0,
           0,
           1,
           1,
           0,
           0,
           0,
           1,
           0,
           0,
           1,
           0,
           0,
           0,
           0,
           1,
           0,
           2,
           1,
           0,
           1,
           1,
           2,
           0,
           0,
           2,
           0,
           0,
           0,
           1,
           1,
           2,
           0,
           1,
           0,
           1,
           1,
           0,
           1,
           1,
           1,
           0,
           2,
           1,
           1,
           0,
           1,
           0,
           0,
           0,
           1,
           0,
           2,
           1,
           0,
           1,
           0,
           0,
           0,
           2,
           1,
           1,
           0,
           0,
           1,
           2,
           0,
           2,
           0,
           0,
           2,
           1,
           1,
           0,
           1,
           0,
           0,
           0,
           1,
           2,
           0,
           1,
           0,
           0,
           0,
           1,
           3,
           0,
           1,
           0,
           0,
           1,
           0,
           1,
           1,
           0,
           2,
           0,
           2,
           0,
           0,
           1,
           0,
           2,
           1,
           0,
           0,
           2,
           1,
           0,
           1,
           1,
           0,
           1,
           1,
           1,
           1,
           0,
           0,
           1,
           0,
           1,
           1,
           1,
           0,
           0,
           0,
           1,
           0,
           0,
           1,
           1,
           1,
           0,
           0,
           3,
           2,
           1,
           1,
           0,
           0,
           1,
           1,
           0,
           1,
           0,
           1,
           0,
           1,
           1,
           2,
           1,
           0,
           2,
           1,
           0,
           0,
           0,
           0,
           0,
           1,
           2,
           0,
           0,
           0,
           0,
           1,
           0,
           0,
           1,
           1,
           0,
           1,
           1,
           0,
           1,
           1,
           2,
           2,
           0,
           1,
           1,
           0,
           0,
           1,
           0,
           1,
           0,
           0,
           0,
           1,
           1,
           2,
           1,
           3,
           1,
           1,
           1,
           1,
           1,
           1,
           0,
           0,
           0,
           1,
           0,
           1,
           0,
           0,
           1,
           1,
           0,
           1,
           0,
           0,
           1,
           0,
           0,
           0,
           0,
           2,
           3,
           2,
           1,
           0,
           1,
           0,
           0,
           1,
           1,
           0,
           1,
           0,
           0,
           0,
           0,
           1,
           1,
           1,
           2,
           0,
           0,
           0,
           0,
           0,
           1,
           1,
           0,
           0,
           0,
           0,
           2,
           1,
           2,
           1,
           2,
           0
          ],
          "coloraxis": "coloraxis",
          "symbol": "circle"
         },
         "mode": "markers",
         "name": "",
         "scene": "scene",
         "showlegend": false,
         "type": "scatter3d",
         "x": [
          886.156,
          1744.7,
          3050.692,
          7755.62,
          3250.337,
          3255.31,
          14473.570999999998,
          1735.5140000000001,
          58.82,
          966.71,
          1113.838,
          6106.88,
          1587.452,
          4805.344,
          4260.784,
          584.6080000000001,
          914.5319999999999,
          2582.898,
          3214.236,
          367.548,
          5563.56,
          660.972,
          1055.694,
          814.012,
          1056.39,
          200.945,
          2236.128,
          925.8,
          1171.814,
          5527.846,
          2495.3916,
          1790.5120000000002,
          2356.855,
          264.86400000000003,
          1455.038,
          6608.448,
          497.014,
          88.15,
          738.504,
          1515.862,
          2537.6859999999997,
          833.398,
          5086.9349999999995,
          657.316,
          3489.0396000000005,
          7888.294,
          5664.022,
          1638.554,
          3831.864,
          1622.0179999999998,
          170.584,
          4867.344,
          4501.391,
          161.28,
          4523.336,
          649.376,
          4375.786,
          2052.908,
          861.565,
          4510.797,
          3323.556,
          2852.968,
          1839.24,
          629.2479999999999,
          599.798,
          744.3399999999999,
          1333.88,
          2888.506,
          2798.948,
          983.42,
          385.516,
          272.95,
          2442.044,
          4750.358,
          2933.676,
          11789.63,
          1697.8609999999999,
          5907.972,
          3675.861,
          1738.406,
          1585.162,
          1181.49,
          1523.2730000000001,
          659.1379999999999,
          791.9899999999999,
          2475.157,
          2567.656,
          5718.521,
          4204.676,
          2682.728,
          10501.653,
          3887.834,
          2186.6130000000003,
          2261.438,
          130.83,
          603.876,
          1727.652,
          265.296,
          415.19599999999997,
          4411.2429999999995,
          1459.344,
          2684.4919999999997,
          6765.728,
          320.54,
          808.162,
          2454.928,
          3288.471,
          1538.11,
          582.646,
          7294.185,
          3288.1099999999997,
          3196.752,
          1874.172,
          6255.351,
          1526.5,
          1006.356,
          2562.382,
          658.466,
          1338.842,
          949.4300000000001,
          1673.888,
          1278.954,
          537.632,
          16.52,
          1262.0140000000001,
          1136.592,
          2033.968,
          565.392,
          3036.547,
          3789.7228,
          639.766,
          3241.898,
          11164.974,
          6076.139,
          904.4680000000001,
          1679.7240000000002,
          1537.236,
          5402.254,
          1770.945,
          1661.6100000000001,
          884.64,
          2471.65,
          2533.314,
          844.4580000000001,
          1475.144,
          3154.855,
          3913.418,
          2305.712,
          2754.216,
          2648.2872,
          1205.584,
          2830.6279999999997,
          1421.954,
          2945.321,
          5888.275,
          3202.1620000000003,
          12129.072000000002,
          8954.019999999999,
          3651.8585000000003,
          1949.2,
          2870.05,
          287.99,
          550.644,
          1659.438,
          1077.2285,
          5690.054999999999,
          1148.7800000000002,
          4246.4555,
          113.832,
          10880.546,
          2148.852,
          2372.75,
          2540.631,
          475.9,
          1300.076,
          6339.5576,
          2269.7015,
          2854.1150000000002,
          2353.586,
          3984.4524,
          1600.55,
          2900.026,
          1582.109,
          3041.566,
          1860.732,
          2370.3136,
          1397.8724,
          3256.48,
          3336.168,
          1503.112,
          6528.034000000001,
          4282.176,
          2171.599,
          3272.2,
          8350.868,
          1322.034,
          2839.2272,
          1687.04,
          1050.636,
          6345.103,
          1762.213,
          1119.483,
          4531.646,
          4932.872,
          2650.557,
          2215.002,
          2973.094,
          2390.534,
          797.832,
          1058.616,
          2881.8128,
          1080.751,
          2332.577,
          4802.394,
          7198.7609999999995,
          2550.874,
          4655.897,
          1174.618,
          3195.818,
          1458.258,
          585.02,
          4074.4719999999998,
          1081.466,
          3318.486,
          5480.723999999999,
          1711.692,
          2012.52,
          1300.0315,
          156.76,
          3341.587,
          5271.628,
          3539.322,
          2501.6879999999996,
          1376.792,
          344.08,
          3908.8028,
          269.542,
          1204.854,
          755.602,
          1989.05,
          3356.398,
          1267.316,
          1155.202,
          1043.096,
          2139.79,
          3644.978,
          2162.174,
          124.28,
          3236.314,
          10310.880000000001,
          2199.366,
          1303.478,
          2567.0099999999998,
          2339.598,
          4358.128,
          1245.788,
          2767.219,
          3484.92,
          1832.02,
          5478.0608,
          944.6000000000001,
          684.1709999999999,
          933.704,
          1643.255,
          825.9499999999999,
          1219.53,
          3510.4579999999996,
          2846.705,
          461.914,
          228.99,
          4657.924,
          1041.0420000000001,
          3071.126,
          3082.653,
          4588.436000000001,
          2656.691,
          1186.326,
          923.884,
          366.822,
          2456.638,
          2984.054,
          3418.742,
          1383.144,
          4256.272,
          3736.198,
          2678.438,
          4046.746,
          3889.366,
          2271.284,
          6987.196,
          2523.266,
          79.75,
          2819.4669999999996,
          4172.8460000000005,
          3582.8199999999997,
          3078.624,
          4355.150000000001,
          1361.2440000000001,
          1255.682,
          3919.7760000000003,
          1568.44,
          2454.6220000000003,
          1284.38,
          4716.288,
          1888.07,
          2189.019,
          6497.27,
          9351.212,
          2224,
          146.94080000000002,
          3163.628,
          6049.966,
          11820.119999999999,
          1398.382,
          236.53,
          226.436,
          1299.288,
          251.36,
          883.5319999999999,
          1990.314,
          5248.787,
          785.628,
          8236.7648,
          358.1,
          4877.784,
          2163.3,
          2584.158,
          9300.254,
          886.52,
          3247.642,
          736.276,
          2533.1639999999998,
          218.668,
          3690.284,
          12873.297999999999,
          2872.63,
          4930.474,
          744.574,
          5040.736,
          2358.676,
          1214.956,
          3254.949,
          6366.392,
          1571.523,
          2279.5860000000002,
          4427.142,
          7721.714,
          2203.7,
          3159.1220000000003,
          1804.146,
          1934.272,
          955.124,
          2240.58,
          383.812,
          71.263,
          1911.844,
          2709.632,
          1058.108,
          1791.605,
          2371.448,
          309.281,
          709.178,
          1669.135,
          1388.682,
          1082.918,
          3173.874,
          3635.594,
          1733.443,
          1090.838,
          4198.332,
          303.948,
          1417.654,
          7754.976,
          3760.028,
          4760.434,
          864.947,
          1156.658,
          1131.0639999999999,
          863.88,
          8697.842999999999,
          4867.2,
          6760.8150000000005,
          195,
          2772.055,
          2152.352,
          1507.018,
          528.91,
          9799.923,
          2725.256,
          7625.076000000001,
          3868.02,
          7610.8640000000005,
          959.477,
          900.552,
          469.169,
          1244.086,
          6491.026,
          7954.9980000000005,
          644.1188,
          385.43,
          2516.494,
          2518.115,
          695.442,
          1428.731,
          3747.668,
          858.576,
          2932.484,
          1707.71,
          8828.0305,
          2697.248,
          2256.3940000000002,
          2833.9260000000004,
          2201.686,
          2260.958,
          3152.6150000000002,
          2120.954,
          8282.358,
          10604.266,
          88.472,
          1569.464,
          3312.864,
          1888.964,
          3100.612,
          5620.186,
          2617.272,
          908.821,
          1686.7312,
          4416.5199999999995,
          2171.962,
          3057.1,
          4642.088400000001,
          8181.256,
          5952.859,
          1519.506,
          3908.262,
          5016.488,
          449.096,
          2744.742,
          983.922,
          2243.5099999999998,
          3918.9660000000003,
          14175.229000000001,
          453.538,
          1146.05,
          5990.799,
          2280.58,
          4909.472,
          50.188,
          287.426,
          329.876,
          8673.222,
          4985.676,
          1469.45,
          2238.061,
          2741.2039999999997,
          5.304,
          2580.7039999999997,
          7663.126,
          2295.332,
          5142.892,
          4492.946,
          2845.27,
          3246.626,
          2988.674,
          3230.308,
          1961.934,
          318.239,
          1879.306,
          2095.064,
          1346.774,
          756.606,
          3653.399,
          2936.252,
          1259.04,
          2633.582,
          1739.689,
          644.35,
          3930.5089999999996,
          1010.2560000000001,
          5420.514,
          368.88000000000005,
          1008.1360000000001,
          1314.023,
          2725.982,
          2394.025,
          1548.702,
          10663.728000000001,
          593.606,
          3766.382,
          7443.6900000000005,
          2254.285,
          2722.843,
          2921.5,
          4432.138,
          400.016,
          2456.1820000000002,
          3206.132,
          1560.05,
          922.487,
          2564.906,
          475.65599999999995,
          639.178,
          4299.161,
          1303.893,
          2426.067,
          2258.192,
          1252.8,
          795.154,
          3785.276,
          937.039,
          2350.188,
          1342.282,
          1613.402,
          1908.4532,
          6320.746,
          2071.9139999999998,
          3144.678,
          2203.7780000000002,
          1687.0269999999998,
          2890.139,
          370.348,
          3805.714,
          1204.91,
          1242.8329999999999,
          776.384,
          2302.368,
          3794.0800000000004,
          2477.946,
          154.288,
          3983.6420000000003,
          855.116,
          2453.284,
          1256.944,
          2984.948,
          742.082,
          2749.881,
          1319.4498,
          1428.231,
          2218.98,
          5503.093,
          1581.9979999999998,
          3061.543,
          1031.602,
          5087.92,
          1734.574,
          16.739,
          5341.900000000001,
          5253.876,
          1758.3,
          162.232,
          775.414,
          4152.696,
          1418.0900000000001,
          5529.62,
          2461.404,
          1869.58,
          4326.139,
          8322.826,
          7234.014,
          2218.9900000000002,
          1395.9379999999999,
          6459.344,
          2893.455,
          377.16200000000003,
          572.048,
          2575.863,
          2161.979,
          8241.739,
          2367.277,
          2488.31,
          273.87199999999996,
          2031.472,
          2673.29,
          1821.742,
          2964.823,
          1972.599,
          3908.402,
          1228.698,
          7903.1825,
          1567.52,
          3818.624,
          1832.064,
          2181.479,
          1467.152,
          729.648,
          740.356,
          3086.907,
          1220.09,
          7473.8282,
          2493.214,
          1840.178,
          1987.164,
          1441.152,
          239.481,
          1405.402,
          7252.608,
          1278.639,
          2876.046,
          1061.488,
          1824.2340000000002,
          3454.916,
          6843.634,
          729.408,
          8646.934,
          160.572,
          688.324,
          9062.864,
          4115.662,
          1456.95,
          2770,
          4893.043,
          1056.858,
          132.738,
          2206.1279999999997,
          3922.4150000000004,
          6108.338,
          954.6452,
          2617.906,
          1460.192,
          615.932,
          1008.1959999999999,
          3309.15,
          15117.339,
          1453.474,
          5153.084,
          48.36,
          3221.29,
          2663.0860000000002,
          876.696,
          4715.466,
          4272.93,
          3621.3759999999997,
          6979.18,
          3302.2619999999997,
          7397.401,
          740.382,
          528.546,
          2912.8940000000002,
          2085.7400000000002,
          6234.91,
          3279.746,
          221.084,
          2786.632,
          5979.0960000000005,
          3495.646,
          2067.45,
          1419.737,
          2341.2960000000003,
          98.35,
          4159.7699999999995,
          3815.478,
          5633.316000000001,
          1137.616,
          966.409,
          945.222,
          2170.716,
          22.328,
          3832.314,
          3133.924,
          4793.543,
          970.9420000000001,
          1686.9225,
          885.752,
          3406.8395,
          883.409,
          244.49399999999997,
          3362.9636,
          3625.329,
          4624.572,
          763.5459999999999,
          3406.5809999999997,
          14142.333999999999,
          12209.438000000002,
          3949.656,
          1324.028,
          3053.012,
          1348.02,
          6410.996,
          3422.7859999999996,
          1341.036,
          4371.9580000000005,
          1085.078,
          3729.7929999999997,
          1966.65,
          8057.891,
          3979.065,
          25043.05,
          2602.5755,
          1019.044,
          11470.949999999999,
          5992.536,
          2180.718,
          3056.8070000000002,
          3233.481,
          1874.998,
          2921.544,
          1884.798,
          6121.114,
          1318.776,
          613.4,
          433.34000000000003,
          1306.086,
          1860.418,
          902.7280000000001,
          418.49,
          3124.832,
          5440.319,
          2096.392,
          1872.4360000000001,
          2595.364,
          1254.64,
          2576.408,
          3127.9592,
          5226.21,
          4345.8859999999995,
          758.6959999999999,
          4492.657,
          4105.305,
          279.25600000000003,
          1271.0900000000001,
          4767.3415,
          280.632,
          4282.94,
          964.636,
          47.946,
          1043.041,
          3990.689,
          1903.491,
          5563.392,
          3336.535,
          19052.218,
          1434.5480000000002,
          2955.2259999999997,
          5278.826,
          3130.221,
          1467.881,
          4915.602,
          4.833,
          2422.824,
          2942.772,
          4454.0560000000005,
          1038.26,
          2163.6240000000003,
          3589.296,
          816.1740000000001,
          5371.09,
          1427.0439999999999,
          1022.201,
          1602.376,
          439.5,
          2198.45,
          4266.812,
          3058.372,
          675.9419999999999,
          974.7819999999999,
          834.328,
          11891.751,
          14595.62,
          9133.99,
          5329.0048,
          2054.14,
          5364.808,
          1244.976,
          1094.6779999999999,
          2243.274,
          4737.486,
          742.5580000000001,
          4234.0960000000005,
          1936.6399999999999,
          1707.286,
          1387.559,
          2820.424,
          2797.668,
          2074.661,
          3368.094,
          6442.254,
          2454.866,
          1736.596,
          847.944,
          993.9019999999999,
          2005.596,
          3360.526,
          6134.0380000000005,
          846.01,
          427.372,
          1055.981,
          380.69,
          6160.102,
          2374.658,
          6720.4439999999995,
          5454.35,
          8025.707,
          1493.944
         ],
         "y": [
          129.3465,
          365.2152,
          -253.57459999999998,
          2054.5885,
          281.189,
          64.53739999999998,
          5444.8055,
          -2.3145999999999773,
          21.8496,
          313.6597,
          220.813,
          1869.9294,
          -378.5509,
          1308.5546,
          719.7751000000001,
          33.715799999999994,
          264.5675,
          732.7399,
          354.62760000000003,
          59.288399999999996,
          -362.8825,
          -5.137100000000006,
          -221.0544,
          194.9878,
          277.3824,
          69.2784,
          -98.7646,
          -62.1342,
          100.87680000000002,
          1366.0098,
          -196.12009999999998,
          435.8274,
          295.6668,
          43.6695,
          -152.7613,
          2884.6208,
          103.3499,
          32.633,
          83.96300000000001,
          -274.9604,
          298.8273,
          136.49190000000002,
          857.8033,
          -28.700399999999995,
          -246.42570000000003,
          1298.0166,
          1085.7326,
          285.7888,
          974.107,
          154.9503,
          -8.431000000000001,
          150.71300000000005,
          1158.7064,
          12.096,
          494.83519999999993,
          65.77250000000001,
          867.7271000000001,
          317.9712,
          -163.1175,
          343.6824,
          579.3113,
          -104.5486,
          521.1351999999999,
          60.4265,
          227.4384,
          11.583900000000007,
          -291.38109999999995,
          302.02,
          -711.4274,
          209.78300000000002,
          -58.28659999999999,
          110.9272,
          433.9751,
          921.2574,
          251.5974,
          -1659.9580999999998,
          647.3847000000001,
          1538.2127,
          363.5991,
          246.9973,
          523.2133,
          -197.2695,
          315.2214,
          -63.764399999999995,
          25.870199999999997,
          -319.0637,
          417.5918,
          1094.5037,
          1487.7739000000001,
          278.77700000000004,
          2616.0643999999998,
          -17.532200000000024,
          257.9163,
          755.9150999999999,
          59.4522,
          -77.5256,
          139.20080000000002,
          36.6131,
          126.8694,
          1142.1225,
          340.7054,
          409.4983,
          1015.0749999999999,
          116.714,
          95.58160000000001,
          381.7807,
          634.8463,
          206.75689999999997,
          141.53400000000002,
          2199.2781,
          238.73680000000002,
          447.74839999999995,
          107.5715,
          802.7898,
          333.9791,
          119.34790000000001,
          -113.29840000000003,
          141.265,
          137.7439,
          194.0516,
          214.463,
          185.3776,
          105.8275,
          1.652,
          328.0847,
          370.8298,
          426.661,
          -43.732400000000005,
          -126.4223,
          1143.3817,
          -206.7172,
          161.22629999999995,
          858.7414,
          150.2089,
          86.5106,
          211.2559,
          195.15109999999999,
          427.0258,
          208.5912,
          409.0679,
          143.8339,
          392.2825,
          -394.3686,
          113.1405,
          91.2033,
          141.2831,
          393.9618,
          365.0387,
          738.3626,
          279.6183,
          233.0274,
          493.0861,
          246.02179999999998,
          261.22090000000003,
          -1850.3029000000001,
          831.9432,
          2177.0493,
          3899.8903999999998,
          -342.80330000000004,
          272.3883,
          424.6583,
          64.4296,
          156.2593,
          154.851,
          -302.8761,
          -6626.389499999999,
          169.93439999999998,
          1049.5601,
          33.870599999999996,
          1933.7830999999999,
          74.40129999999999,
          497.70980000000003,
          331.434,
          144.7594,
          205.62820000000002,
          1572.4585,
          187.8399,
          850.1591,
          229.00990000000002,
          176.3108,
          306.9176,
          60.64670000000001,
          -338.4311,
          204.48950000000002,
          403.8422,
          98.99749999999999,
          83.27029999999999,
          881.1228000000001,
          -1441.6312999999998,
          322.2449,
          1641.8613,
          937.6496,
          431.3748,
          4.213200000000029,
          2869.0759999999996,
          108.7583,
          213.00289999999998,
          -107.35379999999998,
          241.4524,
          1677.3931,
          193.3319,
          -427.184,
          473.0272,
          1193.7404,
          536.3935,
          563.1761,
          -1421.7692,
          -259.3097,
          249.9447,
          -40.93759999999999,
          163.6993,
          -86.87379999999999,
          169.9679,
          209.89940000000004,
          333.36479999999995,
          464.47139999999996,
          841.8263999999999,
          132.06820000000002,
          562.7761,
          288.8732,
          222.6812,
          1319.0586,
          291.0085,
          377.0799,
          1571.8318,
          438.9092,
          483.03499999999997,
          -38.90860000000001,
          56.7904,
          353.2127,
          1348.7556,
          -52.78799999999997,
          345.2521,
          199.7688,
          69.6672,
          109.32700000000001,
          36.4344,
          -266.8966,
          175.2388,
          438.80119999999994,
          731.5644,
          294.0676,
          177.67350000000002,
          116.667,
          540.5405000000001,
          13.621500000000005,
          387.0176,
          27.1154,
          -80.28599999999999,
          1393.5154,
          496.1131,
          97.10659999999999,
          -133.8275,
          682.5541999999999,
          656.1988,
          -295.7398,
          261.5315,
          670.4435000000001,
          104.2656,
          144.9578,
          0.6042000000000058,
          53.53980000000001,
          102.29599999999999,
          162.8781,
          150.3759,
          -94.14079999999997,
          1003.2935,
          -52.74059999999998,
          96.4256,
          40.15459999999999,
          246.6661,
          240.2362,
          184.7656,
          96.27019999999999,
          1319.3655,
          451.87550000000005,
          282.1701,
          242.1107,
          21.7721,
          249.6808,
          520.5229,
          1217.1662000000001,
          394.73969999999997,
          1073.2676,
          198.10949999999997,
          215.59689999999998,
          406.44730000000004,
          714.2926,
          706.289,
          2050.2826,
          191.4898,
          23.491300000000003,
          -576.8335,
          1176.4181,
          347.266,
          793.2814000000001,
          1087.7539,
          -95.4498,
          441.3185,
          840.899,
          7.837100000000003,
          828.661,
          359.83320000000003,
          1135.8393,
          230.93729999999996,
          -268.54229999999995,
          1448.5525,
          -4108.6589,
          12.698500000000008,
          -5.810200000000001,
          35.48649999999999,
          188.7235,
          2163.4269,
          136.70790000000002,
          31.837600000000002,
          -6.139200000000002,
          185.5794,
          -135.87599999999998,
          274.4028,
          373.8637,
          1196.9504,
          147.0032,
          2437.9836,
          98.6548,
          956.9451,
          270.8574,
          99.1445,
          2164.1611,
          -130.3879,
          -2797.9635000000003,
          117.2755,
          -13.876799999999989,
          86.7342,
          804.6113,
          5622.4292000000005,
          975.7701,
          514.6527,
          320.4982,
          1121.937,
          684.1911,
          -207.79559999999998,
          581.4045,
          1415.6664,
          209.2817,
          575.1259,
          1219.983,
          2173.7093999999997,
          54.51740000000002,
          19.82350000000004,
          502.6143,
          202.13619999999997,
          97.28899999999999,
          3.7976000000000063,
          55.32769999999999,
          -0.35560000000000036,
          330.199,
          330.2838,
          502.92440000000005,
          156.05319999999998,
          635.6376,
          -24.077100000000005,
          200.5558,
          429.7465,
          276.2197,
          -18.06730000000001,
          591.7163,
          757.1802,
          356.5395,
          167.6709,
          1073.2088,
          113.1204,
          -175.54899999999998,
          1623.4019,
          750.9485,
          1172.5303,
          117.20400000000001,
          -785.1645,
          -54.8692,
          107.985,
          1262.2926,
          55.0483,
          221.79670000000002,
          34.449200000000005,
          279.56919999999997,
          -266.55249999999995,
          206.1019,
          26.082199999999997,
          228.907,
          779.9046,
          1574.6163999999999,
          564.9798000000001,
          1050.2667999999999,
          -13.554499999999996,
          -286.9808,
          -327.9336,
          -29.575899999999987,
          -819.4217000000001,
          -644.6982,
          126.76490000000001,
          26.7605,
          -311.25749999999994,
          201.51850000000002,
          111.11410000000001,
          154.06369999999998,
          586.6625,
          201.5952,
          122.6566,
          309.7116,
          1619.5199,
          789.6476,
          -96.95300000000002,
          754.1144,
          452.37300000000005,
          635.1057000000001,
          763.9076,
          846.1217,
          1107.6952000000003,
          1660.1386,
          0.11099999999999888,
          49.71929999999999,
          454.7871,
          328.5942,
          528.2051,
          973.7901999999999,
          -151.1518,
          274.297,
          397.87989999999996,
          1756.135,
          114.3083,
          254.0032,
          194.0671,
          3038.6254,
          656.1162,
          234.9194,
          709.4219,
          -182.78130000000002,
          107.92699999999999,
          579.3551,
          293.55240000000003,
          539.7219,
          727.3786,
          806.855,
          91.1391,
          156.7797,
          1227.5091,
          329.76250000000005,
          745.7685,
          18.6507,
          12.627699999999999,
          59.036,
          2059.1199,
          -52.19099999999998,
          161.76489999999998,
          32.5767,
          560.0078,
          0.4641,
          -188.25110000000004,
          1288.3469,
          526.0727,
          535.4764,
          288.26599999999996,
          -318.77369999999996,
          299.48019999999997,
          262.63669999999996,
          662.8339000000001,
          557.1714,
          -242.73989999999998,
          -382.8079,
          86.77799999999999,
          -44.87799999999999,
          110.7813,
          338.44539999999995,
          320.973,
          192.6312,
          231.12520000000004,
          316.5202,
          150.1712,
          -3583.977,
          244.197,
          837.2411,
          39.1952,
          348.3584,
          178.402,
          461.0014,
          28.761200000000038,
          212.425,
          1859.4695,
          85.01910000000001,
          -241.94999999999996,
          844.9354999999998,
          319.1211,
          684.9162,
          -76.17550000000003,
          1802.3903,
          61.428599999999996,
          484.77330000000006,
          600.2873,
          189.0258,
          59.357699999999994,
          787.7503,
          84.0268,
          162.9363,
          1240.2266,
          210.7493,
          288.98409999999996,
          195.4486,
          122.3612,
          -247.94350000000003,
          341.898,
          -341.52650000000006,
          25.888599999999972,
          -398.79319999999996,
          247.4348,
          77.81280000000001,
          1054.5529000000001,
          409.51120000000003,
          280.85839999999996,
          238.5614,
          169.34369999999998,
          509.0068,
          19.431199999999997,
          698.4174,
          -4.040300000000002,
          -470.7684,
          171.7372,
          -405.3559,
          82.12499999999997,
          290.8227,
          -82.0074,
          638.1563,
          55.226,
          280.7822,
          107.3604,
          476.9032,
          138.71620000000001,
          -520.3443,
          -23.676300000000005,
          117.8057,
          -64.1668,
          170.9746,
          121.7565,
          -93.603,
          227.83380000000002,
          226.4529,
          273.8582,
          -1.2453,
          1238.422,
          1665.516,
          456.86080000000004,
          42.6648,
          58.8916,
          -371.7111,
          343.6381,
          1208.8890000000001,
          580.3075,
          313.63349999999997,
          353.64549999999997,
          -1695.9714,
          1023.123,
          -2204.8072,
          217.0893,
          2751.6848999999997,
          443.33680000000004,
          85.92779999999999,
          121.2177,
          -12.303999999999997,
          788.9525000000001,
          1314.758,
          -25.148799999999966,
          402.4236,
          24.788800000000002,
          388.2131,
          760.1666,
          -359.02099999999996,
          -234.7714,
          117.6429,
          514.6002,
          514.5017,
          631.2282,
          -5.88900000000001,
          -925.1203,
          272.685,
          -134.441,
          192.0396,
          47.8878,
          229.2257,
          137.46130000000002,
          442.1355,
          38.47569999999996,
          437.8533,
          247.6226,
          334.5163,
          -798.705,
          -0.7527000000000026,
          157.8768,
          1495.0854,
          198.5099,
          434.52840000000003,
          -184.3364,
          682.9979000000001,
          803.8169,
          1742.7296999999999,
          225.8588,
          2038.2676000000001,
          -20.0508,
          218.15970000000002,
          -614.2943000000001,
          526.7537,
          280.6606,
          196.87389999999996,
          1155.4331,
          -49.70089999999999,
          21.897000000000002,
          591.3118000000001,
          1290.354,
          1203.6768,
          59.538399999999996,
          546.0882,
          269.688,
          -73.835,
          -164.40619999999998,
          633.7072000000001,
          6976.0959,
          392.1499,
          465.25030000000015,
          6.045,
          633.4513999999999,
          477.23990000000003,
          209.2294,
          640.5466,
          480.594,
          563.7877,
          1289.4535,
          721.6826,
          1586.6273,
          0.30570000000000164,
          76.8879,
          734.5158,
          172.6261,
          488.14840000000004,
          698.8325,
          72.679,
          835.772,
          1902.5438000000001,
          707.5503,
          243.07549999999998,
          207.3304,
          711.6168,
          28.6879,
          1206.3851,
          -1262.5716000000002,
          -461.73319999999995,
          318.4625,
          63.991400000000006,
          280.0261,
          594.5868,
          9.5838,
          1292.8656,
          455.5292,
          304.8673,
          35.05740000000001,
          -445.695,
          10.563300000000002,
          558.4739999999999,
          168.7933,
          -26.5927,
          -317.0508,
          366.43030000000005,
          1011.7443,
          228.1623,
          570.438,
          5757.411899999999,
          2650.6769,
          144.1189,
          332.3487,
          527.9715,
          157.6658,
          885.4623999999999,
          286.9046,
          -23.5137,
          440.14099999999996,
          -19.60620000000001,
          671.0033999999999,
          332.8725,
          -2082.7451,
          229.1617,
          -1980.7393,
          -81.0858,
          95.8383,
          1199.4242,
          236.66149999999996,
          -144.5229,
          -1010.9738,
          -3333.9144,
          379.5611,
          793.6548,
          -119.0105,
          1985.1671999999999,
          68.09629999999999,
          199.93449999999999,
          84.4419,
          -118.77570000000001,
          -716.8565000000001,
          100.2253,
          135.5401,
          463.269,
          -270.42819999999995,
          260.6258,
          268.4782,
          763.4719,
          370.1578,
          611.8291,
          481.74989999999997,
          1276.6513,
          1990.4243999999999,
          68.2416,
          -671.1874,
          485.0272,
          51.8252,
          199.6502,
          610.1496000000001,
          31.1757,
          566.7226,
          -75.586,
          -3.7073,
          -237.2885,
          14.692400000000003,
          106.8912,
          581.5741999999999,
          539.9352,
          8981.323900000001,
          88.1897,
          573.3013,
          737.3905,
          -692.0452,
          390.2113,
          751.9567,
          -3.3156,
          -135.2125,
          -252.5539,
          1129.1261,
          265.5332,
          260.87440000000004,
          829.1635,
          179.0038,
          862.8877,
          278.7371,
          92.729,
          260.6155,
          93.9162,
          490.9567,
          606.3727,
          682.1704,
          220.36440000000002,
          -184.97889999999998,
          268.967,
          2371.7144000000003,
          4703.7883,
          2798.3689,
          -1087.3898,
          48.70169999999999,
          1124.4999,
          119.104,
          292.52099999999996,
          11.377899999999983,
          -1603.0451,
          217.933,
          -571.9678,
          139.22869999999995,
          224.8887,
          -136.4091,
          -294.6981,
          379.882,
          365.7205,
          220.91629999999998,
          1617.7874000000002,
          513.5269,
          -224.08889999999997,
          -96.27799999999999,
          205.3888,
          371.2398,
          -1018.7768,
          -874.6645,
          143.6268,
          -52.333,
          -262.8093,
          116.6373,
          714.3311,
          621.23,
          1778.2923,
          1305.629,
          -1032.1490000000001,
          249.1307
         ],
         "z": [
          13,
          54,
          48,
          56,
          75,
          81,
          73,
          65,
          9,
          37,
          48,
          40,
          28,
          53,
          41,
          39,
          39,
          58,
          39,
          16,
          30,
          47,
          18,
          48,
          41,
          33,
          29,
          17,
          28,
          43,
          35,
          36,
          93,
          33,
          33,
          33,
          34,
          6,
          17,
          38,
          59,
          34,
          64,
          16,
          54,
          102,
          81,
          85,
          60,
          40,
          20,
          62,
          88,
          2,
          54,
          24,
          72,
          51,
          37,
          92,
          102,
          68,
          40,
          22,
          38,
          26,
          26,
          78,
          35,
          30,
          8,
          29,
          70,
          74,
          60,
          64,
          32,
          102,
          69,
          49,
          48,
          14,
          49,
          58,
          11,
          51,
          33,
          75,
          35,
          43,
          39,
          58,
          38,
          19,
          7,
          16,
          40,
          15,
          11,
          49,
          79,
          44,
          83,
          11,
          22,
          41,
          74,
          27,
          19,
          95,
          47,
          88,
          24,
          97,
          29,
          22,
          45,
          21,
          44,
          22,
          38,
          22,
          16,
          5,
          24,
          40,
          35,
          18,
          68,
          29,
          22,
          60,
          83,
          122,
          37,
          49,
          13,
          57,
          46,
          35,
          28,
          31,
          23,
          30,
          21,
          122,
          81,
          28,
          97,
          65,
          39,
          54,
          25,
          46,
          59,
          74,
          34,
          34,
          47,
          44,
          63,
          32,
          13,
          40,
          33,
          40,
          14,
          74,
          14,
          106,
          32,
          108,
          39,
          14,
          30,
          42,
          47,
          51,
          34,
          57,
          18,
          43,
          64,
          72,
          49,
          62,
          26,
          86,
          64,
          51,
          103,
          65,
          47,
          43,
          57,
          28,
          43,
          32,
          58,
          87,
          54,
          28,
          48,
          81,
          33,
          63,
          59,
          23,
          20,
          20,
          68,
          39,
          75,
          70,
          99,
          38,
          52,
          37,
          39,
          74,
          32,
          41,
          28,
          77,
          50,
          62,
          20,
          48,
          27,
          62,
          38,
          33,
          52,
          33,
          21,
          61,
          33,
          44,
          19,
          41,
          43,
          36,
          33,
          41,
          41,
          55,
          31,
          9,
          91,
          120,
          27,
          18,
          23,
          57,
          41,
          27,
          41,
          54,
          44,
          124,
          24,
          72,
          18,
          18,
          20,
          50,
          31,
          87,
          37,
          22,
          77,
          34,
          30,
          76,
          74,
          31,
          20,
          22,
          13,
          48,
          58,
          50,
          48,
          65,
          79,
          60,
          54,
          37,
          52,
          52,
          53,
          9,
          65,
          51,
          43,
          54,
          48,
          15,
          53,
          48,
          62,
          25,
          23,
          63,
          25,
          43,
          66,
          26,
          92,
          9,
          31,
          44,
          106,
          79,
          21,
          23,
          38,
          31,
          44,
          44,
          51,
          31,
          76,
          21,
          64,
          45,
          72,
          85,
          21,
          68,
          29,
          70,
          20,
          38,
          50,
          19,
          93,
          19,
          60,
          20,
          42,
          59,
          70,
          29,
          72,
          67,
          66,
          39,
          91,
          52,
          36,
          42,
          46,
          15,
          12,
          58,
          72,
          14,
          43,
          69,
          29,
          25,
          54,
          49,
          36,
          56,
          63,
          46,
          42,
          67,
          26,
          35,
          74,
          44,
          41,
          41,
          14,
          42,
          3,
          97,
          88,
          90,
          11,
          64,
          26,
          46,
          29,
          143,
          38,
          50,
          43,
          150,
          35,
          32,
          37,
          41,
          87,
          64,
          32,
          39,
          70,
          32,
          17,
          38,
          43,
          43,
          49,
          47,
          60,
          34,
          28,
          74,
          41,
          72,
          34,
          40,
          64,
          67,
          10,
          62,
          70,
          36,
          40,
          69,
          56,
          25,
          67,
          42,
          49,
          45,
          37,
          84,
          91,
          57,
          28,
          84,
          22,
          102,
          29,
          56,
          84,
          113,
          30,
          40,
          69,
          55,
          98,
          12,
          12,
          8,
          105,
          76,
          32,
          50,
          50,
          3,
          113,
          93,
          64,
          64,
          52,
          51,
          30,
          63,
          38,
          25,
          34,
          44,
          43,
          32,
          39,
          52,
          63,
          15,
          62,
          44,
          34,
          69,
          54,
          59,
          16,
          47,
          17,
          54,
          55,
          63,
          82,
          11,
          64,
          105,
          49,
          72,
          51,
          48,
          25,
          45,
          77,
          52,
          15,
          39,
          21,
          29,
          117,
          40,
          47,
          60,
          19,
          33,
          57,
          36,
          25,
          23,
          48,
          46,
          50,
          53,
          73,
          42,
          49,
          31,
          14,
          45,
          45,
          23,
          35,
          73,
          68,
          36,
          14,
          62,
          49,
          42,
          15,
          31,
          18,
          73,
          44,
          39,
          73,
          79,
          34,
          42,
          43,
          78,
          37,
          8,
          51,
          13,
          38,
          7,
          32,
          89,
          44,
          77,
          54,
          45,
          63,
          52,
          78,
          38,
          41,
          44,
          36,
          13,
          51,
          52,
          60,
          64,
          37,
          77,
          7,
          55,
          52,
          29,
          113,
          64,
          46,
          23,
          63,
          58,
          51,
          22,
          75,
          47,
          6,
          54,
          83,
          46,
          91,
          54,
          43,
          61,
          14,
          29,
          16,
          138,
          52,
          52,
          18,
          25,
          48,
          47,
          27,
          107,
          19,
          18,
          75,
          36,
          54,
          34,
          65,
          32,
          10,
          32,
          39,
          61,
          47,
          58,
          29,
          7,
          16,
          67,
          71,
          29,
          88,
          5,
          29,
          66,
          47,
          85,
          60,
          38,
          43,
          36,
          89,
          11,
          35,
          73,
          43,
          101,
          53,
          29,
          23,
          39,
          61,
          22,
          78,
          53,
          4,
          54,
          48,
          92,
          63,
          29,
          45,
          61,
          10,
          53,
          85,
          75,
          33,
          27,
          44,
          113,
          19,
          26,
          62,
          69,
          61,
          35,
          30,
          87,
          78,
          104,
          86,
          30,
          24,
          45,
          74,
          35,
          49,
          33,
          63,
          28,
          84,
          64,
          50,
          52,
          25,
          109,
          80,
          45,
          46,
          34,
          44,
          18,
          62,
          82,
          30,
          36,
          33,
          43,
          67,
          30,
          17,
          49,
          77,
          16,
          71,
          61,
          26,
          66,
          89,
          133,
          50,
          27,
          75,
          91,
          11,
          24,
          75,
          13,
          80,
          39,
          17,
          20,
          57,
          66,
          94,
          66,
          42,
          67,
          67,
          57,
          48,
          66,
          66,
          4,
          29,
          29,
          55,
          17,
          60,
          36,
          23,
          67,
          55,
          40,
          74,
          8,
          35,
          63,
          30,
          22,
          51,
          44,
          59,
          36,
          55,
          39,
          31,
          48,
          45,
          12,
          54,
          85,
          28,
          44,
          48,
          30,
          29,
          44,
          60,
          50,
          52,
          71,
          37,
          42,
          35,
          18,
          37,
          65,
          77,
          32,
          16,
          38,
          25,
          146,
          100,
          58,
          31,
          105,
          32
         ]
        }
       ],
       "layout": {
        "coloraxis": {
         "colorbar": {
          "title": {
           "text": "Cluster"
          }
         },
         "colorscale": [
          [
           0,
           "#0d0887"
          ],
          [
           0.1111111111111111,
           "#46039f"
          ],
          [
           0.2222222222222222,
           "#7201a8"
          ],
          [
           0.3333333333333333,
           "#9c179e"
          ],
          [
           0.4444444444444444,
           "#bd3786"
          ],
          [
           0.5555555555555556,
           "#d8576b"
          ],
          [
           0.6666666666666666,
           "#ed7953"
          ],
          [
           0.7777777777777778,
           "#fb9f3a"
          ],
          [
           0.8888888888888888,
           "#fdca26"
          ],
          [
           1,
           "#f0f921"
          ]
         ]
        },
        "legend": {
         "tracegroupgap": 0
        },
        "scene": {
         "domain": {
          "x": [
           0,
           1
          ],
          "y": [
           0,
           1
          ]
         },
         "xaxis": {
          "title": {
           "text": "Sales"
          }
         },
         "yaxis": {
          "title": {
           "text": "Profit"
          }
         },
         "zaxis": {
          "title": {
           "text": "Quantity"
          }
         }
        },
        "template": {
         "data": {
          "bar": [
           {
            "error_x": {
             "color": "#2a3f5f"
            },
            "error_y": {
             "color": "#2a3f5f"
            },
            "marker": {
             "line": {
              "color": "white",
              "width": 0.5
             },
             "pattern": {
              "fillmode": "overlay",
              "size": 10,
              "solidity": 0.2
             }
            },
            "type": "bar"
           }
          ],
          "barpolar": [
           {
            "marker": {
             "line": {
              "color": "white",
              "width": 0.5
             },
             "pattern": {
              "fillmode": "overlay",
              "size": 10,
              "solidity": 0.2
             }
            },
            "type": "barpolar"
           }
          ],
          "carpet": [
           {
            "aaxis": {
             "endlinecolor": "#2a3f5f",
             "gridcolor": "#C8D4E3",
             "linecolor": "#C8D4E3",
             "minorgridcolor": "#C8D4E3",
             "startlinecolor": "#2a3f5f"
            },
            "baxis": {
             "endlinecolor": "#2a3f5f",
             "gridcolor": "#C8D4E3",
             "linecolor": "#C8D4E3",
             "minorgridcolor": "#C8D4E3",
             "startlinecolor": "#2a3f5f"
            },
            "type": "carpet"
           }
          ],
          "choropleth": [
           {
            "colorbar": {
             "outlinewidth": 0,
             "ticks": ""
            },
            "type": "choropleth"
           }
          ],
          "contour": [
           {
            "colorbar": {
             "outlinewidth": 0,
             "ticks": ""
            },
            "colorscale": [
             [
              0,
              "#0d0887"
             ],
             [
              0.1111111111111111,
              "#46039f"
             ],
             [
              0.2222222222222222,
              "#7201a8"
             ],
             [
              0.3333333333333333,
              "#9c179e"
             ],
             [
              0.4444444444444444,
              "#bd3786"
             ],
             [
              0.5555555555555556,
              "#d8576b"
             ],
             [
              0.6666666666666666,
              "#ed7953"
             ],
             [
              0.7777777777777778,
              "#fb9f3a"
             ],
             [
              0.8888888888888888,
              "#fdca26"
             ],
             [
              1,
              "#f0f921"
             ]
            ],
            "type": "contour"
           }
          ],
          "contourcarpet": [
           {
            "colorbar": {
             "outlinewidth": 0,
             "ticks": ""
            },
            "type": "contourcarpet"
           }
          ],
          "heatmap": [
           {
            "colorbar": {
             "outlinewidth": 0,
             "ticks": ""
            },
            "colorscale": [
             [
              0,
              "#0d0887"
             ],
             [
              0.1111111111111111,
              "#46039f"
             ],
             [
              0.2222222222222222,
              "#7201a8"
             ],
             [
              0.3333333333333333,
              "#9c179e"
             ],
             [
              0.4444444444444444,
              "#bd3786"
             ],
             [
              0.5555555555555556,
              "#d8576b"
             ],
             [
              0.6666666666666666,
              "#ed7953"
             ],
             [
              0.7777777777777778,
              "#fb9f3a"
             ],
             [
              0.8888888888888888,
              "#fdca26"
             ],
             [
              1,
              "#f0f921"
             ]
            ],
            "type": "heatmap"
           }
          ],
          "heatmapgl": [
           {
            "colorbar": {
             "outlinewidth": 0,
             "ticks": ""
            },
            "colorscale": [
             [
              0,
              "#0d0887"
             ],
             [
              0.1111111111111111,
              "#46039f"
             ],
             [
              0.2222222222222222,
              "#7201a8"
             ],
             [
              0.3333333333333333,
              "#9c179e"
             ],
             [
              0.4444444444444444,
              "#bd3786"
             ],
             [
              0.5555555555555556,
              "#d8576b"
             ],
             [
              0.6666666666666666,
              "#ed7953"
             ],
             [
              0.7777777777777778,
              "#fb9f3a"
             ],
             [
              0.8888888888888888,
              "#fdca26"
             ],
             [
              1,
              "#f0f921"
             ]
            ],
            "type": "heatmapgl"
           }
          ],
          "histogram": [
           {
            "marker": {
             "pattern": {
              "fillmode": "overlay",
              "size": 10,
              "solidity": 0.2
             }
            },
            "type": "histogram"
           }
          ],
          "histogram2d": [
           {
            "colorbar": {
             "outlinewidth": 0,
             "ticks": ""
            },
            "colorscale": [
             [
              0,
              "#0d0887"
             ],
             [
              0.1111111111111111,
              "#46039f"
             ],
             [
              0.2222222222222222,
              "#7201a8"
             ],
             [
              0.3333333333333333,
              "#9c179e"
             ],
             [
              0.4444444444444444,
              "#bd3786"
             ],
             [
              0.5555555555555556,
              "#d8576b"
             ],
             [
              0.6666666666666666,
              "#ed7953"
             ],
             [
              0.7777777777777778,
              "#fb9f3a"
             ],
             [
              0.8888888888888888,
              "#fdca26"
             ],
             [
              1,
              "#f0f921"
             ]
            ],
            "type": "histogram2d"
           }
          ],
          "histogram2dcontour": [
           {
            "colorbar": {
             "outlinewidth": 0,
             "ticks": ""
            },
            "colorscale": [
             [
              0,
              "#0d0887"
             ],
             [
              0.1111111111111111,
              "#46039f"
             ],
             [
              0.2222222222222222,
              "#7201a8"
             ],
             [
              0.3333333333333333,
              "#9c179e"
             ],
             [
              0.4444444444444444,
              "#bd3786"
             ],
             [
              0.5555555555555556,
              "#d8576b"
             ],
             [
              0.6666666666666666,
              "#ed7953"
             ],
             [
              0.7777777777777778,
              "#fb9f3a"
             ],
             [
              0.8888888888888888,
              "#fdca26"
             ],
             [
              1,
              "#f0f921"
             ]
            ],
            "type": "histogram2dcontour"
           }
          ],
          "mesh3d": [
           {
            "colorbar": {
             "outlinewidth": 0,
             "ticks": ""
            },
            "type": "mesh3d"
           }
          ],
          "parcoords": [
           {
            "line": {
             "colorbar": {
              "outlinewidth": 0,
              "ticks": ""
             }
            },
            "type": "parcoords"
           }
          ],
          "pie": [
           {
            "automargin": true,
            "type": "pie"
           }
          ],
          "scatter": [
           {
            "fillpattern": {
             "fillmode": "overlay",
             "size": 10,
             "solidity": 0.2
            },
            "type": "scatter"
           }
          ],
          "scatter3d": [
           {
            "line": {
             "colorbar": {
              "outlinewidth": 0,
              "ticks": ""
             }
            },
            "marker": {
             "colorbar": {
              "outlinewidth": 0,
              "ticks": ""
             }
            },
            "type": "scatter3d"
           }
          ],
          "scattercarpet": [
           {
            "marker": {
             "colorbar": {
              "outlinewidth": 0,
              "ticks": ""
             }
            },
            "type": "scattercarpet"
           }
          ],
          "scattergeo": [
           {
            "marker": {
             "colorbar": {
              "outlinewidth": 0,
              "ticks": ""
             }
            },
            "type": "scattergeo"
           }
          ],
          "scattergl": [
           {
            "marker": {
             "colorbar": {
              "outlinewidth": 0,
              "ticks": ""
             }
            },
            "type": "scattergl"
           }
          ],
          "scattermapbox": [
           {
            "marker": {
             "colorbar": {
              "outlinewidth": 0,
              "ticks": ""
             }
            },
            "type": "scattermapbox"
           }
          ],
          "scatterpolar": [
           {
            "marker": {
             "colorbar": {
              "outlinewidth": 0,
              "ticks": ""
             }
            },
            "type": "scatterpolar"
           }
          ],
          "scatterpolargl": [
           {
            "marker": {
             "colorbar": {
              "outlinewidth": 0,
              "ticks": ""
             }
            },
            "type": "scatterpolargl"
           }
          ],
          "scatterternary": [
           {
            "marker": {
             "colorbar": {
              "outlinewidth": 0,
              "ticks": ""
             }
            },
            "type": "scatterternary"
           }
          ],
          "surface": [
           {
            "colorbar": {
             "outlinewidth": 0,
             "ticks": ""
            },
            "colorscale": [
             [
              0,
              "#0d0887"
             ],
             [
              0.1111111111111111,
              "#46039f"
             ],
             [
              0.2222222222222222,
              "#7201a8"
             ],
             [
              0.3333333333333333,
              "#9c179e"
             ],
             [
              0.4444444444444444,
              "#bd3786"
             ],
             [
              0.5555555555555556,
              "#d8576b"
             ],
             [
              0.6666666666666666,
              "#ed7953"
             ],
             [
              0.7777777777777778,
              "#fb9f3a"
             ],
             [
              0.8888888888888888,
              "#fdca26"
             ],
             [
              1,
              "#f0f921"
             ]
            ],
            "type": "surface"
           }
          ],
          "table": [
           {
            "cells": {
             "fill": {
              "color": "#EBF0F8"
             },
             "line": {
              "color": "white"
             }
            },
            "header": {
             "fill": {
              "color": "#C8D4E3"
             },
             "line": {
              "color": "white"
             }
            },
            "type": "table"
           }
          ]
         },
         "layout": {
          "annotationdefaults": {
           "arrowcolor": "#2a3f5f",
           "arrowhead": 0,
           "arrowwidth": 1
          },
          "autotypenumbers": "strict",
          "coloraxis": {
           "colorbar": {
            "outlinewidth": 0,
            "ticks": ""
           }
          },
          "colorscale": {
           "diverging": [
            [
             0,
             "#8e0152"
            ],
            [
             0.1,
             "#c51b7d"
            ],
            [
             0.2,
             "#de77ae"
            ],
            [
             0.3,
             "#f1b6da"
            ],
            [
             0.4,
             "#fde0ef"
            ],
            [
             0.5,
             "#f7f7f7"
            ],
            [
             0.6,
             "#e6f5d0"
            ],
            [
             0.7,
             "#b8e186"
            ],
            [
             0.8,
             "#7fbc41"
            ],
            [
             0.9,
             "#4d9221"
            ],
            [
             1,
             "#276419"
            ]
           ],
           "sequential": [
            [
             0,
             "#0d0887"
            ],
            [
             0.1111111111111111,
             "#46039f"
            ],
            [
             0.2222222222222222,
             "#7201a8"
            ],
            [
             0.3333333333333333,
             "#9c179e"
            ],
            [
             0.4444444444444444,
             "#bd3786"
            ],
            [
             0.5555555555555556,
             "#d8576b"
            ],
            [
             0.6666666666666666,
             "#ed7953"
            ],
            [
             0.7777777777777778,
             "#fb9f3a"
            ],
            [
             0.8888888888888888,
             "#fdca26"
            ],
            [
             1,
             "#f0f921"
            ]
           ],
           "sequentialminus": [
            [
             0,
             "#0d0887"
            ],
            [
             0.1111111111111111,
             "#46039f"
            ],
            [
             0.2222222222222222,
             "#7201a8"
            ],
            [
             0.3333333333333333,
             "#9c179e"
            ],
            [
             0.4444444444444444,
             "#bd3786"
            ],
            [
             0.5555555555555556,
             "#d8576b"
            ],
            [
             0.6666666666666666,
             "#ed7953"
            ],
            [
             0.7777777777777778,
             "#fb9f3a"
            ],
            [
             0.8888888888888888,
             "#fdca26"
            ],
            [
             1,
             "#f0f921"
            ]
           ]
          },
          "colorway": [
           "#636efa",
           "#EF553B",
           "#00cc96",
           "#ab63fa",
           "#FFA15A",
           "#19d3f3",
           "#FF6692",
           "#B6E880",
           "#FF97FF",
           "#FECB52"
          ],
          "font": {
           "color": "#2a3f5f"
          },
          "geo": {
           "bgcolor": "white",
           "lakecolor": "white",
           "landcolor": "white",
           "showlakes": true,
           "showland": true,
           "subunitcolor": "#C8D4E3"
          },
          "hoverlabel": {
           "align": "left"
          },
          "hovermode": "closest",
          "mapbox": {
           "style": "light"
          },
          "paper_bgcolor": "white",
          "plot_bgcolor": "white",
          "polar": {
           "angularaxis": {
            "gridcolor": "#EBF0F8",
            "linecolor": "#EBF0F8",
            "ticks": ""
           },
           "bgcolor": "white",
           "radialaxis": {
            "gridcolor": "#EBF0F8",
            "linecolor": "#EBF0F8",
            "ticks": ""
           }
          },
          "scene": {
           "xaxis": {
            "backgroundcolor": "white",
            "gridcolor": "#DFE8F3",
            "gridwidth": 2,
            "linecolor": "#EBF0F8",
            "showbackground": true,
            "ticks": "",
            "zerolinecolor": "#EBF0F8"
           },
           "yaxis": {
            "backgroundcolor": "white",
            "gridcolor": "#DFE8F3",
            "gridwidth": 2,
            "linecolor": "#EBF0F8",
            "showbackground": true,
            "ticks": "",
            "zerolinecolor": "#EBF0F8"
           },
           "zaxis": {
            "backgroundcolor": "white",
            "gridcolor": "#DFE8F3",
            "gridwidth": 2,
            "linecolor": "#EBF0F8",
            "showbackground": true,
            "ticks": "",
            "zerolinecolor": "#EBF0F8"
           }
          },
          "shapedefaults": {
           "line": {
            "color": "#2a3f5f"
           }
          },
          "ternary": {
           "aaxis": {
            "gridcolor": "#DFE8F3",
            "linecolor": "#A2B1C6",
            "ticks": ""
           },
           "baxis": {
            "gridcolor": "#DFE8F3",
            "linecolor": "#A2B1C6",
            "ticks": ""
           },
           "bgcolor": "white",
           "caxis": {
            "gridcolor": "#DFE8F3",
            "linecolor": "#A2B1C6",
            "ticks": ""
           }
          },
          "title": {
           "x": 0.05
          },
          "xaxis": {
           "automargin": true,
           "gridcolor": "#EBF0F8",
           "linecolor": "#EBF0F8",
           "ticks": "",
           "title": {
            "standoff": 15
           },
           "zerolinecolor": "#EBF0F8",
           "zerolinewidth": 2
          },
          "yaxis": {
           "automargin": true,
           "gridcolor": "#EBF0F8",
           "linecolor": "#EBF0F8",
           "ticks": "",
           "title": {
            "standoff": 15
           },
           "zerolinecolor": "#EBF0F8",
           "zerolinewidth": 2
          }
         }
        },
        "title": {
         "text": "Customer Segmentation using K-Means"
        }
       }
      }
     },
     "metadata": {},
     "output_type": "display_data"
    }
   ],
   "source": [
    "customer_data = data.groupby('Customer Name')[['Sales', 'Profit', 'Quantity']].sum().reset_index()\n",
    "X = customer_data[['Sales', 'Profit', 'Quantity']]\n",
    "\n",
    "scaler = StandardScaler()\n",
    "X_scaled = scaler.fit_transform(X)\n",
    "\n",
    "kmeans = KMeans(n_clusters=4, random_state=42)\n",
    "customer_data['Cluster'] = kmeans.fit_predict(X_scaled)\n",
    "\n",
    "fig = px.scatter_3d(customer_data, x='Sales', y='Profit', z='Quantity', color='Cluster', hover_name='Customer Name',\n",
    "                    title='Customer Segmentation using K-Means')\n",
    "fig.show()"
   ]
  },
  {
   "cell_type": "code",
   "execution_count": 72,
   "metadata": {},
   "outputs": [
    {
     "name": "stdout",
     "output_type": "stream",
     "text": [
      "R² Score: -0.7240890405096132\n"
     ]
    }
   ],
   "source": [
    "features = ['Sales', 'Discount', 'Quantity']\n",
    "X = data[features]\n",
    "y = data['Profit']\n",
    "\n",
    "X_train, X_test, y_train, y_test = train_test_split(X, y, test_size=0.2, random_state=42)\n",
    "\n",
    "lr = LinearRegression()\n",
    "lr.fit(X_train, y_train)\n",
    "\n",
    "y_pred = lr.predict(X_test)\n",
    "print(\"R² Score:\", r2_score(y_test, y_pred))"
   ]
  },
  {
   "cell_type": "code",
   "execution_count": 73,
   "metadata": {},
   "outputs": [
    {
     "name": "stdout",
     "output_type": "stream",
     "text": [
      "              precision    recall  f1-score   support\n",
      "\n",
      "           0       0.87      0.80      0.83       377\n",
      "           1       0.95      0.97      0.96      1622\n",
      "\n",
      "    accuracy                           0.94      1999\n",
      "   macro avg       0.91      0.89      0.90      1999\n",
      "weighted avg       0.94      0.94      0.94      1999\n",
      "\n"
     ]
    }
   ],
   "source": [
    "data['Is_Profitable'] = (data['Profit'] > 0).astype(int)\n",
    "\n",
    "X = data[['Sales', 'Quantity', 'Discount']]\n",
    "y = data['Is_Profitable']\n",
    "\n",
    "X_train, X_test, y_train, y_test = train_test_split(X, y, test_size=0.2, random_state=42)\n",
    "\n",
    "clf = RandomForestClassifier()\n",
    "clf.fit(X_train, y_train)\n",
    "y_pred = clf.predict(X_test)\n",
    "\n",
    "print(classification_report(y_test, y_pred))"
   ]
  },
  {
   "cell_type": "code",
   "execution_count": 74,
   "metadata": {},
   "outputs": [
    {
     "name": "stdout",
     "output_type": "stream",
     "text": [
      "Index(['Row ID', 'Order ID', 'Ship Date', 'Ship Mode', 'Customer ID',\n",
      "       'Customer Name', 'Segment', 'Country', 'City', 'State', 'Postal Code',\n",
      "       'Region', 'Product ID', 'Category', 'Sub-Category', 'Product Name',\n",
      "       'Sales', 'Quantity', 'Discount', 'Profit', 'Order month', 'Order year',\n",
      "       'Order Day of Week', 'Is_Profitable'],\n",
      "      dtype='object')\n"
     ]
    }
   ],
   "source": [
    "data.columns = data.columns.str.strip()  # Remove any extra spaces from column names\n",
    "print(data.columns)  # Check column names\n"
   ]
  },
  {
   "cell_type": "code",
   "execution_count": 75,
   "metadata": {},
   "outputs": [],
   "source": [
    "from sklearn.metrics.pairwise import cosine_similarity\n"
   ]
  },
  {
   "cell_type": "code",
   "execution_count": 76,
   "metadata": {},
   "outputs": [],
   "source": [
    "user_item_matrix = data.pivot_table(index='Customer Name', columns='Sub-Category', values='Sales', aggfunc='sum').fillna(0)"
   ]
  },
  {
   "cell_type": "code",
   "execution_count": 77,
   "metadata": {},
   "outputs": [],
   "source": [
    "similarity = cosine_similarity(user_item_matrix)\n",
    "similarity_df = pd.DataFrame(similarity, index=user_item_matrix.index, columns=user_item_matrix.index)"
   ]
  },
  {
   "cell_type": "code",
   "execution_count": 78,
   "metadata": {},
   "outputs": [],
   "source": [
    "def recommend_products(customer_name, top_n=3):\n",
    "    if customer_name not in similarity_df.columns:\n",
    "        print(\"Customer not found!\")\n",
    "        return\n",
    "    similar_customers = similarity_df[customer_name].sort_values(ascending=False)[1:top_n+1]\n",
    "    recommended_items = user_item_matrix.loc[similar_customers.index].mean().sort_values(ascending=False).head(top_n)\n",
    "    print(f\"Top {top_n} product recommendations for {customer_name}:\")\n",
    "    print(recommended_items)"
   ]
  },
  {
   "cell_type": "code",
   "execution_count": 79,
   "metadata": {},
   "outputs": [
    {
     "name": "stdout",
     "output_type": "stream",
     "text": [
      "Top 3 product recommendations for Sean Miller:\n",
      "Sub-Category\n",
      "Machines       7127.225\n",
      "Furnishings     328.216\n",
      "Chairs          295.701\n",
      "dtype: float64\n"
     ]
    }
   ],
   "source": [
    "recommend_products('Sean Miller')"
   ]
  },
  {
   "cell_type": "markdown",
   "metadata": {},
   "source": [
    "Churn predection :--"
   ]
  },
  {
   "cell_type": "code",
   "execution_count": 80,
   "metadata": {},
   "outputs": [],
   "source": [
    "data.columns = data.columns.str.strip()"
   ]
  },
  {
   "cell_type": "code",
   "execution_count": 81,
   "metadata": {},
   "outputs": [],
   "source": [
    "if 'Order Date' not in data.columns:\n",
    "    data.reset_index(inplace=True)"
   ]
  },
  {
   "cell_type": "code",
   "execution_count": 82,
   "metadata": {},
   "outputs": [],
   "source": [
    "latest_date = data['Order Date'].max()"
   ]
  },
  {
   "cell_type": "code",
   "execution_count": 83,
   "metadata": {},
   "outputs": [],
   "source": [
    "customer_metrics = data.groupby('Customer Name').agg({\n",
    "    'Order Date': lambda x: (latest_date - x.max()).days,\n",
    "    'Sales': 'sum',\n",
    "    'Profit': 'sum',\n",
    "    'Quantity': 'sum',\n",
    "    'Order ID': pd.Series.nunique\n",
    "}).rename(columns={\n",
    "    'Order Date': 'Recency',\n",
    "    'Sales': 'Monetary',\n",
    "    'Quantity': 'Quantity',\n",
    "    'Order ID': 'Frequency'\n",
    "}).reset_index()\n"
   ]
  },
  {
   "cell_type": "code",
   "execution_count": 84,
   "metadata": {},
   "outputs": [],
   "source": [
    "customer_metrics['Churn'] = ((customer_metrics['Recency'] > 180) | \n",
    "                             (customer_metrics['Monetary'] < 200)).astype(int)"
   ]
  },
  {
   "cell_type": "code",
   "execution_count": 85,
   "metadata": {},
   "outputs": [],
   "source": [
    "X = customer_metrics[['Recency', 'Monetary', 'Quantity', 'Frequency']]\n",
    "y = customer_metrics['Churn']"
   ]
  },
  {
   "cell_type": "code",
   "execution_count": 86,
   "metadata": {},
   "outputs": [
    {
     "name": "stdout",
     "output_type": "stream",
     "text": [
      "Churn Prediction Accuracy: 1.0\n",
      "Churn Prediction Accuracy: 1.0\n"
     ]
    }
   ],
   "source": [
    "X_train, X_test, y_train, y_test = train_test_split(X, y, test_size=0.2, random_state=42)\n",
    "\n",
    "churn_model = RandomForestClassifier()\n",
    "churn_model.fit(X_train, y_train)\n",
    "\n",
    "print(\"Churn Prediction Accuracy:\", churn_model.score(X_test, y_test))\n",
    "print(\"Churn Prediction Accuracy:\", churn_model.score(X_test, y_test))"
   ]
  },
  {
   "cell_type": "code",
   "execution_count": 87,
   "metadata": {},
   "outputs": [
    {
     "name": "stdout",
     "output_type": "stream",
     "text": [
      "Likely to Stay ✅\n"
     ]
    }
   ],
   "source": [
    "example = pd.DataFrame([[120, 300, 5, 4]], columns=X.columns)\n",
    "prediction = churn_model.predict(example)[0]\n",
    "print(\"Likely to Churn ❌\" if prediction == 1 else \"Likely to Stay ✅\")"
   ]
  },
  {
   "cell_type": "code",
   "execution_count": 88,
   "metadata": {},
   "outputs": [],
   "source": [
    "from sklearn.ensemble import RandomForestRegressor\n"
   ]
  },
  {
   "cell_type": "code",
   "execution_count": 89,
   "metadata": {},
   "outputs": [],
   "source": [
    "df = pd.read_csv(\"Sample - Superstore.csv\", encoding='latin-1')"
   ]
  },
  {
   "cell_type": "code",
   "execution_count": 90,
   "metadata": {},
   "outputs": [],
   "source": [
    "df = df.drop(columns=['Row ID', 'Order ID', 'Customer ID', 'Customer Name', 'Product ID', 'Product Name'])"
   ]
  },
  {
   "cell_type": "code",
   "execution_count": 91,
   "metadata": {},
   "outputs": [],
   "source": [
    "df = pd.get_dummies(df, drop_first=True)"
   ]
  },
  {
   "cell_type": "code",
   "execution_count": 92,
   "metadata": {},
   "outputs": [],
   "source": [
    "X = df.drop(\"Sales\", axis=1)\n",
    "y = df[\"Sales\"]"
   ]
  },
  {
   "cell_type": "code",
   "execution_count": 93,
   "metadata": {},
   "outputs": [],
   "source": [
    "X_train, X_test, y_train, y_test = train_test_split(X, y, test_size=0.2, random_state=42)"
   ]
  },
  {
   "cell_type": "code",
   "execution_count": 94,
   "metadata": {},
   "outputs": [],
   "source": [
    "scaler = StandardScaler()\n",
    "X_train_scaled = scaler.fit_transform(X_train)"
   ]
  },
  {
   "cell_type": "code",
   "execution_count": 95,
   "metadata": {},
   "outputs": [],
   "source": [
    "from sklearn.ensemble import RandomForestRegressor\n"
   ]
  },
  {
   "cell_type": "code",
   "execution_count": 96,
   "metadata": {},
   "outputs": [
    {
     "data": {
      "text/html": [
       "<style>#sk-container-id-1 {\n",
       "  /* Definition of color scheme common for light and dark mode */\n",
       "  --sklearn-color-text: black;\n",
       "  --sklearn-color-line: gray;\n",
       "  /* Definition of color scheme for unfitted estimators */\n",
       "  --sklearn-color-unfitted-level-0: #fff5e6;\n",
       "  --sklearn-color-unfitted-level-1: #f6e4d2;\n",
       "  --sklearn-color-unfitted-level-2: #ffe0b3;\n",
       "  --sklearn-color-unfitted-level-3: chocolate;\n",
       "  /* Definition of color scheme for fitted estimators */\n",
       "  --sklearn-color-fitted-level-0: #f0f8ff;\n",
       "  --sklearn-color-fitted-level-1: #d4ebff;\n",
       "  --sklearn-color-fitted-level-2: #b3dbfd;\n",
       "  --sklearn-color-fitted-level-3: cornflowerblue;\n",
       "\n",
       "  /* Specific color for light theme */\n",
       "  --sklearn-color-text-on-default-background: var(--sg-text-color, var(--theme-code-foreground, var(--jp-content-font-color1, black)));\n",
       "  --sklearn-color-background: var(--sg-background-color, var(--theme-background, var(--jp-layout-color0, white)));\n",
       "  --sklearn-color-border-box: var(--sg-text-color, var(--theme-code-foreground, var(--jp-content-font-color1, black)));\n",
       "  --sklearn-color-icon: #696969;\n",
       "\n",
       "  @media (prefers-color-scheme: dark) {\n",
       "    /* Redefinition of color scheme for dark theme */\n",
       "    --sklearn-color-text-on-default-background: var(--sg-text-color, var(--theme-code-foreground, var(--jp-content-font-color1, white)));\n",
       "    --sklearn-color-background: var(--sg-background-color, var(--theme-background, var(--jp-layout-color0, #111)));\n",
       "    --sklearn-color-border-box: var(--sg-text-color, var(--theme-code-foreground, var(--jp-content-font-color1, white)));\n",
       "    --sklearn-color-icon: #878787;\n",
       "  }\n",
       "}\n",
       "\n",
       "#sk-container-id-1 {\n",
       "  color: var(--sklearn-color-text);\n",
       "}\n",
       "\n",
       "#sk-container-id-1 pre {\n",
       "  padding: 0;\n",
       "}\n",
       "\n",
       "#sk-container-id-1 input.sk-hidden--visually {\n",
       "  border: 0;\n",
       "  clip: rect(1px 1px 1px 1px);\n",
       "  clip: rect(1px, 1px, 1px, 1px);\n",
       "  height: 1px;\n",
       "  margin: -1px;\n",
       "  overflow: hidden;\n",
       "  padding: 0;\n",
       "  position: absolute;\n",
       "  width: 1px;\n",
       "}\n",
       "\n",
       "#sk-container-id-1 div.sk-dashed-wrapped {\n",
       "  border: 1px dashed var(--sklearn-color-line);\n",
       "  margin: 0 0.4em 0.5em 0.4em;\n",
       "  box-sizing: border-box;\n",
       "  padding-bottom: 0.4em;\n",
       "  background-color: var(--sklearn-color-background);\n",
       "}\n",
       "\n",
       "#sk-container-id-1 div.sk-container {\n",
       "  /* jupyter's `normalize.less` sets `[hidden] { display: none; }`\n",
       "     but bootstrap.min.css set `[hidden] { display: none !important; }`\n",
       "     so we also need the `!important` here to be able to override the\n",
       "     default hidden behavior on the sphinx rendered scikit-learn.org.\n",
       "     See: https://github.com/scikit-learn/scikit-learn/issues/21755 */\n",
       "  display: inline-block !important;\n",
       "  position: relative;\n",
       "}\n",
       "\n",
       "#sk-container-id-1 div.sk-text-repr-fallback {\n",
       "  display: none;\n",
       "}\n",
       "\n",
       "div.sk-parallel-item,\n",
       "div.sk-serial,\n",
       "div.sk-item {\n",
       "  /* draw centered vertical line to link estimators */\n",
       "  background-image: linear-gradient(var(--sklearn-color-text-on-default-background), var(--sklearn-color-text-on-default-background));\n",
       "  background-size: 2px 100%;\n",
       "  background-repeat: no-repeat;\n",
       "  background-position: center center;\n",
       "}\n",
       "\n",
       "/* Parallel-specific style estimator block */\n",
       "\n",
       "#sk-container-id-1 div.sk-parallel-item::after {\n",
       "  content: \"\";\n",
       "  width: 100%;\n",
       "  border-bottom: 2px solid var(--sklearn-color-text-on-default-background);\n",
       "  flex-grow: 1;\n",
       "}\n",
       "\n",
       "#sk-container-id-1 div.sk-parallel {\n",
       "  display: flex;\n",
       "  align-items: stretch;\n",
       "  justify-content: center;\n",
       "  background-color: var(--sklearn-color-background);\n",
       "  position: relative;\n",
       "}\n",
       "\n",
       "#sk-container-id-1 div.sk-parallel-item {\n",
       "  display: flex;\n",
       "  flex-direction: column;\n",
       "}\n",
       "\n",
       "#sk-container-id-1 div.sk-parallel-item:first-child::after {\n",
       "  align-self: flex-end;\n",
       "  width: 50%;\n",
       "}\n",
       "\n",
       "#sk-container-id-1 div.sk-parallel-item:last-child::after {\n",
       "  align-self: flex-start;\n",
       "  width: 50%;\n",
       "}\n",
       "\n",
       "#sk-container-id-1 div.sk-parallel-item:only-child::after {\n",
       "  width: 0;\n",
       "}\n",
       "\n",
       "/* Serial-specific style estimator block */\n",
       "\n",
       "#sk-container-id-1 div.sk-serial {\n",
       "  display: flex;\n",
       "  flex-direction: column;\n",
       "  align-items: center;\n",
       "  background-color: var(--sklearn-color-background);\n",
       "  padding-right: 1em;\n",
       "  padding-left: 1em;\n",
       "}\n",
       "\n",
       "\n",
       "/* Toggleable style: style used for estimator/Pipeline/ColumnTransformer box that is\n",
       "clickable and can be expanded/collapsed.\n",
       "- Pipeline and ColumnTransformer use this feature and define the default style\n",
       "- Estimators will overwrite some part of the style using the `sk-estimator` class\n",
       "*/\n",
       "\n",
       "/* Pipeline and ColumnTransformer style (default) */\n",
       "\n",
       "#sk-container-id-1 div.sk-toggleable {\n",
       "  /* Default theme specific background. It is overwritten whether we have a\n",
       "  specific estimator or a Pipeline/ColumnTransformer */\n",
       "  background-color: var(--sklearn-color-background);\n",
       "}\n",
       "\n",
       "/* Toggleable label */\n",
       "#sk-container-id-1 label.sk-toggleable__label {\n",
       "  cursor: pointer;\n",
       "  display: block;\n",
       "  width: 100%;\n",
       "  margin-bottom: 0;\n",
       "  padding: 0.5em;\n",
       "  box-sizing: border-box;\n",
       "  text-align: center;\n",
       "}\n",
       "\n",
       "#sk-container-id-1 label.sk-toggleable__label-arrow:before {\n",
       "  /* Arrow on the left of the label */\n",
       "  content: \"▸\";\n",
       "  float: left;\n",
       "  margin-right: 0.25em;\n",
       "  color: var(--sklearn-color-icon);\n",
       "}\n",
       "\n",
       "#sk-container-id-1 label.sk-toggleable__label-arrow:hover:before {\n",
       "  color: var(--sklearn-color-text);\n",
       "}\n",
       "\n",
       "/* Toggleable content - dropdown */\n",
       "\n",
       "#sk-container-id-1 div.sk-toggleable__content {\n",
       "  max-height: 0;\n",
       "  max-width: 0;\n",
       "  overflow: hidden;\n",
       "  text-align: left;\n",
       "  /* unfitted */\n",
       "  background-color: var(--sklearn-color-unfitted-level-0);\n",
       "}\n",
       "\n",
       "#sk-container-id-1 div.sk-toggleable__content.fitted {\n",
       "  /* fitted */\n",
       "  background-color: var(--sklearn-color-fitted-level-0);\n",
       "}\n",
       "\n",
       "#sk-container-id-1 div.sk-toggleable__content pre {\n",
       "  margin: 0.2em;\n",
       "  border-radius: 0.25em;\n",
       "  color: var(--sklearn-color-text);\n",
       "  /* unfitted */\n",
       "  background-color: var(--sklearn-color-unfitted-level-0);\n",
       "}\n",
       "\n",
       "#sk-container-id-1 div.sk-toggleable__content.fitted pre {\n",
       "  /* unfitted */\n",
       "  background-color: var(--sklearn-color-fitted-level-0);\n",
       "}\n",
       "\n",
       "#sk-container-id-1 input.sk-toggleable__control:checked~div.sk-toggleable__content {\n",
       "  /* Expand drop-down */\n",
       "  max-height: 200px;\n",
       "  max-width: 100%;\n",
       "  overflow: auto;\n",
       "}\n",
       "\n",
       "#sk-container-id-1 input.sk-toggleable__control:checked~label.sk-toggleable__label-arrow:before {\n",
       "  content: \"▾\";\n",
       "}\n",
       "\n",
       "/* Pipeline/ColumnTransformer-specific style */\n",
       "\n",
       "#sk-container-id-1 div.sk-label input.sk-toggleable__control:checked~label.sk-toggleable__label {\n",
       "  color: var(--sklearn-color-text);\n",
       "  background-color: var(--sklearn-color-unfitted-level-2);\n",
       "}\n",
       "\n",
       "#sk-container-id-1 div.sk-label.fitted input.sk-toggleable__control:checked~label.sk-toggleable__label {\n",
       "  background-color: var(--sklearn-color-fitted-level-2);\n",
       "}\n",
       "\n",
       "/* Estimator-specific style */\n",
       "\n",
       "/* Colorize estimator box */\n",
       "#sk-container-id-1 div.sk-estimator input.sk-toggleable__control:checked~label.sk-toggleable__label {\n",
       "  /* unfitted */\n",
       "  background-color: var(--sklearn-color-unfitted-level-2);\n",
       "}\n",
       "\n",
       "#sk-container-id-1 div.sk-estimator.fitted input.sk-toggleable__control:checked~label.sk-toggleable__label {\n",
       "  /* fitted */\n",
       "  background-color: var(--sklearn-color-fitted-level-2);\n",
       "}\n",
       "\n",
       "#sk-container-id-1 div.sk-label label.sk-toggleable__label,\n",
       "#sk-container-id-1 div.sk-label label {\n",
       "  /* The background is the default theme color */\n",
       "  color: var(--sklearn-color-text-on-default-background);\n",
       "}\n",
       "\n",
       "/* On hover, darken the color of the background */\n",
       "#sk-container-id-1 div.sk-label:hover label.sk-toggleable__label {\n",
       "  color: var(--sklearn-color-text);\n",
       "  background-color: var(--sklearn-color-unfitted-level-2);\n",
       "}\n",
       "\n",
       "/* Label box, darken color on hover, fitted */\n",
       "#sk-container-id-1 div.sk-label.fitted:hover label.sk-toggleable__label.fitted {\n",
       "  color: var(--sklearn-color-text);\n",
       "  background-color: var(--sklearn-color-fitted-level-2);\n",
       "}\n",
       "\n",
       "/* Estimator label */\n",
       "\n",
       "#sk-container-id-1 div.sk-label label {\n",
       "  font-family: monospace;\n",
       "  font-weight: bold;\n",
       "  display: inline-block;\n",
       "  line-height: 1.2em;\n",
       "}\n",
       "\n",
       "#sk-container-id-1 div.sk-label-container {\n",
       "  text-align: center;\n",
       "}\n",
       "\n",
       "/* Estimator-specific */\n",
       "#sk-container-id-1 div.sk-estimator {\n",
       "  font-family: monospace;\n",
       "  border: 1px dotted var(--sklearn-color-border-box);\n",
       "  border-radius: 0.25em;\n",
       "  box-sizing: border-box;\n",
       "  margin-bottom: 0.5em;\n",
       "  /* unfitted */\n",
       "  background-color: var(--sklearn-color-unfitted-level-0);\n",
       "}\n",
       "\n",
       "#sk-container-id-1 div.sk-estimator.fitted {\n",
       "  /* fitted */\n",
       "  background-color: var(--sklearn-color-fitted-level-0);\n",
       "}\n",
       "\n",
       "/* on hover */\n",
       "#sk-container-id-1 div.sk-estimator:hover {\n",
       "  /* unfitted */\n",
       "  background-color: var(--sklearn-color-unfitted-level-2);\n",
       "}\n",
       "\n",
       "#sk-container-id-1 div.sk-estimator.fitted:hover {\n",
       "  /* fitted */\n",
       "  background-color: var(--sklearn-color-fitted-level-2);\n",
       "}\n",
       "\n",
       "/* Specification for estimator info (e.g. \"i\" and \"?\") */\n",
       "\n",
       "/* Common style for \"i\" and \"?\" */\n",
       "\n",
       ".sk-estimator-doc-link,\n",
       "a:link.sk-estimator-doc-link,\n",
       "a:visited.sk-estimator-doc-link {\n",
       "  float: right;\n",
       "  font-size: smaller;\n",
       "  line-height: 1em;\n",
       "  font-family: monospace;\n",
       "  background-color: var(--sklearn-color-background);\n",
       "  border-radius: 1em;\n",
       "  height: 1em;\n",
       "  width: 1em;\n",
       "  text-decoration: none !important;\n",
       "  margin-left: 1ex;\n",
       "  /* unfitted */\n",
       "  border: var(--sklearn-color-unfitted-level-1) 1pt solid;\n",
       "  color: var(--sklearn-color-unfitted-level-1);\n",
       "}\n",
       "\n",
       ".sk-estimator-doc-link.fitted,\n",
       "a:link.sk-estimator-doc-link.fitted,\n",
       "a:visited.sk-estimator-doc-link.fitted {\n",
       "  /* fitted */\n",
       "  border: var(--sklearn-color-fitted-level-1) 1pt solid;\n",
       "  color: var(--sklearn-color-fitted-level-1);\n",
       "}\n",
       "\n",
       "/* On hover */\n",
       "div.sk-estimator:hover .sk-estimator-doc-link:hover,\n",
       ".sk-estimator-doc-link:hover,\n",
       "div.sk-label-container:hover .sk-estimator-doc-link:hover,\n",
       ".sk-estimator-doc-link:hover {\n",
       "  /* unfitted */\n",
       "  background-color: var(--sklearn-color-unfitted-level-3);\n",
       "  color: var(--sklearn-color-background);\n",
       "  text-decoration: none;\n",
       "}\n",
       "\n",
       "div.sk-estimator.fitted:hover .sk-estimator-doc-link.fitted:hover,\n",
       ".sk-estimator-doc-link.fitted:hover,\n",
       "div.sk-label-container:hover .sk-estimator-doc-link.fitted:hover,\n",
       ".sk-estimator-doc-link.fitted:hover {\n",
       "  /* fitted */\n",
       "  background-color: var(--sklearn-color-fitted-level-3);\n",
       "  color: var(--sklearn-color-background);\n",
       "  text-decoration: none;\n",
       "}\n",
       "\n",
       "/* Span, style for the box shown on hovering the info icon */\n",
       ".sk-estimator-doc-link span {\n",
       "  display: none;\n",
       "  z-index: 9999;\n",
       "  position: relative;\n",
       "  font-weight: normal;\n",
       "  right: .2ex;\n",
       "  padding: .5ex;\n",
       "  margin: .5ex;\n",
       "  width: min-content;\n",
       "  min-width: 20ex;\n",
       "  max-width: 50ex;\n",
       "  color: var(--sklearn-color-text);\n",
       "  box-shadow: 2pt 2pt 4pt #999;\n",
       "  /* unfitted */\n",
       "  background: var(--sklearn-color-unfitted-level-0);\n",
       "  border: .5pt solid var(--sklearn-color-unfitted-level-3);\n",
       "}\n",
       "\n",
       ".sk-estimator-doc-link.fitted span {\n",
       "  /* fitted */\n",
       "  background: var(--sklearn-color-fitted-level-0);\n",
       "  border: var(--sklearn-color-fitted-level-3);\n",
       "}\n",
       "\n",
       ".sk-estimator-doc-link:hover span {\n",
       "  display: block;\n",
       "}\n",
       "\n",
       "/* \"?\"-specific style due to the `<a>` HTML tag */\n",
       "\n",
       "#sk-container-id-1 a.estimator_doc_link {\n",
       "  float: right;\n",
       "  font-size: 1rem;\n",
       "  line-height: 1em;\n",
       "  font-family: monospace;\n",
       "  background-color: var(--sklearn-color-background);\n",
       "  border-radius: 1rem;\n",
       "  height: 1rem;\n",
       "  width: 1rem;\n",
       "  text-decoration: none;\n",
       "  /* unfitted */\n",
       "  color: var(--sklearn-color-unfitted-level-1);\n",
       "  border: var(--sklearn-color-unfitted-level-1) 1pt solid;\n",
       "}\n",
       "\n",
       "#sk-container-id-1 a.estimator_doc_link.fitted {\n",
       "  /* fitted */\n",
       "  border: var(--sklearn-color-fitted-level-1) 1pt solid;\n",
       "  color: var(--sklearn-color-fitted-level-1);\n",
       "}\n",
       "\n",
       "/* On hover */\n",
       "#sk-container-id-1 a.estimator_doc_link:hover {\n",
       "  /* unfitted */\n",
       "  background-color: var(--sklearn-color-unfitted-level-3);\n",
       "  color: var(--sklearn-color-background);\n",
       "  text-decoration: none;\n",
       "}\n",
       "\n",
       "#sk-container-id-1 a.estimator_doc_link.fitted:hover {\n",
       "  /* fitted */\n",
       "  background-color: var(--sklearn-color-fitted-level-3);\n",
       "}\n",
       "</style><div id=\"sk-container-id-1\" class=\"sk-top-container\"><div class=\"sk-text-repr-fallback\"><pre>RandomForestRegressor(random_state=42)</pre><b>In a Jupyter environment, please rerun this cell to show the HTML representation or trust the notebook. <br />On GitHub, the HTML representation is unable to render, please try loading this page with nbviewer.org.</b></div><div class=\"sk-container\" hidden><div class=\"sk-item\"><div class=\"sk-estimator fitted sk-toggleable\"><input class=\"sk-toggleable__control sk-hidden--visually\" id=\"sk-estimator-id-1\" type=\"checkbox\" checked><label for=\"sk-estimator-id-1\" class=\"sk-toggleable__label fitted sk-toggleable__label-arrow fitted\">&nbsp;&nbsp;RandomForestRegressor<a class=\"sk-estimator-doc-link fitted\" rel=\"noreferrer\" target=\"_blank\" href=\"https://scikit-learn.org/1.5/modules/generated/sklearn.ensemble.RandomForestRegressor.html\">?<span>Documentation for RandomForestRegressor</span></a><span class=\"sk-estimator-doc-link fitted\">i<span>Fitted</span></span></label><div class=\"sk-toggleable__content fitted\"><pre>RandomForestRegressor(random_state=42)</pre></div> </div></div></div></div>"
      ],
      "text/plain": [
       "RandomForestRegressor(random_state=42)"
      ]
     },
     "execution_count": 96,
     "metadata": {},
     "output_type": "execute_result"
    }
   ],
   "source": [
    "model = RandomForestRegressor(n_estimators=100, random_state=42)\n",
    "model.fit(X_train_scaled, y_train)"
   ]
  },
  {
   "cell_type": "code",
   "execution_count": 97,
   "metadata": {},
   "outputs": [],
   "source": [
    "import joblib"
   ]
  },
  {
   "cell_type": "code",
   "execution_count": 98,
   "metadata": {},
   "outputs": [
    {
     "data": {
      "text/plain": [
       "['sales_prediction_model.pkl']"
      ]
     },
     "execution_count": 98,
     "metadata": {},
     "output_type": "execute_result"
    }
   ],
   "source": [
    "joblib.dump(model, \"sales_prediction_model.pkl\")"
   ]
  },
  {
   "cell_type": "code",
   "execution_count": 99,
   "metadata": {},
   "outputs": [
    {
     "data": {
      "text/plain": [
       "['scaler.pkl']"
      ]
     },
     "execution_count": 99,
     "metadata": {},
     "output_type": "execute_result"
    }
   ],
   "source": [
    "joblib.dump(scaler, \"scaler.pkl\")"
   ]
  },
  {
   "cell_type": "code",
   "execution_count": 100,
   "metadata": {},
   "outputs": [
    {
     "data": {
      "text/plain": [
       "['feature_columns.pkl']"
      ]
     },
     "execution_count": 100,
     "metadata": {},
     "output_type": "execute_result"
    }
   ],
   "source": [
    "joblib.dump(X.columns.tolist(), \"feature_columns.pkl\")"
   ]
  },
  {
   "cell_type": "code",
   "execution_count": 101,
   "metadata": {},
   "outputs": [
    {
     "name": "stdout",
     "output_type": "stream",
     "text": [
      "✅ Model, Scaler, and Feature Columns saved successfully.\n"
     ]
    }
   ],
   "source": [
    "print(\"✅ Model, Scaler, and Feature Columns saved successfully.\")"
   ]
  },
  {
   "cell_type": "code",
   "execution_count": 102,
   "metadata": {},
   "outputs": [
    {
     "name": "stdout",
     "output_type": "stream",
     "text": [
      "✅ Model and Scaler saved successfully.\n"
     ]
    }
   ],
   "source": [
    "joblib.dump(model, \"sales_prediction_model.pkl\")\n",
    "joblib.dump(scaler, \"scaler.pkl\")\n",
    "print(\"✅ Model and Scaler saved successfully.\")"
   ]
  }
 ],
 "metadata": {
  "kernelspec": {
   "display_name": "Python 3",
   "language": "python",
   "name": "python3"
  },
  "language_info": {
   "codemirror_mode": {
    "name": "ipython",
    "version": 3
   },
   "file_extension": ".py",
   "mimetype": "text/x-python",
   "name": "python",
   "nbconvert_exporter": "python",
   "pygments_lexer": "ipython3",
   "version": "3.11.9"
  }
 },
 "nbformat": 4,
 "nbformat_minor": 2
}
